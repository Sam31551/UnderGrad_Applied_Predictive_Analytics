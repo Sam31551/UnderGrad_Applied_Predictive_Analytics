{
  "nbformat": 4,
  "nbformat_minor": 0,
  "metadata": {
    "colab": {
      "provenance": []
    },
    "kernelspec": {
      "name": "python3",
      "display_name": "Python 3"
    },
    "language_info": {
      "name": "python"
    }
  },
  "cells": [
    {
      "cell_type": "markdown",
      "source": [
        "#Read in Data"
      ],
      "metadata": {
        "id": "dF1YBjqc01SI"
      }
    },
    {
      "cell_type": "code",
      "source": [
        "import pandas as pd\n",
        "x_train = pd.read_csv('final_APA_X_train.csv')\n",
        "x_test = pd.read_csv('final_APA_X_val.csv')\n",
        "y_train = pd.read_csv('final_APA_y_train.csv')\n",
        "y_test = pd.read_csv('final_APA_y_val.csv')"
      ],
      "metadata": {
        "id": "s4KRsymF02ml"
      },
      "execution_count": 1,
      "outputs": []
    },
    {
      "cell_type": "code",
      "source": [
        "x_train"
      ],
      "metadata": {
        "colab": {
          "base_uri": "https://localhost:8080/",
          "height": 488
        },
        "id": "UDcU3IiyWrH0",
        "outputId": "b99baa9d-3c0e-4b5e-8c6e-d5807513f675"
      },
      "execution_count": 2,
      "outputs": [
        {
          "output_type": "execute_result",
          "data": {
            "text/plain": [
              "       overall  potential  wage_eur       age  height_cm  weight_kg  \\\n",
              "0     0.137931   0.290323  0.012876  0.304348   0.617021   0.298246   \n",
              "1     0.379310   0.451613  0.118741  0.391304   0.510638   0.315789   \n",
              "2     0.275862   0.419355  0.030043  0.434783   0.638298   0.473684   \n",
              "3     0.137931   0.193548  0.015737  0.434783   0.489362   0.403509   \n",
              "4     0.000000   0.000000  0.004292  0.565217   0.574468   0.368421   \n",
              "...        ...        ...       ...       ...        ...        ...   \n",
              "8856  0.448276   0.419355  0.133047  0.652174   0.574468   0.456140   \n",
              "8857  0.103448   0.096774  0.001431  0.608696   0.255319   0.350877   \n",
              "8858  0.482759   0.451613  0.070100  0.652174   0.617021   0.473684   \n",
              "8859  0.000000   0.000000  0.001431  0.695652   0.361702   0.315789   \n",
              "8860  0.448276   0.580645  0.058655  0.304348   0.787234   0.631579   \n",
              "\n",
              "      release_clause_eur      pace  shooting   passing  ...  club_team_id  \\\n",
              "0               0.009039  0.652174  0.565789  0.500000  ...        1938.0   \n",
              "1               0.036625  0.695652  0.381579  0.533333  ...         144.0   \n",
              "2               0.012789  0.550725  0.671053  0.533333  ...         897.0   \n",
              "3               0.006361  0.768116  0.618421  0.383333  ...         171.0   \n",
              "4               0.001591  0.637681  0.565789  0.400000  ...        1456.0   \n",
              "...                  ...       ...       ...       ...  ...           ...   \n",
              "8856            0.040643  0.536232  0.802632  0.716667  ...         166.0   \n",
              "8857            0.003147  0.608696  0.565789  0.516667  ...      111722.0   \n",
              "8858            0.055641  0.318841  0.368421  0.366667  ...         463.0   \n",
              "8859            0.001004  0.550725  0.381579  0.500000  ...      113197.0   \n",
              "8860            0.072514  0.565217  0.276316  0.350000  ...      100409.0   \n",
              "\n",
              "      league_level  club_position  club_contract_valid_until  preferred_foot  \\\n",
              "0              2.0              3                     2024.0               1   \n",
              "1              2.0              1                     2024.0               1   \n",
              "2              1.0              2                     2022.0               1   \n",
              "3              2.0              3                     2026.0               1   \n",
              "4              1.0              3                     2021.0               1   \n",
              "...            ...            ...                        ...             ...   \n",
              "8856           1.0              0                     2024.0               1   \n",
              "8857           1.0              3                     2025.0               0   \n",
              "8858           1.0              1                     2022.0               1   \n",
              "8859           1.0              3                     2022.0               0   \n",
              "8860           1.0              1                     2024.0               0   \n",
              "\n",
              "      weak_foot  skill_moves  international_reputation  att_wr  def_wr  \n",
              "0           4.0          3.0                       1.0       2       2  \n",
              "1           2.0          2.0                       1.0       2       2  \n",
              "2           3.0          2.0                       1.0       0       2  \n",
              "3           3.0          3.0                       1.0       2       2  \n",
              "4           4.0          3.0                       1.0       2       2  \n",
              "...         ...          ...                       ...     ...     ...  \n",
              "8856        4.0          3.0                       3.0       2       1  \n",
              "8857        4.0          3.0                       1.0       0       2  \n",
              "8858        3.0          2.0                       1.0       2       0  \n",
              "8859        2.0          2.0                       1.0       2       0  \n",
              "8860        3.0          2.0                       2.0       2       2  \n",
              "\n",
              "[8861 rows x 54 columns]"
            ],
            "text/html": [
              "\n",
              "  <div id=\"df-55b1af42-1749-4a98-9fc2-1b34d18e0e0f\">\n",
              "    <div class=\"colab-df-container\">\n",
              "      <div>\n",
              "<style scoped>\n",
              "    .dataframe tbody tr th:only-of-type {\n",
              "        vertical-align: middle;\n",
              "    }\n",
              "\n",
              "    .dataframe tbody tr th {\n",
              "        vertical-align: top;\n",
              "    }\n",
              "\n",
              "    .dataframe thead th {\n",
              "        text-align: right;\n",
              "    }\n",
              "</style>\n",
              "<table border=\"1\" class=\"dataframe\">\n",
              "  <thead>\n",
              "    <tr style=\"text-align: right;\">\n",
              "      <th></th>\n",
              "      <th>overall</th>\n",
              "      <th>potential</th>\n",
              "      <th>wage_eur</th>\n",
              "      <th>age</th>\n",
              "      <th>height_cm</th>\n",
              "      <th>weight_kg</th>\n",
              "      <th>release_clause_eur</th>\n",
              "      <th>pace</th>\n",
              "      <th>shooting</th>\n",
              "      <th>passing</th>\n",
              "      <th>...</th>\n",
              "      <th>club_team_id</th>\n",
              "      <th>league_level</th>\n",
              "      <th>club_position</th>\n",
              "      <th>club_contract_valid_until</th>\n",
              "      <th>preferred_foot</th>\n",
              "      <th>weak_foot</th>\n",
              "      <th>skill_moves</th>\n",
              "      <th>international_reputation</th>\n",
              "      <th>att_wr</th>\n",
              "      <th>def_wr</th>\n",
              "    </tr>\n",
              "  </thead>\n",
              "  <tbody>\n",
              "    <tr>\n",
              "      <th>0</th>\n",
              "      <td>0.137931</td>\n",
              "      <td>0.290323</td>\n",
              "      <td>0.012876</td>\n",
              "      <td>0.304348</td>\n",
              "      <td>0.617021</td>\n",
              "      <td>0.298246</td>\n",
              "      <td>0.009039</td>\n",
              "      <td>0.652174</td>\n",
              "      <td>0.565789</td>\n",
              "      <td>0.500000</td>\n",
              "      <td>...</td>\n",
              "      <td>1938.0</td>\n",
              "      <td>2.0</td>\n",
              "      <td>3</td>\n",
              "      <td>2024.0</td>\n",
              "      <td>1</td>\n",
              "      <td>4.0</td>\n",
              "      <td>3.0</td>\n",
              "      <td>1.0</td>\n",
              "      <td>2</td>\n",
              "      <td>2</td>\n",
              "    </tr>\n",
              "    <tr>\n",
              "      <th>1</th>\n",
              "      <td>0.379310</td>\n",
              "      <td>0.451613</td>\n",
              "      <td>0.118741</td>\n",
              "      <td>0.391304</td>\n",
              "      <td>0.510638</td>\n",
              "      <td>0.315789</td>\n",
              "      <td>0.036625</td>\n",
              "      <td>0.695652</td>\n",
              "      <td>0.381579</td>\n",
              "      <td>0.533333</td>\n",
              "      <td>...</td>\n",
              "      <td>144.0</td>\n",
              "      <td>2.0</td>\n",
              "      <td>1</td>\n",
              "      <td>2024.0</td>\n",
              "      <td>1</td>\n",
              "      <td>2.0</td>\n",
              "      <td>2.0</td>\n",
              "      <td>1.0</td>\n",
              "      <td>2</td>\n",
              "      <td>2</td>\n",
              "    </tr>\n",
              "    <tr>\n",
              "      <th>2</th>\n",
              "      <td>0.275862</td>\n",
              "      <td>0.419355</td>\n",
              "      <td>0.030043</td>\n",
              "      <td>0.434783</td>\n",
              "      <td>0.638298</td>\n",
              "      <td>0.473684</td>\n",
              "      <td>0.012789</td>\n",
              "      <td>0.550725</td>\n",
              "      <td>0.671053</td>\n",
              "      <td>0.533333</td>\n",
              "      <td>...</td>\n",
              "      <td>897.0</td>\n",
              "      <td>1.0</td>\n",
              "      <td>2</td>\n",
              "      <td>2022.0</td>\n",
              "      <td>1</td>\n",
              "      <td>3.0</td>\n",
              "      <td>2.0</td>\n",
              "      <td>1.0</td>\n",
              "      <td>0</td>\n",
              "      <td>2</td>\n",
              "    </tr>\n",
              "    <tr>\n",
              "      <th>3</th>\n",
              "      <td>0.137931</td>\n",
              "      <td>0.193548</td>\n",
              "      <td>0.015737</td>\n",
              "      <td>0.434783</td>\n",
              "      <td>0.489362</td>\n",
              "      <td>0.403509</td>\n",
              "      <td>0.006361</td>\n",
              "      <td>0.768116</td>\n",
              "      <td>0.618421</td>\n",
              "      <td>0.383333</td>\n",
              "      <td>...</td>\n",
              "      <td>171.0</td>\n",
              "      <td>2.0</td>\n",
              "      <td>3</td>\n",
              "      <td>2026.0</td>\n",
              "      <td>1</td>\n",
              "      <td>3.0</td>\n",
              "      <td>3.0</td>\n",
              "      <td>1.0</td>\n",
              "      <td>2</td>\n",
              "      <td>2</td>\n",
              "    </tr>\n",
              "    <tr>\n",
              "      <th>4</th>\n",
              "      <td>0.000000</td>\n",
              "      <td>0.000000</td>\n",
              "      <td>0.004292</td>\n",
              "      <td>0.565217</td>\n",
              "      <td>0.574468</td>\n",
              "      <td>0.368421</td>\n",
              "      <td>0.001591</td>\n",
              "      <td>0.637681</td>\n",
              "      <td>0.565789</td>\n",
              "      <td>0.400000</td>\n",
              "      <td>...</td>\n",
              "      <td>1456.0</td>\n",
              "      <td>1.0</td>\n",
              "      <td>3</td>\n",
              "      <td>2021.0</td>\n",
              "      <td>1</td>\n",
              "      <td>4.0</td>\n",
              "      <td>3.0</td>\n",
              "      <td>1.0</td>\n",
              "      <td>2</td>\n",
              "      <td>2</td>\n",
              "    </tr>\n",
              "    <tr>\n",
              "      <th>...</th>\n",
              "      <td>...</td>\n",
              "      <td>...</td>\n",
              "      <td>...</td>\n",
              "      <td>...</td>\n",
              "      <td>...</td>\n",
              "      <td>...</td>\n",
              "      <td>...</td>\n",
              "      <td>...</td>\n",
              "      <td>...</td>\n",
              "      <td>...</td>\n",
              "      <td>...</td>\n",
              "      <td>...</td>\n",
              "      <td>...</td>\n",
              "      <td>...</td>\n",
              "      <td>...</td>\n",
              "      <td>...</td>\n",
              "      <td>...</td>\n",
              "      <td>...</td>\n",
              "      <td>...</td>\n",
              "      <td>...</td>\n",
              "      <td>...</td>\n",
              "    </tr>\n",
              "    <tr>\n",
              "      <th>8856</th>\n",
              "      <td>0.448276</td>\n",
              "      <td>0.419355</td>\n",
              "      <td>0.133047</td>\n",
              "      <td>0.652174</td>\n",
              "      <td>0.574468</td>\n",
              "      <td>0.456140</td>\n",
              "      <td>0.040643</td>\n",
              "      <td>0.536232</td>\n",
              "      <td>0.802632</td>\n",
              "      <td>0.716667</td>\n",
              "      <td>...</td>\n",
              "      <td>166.0</td>\n",
              "      <td>1.0</td>\n",
              "      <td>0</td>\n",
              "      <td>2024.0</td>\n",
              "      <td>1</td>\n",
              "      <td>4.0</td>\n",
              "      <td>3.0</td>\n",
              "      <td>3.0</td>\n",
              "      <td>2</td>\n",
              "      <td>1</td>\n",
              "    </tr>\n",
              "    <tr>\n",
              "      <th>8857</th>\n",
              "      <td>0.103448</td>\n",
              "      <td>0.096774</td>\n",
              "      <td>0.001431</td>\n",
              "      <td>0.608696</td>\n",
              "      <td>0.255319</td>\n",
              "      <td>0.350877</td>\n",
              "      <td>0.003147</td>\n",
              "      <td>0.608696</td>\n",
              "      <td>0.565789</td>\n",
              "      <td>0.516667</td>\n",
              "      <td>...</td>\n",
              "      <td>111722.0</td>\n",
              "      <td>1.0</td>\n",
              "      <td>3</td>\n",
              "      <td>2025.0</td>\n",
              "      <td>0</td>\n",
              "      <td>4.0</td>\n",
              "      <td>3.0</td>\n",
              "      <td>1.0</td>\n",
              "      <td>0</td>\n",
              "      <td>2</td>\n",
              "    </tr>\n",
              "    <tr>\n",
              "      <th>8858</th>\n",
              "      <td>0.482759</td>\n",
              "      <td>0.451613</td>\n",
              "      <td>0.070100</td>\n",
              "      <td>0.652174</td>\n",
              "      <td>0.617021</td>\n",
              "      <td>0.473684</td>\n",
              "      <td>0.055641</td>\n",
              "      <td>0.318841</td>\n",
              "      <td>0.368421</td>\n",
              "      <td>0.366667</td>\n",
              "      <td>...</td>\n",
              "      <td>463.0</td>\n",
              "      <td>1.0</td>\n",
              "      <td>1</td>\n",
              "      <td>2022.0</td>\n",
              "      <td>1</td>\n",
              "      <td>3.0</td>\n",
              "      <td>2.0</td>\n",
              "      <td>1.0</td>\n",
              "      <td>2</td>\n",
              "      <td>0</td>\n",
              "    </tr>\n",
              "    <tr>\n",
              "      <th>8859</th>\n",
              "      <td>0.000000</td>\n",
              "      <td>0.000000</td>\n",
              "      <td>0.001431</td>\n",
              "      <td>0.695652</td>\n",
              "      <td>0.361702</td>\n",
              "      <td>0.315789</td>\n",
              "      <td>0.001004</td>\n",
              "      <td>0.550725</td>\n",
              "      <td>0.381579</td>\n",
              "      <td>0.500000</td>\n",
              "      <td>...</td>\n",
              "      <td>113197.0</td>\n",
              "      <td>1.0</td>\n",
              "      <td>3</td>\n",
              "      <td>2022.0</td>\n",
              "      <td>0</td>\n",
              "      <td>2.0</td>\n",
              "      <td>2.0</td>\n",
              "      <td>1.0</td>\n",
              "      <td>2</td>\n",
              "      <td>0</td>\n",
              "    </tr>\n",
              "    <tr>\n",
              "      <th>8860</th>\n",
              "      <td>0.448276</td>\n",
              "      <td>0.580645</td>\n",
              "      <td>0.058655</td>\n",
              "      <td>0.304348</td>\n",
              "      <td>0.787234</td>\n",
              "      <td>0.631579</td>\n",
              "      <td>0.072514</td>\n",
              "      <td>0.565217</td>\n",
              "      <td>0.276316</td>\n",
              "      <td>0.350000</td>\n",
              "      <td>...</td>\n",
              "      <td>100409.0</td>\n",
              "      <td>1.0</td>\n",
              "      <td>1</td>\n",
              "      <td>2024.0</td>\n",
              "      <td>0</td>\n",
              "      <td>3.0</td>\n",
              "      <td>2.0</td>\n",
              "      <td>2.0</td>\n",
              "      <td>2</td>\n",
              "      <td>2</td>\n",
              "    </tr>\n",
              "  </tbody>\n",
              "</table>\n",
              "<p>8861 rows × 54 columns</p>\n",
              "</div>\n",
              "      <button class=\"colab-df-convert\" onclick=\"convertToInteractive('df-55b1af42-1749-4a98-9fc2-1b34d18e0e0f')\"\n",
              "              title=\"Convert this dataframe to an interactive table.\"\n",
              "              style=\"display:none;\">\n",
              "        \n",
              "  <svg xmlns=\"http://www.w3.org/2000/svg\" height=\"24px\"viewBox=\"0 0 24 24\"\n",
              "       width=\"24px\">\n",
              "    <path d=\"M0 0h24v24H0V0z\" fill=\"none\"/>\n",
              "    <path d=\"M18.56 5.44l.94 2.06.94-2.06 2.06-.94-2.06-.94-.94-2.06-.94 2.06-2.06.94zm-11 1L8.5 8.5l.94-2.06 2.06-.94-2.06-.94L8.5 2.5l-.94 2.06-2.06.94zm10 10l.94 2.06.94-2.06 2.06-.94-2.06-.94-.94-2.06-.94 2.06-2.06.94z\"/><path d=\"M17.41 7.96l-1.37-1.37c-.4-.4-.92-.59-1.43-.59-.52 0-1.04.2-1.43.59L10.3 9.45l-7.72 7.72c-.78.78-.78 2.05 0 2.83L4 21.41c.39.39.9.59 1.41.59.51 0 1.02-.2 1.41-.59l7.78-7.78 2.81-2.81c.8-.78.8-2.07 0-2.86zM5.41 20L4 18.59l7.72-7.72 1.47 1.35L5.41 20z\"/>\n",
              "  </svg>\n",
              "      </button>\n",
              "      \n",
              "  <style>\n",
              "    .colab-df-container {\n",
              "      display:flex;\n",
              "      flex-wrap:wrap;\n",
              "      gap: 12px;\n",
              "    }\n",
              "\n",
              "    .colab-df-convert {\n",
              "      background-color: #E8F0FE;\n",
              "      border: none;\n",
              "      border-radius: 50%;\n",
              "      cursor: pointer;\n",
              "      display: none;\n",
              "      fill: #1967D2;\n",
              "      height: 32px;\n",
              "      padding: 0 0 0 0;\n",
              "      width: 32px;\n",
              "    }\n",
              "\n",
              "    .colab-df-convert:hover {\n",
              "      background-color: #E2EBFA;\n",
              "      box-shadow: 0px 1px 2px rgba(60, 64, 67, 0.3), 0px 1px 3px 1px rgba(60, 64, 67, 0.15);\n",
              "      fill: #174EA6;\n",
              "    }\n",
              "\n",
              "    [theme=dark] .colab-df-convert {\n",
              "      background-color: #3B4455;\n",
              "      fill: #D2E3FC;\n",
              "    }\n",
              "\n",
              "    [theme=dark] .colab-df-convert:hover {\n",
              "      background-color: #434B5C;\n",
              "      box-shadow: 0px 1px 3px 1px rgba(0, 0, 0, 0.15);\n",
              "      filter: drop-shadow(0px 1px 2px rgba(0, 0, 0, 0.3));\n",
              "      fill: #FFFFFF;\n",
              "    }\n",
              "  </style>\n",
              "\n",
              "      <script>\n",
              "        const buttonEl =\n",
              "          document.querySelector('#df-55b1af42-1749-4a98-9fc2-1b34d18e0e0f button.colab-df-convert');\n",
              "        buttonEl.style.display =\n",
              "          google.colab.kernel.accessAllowed ? 'block' : 'none';\n",
              "\n",
              "        async function convertToInteractive(key) {\n",
              "          const element = document.querySelector('#df-55b1af42-1749-4a98-9fc2-1b34d18e0e0f');\n",
              "          const dataTable =\n",
              "            await google.colab.kernel.invokeFunction('convertToInteractive',\n",
              "                                                     [key], {});\n",
              "          if (!dataTable) return;\n",
              "\n",
              "          const docLinkHtml = 'Like what you see? Visit the ' +\n",
              "            '<a target=\"_blank\" href=https://colab.research.google.com/notebooks/data_table.ipynb>data table notebook</a>'\n",
              "            + ' to learn more about interactive tables.';\n",
              "          element.innerHTML = '';\n",
              "          dataTable['output_type'] = 'display_data';\n",
              "          await google.colab.output.renderOutput(dataTable, element);\n",
              "          const docLink = document.createElement('div');\n",
              "          docLink.innerHTML = docLinkHtml;\n",
              "          element.appendChild(docLink);\n",
              "        }\n",
              "      </script>\n",
              "    </div>\n",
              "  </div>\n",
              "  "
            ]
          },
          "metadata": {},
          "execution_count": 2
        }
      ]
    },
    {
      "cell_type": "code",
      "source": [
        "y_train"
      ],
      "metadata": {
        "colab": {
          "base_uri": "https://localhost:8080/",
          "height": 424
        },
        "id": "3f-lofv_XA45",
        "outputId": "2de9b7e9-f497-4125-874a-64ab6ea05364"
      },
      "execution_count": 3,
      "outputs": [
        {
          "output_type": "execute_result",
          "data": {
            "text/plain": [
              "      value_eur\n",
              "0      0.008767\n",
              "1      0.035585\n",
              "2      0.015472\n",
              "3      0.007220\n",
              "4      0.002450\n",
              "...         ...\n",
              "8856   0.045900\n",
              "8857   0.004513\n",
              "8858   0.048479\n",
              "8859   0.001547\n",
              "8860   0.074265\n",
              "\n",
              "[8861 rows x 1 columns]"
            ],
            "text/html": [
              "\n",
              "  <div id=\"df-92b11011-599b-43f1-a8cf-50303febaf34\">\n",
              "    <div class=\"colab-df-container\">\n",
              "      <div>\n",
              "<style scoped>\n",
              "    .dataframe tbody tr th:only-of-type {\n",
              "        vertical-align: middle;\n",
              "    }\n",
              "\n",
              "    .dataframe tbody tr th {\n",
              "        vertical-align: top;\n",
              "    }\n",
              "\n",
              "    .dataframe thead th {\n",
              "        text-align: right;\n",
              "    }\n",
              "</style>\n",
              "<table border=\"1\" class=\"dataframe\">\n",
              "  <thead>\n",
              "    <tr style=\"text-align: right;\">\n",
              "      <th></th>\n",
              "      <th>value_eur</th>\n",
              "    </tr>\n",
              "  </thead>\n",
              "  <tbody>\n",
              "    <tr>\n",
              "      <th>0</th>\n",
              "      <td>0.008767</td>\n",
              "    </tr>\n",
              "    <tr>\n",
              "      <th>1</th>\n",
              "      <td>0.035585</td>\n",
              "    </tr>\n",
              "    <tr>\n",
              "      <th>2</th>\n",
              "      <td>0.015472</td>\n",
              "    </tr>\n",
              "    <tr>\n",
              "      <th>3</th>\n",
              "      <td>0.007220</td>\n",
              "    </tr>\n",
              "    <tr>\n",
              "      <th>4</th>\n",
              "      <td>0.002450</td>\n",
              "    </tr>\n",
              "    <tr>\n",
              "      <th>...</th>\n",
              "      <td>...</td>\n",
              "    </tr>\n",
              "    <tr>\n",
              "      <th>8856</th>\n",
              "      <td>0.045900</td>\n",
              "    </tr>\n",
              "    <tr>\n",
              "      <th>8857</th>\n",
              "      <td>0.004513</td>\n",
              "    </tr>\n",
              "    <tr>\n",
              "      <th>8858</th>\n",
              "      <td>0.048479</td>\n",
              "    </tr>\n",
              "    <tr>\n",
              "      <th>8859</th>\n",
              "      <td>0.001547</td>\n",
              "    </tr>\n",
              "    <tr>\n",
              "      <th>8860</th>\n",
              "      <td>0.074265</td>\n",
              "    </tr>\n",
              "  </tbody>\n",
              "</table>\n",
              "<p>8861 rows × 1 columns</p>\n",
              "</div>\n",
              "      <button class=\"colab-df-convert\" onclick=\"convertToInteractive('df-92b11011-599b-43f1-a8cf-50303febaf34')\"\n",
              "              title=\"Convert this dataframe to an interactive table.\"\n",
              "              style=\"display:none;\">\n",
              "        \n",
              "  <svg xmlns=\"http://www.w3.org/2000/svg\" height=\"24px\"viewBox=\"0 0 24 24\"\n",
              "       width=\"24px\">\n",
              "    <path d=\"M0 0h24v24H0V0z\" fill=\"none\"/>\n",
              "    <path d=\"M18.56 5.44l.94 2.06.94-2.06 2.06-.94-2.06-.94-.94-2.06-.94 2.06-2.06.94zm-11 1L8.5 8.5l.94-2.06 2.06-.94-2.06-.94L8.5 2.5l-.94 2.06-2.06.94zm10 10l.94 2.06.94-2.06 2.06-.94-2.06-.94-.94-2.06-.94 2.06-2.06.94z\"/><path d=\"M17.41 7.96l-1.37-1.37c-.4-.4-.92-.59-1.43-.59-.52 0-1.04.2-1.43.59L10.3 9.45l-7.72 7.72c-.78.78-.78 2.05 0 2.83L4 21.41c.39.39.9.59 1.41.59.51 0 1.02-.2 1.41-.59l7.78-7.78 2.81-2.81c.8-.78.8-2.07 0-2.86zM5.41 20L4 18.59l7.72-7.72 1.47 1.35L5.41 20z\"/>\n",
              "  </svg>\n",
              "      </button>\n",
              "      \n",
              "  <style>\n",
              "    .colab-df-container {\n",
              "      display:flex;\n",
              "      flex-wrap:wrap;\n",
              "      gap: 12px;\n",
              "    }\n",
              "\n",
              "    .colab-df-convert {\n",
              "      background-color: #E8F0FE;\n",
              "      border: none;\n",
              "      border-radius: 50%;\n",
              "      cursor: pointer;\n",
              "      display: none;\n",
              "      fill: #1967D2;\n",
              "      height: 32px;\n",
              "      padding: 0 0 0 0;\n",
              "      width: 32px;\n",
              "    }\n",
              "\n",
              "    .colab-df-convert:hover {\n",
              "      background-color: #E2EBFA;\n",
              "      box-shadow: 0px 1px 2px rgba(60, 64, 67, 0.3), 0px 1px 3px 1px rgba(60, 64, 67, 0.15);\n",
              "      fill: #174EA6;\n",
              "    }\n",
              "\n",
              "    [theme=dark] .colab-df-convert {\n",
              "      background-color: #3B4455;\n",
              "      fill: #D2E3FC;\n",
              "    }\n",
              "\n",
              "    [theme=dark] .colab-df-convert:hover {\n",
              "      background-color: #434B5C;\n",
              "      box-shadow: 0px 1px 3px 1px rgba(0, 0, 0, 0.15);\n",
              "      filter: drop-shadow(0px 1px 2px rgba(0, 0, 0, 0.3));\n",
              "      fill: #FFFFFF;\n",
              "    }\n",
              "  </style>\n",
              "\n",
              "      <script>\n",
              "        const buttonEl =\n",
              "          document.querySelector('#df-92b11011-599b-43f1-a8cf-50303febaf34 button.colab-df-convert');\n",
              "        buttonEl.style.display =\n",
              "          google.colab.kernel.accessAllowed ? 'block' : 'none';\n",
              "\n",
              "        async function convertToInteractive(key) {\n",
              "          const element = document.querySelector('#df-92b11011-599b-43f1-a8cf-50303febaf34');\n",
              "          const dataTable =\n",
              "            await google.colab.kernel.invokeFunction('convertToInteractive',\n",
              "                                                     [key], {});\n",
              "          if (!dataTable) return;\n",
              "\n",
              "          const docLinkHtml = 'Like what you see? Visit the ' +\n",
              "            '<a target=\"_blank\" href=https://colab.research.google.com/notebooks/data_table.ipynb>data table notebook</a>'\n",
              "            + ' to learn more about interactive tables.';\n",
              "          element.innerHTML = '';\n",
              "          dataTable['output_type'] = 'display_data';\n",
              "          await google.colab.output.renderOutput(dataTable, element);\n",
              "          const docLink = document.createElement('div');\n",
              "          docLink.innerHTML = docLinkHtml;\n",
              "          element.appendChild(docLink);\n",
              "        }\n",
              "      </script>\n",
              "    </div>\n",
              "  </div>\n",
              "  "
            ]
          },
          "metadata": {},
          "execution_count": 3
        }
      ]
    },
    {
      "cell_type": "code",
      "source": [
        "x_test"
      ],
      "metadata": {
        "colab": {
          "base_uri": "https://localhost:8080/",
          "height": 488
        },
        "id": "Rr0qhQOTXDMv",
        "outputId": "6acf1903-676e-4d06-b69c-d06e17e2f7eb"
      },
      "execution_count": 4,
      "outputs": [
        {
          "output_type": "execute_result",
          "data": {
            "text/plain": [
              "      overall  potential  wage_eur       age  height_cm  weight_kg  \\\n",
              "0    0.034483   0.032258  0.004292  0.782609   0.297872   0.385965   \n",
              "1    0.103448   0.096774  0.001431  0.782609   0.404255   0.350877   \n",
              "2    0.034483   0.580645  0.004292  0.130435   0.510638   0.403509   \n",
              "3    0.068966   0.419355  0.004292  0.260870   0.382979   0.175439   \n",
              "4    0.310345   0.290323  0.067239  0.652174   0.680851   0.526316   \n",
              "..        ...        ...       ...       ...        ...        ...   \n",
              "980  0.068966   0.322581  0.004292  0.260870   0.404255   0.263158   \n",
              "981  0.034483   0.032258  0.000000  0.652174   0.468085   0.350877   \n",
              "982  0.482759   0.451613  0.124464  0.608696   0.446809   0.403509   \n",
              "983  0.241379   0.225806  0.021459  0.652174   0.553191   0.315789   \n",
              "984  0.137931   0.419355  0.010014  0.217391   0.404255   0.350877   \n",
              "\n",
              "     release_clause_eur      pace  shooting   passing  ...  club_team_id  \\\n",
              "0              0.000637  0.637681  0.513158  0.466667  ...      113149.0   \n",
              "1              0.001473  0.695652  0.644737  0.466667  ...      113302.0   \n",
              "2              0.009843  0.565217  0.526316  0.466667  ...      110396.0   \n",
              "3              0.008236  0.652174  0.342105  0.400000  ...      110831.0   \n",
              "4              0.009307  0.376812  0.460526  0.600000  ...       10029.0   \n",
              "..                  ...       ...       ...       ...  ...           ...   \n",
              "980            0.007968  0.608696  0.223684  0.300000  ...      112996.0   \n",
              "981            0.003147  0.666667  0.631579  0.533333  ...      110930.0   \n",
              "982            0.051088  0.811594  0.605263  0.666667  ...        1970.0   \n",
              "983            0.005290  0.507246  0.671053  0.483333  ...      101146.0   \n",
              "984            0.011182  0.797101  0.289474  0.433333  ...        1750.0   \n",
              "\n",
              "     league_level  club_position  club_contract_valid_until  preferred_foot  \\\n",
              "0             1.0              3                     2021.0               0   \n",
              "1             1.0              0                     2022.0               1   \n",
              "2             1.0              2                     2023.0               0   \n",
              "3             2.0              3                     2023.0               0   \n",
              "4             1.0              3                     2022.0               1   \n",
              "..            ...            ...                        ...             ...   \n",
              "980           1.0              3                     2021.0               0   \n",
              "981           1.0              3                     2022.0               1   \n",
              "982           1.0              1                     2022.0               1   \n",
              "983           1.0              3                     2022.0               1   \n",
              "984           1.0              1                     2023.0               1   \n",
              "\n",
              "     weak_foot  skill_moves  international_reputation  att_wr  def_wr  \n",
              "0          3.0          3.0                       1.0       0       2  \n",
              "1          4.0          3.0                       1.0       0       2  \n",
              "2          3.0          2.0                       1.0       2       2  \n",
              "3          3.0          2.0                       1.0       2       2  \n",
              "4          3.0          2.0                       2.0       2       2  \n",
              "..         ...          ...                       ...     ...     ...  \n",
              "980        3.0          2.0                       1.0       0       2  \n",
              "981        3.0          2.0                       1.0       0       2  \n",
              "982        3.0          3.0                       1.0       0       0  \n",
              "983        4.0          3.0                       1.0       2       2  \n",
              "984        4.0          3.0                       1.0       0       2  \n",
              "\n",
              "[985 rows x 54 columns]"
            ],
            "text/html": [
              "\n",
              "  <div id=\"df-d48fb54f-d18b-41eb-8c42-d5f61f40d90b\">\n",
              "    <div class=\"colab-df-container\">\n",
              "      <div>\n",
              "<style scoped>\n",
              "    .dataframe tbody tr th:only-of-type {\n",
              "        vertical-align: middle;\n",
              "    }\n",
              "\n",
              "    .dataframe tbody tr th {\n",
              "        vertical-align: top;\n",
              "    }\n",
              "\n",
              "    .dataframe thead th {\n",
              "        text-align: right;\n",
              "    }\n",
              "</style>\n",
              "<table border=\"1\" class=\"dataframe\">\n",
              "  <thead>\n",
              "    <tr style=\"text-align: right;\">\n",
              "      <th></th>\n",
              "      <th>overall</th>\n",
              "      <th>potential</th>\n",
              "      <th>wage_eur</th>\n",
              "      <th>age</th>\n",
              "      <th>height_cm</th>\n",
              "      <th>weight_kg</th>\n",
              "      <th>release_clause_eur</th>\n",
              "      <th>pace</th>\n",
              "      <th>shooting</th>\n",
              "      <th>passing</th>\n",
              "      <th>...</th>\n",
              "      <th>club_team_id</th>\n",
              "      <th>league_level</th>\n",
              "      <th>club_position</th>\n",
              "      <th>club_contract_valid_until</th>\n",
              "      <th>preferred_foot</th>\n",
              "      <th>weak_foot</th>\n",
              "      <th>skill_moves</th>\n",
              "      <th>international_reputation</th>\n",
              "      <th>att_wr</th>\n",
              "      <th>def_wr</th>\n",
              "    </tr>\n",
              "  </thead>\n",
              "  <tbody>\n",
              "    <tr>\n",
              "      <th>0</th>\n",
              "      <td>0.034483</td>\n",
              "      <td>0.032258</td>\n",
              "      <td>0.004292</td>\n",
              "      <td>0.782609</td>\n",
              "      <td>0.297872</td>\n",
              "      <td>0.385965</td>\n",
              "      <td>0.000637</td>\n",
              "      <td>0.637681</td>\n",
              "      <td>0.513158</td>\n",
              "      <td>0.466667</td>\n",
              "      <td>...</td>\n",
              "      <td>113149.0</td>\n",
              "      <td>1.0</td>\n",
              "      <td>3</td>\n",
              "      <td>2021.0</td>\n",
              "      <td>0</td>\n",
              "      <td>3.0</td>\n",
              "      <td>3.0</td>\n",
              "      <td>1.0</td>\n",
              "      <td>0</td>\n",
              "      <td>2</td>\n",
              "    </tr>\n",
              "    <tr>\n",
              "      <th>1</th>\n",
              "      <td>0.103448</td>\n",
              "      <td>0.096774</td>\n",
              "      <td>0.001431</td>\n",
              "      <td>0.782609</td>\n",
              "      <td>0.404255</td>\n",
              "      <td>0.350877</td>\n",
              "      <td>0.001473</td>\n",
              "      <td>0.695652</td>\n",
              "      <td>0.644737</td>\n",
              "      <td>0.466667</td>\n",
              "      <td>...</td>\n",
              "      <td>113302.0</td>\n",
              "      <td>1.0</td>\n",
              "      <td>0</td>\n",
              "      <td>2022.0</td>\n",
              "      <td>1</td>\n",
              "      <td>4.0</td>\n",
              "      <td>3.0</td>\n",
              "      <td>1.0</td>\n",
              "      <td>0</td>\n",
              "      <td>2</td>\n",
              "    </tr>\n",
              "    <tr>\n",
              "      <th>2</th>\n",
              "      <td>0.034483</td>\n",
              "      <td>0.580645</td>\n",
              "      <td>0.004292</td>\n",
              "      <td>0.130435</td>\n",
              "      <td>0.510638</td>\n",
              "      <td>0.403509</td>\n",
              "      <td>0.009843</td>\n",
              "      <td>0.565217</td>\n",
              "      <td>0.526316</td>\n",
              "      <td>0.466667</td>\n",
              "      <td>...</td>\n",
              "      <td>110396.0</td>\n",
              "      <td>1.0</td>\n",
              "      <td>2</td>\n",
              "      <td>2023.0</td>\n",
              "      <td>0</td>\n",
              "      <td>3.0</td>\n",
              "      <td>2.0</td>\n",
              "      <td>1.0</td>\n",
              "      <td>2</td>\n",
              "      <td>2</td>\n",
              "    </tr>\n",
              "    <tr>\n",
              "      <th>3</th>\n",
              "      <td>0.068966</td>\n",
              "      <td>0.419355</td>\n",
              "      <td>0.004292</td>\n",
              "      <td>0.260870</td>\n",
              "      <td>0.382979</td>\n",
              "      <td>0.175439</td>\n",
              "      <td>0.008236</td>\n",
              "      <td>0.652174</td>\n",
              "      <td>0.342105</td>\n",
              "      <td>0.400000</td>\n",
              "      <td>...</td>\n",
              "      <td>110831.0</td>\n",
              "      <td>2.0</td>\n",
              "      <td>3</td>\n",
              "      <td>2023.0</td>\n",
              "      <td>0</td>\n",
              "      <td>3.0</td>\n",
              "      <td>2.0</td>\n",
              "      <td>1.0</td>\n",
              "      <td>2</td>\n",
              "      <td>2</td>\n",
              "    </tr>\n",
              "    <tr>\n",
              "      <th>4</th>\n",
              "      <td>0.310345</td>\n",
              "      <td>0.290323</td>\n",
              "      <td>0.067239</td>\n",
              "      <td>0.652174</td>\n",
              "      <td>0.680851</td>\n",
              "      <td>0.526316</td>\n",
              "      <td>0.009307</td>\n",
              "      <td>0.376812</td>\n",
              "      <td>0.460526</td>\n",
              "      <td>0.600000</td>\n",
              "      <td>...</td>\n",
              "      <td>10029.0</td>\n",
              "      <td>1.0</td>\n",
              "      <td>3</td>\n",
              "      <td>2022.0</td>\n",
              "      <td>1</td>\n",
              "      <td>3.0</td>\n",
              "      <td>2.0</td>\n",
              "      <td>2.0</td>\n",
              "      <td>2</td>\n",
              "      <td>2</td>\n",
              "    </tr>\n",
              "    <tr>\n",
              "      <th>...</th>\n",
              "      <td>...</td>\n",
              "      <td>...</td>\n",
              "      <td>...</td>\n",
              "      <td>...</td>\n",
              "      <td>...</td>\n",
              "      <td>...</td>\n",
              "      <td>...</td>\n",
              "      <td>...</td>\n",
              "      <td>...</td>\n",
              "      <td>...</td>\n",
              "      <td>...</td>\n",
              "      <td>...</td>\n",
              "      <td>...</td>\n",
              "      <td>...</td>\n",
              "      <td>...</td>\n",
              "      <td>...</td>\n",
              "      <td>...</td>\n",
              "      <td>...</td>\n",
              "      <td>...</td>\n",
              "      <td>...</td>\n",
              "      <td>...</td>\n",
              "    </tr>\n",
              "    <tr>\n",
              "      <th>980</th>\n",
              "      <td>0.068966</td>\n",
              "      <td>0.322581</td>\n",
              "      <td>0.004292</td>\n",
              "      <td>0.260870</td>\n",
              "      <td>0.404255</td>\n",
              "      <td>0.263158</td>\n",
              "      <td>0.007968</td>\n",
              "      <td>0.608696</td>\n",
              "      <td>0.223684</td>\n",
              "      <td>0.300000</td>\n",
              "      <td>...</td>\n",
              "      <td>112996.0</td>\n",
              "      <td>1.0</td>\n",
              "      <td>3</td>\n",
              "      <td>2021.0</td>\n",
              "      <td>0</td>\n",
              "      <td>3.0</td>\n",
              "      <td>2.0</td>\n",
              "      <td>1.0</td>\n",
              "      <td>0</td>\n",
              "      <td>2</td>\n",
              "    </tr>\n",
              "    <tr>\n",
              "      <th>981</th>\n",
              "      <td>0.034483</td>\n",
              "      <td>0.032258</td>\n",
              "      <td>0.000000</td>\n",
              "      <td>0.652174</td>\n",
              "      <td>0.468085</td>\n",
              "      <td>0.350877</td>\n",
              "      <td>0.003147</td>\n",
              "      <td>0.666667</td>\n",
              "      <td>0.631579</td>\n",
              "      <td>0.533333</td>\n",
              "      <td>...</td>\n",
              "      <td>110930.0</td>\n",
              "      <td>1.0</td>\n",
              "      <td>3</td>\n",
              "      <td>2022.0</td>\n",
              "      <td>1</td>\n",
              "      <td>3.0</td>\n",
              "      <td>2.0</td>\n",
              "      <td>1.0</td>\n",
              "      <td>0</td>\n",
              "      <td>2</td>\n",
              "    </tr>\n",
              "    <tr>\n",
              "      <th>982</th>\n",
              "      <td>0.482759</td>\n",
              "      <td>0.451613</td>\n",
              "      <td>0.124464</td>\n",
              "      <td>0.608696</td>\n",
              "      <td>0.446809</td>\n",
              "      <td>0.403509</td>\n",
              "      <td>0.051088</td>\n",
              "      <td>0.811594</td>\n",
              "      <td>0.605263</td>\n",
              "      <td>0.666667</td>\n",
              "      <td>...</td>\n",
              "      <td>1970.0</td>\n",
              "      <td>1.0</td>\n",
              "      <td>1</td>\n",
              "      <td>2022.0</td>\n",
              "      <td>1</td>\n",
              "      <td>3.0</td>\n",
              "      <td>3.0</td>\n",
              "      <td>1.0</td>\n",
              "      <td>0</td>\n",
              "      <td>0</td>\n",
              "    </tr>\n",
              "    <tr>\n",
              "      <th>983</th>\n",
              "      <td>0.241379</td>\n",
              "      <td>0.225806</td>\n",
              "      <td>0.021459</td>\n",
              "      <td>0.652174</td>\n",
              "      <td>0.553191</td>\n",
              "      <td>0.315789</td>\n",
              "      <td>0.005290</td>\n",
              "      <td>0.507246</td>\n",
              "      <td>0.671053</td>\n",
              "      <td>0.483333</td>\n",
              "      <td>...</td>\n",
              "      <td>101146.0</td>\n",
              "      <td>1.0</td>\n",
              "      <td>3</td>\n",
              "      <td>2022.0</td>\n",
              "      <td>1</td>\n",
              "      <td>4.0</td>\n",
              "      <td>3.0</td>\n",
              "      <td>1.0</td>\n",
              "      <td>2</td>\n",
              "      <td>2</td>\n",
              "    </tr>\n",
              "    <tr>\n",
              "      <th>984</th>\n",
              "      <td>0.137931</td>\n",
              "      <td>0.419355</td>\n",
              "      <td>0.010014</td>\n",
              "      <td>0.217391</td>\n",
              "      <td>0.404255</td>\n",
              "      <td>0.350877</td>\n",
              "      <td>0.011182</td>\n",
              "      <td>0.797101</td>\n",
              "      <td>0.289474</td>\n",
              "      <td>0.433333</td>\n",
              "      <td>...</td>\n",
              "      <td>1750.0</td>\n",
              "      <td>1.0</td>\n",
              "      <td>1</td>\n",
              "      <td>2023.0</td>\n",
              "      <td>1</td>\n",
              "      <td>4.0</td>\n",
              "      <td>3.0</td>\n",
              "      <td>1.0</td>\n",
              "      <td>0</td>\n",
              "      <td>2</td>\n",
              "    </tr>\n",
              "  </tbody>\n",
              "</table>\n",
              "<p>985 rows × 54 columns</p>\n",
              "</div>\n",
              "      <button class=\"colab-df-convert\" onclick=\"convertToInteractive('df-d48fb54f-d18b-41eb-8c42-d5f61f40d90b')\"\n",
              "              title=\"Convert this dataframe to an interactive table.\"\n",
              "              style=\"display:none;\">\n",
              "        \n",
              "  <svg xmlns=\"http://www.w3.org/2000/svg\" height=\"24px\"viewBox=\"0 0 24 24\"\n",
              "       width=\"24px\">\n",
              "    <path d=\"M0 0h24v24H0V0z\" fill=\"none\"/>\n",
              "    <path d=\"M18.56 5.44l.94 2.06.94-2.06 2.06-.94-2.06-.94-.94-2.06-.94 2.06-2.06.94zm-11 1L8.5 8.5l.94-2.06 2.06-.94-2.06-.94L8.5 2.5l-.94 2.06-2.06.94zm10 10l.94 2.06.94-2.06 2.06-.94-2.06-.94-.94-2.06-.94 2.06-2.06.94z\"/><path d=\"M17.41 7.96l-1.37-1.37c-.4-.4-.92-.59-1.43-.59-.52 0-1.04.2-1.43.59L10.3 9.45l-7.72 7.72c-.78.78-.78 2.05 0 2.83L4 21.41c.39.39.9.59 1.41.59.51 0 1.02-.2 1.41-.59l7.78-7.78 2.81-2.81c.8-.78.8-2.07 0-2.86zM5.41 20L4 18.59l7.72-7.72 1.47 1.35L5.41 20z\"/>\n",
              "  </svg>\n",
              "      </button>\n",
              "      \n",
              "  <style>\n",
              "    .colab-df-container {\n",
              "      display:flex;\n",
              "      flex-wrap:wrap;\n",
              "      gap: 12px;\n",
              "    }\n",
              "\n",
              "    .colab-df-convert {\n",
              "      background-color: #E8F0FE;\n",
              "      border: none;\n",
              "      border-radius: 50%;\n",
              "      cursor: pointer;\n",
              "      display: none;\n",
              "      fill: #1967D2;\n",
              "      height: 32px;\n",
              "      padding: 0 0 0 0;\n",
              "      width: 32px;\n",
              "    }\n",
              "\n",
              "    .colab-df-convert:hover {\n",
              "      background-color: #E2EBFA;\n",
              "      box-shadow: 0px 1px 2px rgba(60, 64, 67, 0.3), 0px 1px 3px 1px rgba(60, 64, 67, 0.15);\n",
              "      fill: #174EA6;\n",
              "    }\n",
              "\n",
              "    [theme=dark] .colab-df-convert {\n",
              "      background-color: #3B4455;\n",
              "      fill: #D2E3FC;\n",
              "    }\n",
              "\n",
              "    [theme=dark] .colab-df-convert:hover {\n",
              "      background-color: #434B5C;\n",
              "      box-shadow: 0px 1px 3px 1px rgba(0, 0, 0, 0.15);\n",
              "      filter: drop-shadow(0px 1px 2px rgba(0, 0, 0, 0.3));\n",
              "      fill: #FFFFFF;\n",
              "    }\n",
              "  </style>\n",
              "\n",
              "      <script>\n",
              "        const buttonEl =\n",
              "          document.querySelector('#df-d48fb54f-d18b-41eb-8c42-d5f61f40d90b button.colab-df-convert');\n",
              "        buttonEl.style.display =\n",
              "          google.colab.kernel.accessAllowed ? 'block' : 'none';\n",
              "\n",
              "        async function convertToInteractive(key) {\n",
              "          const element = document.querySelector('#df-d48fb54f-d18b-41eb-8c42-d5f61f40d90b');\n",
              "          const dataTable =\n",
              "            await google.colab.kernel.invokeFunction('convertToInteractive',\n",
              "                                                     [key], {});\n",
              "          if (!dataTable) return;\n",
              "\n",
              "          const docLinkHtml = 'Like what you see? Visit the ' +\n",
              "            '<a target=\"_blank\" href=https://colab.research.google.com/notebooks/data_table.ipynb>data table notebook</a>'\n",
              "            + ' to learn more about interactive tables.';\n",
              "          element.innerHTML = '';\n",
              "          dataTable['output_type'] = 'display_data';\n",
              "          await google.colab.output.renderOutput(dataTable, element);\n",
              "          const docLink = document.createElement('div');\n",
              "          docLink.innerHTML = docLinkHtml;\n",
              "          element.appendChild(docLink);\n",
              "        }\n",
              "      </script>\n",
              "    </div>\n",
              "  </div>\n",
              "  "
            ]
          },
          "metadata": {},
          "execution_count": 4
        }
      ]
    },
    {
      "cell_type": "code",
      "source": [
        "y_test"
      ],
      "metadata": {
        "colab": {
          "base_uri": "https://localhost:8080/",
          "height": 424
        },
        "id": "RaKaPmAWXFG0",
        "outputId": "6174e07e-f44a-4a23-81ae-0c0db82e62c5"
      },
      "execution_count": 5,
      "outputs": [
        {
          "output_type": "execute_result",
          "data": {
            "text/plain": [
              "     value_eur\n",
              "0     0.000774\n",
              "1     0.002063\n",
              "2     0.008767\n",
              "3     0.008767\n",
              "4     0.010315\n",
              "..         ...\n",
              "980   0.008767\n",
              "981   0.002450\n",
              "982   0.061372\n",
              "983   0.007736\n",
              "984   0.012893\n",
              "\n",
              "[985 rows x 1 columns]"
            ],
            "text/html": [
              "\n",
              "  <div id=\"df-69792bfd-7cc1-41bb-ad07-96651fa1e49d\">\n",
              "    <div class=\"colab-df-container\">\n",
              "      <div>\n",
              "<style scoped>\n",
              "    .dataframe tbody tr th:only-of-type {\n",
              "        vertical-align: middle;\n",
              "    }\n",
              "\n",
              "    .dataframe tbody tr th {\n",
              "        vertical-align: top;\n",
              "    }\n",
              "\n",
              "    .dataframe thead th {\n",
              "        text-align: right;\n",
              "    }\n",
              "</style>\n",
              "<table border=\"1\" class=\"dataframe\">\n",
              "  <thead>\n",
              "    <tr style=\"text-align: right;\">\n",
              "      <th></th>\n",
              "      <th>value_eur</th>\n",
              "    </tr>\n",
              "  </thead>\n",
              "  <tbody>\n",
              "    <tr>\n",
              "      <th>0</th>\n",
              "      <td>0.000774</td>\n",
              "    </tr>\n",
              "    <tr>\n",
              "      <th>1</th>\n",
              "      <td>0.002063</td>\n",
              "    </tr>\n",
              "    <tr>\n",
              "      <th>2</th>\n",
              "      <td>0.008767</td>\n",
              "    </tr>\n",
              "    <tr>\n",
              "      <th>3</th>\n",
              "      <td>0.008767</td>\n",
              "    </tr>\n",
              "    <tr>\n",
              "      <th>4</th>\n",
              "      <td>0.010315</td>\n",
              "    </tr>\n",
              "    <tr>\n",
              "      <th>...</th>\n",
              "      <td>...</td>\n",
              "    </tr>\n",
              "    <tr>\n",
              "      <th>980</th>\n",
              "      <td>0.008767</td>\n",
              "    </tr>\n",
              "    <tr>\n",
              "      <th>981</th>\n",
              "      <td>0.002450</td>\n",
              "    </tr>\n",
              "    <tr>\n",
              "      <th>982</th>\n",
              "      <td>0.061372</td>\n",
              "    </tr>\n",
              "    <tr>\n",
              "      <th>983</th>\n",
              "      <td>0.007736</td>\n",
              "    </tr>\n",
              "    <tr>\n",
              "      <th>984</th>\n",
              "      <td>0.012893</td>\n",
              "    </tr>\n",
              "  </tbody>\n",
              "</table>\n",
              "<p>985 rows × 1 columns</p>\n",
              "</div>\n",
              "      <button class=\"colab-df-convert\" onclick=\"convertToInteractive('df-69792bfd-7cc1-41bb-ad07-96651fa1e49d')\"\n",
              "              title=\"Convert this dataframe to an interactive table.\"\n",
              "              style=\"display:none;\">\n",
              "        \n",
              "  <svg xmlns=\"http://www.w3.org/2000/svg\" height=\"24px\"viewBox=\"0 0 24 24\"\n",
              "       width=\"24px\">\n",
              "    <path d=\"M0 0h24v24H0V0z\" fill=\"none\"/>\n",
              "    <path d=\"M18.56 5.44l.94 2.06.94-2.06 2.06-.94-2.06-.94-.94-2.06-.94 2.06-2.06.94zm-11 1L8.5 8.5l.94-2.06 2.06-.94-2.06-.94L8.5 2.5l-.94 2.06-2.06.94zm10 10l.94 2.06.94-2.06 2.06-.94-2.06-.94-.94-2.06-.94 2.06-2.06.94z\"/><path d=\"M17.41 7.96l-1.37-1.37c-.4-.4-.92-.59-1.43-.59-.52 0-1.04.2-1.43.59L10.3 9.45l-7.72 7.72c-.78.78-.78 2.05 0 2.83L4 21.41c.39.39.9.59 1.41.59.51 0 1.02-.2 1.41-.59l7.78-7.78 2.81-2.81c.8-.78.8-2.07 0-2.86zM5.41 20L4 18.59l7.72-7.72 1.47 1.35L5.41 20z\"/>\n",
              "  </svg>\n",
              "      </button>\n",
              "      \n",
              "  <style>\n",
              "    .colab-df-container {\n",
              "      display:flex;\n",
              "      flex-wrap:wrap;\n",
              "      gap: 12px;\n",
              "    }\n",
              "\n",
              "    .colab-df-convert {\n",
              "      background-color: #E8F0FE;\n",
              "      border: none;\n",
              "      border-radius: 50%;\n",
              "      cursor: pointer;\n",
              "      display: none;\n",
              "      fill: #1967D2;\n",
              "      height: 32px;\n",
              "      padding: 0 0 0 0;\n",
              "      width: 32px;\n",
              "    }\n",
              "\n",
              "    .colab-df-convert:hover {\n",
              "      background-color: #E2EBFA;\n",
              "      box-shadow: 0px 1px 2px rgba(60, 64, 67, 0.3), 0px 1px 3px 1px rgba(60, 64, 67, 0.15);\n",
              "      fill: #174EA6;\n",
              "    }\n",
              "\n",
              "    [theme=dark] .colab-df-convert {\n",
              "      background-color: #3B4455;\n",
              "      fill: #D2E3FC;\n",
              "    }\n",
              "\n",
              "    [theme=dark] .colab-df-convert:hover {\n",
              "      background-color: #434B5C;\n",
              "      box-shadow: 0px 1px 3px 1px rgba(0, 0, 0, 0.15);\n",
              "      filter: drop-shadow(0px 1px 2px rgba(0, 0, 0, 0.3));\n",
              "      fill: #FFFFFF;\n",
              "    }\n",
              "  </style>\n",
              "\n",
              "      <script>\n",
              "        const buttonEl =\n",
              "          document.querySelector('#df-69792bfd-7cc1-41bb-ad07-96651fa1e49d button.colab-df-convert');\n",
              "        buttonEl.style.display =\n",
              "          google.colab.kernel.accessAllowed ? 'block' : 'none';\n",
              "\n",
              "        async function convertToInteractive(key) {\n",
              "          const element = document.querySelector('#df-69792bfd-7cc1-41bb-ad07-96651fa1e49d');\n",
              "          const dataTable =\n",
              "            await google.colab.kernel.invokeFunction('convertToInteractive',\n",
              "                                                     [key], {});\n",
              "          if (!dataTable) return;\n",
              "\n",
              "          const docLinkHtml = 'Like what you see? Visit the ' +\n",
              "            '<a target=\"_blank\" href=https://colab.research.google.com/notebooks/data_table.ipynb>data table notebook</a>'\n",
              "            + ' to learn more about interactive tables.';\n",
              "          element.innerHTML = '';\n",
              "          dataTable['output_type'] = 'display_data';\n",
              "          await google.colab.output.renderOutput(dataTable, element);\n",
              "          const docLink = document.createElement('div');\n",
              "          docLink.innerHTML = docLinkHtml;\n",
              "          element.appendChild(docLink);\n",
              "        }\n",
              "      </script>\n",
              "    </div>\n",
              "  </div>\n",
              "  "
            ]
          },
          "metadata": {},
          "execution_count": 5
        }
      ]
    },
    {
      "cell_type": "code",
      "source": [
        "print(x_train.isnull().values.any())\n",
        "print(x_test.isnull().values.any())\n",
        "print(y_train.isnull().values.any())\n",
        "print(y_test.isnull().values.any())"
      ],
      "metadata": {
        "colab": {
          "base_uri": "https://localhost:8080/"
        },
        "id": "OPxza4XrWX_c",
        "outputId": "387f3735-9e16-4bca-8f0c-85d47bdfa043"
      },
      "execution_count": 6,
      "outputs": [
        {
          "output_type": "stream",
          "name": "stdout",
          "text": [
            "False\n",
            "False\n",
            "False\n",
            "False\n"
          ]
        }
      ]
    },
    {
      "cell_type": "code",
      "source": [
        "x_train.shape"
      ],
      "metadata": {
        "colab": {
          "base_uri": "https://localhost:8080/"
        },
        "id": "6BMTmVwQYE_k",
        "outputId": "47c2e630-dab0-4a9c-e48a-840f93791cb8"
      },
      "execution_count": 7,
      "outputs": [
        {
          "output_type": "execute_result",
          "data": {
            "text/plain": [
              "(8861, 54)"
            ]
          },
          "metadata": {},
          "execution_count": 7
        }
      ]
    },
    {
      "cell_type": "code",
      "source": [
        "y_train.shape"
      ],
      "metadata": {
        "colab": {
          "base_uri": "https://localhost:8080/"
        },
        "id": "Ta-CSgD0YH49",
        "outputId": "2975c27d-d992-4a16-c8a7-f5f41919d28d"
      },
      "execution_count": 8,
      "outputs": [
        {
          "output_type": "execute_result",
          "data": {
            "text/plain": [
              "(8861, 1)"
            ]
          },
          "metadata": {},
          "execution_count": 8
        }
      ]
    },
    {
      "cell_type": "code",
      "source": [
        "x_test.shape"
      ],
      "metadata": {
        "colab": {
          "base_uri": "https://localhost:8080/"
        },
        "id": "eMnDNLACYNnF",
        "outputId": "bef90412-3291-46b4-8d89-88c7218f545c"
      },
      "execution_count": 9,
      "outputs": [
        {
          "output_type": "execute_result",
          "data": {
            "text/plain": [
              "(985, 54)"
            ]
          },
          "metadata": {},
          "execution_count": 9
        }
      ]
    },
    {
      "cell_type": "code",
      "source": [
        "y_test.shape"
      ],
      "metadata": {
        "colab": {
          "base_uri": "https://localhost:8080/"
        },
        "id": "6M7PYxATYQOv",
        "outputId": "26fecb4e-e719-47c8-8459-3def91abeaba"
      },
      "execution_count": 10,
      "outputs": [
        {
          "output_type": "execute_result",
          "data": {
            "text/plain": [
              "(985, 1)"
            ]
          },
          "metadata": {},
          "execution_count": 10
        }
      ]
    },
    {
      "cell_type": "code",
      "source": [
        "#Installation\n",
        "!pip install interpret -q"
      ],
      "metadata": {
        "colab": {
          "base_uri": "https://localhost:8080/"
        },
        "id": "U8mLlOTfUvCQ",
        "outputId": "612e0aa0-c8d0-4e95-d7b6-c3e70390ef8e"
      },
      "execution_count": 11,
      "outputs": [
        {
          "output_type": "stream",
          "name": "stdout",
          "text": [
            "\u001b[K     |████████████████████████████████| 8.9 MB 4.6 MB/s \n",
            "\u001b[K     |████████████████████████████████| 280 kB 56.9 MB/s \n",
            "\u001b[K     |████████████████████████████████| 6.5 MB 39.3 MB/s \n",
            "\u001b[K     |████████████████████████████████| 3.6 MB 70.5 MB/s \n",
            "\u001b[K     |████████████████████████████████| 9.9 MB 56.4 MB/s \n",
            "\u001b[K     |████████████████████████████████| 275 kB 48.6 MB/s \n",
            "\u001b[K     |████████████████████████████████| 758 kB 52.3 MB/s \n",
            "\u001b[K     |████████████████████████████████| 575 kB 58.1 MB/s \n",
            "\u001b[K     |████████████████████████████████| 261 kB 56.9 MB/s \n",
            "\u001b[K     |████████████████████████████████| 1.6 MB 51.0 MB/s \n",
            "\u001b[K     |████████████████████████████████| 132 kB 61.0 MB/s \n",
            "\u001b[?25h  Building wheel for lime (setup.py) ... \u001b[?25l\u001b[?25hdone\n"
          ]
        }
      ]
    },
    {
      "cell_type": "code",
      "source": [
        "from pandas.core.window.rolling import numba_notes\n",
        "#Regression Models\n",
        "from sklearn.linear_model import ElasticNet\n",
        "from sklearn.ensemble import GradientBoostingRegressor as XGBRegressor\n",
        "#Linear Regression ( https://www.w3schools.com/python/python_ml_multiple_regression.asp )\n",
        "from sklearn.linear_model import LinearRegression\n",
        "lm = LinearRegression()\n",
        "#Ridge Regression ( https://scikit-learn.org/stable/modules/generated/sklearn.linear_model.Ridge.html )\n",
        "from sklearn import linear_model\n",
        "ridge = linear_model.Ridge(alpha=.5)\n",
        "#Lasso Regression ( https://towardsdatascience.com/hyperparameter-tuning-in-lasso-and-ridge-regressions-70a4b158ae6d )\n",
        "from sklearn.linear_model import Lasso, LassoCV, LinearRegression\n",
        "lasso = linear_model.Lasso(alpha=0.1)\n",
        "#KNeighborsRegressor\n",
        "from sklearn.neighbors import KNeighborsRegressor\n",
        "neigh = KNeighborsRegressor(n_neighbors=2)\n",
        "#Random Forrest ( https://towardsdatascience.com/random-forest-in-python-24d0893d51c0 )\n",
        "from sklearn.ensemble import RandomForestRegressor\n",
        "rf = RandomForestRegressor()\n",
        "#Decision Trees ( https://medium.com/pursuitnotes/decision-tree-regression-in-6-steps-with-python-1a1c5aa2ee16 )\n",
        "from sklearn.tree import DecisionTreeRegressor\n",
        "dt = DecisionTreeRegressor()\n",
        "#SVM - SVR\n",
        "from sklearn import svm\n",
        "SVM = svm.SVR()\n",
        "#Gradient Boosting Regressor ( https://scikit-learn.org/stable/modules/generated/sklearn.ensemble.GradientBoostingRegressor.html#sklearn.ensemble.GradientBoostingRegressor )\n",
        "from sklearn.ensemble import GradientBoostingRegressor\n",
        "gbr = GradientBoostingRegressor(random_state=0)\n",
        "# create an xgboost regression model: higher performance than gradient boosting\n",
        "import xgboost as xg\n",
        "xgb = xg.XGBRegressor()\n",
        "#EBM Model\n",
        "#interpretml \n",
        "from interpret import show\n",
        "from interpret.data import Marginal\n",
        "from interpret.glassbox import ExplainableBoostingRegressor, LinearRegression, RegressionTree\n",
        "ebm = ExplainableBoostingRegressor()"
      ],
      "metadata": {
        "id": "SKevYGpQ1Qdp"
      },
      "execution_count": 13,
      "outputs": []
    },
    {
      "cell_type": "code",
      "source": [
        "model_names = ['Multiple Regression', 'Ridge Regression', 'Lasso Regression', 'KNeighborsRegressor', 'Random Forrest', 'Decision Trees', 'SVM - SVR', 'Gradient Boosting Regressor', 'XGBoost', 'EBM']\n",
        "models = [lm, ridge, lasso, neigh, rf, dt, SVM, gbr, xgb, ebm]"
      ],
      "metadata": {
        "id": "YESlQKP0xmpt"
      },
      "execution_count": 14,
      "outputs": []
    },
    {
      "cell_type": "markdown",
      "source": [
        "##Run each model"
      ],
      "metadata": {
        "id": "GQUon_frxVFO"
      }
    },
    {
      "cell_type": "code",
      "source": [
        "import numpy as np\n",
        "import pandas as pd\n",
        "from math import sqrt\n",
        "from sklearn.metrics import mean_absolute_error, mean_squared_error, r2_score\n",
        "from sklearn.metrics import r2_score\n",
        "model_eval = []\n",
        "for model in models:\n",
        "  model.fit(x_train, y_train)\n",
        "  predictions = model.predict(x_test)\n",
        "  type(predictions)\n",
        "  #FIX CALCS\n",
        "  # Calculate the absolute errors\n",
        "  errors = abs(predictions - y_test.values)\n",
        "  # Calculate model evaluation metrics\n",
        "  mae = mean_absolute_error(y_test, predictions)\n",
        "  mse = mean_squared_error(y_test, predictions)\n",
        "  rmse = sqrt(mse)\n",
        "  r2 = r2_score(y_test, predictions)\n",
        "  print(f'MODEL: {model}')\n",
        "  print('Mean Absolute Error: ', mae, ' degrees.')\n",
        "  print('Mean Squared Error:', mse, ' degrees')\n",
        "  print('RMSE:', rmse, ' degrees')\n",
        "  print('R2:', r2)\n",
        "  model_eval.append({'Model': model, 'Mean Absolute Error': mae, 'Mean Squared Error': mse, 'RMSE': rmse,'R-squared': r2})\n",
        "\n",
        "df = pd.DataFrame(model_eval)"
      ],
      "metadata": {
        "colab": {
          "base_uri": "https://localhost:8080/"
        },
        "id": "0G_FOaV2xxf7",
        "outputId": "2d7ba60e-78ce-4b0d-e9a2-0abc8be1e657"
      },
      "execution_count": 15,
      "outputs": [
        {
          "output_type": "stream",
          "name": "stdout",
          "text": [
            "MODEL: LinearRegression()\n",
            "Mean Absolute Error:  0.0022959775451227298  degrees.\n",
            "Mean Squared Error: 2.6741939898009235e-05  degrees\n",
            "RMSE: 0.005171260958219884  degrees\n",
            "R2: 0.989634726988291\n",
            "MODEL: Ridge(alpha=0.5)\n",
            "Mean Absolute Error:  0.0026695469433808488  degrees.\n",
            "Mean Squared Error: 3.266696003529049e-05  degrees\n",
            "RMSE: 0.005715501730844851  degrees\n",
            "R2: 0.9873381676677249\n",
            "MODEL: Lasso(alpha=0.1)\n",
            "Mean Absolute Error:  0.022405860008677937  degrees.\n",
            "Mean Squared Error: 0.002448494882025173  degrees\n",
            "RMSE: 0.04948226835973845  degrees\n",
            "R2: 0.050954492577691246\n",
            "MODEL: KNeighborsRegressor(n_neighbors=2)\n",
            "Mean Absolute Error:  0.014276289782529589  degrees.\n",
            "Mean Squared Error: 0.001342620627845297  degrees\n",
            "RMSE: 0.03664178800011398  degrees\n",
            "R2: 0.4795953692273234\n"
          ]
        },
        {
          "output_type": "stream",
          "name": "stderr",
          "text": [
            "<ipython-input-15-bd188eb1f66a>:8: DataConversionWarning: A column-vector y was passed when a 1d array was expected. Please change the shape of y to (n_samples,), for example using ravel().\n",
            "  model.fit(x_train, y_train)\n"
          ]
        },
        {
          "output_type": "stream",
          "name": "stdout",
          "text": [
            "MODEL: RandomForestRegressor()\n",
            "Mean Absolute Error:  0.0013780668249634127  degrees.\n",
            "Mean Squared Error: 1.9752574371415843e-05  degrees\n",
            "RMSE: 0.004444386838633181  degrees\n",
            "R2: 0.9923438304466815\n",
            "MODEL: DecisionTreeRegressor()\n",
            "Mean Absolute Error:  0.0018438778689103964  degrees.\n",
            "Mean Squared Error: 3.898611660806662e-05  degrees\n",
            "RMSE: 0.006243886338496772  degrees\n",
            "R2: 0.9848888396335446\n"
          ]
        },
        {
          "output_type": "stream",
          "name": "stderr",
          "text": [
            "/usr/local/lib/python3.8/dist-packages/sklearn/utils/validation.py:993: DataConversionWarning: A column-vector y was passed when a 1d array was expected. Please change the shape of y to (n_samples, ), for example using ravel().\n",
            "  y = column_or_1d(y, warn=True)\n"
          ]
        },
        {
          "output_type": "stream",
          "name": "stdout",
          "text": [
            "MODEL: SVR()\n",
            "Mean Absolute Error:  0.08803004912891527  degrees.\n",
            "Mean Squared Error: 0.00855869832554107  degrees\n",
            "RMSE: 0.09251323324552585  degrees\n",
            "R2: -2.3173825499358673\n"
          ]
        },
        {
          "output_type": "stream",
          "name": "stderr",
          "text": [
            "/usr/local/lib/python3.8/dist-packages/sklearn/ensemble/_gb.py:494: DataConversionWarning: A column-vector y was passed when a 1d array was expected. Please change the shape of y to (n_samples, ), for example using ravel().\n",
            "  y = column_or_1d(y, warn=True)\n"
          ]
        },
        {
          "output_type": "stream",
          "name": "stdout",
          "text": [
            "MODEL: GradientBoostingRegressor(random_state=0)\n",
            "Mean Absolute Error:  0.0014450461225640973  degrees.\n",
            "Mean Squared Error: 9.933054195983096e-06  degrees\n",
            "RMSE: 0.003151674823959968  degrees\n",
            "R2: 0.9961499121240217\n",
            "[13:59:47] WARNING: /workspace/src/objective/regression_obj.cu:152: reg:linear is now deprecated in favor of reg:squarederror.\n",
            "MODEL: XGBRegressor()\n",
            "Mean Absolute Error:  0.0016152370846934422  degrees.\n",
            "Mean Squared Error: 1.713748814544816e-05  degrees\n",
            "RMSE: 0.004139744937245308  degrees\n",
            "R2: 0.9933574473639544\n",
            "MODEL: ExplainableBoostingRegressor()\n",
            "Mean Absolute Error:  0.005108489265233495  degrees.\n",
            "Mean Squared Error: 0.00011083172591820373  degrees\n",
            "RMSE: 0.01052766478941098  degrees\n",
            "R2: 0.9570412205740316\n"
          ]
        }
      ]
    },
    {
      "cell_type": "code",
      "source": [
        "#Low MAE, MSE, RMSE values are good\n",
        "df"
      ],
      "metadata": {
        "colab": {
          "base_uri": "https://localhost:8080/",
          "height": 363
        },
        "id": "e5gWuJtyJg6m",
        "outputId": "451c8e58-4c35-48cb-822f-72ab91923a5f"
      },
      "execution_count": 16,
      "outputs": [
        {
          "output_type": "execute_result",
          "data": {
            "text/plain": [
              "                                               Model  Mean Absolute Error  \\\n",
              "0                                 LinearRegression()             0.002296   \n",
              "1                                   Ridge(alpha=0.5)             0.002670   \n",
              "2                                   Lasso(alpha=0.1)             0.022406   \n",
              "3                 KNeighborsRegressor(n_neighbors=2)             0.014276   \n",
              "4  (DecisionTreeRegressor(max_features='auto', ra...             0.001378   \n",
              "5                            DecisionTreeRegressor()             0.001844   \n",
              "6                                              SVR()             0.088030   \n",
              "7  ([DecisionTreeRegressor(criterion='friedman_ms...             0.001445   \n",
              "8                                     XGBRegressor()             0.001615   \n",
              "9                     ExplainableBoostingRegressor()             0.005108   \n",
              "\n",
              "   Mean Squared Error      RMSE  R-squared  \n",
              "0            0.000027  0.005171   0.989635  \n",
              "1            0.000033  0.005716   0.987338  \n",
              "2            0.002448  0.049482   0.050954  \n",
              "3            0.001343  0.036642   0.479595  \n",
              "4            0.000020  0.004444   0.992344  \n",
              "5            0.000039  0.006244   0.984889  \n",
              "6            0.008559  0.092513  -2.317383  \n",
              "7            0.000010  0.003152   0.996150  \n",
              "8            0.000017  0.004140   0.993357  \n",
              "9            0.000111  0.010528   0.957041  "
            ],
            "text/html": [
              "\n",
              "  <div id=\"df-e61785ac-7437-42e8-b004-564ef69a6672\">\n",
              "    <div class=\"colab-df-container\">\n",
              "      <div>\n",
              "<style scoped>\n",
              "    .dataframe tbody tr th:only-of-type {\n",
              "        vertical-align: middle;\n",
              "    }\n",
              "\n",
              "    .dataframe tbody tr th {\n",
              "        vertical-align: top;\n",
              "    }\n",
              "\n",
              "    .dataframe thead th {\n",
              "        text-align: right;\n",
              "    }\n",
              "</style>\n",
              "<table border=\"1\" class=\"dataframe\">\n",
              "  <thead>\n",
              "    <tr style=\"text-align: right;\">\n",
              "      <th></th>\n",
              "      <th>Model</th>\n",
              "      <th>Mean Absolute Error</th>\n",
              "      <th>Mean Squared Error</th>\n",
              "      <th>RMSE</th>\n",
              "      <th>R-squared</th>\n",
              "    </tr>\n",
              "  </thead>\n",
              "  <tbody>\n",
              "    <tr>\n",
              "      <th>0</th>\n",
              "      <td>LinearRegression()</td>\n",
              "      <td>0.002296</td>\n",
              "      <td>0.000027</td>\n",
              "      <td>0.005171</td>\n",
              "      <td>0.989635</td>\n",
              "    </tr>\n",
              "    <tr>\n",
              "      <th>1</th>\n",
              "      <td>Ridge(alpha=0.5)</td>\n",
              "      <td>0.002670</td>\n",
              "      <td>0.000033</td>\n",
              "      <td>0.005716</td>\n",
              "      <td>0.987338</td>\n",
              "    </tr>\n",
              "    <tr>\n",
              "      <th>2</th>\n",
              "      <td>Lasso(alpha=0.1)</td>\n",
              "      <td>0.022406</td>\n",
              "      <td>0.002448</td>\n",
              "      <td>0.049482</td>\n",
              "      <td>0.050954</td>\n",
              "    </tr>\n",
              "    <tr>\n",
              "      <th>3</th>\n",
              "      <td>KNeighborsRegressor(n_neighbors=2)</td>\n",
              "      <td>0.014276</td>\n",
              "      <td>0.001343</td>\n",
              "      <td>0.036642</td>\n",
              "      <td>0.479595</td>\n",
              "    </tr>\n",
              "    <tr>\n",
              "      <th>4</th>\n",
              "      <td>(DecisionTreeRegressor(max_features='auto', ra...</td>\n",
              "      <td>0.001378</td>\n",
              "      <td>0.000020</td>\n",
              "      <td>0.004444</td>\n",
              "      <td>0.992344</td>\n",
              "    </tr>\n",
              "    <tr>\n",
              "      <th>5</th>\n",
              "      <td>DecisionTreeRegressor()</td>\n",
              "      <td>0.001844</td>\n",
              "      <td>0.000039</td>\n",
              "      <td>0.006244</td>\n",
              "      <td>0.984889</td>\n",
              "    </tr>\n",
              "    <tr>\n",
              "      <th>6</th>\n",
              "      <td>SVR()</td>\n",
              "      <td>0.088030</td>\n",
              "      <td>0.008559</td>\n",
              "      <td>0.092513</td>\n",
              "      <td>-2.317383</td>\n",
              "    </tr>\n",
              "    <tr>\n",
              "      <th>7</th>\n",
              "      <td>([DecisionTreeRegressor(criterion='friedman_ms...</td>\n",
              "      <td>0.001445</td>\n",
              "      <td>0.000010</td>\n",
              "      <td>0.003152</td>\n",
              "      <td>0.996150</td>\n",
              "    </tr>\n",
              "    <tr>\n",
              "      <th>8</th>\n",
              "      <td>XGBRegressor()</td>\n",
              "      <td>0.001615</td>\n",
              "      <td>0.000017</td>\n",
              "      <td>0.004140</td>\n",
              "      <td>0.993357</td>\n",
              "    </tr>\n",
              "    <tr>\n",
              "      <th>9</th>\n",
              "      <td>ExplainableBoostingRegressor()</td>\n",
              "      <td>0.005108</td>\n",
              "      <td>0.000111</td>\n",
              "      <td>0.010528</td>\n",
              "      <td>0.957041</td>\n",
              "    </tr>\n",
              "  </tbody>\n",
              "</table>\n",
              "</div>\n",
              "      <button class=\"colab-df-convert\" onclick=\"convertToInteractive('df-e61785ac-7437-42e8-b004-564ef69a6672')\"\n",
              "              title=\"Convert this dataframe to an interactive table.\"\n",
              "              style=\"display:none;\">\n",
              "        \n",
              "  <svg xmlns=\"http://www.w3.org/2000/svg\" height=\"24px\"viewBox=\"0 0 24 24\"\n",
              "       width=\"24px\">\n",
              "    <path d=\"M0 0h24v24H0V0z\" fill=\"none\"/>\n",
              "    <path d=\"M18.56 5.44l.94 2.06.94-2.06 2.06-.94-2.06-.94-.94-2.06-.94 2.06-2.06.94zm-11 1L8.5 8.5l.94-2.06 2.06-.94-2.06-.94L8.5 2.5l-.94 2.06-2.06.94zm10 10l.94 2.06.94-2.06 2.06-.94-2.06-.94-.94-2.06-.94 2.06-2.06.94z\"/><path d=\"M17.41 7.96l-1.37-1.37c-.4-.4-.92-.59-1.43-.59-.52 0-1.04.2-1.43.59L10.3 9.45l-7.72 7.72c-.78.78-.78 2.05 0 2.83L4 21.41c.39.39.9.59 1.41.59.51 0 1.02-.2 1.41-.59l7.78-7.78 2.81-2.81c.8-.78.8-2.07 0-2.86zM5.41 20L4 18.59l7.72-7.72 1.47 1.35L5.41 20z\"/>\n",
              "  </svg>\n",
              "      </button>\n",
              "      \n",
              "  <style>\n",
              "    .colab-df-container {\n",
              "      display:flex;\n",
              "      flex-wrap:wrap;\n",
              "      gap: 12px;\n",
              "    }\n",
              "\n",
              "    .colab-df-convert {\n",
              "      background-color: #E8F0FE;\n",
              "      border: none;\n",
              "      border-radius: 50%;\n",
              "      cursor: pointer;\n",
              "      display: none;\n",
              "      fill: #1967D2;\n",
              "      height: 32px;\n",
              "      padding: 0 0 0 0;\n",
              "      width: 32px;\n",
              "    }\n",
              "\n",
              "    .colab-df-convert:hover {\n",
              "      background-color: #E2EBFA;\n",
              "      box-shadow: 0px 1px 2px rgba(60, 64, 67, 0.3), 0px 1px 3px 1px rgba(60, 64, 67, 0.15);\n",
              "      fill: #174EA6;\n",
              "    }\n",
              "\n",
              "    [theme=dark] .colab-df-convert {\n",
              "      background-color: #3B4455;\n",
              "      fill: #D2E3FC;\n",
              "    }\n",
              "\n",
              "    [theme=dark] .colab-df-convert:hover {\n",
              "      background-color: #434B5C;\n",
              "      box-shadow: 0px 1px 3px 1px rgba(0, 0, 0, 0.15);\n",
              "      filter: drop-shadow(0px 1px 2px rgba(0, 0, 0, 0.3));\n",
              "      fill: #FFFFFF;\n",
              "    }\n",
              "  </style>\n",
              "\n",
              "      <script>\n",
              "        const buttonEl =\n",
              "          document.querySelector('#df-e61785ac-7437-42e8-b004-564ef69a6672 button.colab-df-convert');\n",
              "        buttonEl.style.display =\n",
              "          google.colab.kernel.accessAllowed ? 'block' : 'none';\n",
              "\n",
              "        async function convertToInteractive(key) {\n",
              "          const element = document.querySelector('#df-e61785ac-7437-42e8-b004-564ef69a6672');\n",
              "          const dataTable =\n",
              "            await google.colab.kernel.invokeFunction('convertToInteractive',\n",
              "                                                     [key], {});\n",
              "          if (!dataTable) return;\n",
              "\n",
              "          const docLinkHtml = 'Like what you see? Visit the ' +\n",
              "            '<a target=\"_blank\" href=https://colab.research.google.com/notebooks/data_table.ipynb>data table notebook</a>'\n",
              "            + ' to learn more about interactive tables.';\n",
              "          element.innerHTML = '';\n",
              "          dataTable['output_type'] = 'display_data';\n",
              "          await google.colab.output.renderOutput(dataTable, element);\n",
              "          const docLink = document.createElement('div');\n",
              "          docLink.innerHTML = docLinkHtml;\n",
              "          element.appendChild(docLink);\n",
              "        }\n",
              "      </script>\n",
              "    </div>\n",
              "  </div>\n",
              "  "
            ]
          },
          "metadata": {},
          "execution_count": 16
        }
      ]
    },
    {
      "cell_type": "code",
      "source": [
        "df['Average Error']  = df[['Mean Absolute Error', 'Mean Squared Error', 'RMSE', 'R-squared']].mean(axis=1)\n",
        "df"
      ],
      "metadata": {
        "colab": {
          "base_uri": "https://localhost:8080/",
          "height": 363
        },
        "id": "Mn2NbFv101Jk",
        "outputId": "b7ccc241-1f35-4282-f870-9e5a933d5980"
      },
      "execution_count": 17,
      "outputs": [
        {
          "output_type": "execute_result",
          "data": {
            "text/plain": [
              "                                               Model  Mean Absolute Error  \\\n",
              "0                                 LinearRegression()             0.002296   \n",
              "1                                   Ridge(alpha=0.5)             0.002670   \n",
              "2                                   Lasso(alpha=0.1)             0.022406   \n",
              "3                 KNeighborsRegressor(n_neighbors=2)             0.014276   \n",
              "4  (DecisionTreeRegressor(max_features='auto', ra...             0.001378   \n",
              "5                            DecisionTreeRegressor()             0.001844   \n",
              "6                                              SVR()             0.088030   \n",
              "7  ([DecisionTreeRegressor(criterion='friedman_ms...             0.001445   \n",
              "8                                     XGBRegressor()             0.001615   \n",
              "9                     ExplainableBoostingRegressor()             0.005108   \n",
              "\n",
              "   Mean Squared Error      RMSE  R-squared  Average Error  \n",
              "0            0.000027  0.005171   0.989635       0.249282  \n",
              "1            0.000033  0.005716   0.987338       0.248939  \n",
              "2            0.002448  0.049482   0.050954       0.031323  \n",
              "3            0.001343  0.036642   0.479595       0.132964  \n",
              "4            0.000020  0.004444   0.992344       0.249547  \n",
              "5            0.000039  0.006244   0.984889       0.248254  \n",
              "6            0.008559  0.092513  -2.317383      -0.532070  \n",
              "7            0.000010  0.003152   0.996150       0.250189  \n",
              "8            0.000017  0.004140   0.993357       0.249782  \n",
              "9            0.000111  0.010528   0.957041       0.243197  "
            ],
            "text/html": [
              "\n",
              "  <div id=\"df-3ceefe4e-7a23-457e-bd77-94ff195ce6c2\">\n",
              "    <div class=\"colab-df-container\">\n",
              "      <div>\n",
              "<style scoped>\n",
              "    .dataframe tbody tr th:only-of-type {\n",
              "        vertical-align: middle;\n",
              "    }\n",
              "\n",
              "    .dataframe tbody tr th {\n",
              "        vertical-align: top;\n",
              "    }\n",
              "\n",
              "    .dataframe thead th {\n",
              "        text-align: right;\n",
              "    }\n",
              "</style>\n",
              "<table border=\"1\" class=\"dataframe\">\n",
              "  <thead>\n",
              "    <tr style=\"text-align: right;\">\n",
              "      <th></th>\n",
              "      <th>Model</th>\n",
              "      <th>Mean Absolute Error</th>\n",
              "      <th>Mean Squared Error</th>\n",
              "      <th>RMSE</th>\n",
              "      <th>R-squared</th>\n",
              "      <th>Average Error</th>\n",
              "    </tr>\n",
              "  </thead>\n",
              "  <tbody>\n",
              "    <tr>\n",
              "      <th>0</th>\n",
              "      <td>LinearRegression()</td>\n",
              "      <td>0.002296</td>\n",
              "      <td>0.000027</td>\n",
              "      <td>0.005171</td>\n",
              "      <td>0.989635</td>\n",
              "      <td>0.249282</td>\n",
              "    </tr>\n",
              "    <tr>\n",
              "      <th>1</th>\n",
              "      <td>Ridge(alpha=0.5)</td>\n",
              "      <td>0.002670</td>\n",
              "      <td>0.000033</td>\n",
              "      <td>0.005716</td>\n",
              "      <td>0.987338</td>\n",
              "      <td>0.248939</td>\n",
              "    </tr>\n",
              "    <tr>\n",
              "      <th>2</th>\n",
              "      <td>Lasso(alpha=0.1)</td>\n",
              "      <td>0.022406</td>\n",
              "      <td>0.002448</td>\n",
              "      <td>0.049482</td>\n",
              "      <td>0.050954</td>\n",
              "      <td>0.031323</td>\n",
              "    </tr>\n",
              "    <tr>\n",
              "      <th>3</th>\n",
              "      <td>KNeighborsRegressor(n_neighbors=2)</td>\n",
              "      <td>0.014276</td>\n",
              "      <td>0.001343</td>\n",
              "      <td>0.036642</td>\n",
              "      <td>0.479595</td>\n",
              "      <td>0.132964</td>\n",
              "    </tr>\n",
              "    <tr>\n",
              "      <th>4</th>\n",
              "      <td>(DecisionTreeRegressor(max_features='auto', ra...</td>\n",
              "      <td>0.001378</td>\n",
              "      <td>0.000020</td>\n",
              "      <td>0.004444</td>\n",
              "      <td>0.992344</td>\n",
              "      <td>0.249547</td>\n",
              "    </tr>\n",
              "    <tr>\n",
              "      <th>5</th>\n",
              "      <td>DecisionTreeRegressor()</td>\n",
              "      <td>0.001844</td>\n",
              "      <td>0.000039</td>\n",
              "      <td>0.006244</td>\n",
              "      <td>0.984889</td>\n",
              "      <td>0.248254</td>\n",
              "    </tr>\n",
              "    <tr>\n",
              "      <th>6</th>\n",
              "      <td>SVR()</td>\n",
              "      <td>0.088030</td>\n",
              "      <td>0.008559</td>\n",
              "      <td>0.092513</td>\n",
              "      <td>-2.317383</td>\n",
              "      <td>-0.532070</td>\n",
              "    </tr>\n",
              "    <tr>\n",
              "      <th>7</th>\n",
              "      <td>([DecisionTreeRegressor(criterion='friedman_ms...</td>\n",
              "      <td>0.001445</td>\n",
              "      <td>0.000010</td>\n",
              "      <td>0.003152</td>\n",
              "      <td>0.996150</td>\n",
              "      <td>0.250189</td>\n",
              "    </tr>\n",
              "    <tr>\n",
              "      <th>8</th>\n",
              "      <td>XGBRegressor()</td>\n",
              "      <td>0.001615</td>\n",
              "      <td>0.000017</td>\n",
              "      <td>0.004140</td>\n",
              "      <td>0.993357</td>\n",
              "      <td>0.249782</td>\n",
              "    </tr>\n",
              "    <tr>\n",
              "      <th>9</th>\n",
              "      <td>ExplainableBoostingRegressor()</td>\n",
              "      <td>0.005108</td>\n",
              "      <td>0.000111</td>\n",
              "      <td>0.010528</td>\n",
              "      <td>0.957041</td>\n",
              "      <td>0.243197</td>\n",
              "    </tr>\n",
              "  </tbody>\n",
              "</table>\n",
              "</div>\n",
              "      <button class=\"colab-df-convert\" onclick=\"convertToInteractive('df-3ceefe4e-7a23-457e-bd77-94ff195ce6c2')\"\n",
              "              title=\"Convert this dataframe to an interactive table.\"\n",
              "              style=\"display:none;\">\n",
              "        \n",
              "  <svg xmlns=\"http://www.w3.org/2000/svg\" height=\"24px\"viewBox=\"0 0 24 24\"\n",
              "       width=\"24px\">\n",
              "    <path d=\"M0 0h24v24H0V0z\" fill=\"none\"/>\n",
              "    <path d=\"M18.56 5.44l.94 2.06.94-2.06 2.06-.94-2.06-.94-.94-2.06-.94 2.06-2.06.94zm-11 1L8.5 8.5l.94-2.06 2.06-.94-2.06-.94L8.5 2.5l-.94 2.06-2.06.94zm10 10l.94 2.06.94-2.06 2.06-.94-2.06-.94-.94-2.06-.94 2.06-2.06.94z\"/><path d=\"M17.41 7.96l-1.37-1.37c-.4-.4-.92-.59-1.43-.59-.52 0-1.04.2-1.43.59L10.3 9.45l-7.72 7.72c-.78.78-.78 2.05 0 2.83L4 21.41c.39.39.9.59 1.41.59.51 0 1.02-.2 1.41-.59l7.78-7.78 2.81-2.81c.8-.78.8-2.07 0-2.86zM5.41 20L4 18.59l7.72-7.72 1.47 1.35L5.41 20z\"/>\n",
              "  </svg>\n",
              "      </button>\n",
              "      \n",
              "  <style>\n",
              "    .colab-df-container {\n",
              "      display:flex;\n",
              "      flex-wrap:wrap;\n",
              "      gap: 12px;\n",
              "    }\n",
              "\n",
              "    .colab-df-convert {\n",
              "      background-color: #E8F0FE;\n",
              "      border: none;\n",
              "      border-radius: 50%;\n",
              "      cursor: pointer;\n",
              "      display: none;\n",
              "      fill: #1967D2;\n",
              "      height: 32px;\n",
              "      padding: 0 0 0 0;\n",
              "      width: 32px;\n",
              "    }\n",
              "\n",
              "    .colab-df-convert:hover {\n",
              "      background-color: #E2EBFA;\n",
              "      box-shadow: 0px 1px 2px rgba(60, 64, 67, 0.3), 0px 1px 3px 1px rgba(60, 64, 67, 0.15);\n",
              "      fill: #174EA6;\n",
              "    }\n",
              "\n",
              "    [theme=dark] .colab-df-convert {\n",
              "      background-color: #3B4455;\n",
              "      fill: #D2E3FC;\n",
              "    }\n",
              "\n",
              "    [theme=dark] .colab-df-convert:hover {\n",
              "      background-color: #434B5C;\n",
              "      box-shadow: 0px 1px 3px 1px rgba(0, 0, 0, 0.15);\n",
              "      filter: drop-shadow(0px 1px 2px rgba(0, 0, 0, 0.3));\n",
              "      fill: #FFFFFF;\n",
              "    }\n",
              "  </style>\n",
              "\n",
              "      <script>\n",
              "        const buttonEl =\n",
              "          document.querySelector('#df-3ceefe4e-7a23-457e-bd77-94ff195ce6c2 button.colab-df-convert');\n",
              "        buttonEl.style.display =\n",
              "          google.colab.kernel.accessAllowed ? 'block' : 'none';\n",
              "\n",
              "        async function convertToInteractive(key) {\n",
              "          const element = document.querySelector('#df-3ceefe4e-7a23-457e-bd77-94ff195ce6c2');\n",
              "          const dataTable =\n",
              "            await google.colab.kernel.invokeFunction('convertToInteractive',\n",
              "                                                     [key], {});\n",
              "          if (!dataTable) return;\n",
              "\n",
              "          const docLinkHtml = 'Like what you see? Visit the ' +\n",
              "            '<a target=\"_blank\" href=https://colab.research.google.com/notebooks/data_table.ipynb>data table notebook</a>'\n",
              "            + ' to learn more about interactive tables.';\n",
              "          element.innerHTML = '';\n",
              "          dataTable['output_type'] = 'display_data';\n",
              "          await google.colab.output.renderOutput(dataTable, element);\n",
              "          const docLink = document.createElement('div');\n",
              "          docLink.innerHTML = docLinkHtml;\n",
              "          element.appendChild(docLink);\n",
              "        }\n",
              "      </script>\n",
              "    </div>\n",
              "  </div>\n",
              "  "
            ]
          },
          "metadata": {},
          "execution_count": 17
        }
      ]
    },
    {
      "cell_type": "code",
      "source": [
        "print(df['Model'])"
      ],
      "metadata": {
        "colab": {
          "base_uri": "https://localhost:8080/"
        },
        "id": "RkripUe_2Jq0",
        "outputId": "3763c3f0-48db-43cb-d58f-39dfcdb92c01"
      },
      "execution_count": 18,
      "outputs": [
        {
          "output_type": "stream",
          "name": "stdout",
          "text": [
            "0                                   LinearRegression()\n",
            "1                                     Ridge(alpha=0.5)\n",
            "2                                     Lasso(alpha=0.1)\n",
            "3                   KNeighborsRegressor(n_neighbors=2)\n",
            "4    (DecisionTreeRegressor(max_features='auto', ra...\n",
            "5                              DecisionTreeRegressor()\n",
            "6                                                SVR()\n",
            "7    ([DecisionTreeRegressor(criterion='friedman_ms...\n",
            "8                                       XGBRegressor()\n",
            "9                       ExplainableBoostingRegressor()\n",
            "Name: Model, dtype: object\n"
          ]
        }
      ]
    },
    {
      "cell_type": "code",
      "source": [
        "models = [lm, ridge, lasso, neigh, rf, dt, SVM, gbr, xgb, ebm]\n",
        "ms = ['Linear Regression', 'Ridge Regression', 'Lasso', 'K-Nearest Regressor', 'Random Forrest', 'Decision Tree', 'Support Vector Machines', 'Gradient Boosting', 'XGBoost', 'EBM']"
      ],
      "metadata": {
        "id": "9rraAa5tAn7Y"
      },
      "execution_count": 19,
      "outputs": []
    },
    {
      "cell_type": "code",
      "source": [
        "#Best models in order: RF, DT,  Linear, Ridge, KNR, SVR, \n",
        "df.insert(1, 'Model_nice_name', ms)\n",
        "df"
      ],
      "metadata": {
        "colab": {
          "base_uri": "https://localhost:8080/",
          "height": 363
        },
        "id": "KgLvR2_59qWl",
        "outputId": "bf222810-7742-4b24-cb7b-27ed09047ec4"
      },
      "execution_count": 20,
      "outputs": [
        {
          "output_type": "execute_result",
          "data": {
            "text/plain": [
              "                                               Model          Model_nice_name  \\\n",
              "0                                 LinearRegression()        Linear Regression   \n",
              "1                                   Ridge(alpha=0.5)         Ridge Regression   \n",
              "2                                   Lasso(alpha=0.1)                    Lasso   \n",
              "3                 KNeighborsRegressor(n_neighbors=2)      K-Nearest Regressor   \n",
              "4  (DecisionTreeRegressor(max_features='auto', ra...           Random Forrest   \n",
              "5                            DecisionTreeRegressor()            Decision Tree   \n",
              "6                                              SVR()  Support Vector Machines   \n",
              "7  ([DecisionTreeRegressor(criterion='friedman_ms...        Gradient Boosting   \n",
              "8                                     XGBRegressor()                  XGBoost   \n",
              "9                     ExplainableBoostingRegressor()                      EBM   \n",
              "\n",
              "   Mean Absolute Error  Mean Squared Error      RMSE  R-squared  Average Error  \n",
              "0             0.002296            0.000027  0.005171   0.989635       0.249282  \n",
              "1             0.002670            0.000033  0.005716   0.987338       0.248939  \n",
              "2             0.022406            0.002448  0.049482   0.050954       0.031323  \n",
              "3             0.014276            0.001343  0.036642   0.479595       0.132964  \n",
              "4             0.001378            0.000020  0.004444   0.992344       0.249547  \n",
              "5             0.001844            0.000039  0.006244   0.984889       0.248254  \n",
              "6             0.088030            0.008559  0.092513  -2.317383      -0.532070  \n",
              "7             0.001445            0.000010  0.003152   0.996150       0.250189  \n",
              "8             0.001615            0.000017  0.004140   0.993357       0.249782  \n",
              "9             0.005108            0.000111  0.010528   0.957041       0.243197  "
            ],
            "text/html": [
              "\n",
              "  <div id=\"df-d5cc6c84-488a-483c-a5ba-d6e8963b8f56\">\n",
              "    <div class=\"colab-df-container\">\n",
              "      <div>\n",
              "<style scoped>\n",
              "    .dataframe tbody tr th:only-of-type {\n",
              "        vertical-align: middle;\n",
              "    }\n",
              "\n",
              "    .dataframe tbody tr th {\n",
              "        vertical-align: top;\n",
              "    }\n",
              "\n",
              "    .dataframe thead th {\n",
              "        text-align: right;\n",
              "    }\n",
              "</style>\n",
              "<table border=\"1\" class=\"dataframe\">\n",
              "  <thead>\n",
              "    <tr style=\"text-align: right;\">\n",
              "      <th></th>\n",
              "      <th>Model</th>\n",
              "      <th>Model_nice_name</th>\n",
              "      <th>Mean Absolute Error</th>\n",
              "      <th>Mean Squared Error</th>\n",
              "      <th>RMSE</th>\n",
              "      <th>R-squared</th>\n",
              "      <th>Average Error</th>\n",
              "    </tr>\n",
              "  </thead>\n",
              "  <tbody>\n",
              "    <tr>\n",
              "      <th>0</th>\n",
              "      <td>LinearRegression()</td>\n",
              "      <td>Linear Regression</td>\n",
              "      <td>0.002296</td>\n",
              "      <td>0.000027</td>\n",
              "      <td>0.005171</td>\n",
              "      <td>0.989635</td>\n",
              "      <td>0.249282</td>\n",
              "    </tr>\n",
              "    <tr>\n",
              "      <th>1</th>\n",
              "      <td>Ridge(alpha=0.5)</td>\n",
              "      <td>Ridge Regression</td>\n",
              "      <td>0.002670</td>\n",
              "      <td>0.000033</td>\n",
              "      <td>0.005716</td>\n",
              "      <td>0.987338</td>\n",
              "      <td>0.248939</td>\n",
              "    </tr>\n",
              "    <tr>\n",
              "      <th>2</th>\n",
              "      <td>Lasso(alpha=0.1)</td>\n",
              "      <td>Lasso</td>\n",
              "      <td>0.022406</td>\n",
              "      <td>0.002448</td>\n",
              "      <td>0.049482</td>\n",
              "      <td>0.050954</td>\n",
              "      <td>0.031323</td>\n",
              "    </tr>\n",
              "    <tr>\n",
              "      <th>3</th>\n",
              "      <td>KNeighborsRegressor(n_neighbors=2)</td>\n",
              "      <td>K-Nearest Regressor</td>\n",
              "      <td>0.014276</td>\n",
              "      <td>0.001343</td>\n",
              "      <td>0.036642</td>\n",
              "      <td>0.479595</td>\n",
              "      <td>0.132964</td>\n",
              "    </tr>\n",
              "    <tr>\n",
              "      <th>4</th>\n",
              "      <td>(DecisionTreeRegressor(max_features='auto', ra...</td>\n",
              "      <td>Random Forrest</td>\n",
              "      <td>0.001378</td>\n",
              "      <td>0.000020</td>\n",
              "      <td>0.004444</td>\n",
              "      <td>0.992344</td>\n",
              "      <td>0.249547</td>\n",
              "    </tr>\n",
              "    <tr>\n",
              "      <th>5</th>\n",
              "      <td>DecisionTreeRegressor()</td>\n",
              "      <td>Decision Tree</td>\n",
              "      <td>0.001844</td>\n",
              "      <td>0.000039</td>\n",
              "      <td>0.006244</td>\n",
              "      <td>0.984889</td>\n",
              "      <td>0.248254</td>\n",
              "    </tr>\n",
              "    <tr>\n",
              "      <th>6</th>\n",
              "      <td>SVR()</td>\n",
              "      <td>Support Vector Machines</td>\n",
              "      <td>0.088030</td>\n",
              "      <td>0.008559</td>\n",
              "      <td>0.092513</td>\n",
              "      <td>-2.317383</td>\n",
              "      <td>-0.532070</td>\n",
              "    </tr>\n",
              "    <tr>\n",
              "      <th>7</th>\n",
              "      <td>([DecisionTreeRegressor(criterion='friedman_ms...</td>\n",
              "      <td>Gradient Boosting</td>\n",
              "      <td>0.001445</td>\n",
              "      <td>0.000010</td>\n",
              "      <td>0.003152</td>\n",
              "      <td>0.996150</td>\n",
              "      <td>0.250189</td>\n",
              "    </tr>\n",
              "    <tr>\n",
              "      <th>8</th>\n",
              "      <td>XGBRegressor()</td>\n",
              "      <td>XGBoost</td>\n",
              "      <td>0.001615</td>\n",
              "      <td>0.000017</td>\n",
              "      <td>0.004140</td>\n",
              "      <td>0.993357</td>\n",
              "      <td>0.249782</td>\n",
              "    </tr>\n",
              "    <tr>\n",
              "      <th>9</th>\n",
              "      <td>ExplainableBoostingRegressor()</td>\n",
              "      <td>EBM</td>\n",
              "      <td>0.005108</td>\n",
              "      <td>0.000111</td>\n",
              "      <td>0.010528</td>\n",
              "      <td>0.957041</td>\n",
              "      <td>0.243197</td>\n",
              "    </tr>\n",
              "  </tbody>\n",
              "</table>\n",
              "</div>\n",
              "      <button class=\"colab-df-convert\" onclick=\"convertToInteractive('df-d5cc6c84-488a-483c-a5ba-d6e8963b8f56')\"\n",
              "              title=\"Convert this dataframe to an interactive table.\"\n",
              "              style=\"display:none;\">\n",
              "        \n",
              "  <svg xmlns=\"http://www.w3.org/2000/svg\" height=\"24px\"viewBox=\"0 0 24 24\"\n",
              "       width=\"24px\">\n",
              "    <path d=\"M0 0h24v24H0V0z\" fill=\"none\"/>\n",
              "    <path d=\"M18.56 5.44l.94 2.06.94-2.06 2.06-.94-2.06-.94-.94-2.06-.94 2.06-2.06.94zm-11 1L8.5 8.5l.94-2.06 2.06-.94-2.06-.94L8.5 2.5l-.94 2.06-2.06.94zm10 10l.94 2.06.94-2.06 2.06-.94-2.06-.94-.94-2.06-.94 2.06-2.06.94z\"/><path d=\"M17.41 7.96l-1.37-1.37c-.4-.4-.92-.59-1.43-.59-.52 0-1.04.2-1.43.59L10.3 9.45l-7.72 7.72c-.78.78-.78 2.05 0 2.83L4 21.41c.39.39.9.59 1.41.59.51 0 1.02-.2 1.41-.59l7.78-7.78 2.81-2.81c.8-.78.8-2.07 0-2.86zM5.41 20L4 18.59l7.72-7.72 1.47 1.35L5.41 20z\"/>\n",
              "  </svg>\n",
              "      </button>\n",
              "      \n",
              "  <style>\n",
              "    .colab-df-container {\n",
              "      display:flex;\n",
              "      flex-wrap:wrap;\n",
              "      gap: 12px;\n",
              "    }\n",
              "\n",
              "    .colab-df-convert {\n",
              "      background-color: #E8F0FE;\n",
              "      border: none;\n",
              "      border-radius: 50%;\n",
              "      cursor: pointer;\n",
              "      display: none;\n",
              "      fill: #1967D2;\n",
              "      height: 32px;\n",
              "      padding: 0 0 0 0;\n",
              "      width: 32px;\n",
              "    }\n",
              "\n",
              "    .colab-df-convert:hover {\n",
              "      background-color: #E2EBFA;\n",
              "      box-shadow: 0px 1px 2px rgba(60, 64, 67, 0.3), 0px 1px 3px 1px rgba(60, 64, 67, 0.15);\n",
              "      fill: #174EA6;\n",
              "    }\n",
              "\n",
              "    [theme=dark] .colab-df-convert {\n",
              "      background-color: #3B4455;\n",
              "      fill: #D2E3FC;\n",
              "    }\n",
              "\n",
              "    [theme=dark] .colab-df-convert:hover {\n",
              "      background-color: #434B5C;\n",
              "      box-shadow: 0px 1px 3px 1px rgba(0, 0, 0, 0.15);\n",
              "      filter: drop-shadow(0px 1px 2px rgba(0, 0, 0, 0.3));\n",
              "      fill: #FFFFFF;\n",
              "    }\n",
              "  </style>\n",
              "\n",
              "      <script>\n",
              "        const buttonEl =\n",
              "          document.querySelector('#df-d5cc6c84-488a-483c-a5ba-d6e8963b8f56 button.colab-df-convert');\n",
              "        buttonEl.style.display =\n",
              "          google.colab.kernel.accessAllowed ? 'block' : 'none';\n",
              "\n",
              "        async function convertToInteractive(key) {\n",
              "          const element = document.querySelector('#df-d5cc6c84-488a-483c-a5ba-d6e8963b8f56');\n",
              "          const dataTable =\n",
              "            await google.colab.kernel.invokeFunction('convertToInteractive',\n",
              "                                                     [key], {});\n",
              "          if (!dataTable) return;\n",
              "\n",
              "          const docLinkHtml = 'Like what you see? Visit the ' +\n",
              "            '<a target=\"_blank\" href=https://colab.research.google.com/notebooks/data_table.ipynb>data table notebook</a>'\n",
              "            + ' to learn more about interactive tables.';\n",
              "          element.innerHTML = '';\n",
              "          dataTable['output_type'] = 'display_data';\n",
              "          await google.colab.output.renderOutput(dataTable, element);\n",
              "          const docLink = document.createElement('div');\n",
              "          docLink.innerHTML = docLinkHtml;\n",
              "          element.appendChild(docLink);\n",
              "        }\n",
              "      </script>\n",
              "    </div>\n",
              "  </div>\n",
              "  "
            ]
          },
          "metadata": {},
          "execution_count": 20
        }
      ]
    },
    {
      "cell_type": "code",
      "source": [
        "df"
      ],
      "metadata": {
        "colab": {
          "base_uri": "https://localhost:8080/",
          "height": 363
        },
        "id": "RblNL1oLYBAD",
        "outputId": "4eff3074-2e54-4ed6-c552-832277d7f51a"
      },
      "execution_count": 21,
      "outputs": [
        {
          "output_type": "execute_result",
          "data": {
            "text/plain": [
              "                                               Model          Model_nice_name  \\\n",
              "0                                 LinearRegression()        Linear Regression   \n",
              "1                                   Ridge(alpha=0.5)         Ridge Regression   \n",
              "2                                   Lasso(alpha=0.1)                    Lasso   \n",
              "3                 KNeighborsRegressor(n_neighbors=2)      K-Nearest Regressor   \n",
              "4  (DecisionTreeRegressor(max_features='auto', ra...           Random Forrest   \n",
              "5                            DecisionTreeRegressor()            Decision Tree   \n",
              "6                                              SVR()  Support Vector Machines   \n",
              "7  ([DecisionTreeRegressor(criterion='friedman_ms...        Gradient Boosting   \n",
              "8                                     XGBRegressor()                  XGBoost   \n",
              "9                     ExplainableBoostingRegressor()                      EBM   \n",
              "\n",
              "   Mean Absolute Error  Mean Squared Error      RMSE  R-squared  Average Error  \n",
              "0             0.002296            0.000027  0.005171   0.989635       0.249282  \n",
              "1             0.002670            0.000033  0.005716   0.987338       0.248939  \n",
              "2             0.022406            0.002448  0.049482   0.050954       0.031323  \n",
              "3             0.014276            0.001343  0.036642   0.479595       0.132964  \n",
              "4             0.001378            0.000020  0.004444   0.992344       0.249547  \n",
              "5             0.001844            0.000039  0.006244   0.984889       0.248254  \n",
              "6             0.088030            0.008559  0.092513  -2.317383      -0.532070  \n",
              "7             0.001445            0.000010  0.003152   0.996150       0.250189  \n",
              "8             0.001615            0.000017  0.004140   0.993357       0.249782  \n",
              "9             0.005108            0.000111  0.010528   0.957041       0.243197  "
            ],
            "text/html": [
              "\n",
              "  <div id=\"df-e6bbc608-e69f-4730-8f50-f271e2db79d0\">\n",
              "    <div class=\"colab-df-container\">\n",
              "      <div>\n",
              "<style scoped>\n",
              "    .dataframe tbody tr th:only-of-type {\n",
              "        vertical-align: middle;\n",
              "    }\n",
              "\n",
              "    .dataframe tbody tr th {\n",
              "        vertical-align: top;\n",
              "    }\n",
              "\n",
              "    .dataframe thead th {\n",
              "        text-align: right;\n",
              "    }\n",
              "</style>\n",
              "<table border=\"1\" class=\"dataframe\">\n",
              "  <thead>\n",
              "    <tr style=\"text-align: right;\">\n",
              "      <th></th>\n",
              "      <th>Model</th>\n",
              "      <th>Model_nice_name</th>\n",
              "      <th>Mean Absolute Error</th>\n",
              "      <th>Mean Squared Error</th>\n",
              "      <th>RMSE</th>\n",
              "      <th>R-squared</th>\n",
              "      <th>Average Error</th>\n",
              "    </tr>\n",
              "  </thead>\n",
              "  <tbody>\n",
              "    <tr>\n",
              "      <th>0</th>\n",
              "      <td>LinearRegression()</td>\n",
              "      <td>Linear Regression</td>\n",
              "      <td>0.002296</td>\n",
              "      <td>0.000027</td>\n",
              "      <td>0.005171</td>\n",
              "      <td>0.989635</td>\n",
              "      <td>0.249282</td>\n",
              "    </tr>\n",
              "    <tr>\n",
              "      <th>1</th>\n",
              "      <td>Ridge(alpha=0.5)</td>\n",
              "      <td>Ridge Regression</td>\n",
              "      <td>0.002670</td>\n",
              "      <td>0.000033</td>\n",
              "      <td>0.005716</td>\n",
              "      <td>0.987338</td>\n",
              "      <td>0.248939</td>\n",
              "    </tr>\n",
              "    <tr>\n",
              "      <th>2</th>\n",
              "      <td>Lasso(alpha=0.1)</td>\n",
              "      <td>Lasso</td>\n",
              "      <td>0.022406</td>\n",
              "      <td>0.002448</td>\n",
              "      <td>0.049482</td>\n",
              "      <td>0.050954</td>\n",
              "      <td>0.031323</td>\n",
              "    </tr>\n",
              "    <tr>\n",
              "      <th>3</th>\n",
              "      <td>KNeighborsRegressor(n_neighbors=2)</td>\n",
              "      <td>K-Nearest Regressor</td>\n",
              "      <td>0.014276</td>\n",
              "      <td>0.001343</td>\n",
              "      <td>0.036642</td>\n",
              "      <td>0.479595</td>\n",
              "      <td>0.132964</td>\n",
              "    </tr>\n",
              "    <tr>\n",
              "      <th>4</th>\n",
              "      <td>(DecisionTreeRegressor(max_features='auto', ra...</td>\n",
              "      <td>Random Forrest</td>\n",
              "      <td>0.001378</td>\n",
              "      <td>0.000020</td>\n",
              "      <td>0.004444</td>\n",
              "      <td>0.992344</td>\n",
              "      <td>0.249547</td>\n",
              "    </tr>\n",
              "    <tr>\n",
              "      <th>5</th>\n",
              "      <td>DecisionTreeRegressor()</td>\n",
              "      <td>Decision Tree</td>\n",
              "      <td>0.001844</td>\n",
              "      <td>0.000039</td>\n",
              "      <td>0.006244</td>\n",
              "      <td>0.984889</td>\n",
              "      <td>0.248254</td>\n",
              "    </tr>\n",
              "    <tr>\n",
              "      <th>6</th>\n",
              "      <td>SVR()</td>\n",
              "      <td>Support Vector Machines</td>\n",
              "      <td>0.088030</td>\n",
              "      <td>0.008559</td>\n",
              "      <td>0.092513</td>\n",
              "      <td>-2.317383</td>\n",
              "      <td>-0.532070</td>\n",
              "    </tr>\n",
              "    <tr>\n",
              "      <th>7</th>\n",
              "      <td>([DecisionTreeRegressor(criterion='friedman_ms...</td>\n",
              "      <td>Gradient Boosting</td>\n",
              "      <td>0.001445</td>\n",
              "      <td>0.000010</td>\n",
              "      <td>0.003152</td>\n",
              "      <td>0.996150</td>\n",
              "      <td>0.250189</td>\n",
              "    </tr>\n",
              "    <tr>\n",
              "      <th>8</th>\n",
              "      <td>XGBRegressor()</td>\n",
              "      <td>XGBoost</td>\n",
              "      <td>0.001615</td>\n",
              "      <td>0.000017</td>\n",
              "      <td>0.004140</td>\n",
              "      <td>0.993357</td>\n",
              "      <td>0.249782</td>\n",
              "    </tr>\n",
              "    <tr>\n",
              "      <th>9</th>\n",
              "      <td>ExplainableBoostingRegressor()</td>\n",
              "      <td>EBM</td>\n",
              "      <td>0.005108</td>\n",
              "      <td>0.000111</td>\n",
              "      <td>0.010528</td>\n",
              "      <td>0.957041</td>\n",
              "      <td>0.243197</td>\n",
              "    </tr>\n",
              "  </tbody>\n",
              "</table>\n",
              "</div>\n",
              "      <button class=\"colab-df-convert\" onclick=\"convertToInteractive('df-e6bbc608-e69f-4730-8f50-f271e2db79d0')\"\n",
              "              title=\"Convert this dataframe to an interactive table.\"\n",
              "              style=\"display:none;\">\n",
              "        \n",
              "  <svg xmlns=\"http://www.w3.org/2000/svg\" height=\"24px\"viewBox=\"0 0 24 24\"\n",
              "       width=\"24px\">\n",
              "    <path d=\"M0 0h24v24H0V0z\" fill=\"none\"/>\n",
              "    <path d=\"M18.56 5.44l.94 2.06.94-2.06 2.06-.94-2.06-.94-.94-2.06-.94 2.06-2.06.94zm-11 1L8.5 8.5l.94-2.06 2.06-.94-2.06-.94L8.5 2.5l-.94 2.06-2.06.94zm10 10l.94 2.06.94-2.06 2.06-.94-2.06-.94-.94-2.06-.94 2.06-2.06.94z\"/><path d=\"M17.41 7.96l-1.37-1.37c-.4-.4-.92-.59-1.43-.59-.52 0-1.04.2-1.43.59L10.3 9.45l-7.72 7.72c-.78.78-.78 2.05 0 2.83L4 21.41c.39.39.9.59 1.41.59.51 0 1.02-.2 1.41-.59l7.78-7.78 2.81-2.81c.8-.78.8-2.07 0-2.86zM5.41 20L4 18.59l7.72-7.72 1.47 1.35L5.41 20z\"/>\n",
              "  </svg>\n",
              "      </button>\n",
              "      \n",
              "  <style>\n",
              "    .colab-df-container {\n",
              "      display:flex;\n",
              "      flex-wrap:wrap;\n",
              "      gap: 12px;\n",
              "    }\n",
              "\n",
              "    .colab-df-convert {\n",
              "      background-color: #E8F0FE;\n",
              "      border: none;\n",
              "      border-radius: 50%;\n",
              "      cursor: pointer;\n",
              "      display: none;\n",
              "      fill: #1967D2;\n",
              "      height: 32px;\n",
              "      padding: 0 0 0 0;\n",
              "      width: 32px;\n",
              "    }\n",
              "\n",
              "    .colab-df-convert:hover {\n",
              "      background-color: #E2EBFA;\n",
              "      box-shadow: 0px 1px 2px rgba(60, 64, 67, 0.3), 0px 1px 3px 1px rgba(60, 64, 67, 0.15);\n",
              "      fill: #174EA6;\n",
              "    }\n",
              "\n",
              "    [theme=dark] .colab-df-convert {\n",
              "      background-color: #3B4455;\n",
              "      fill: #D2E3FC;\n",
              "    }\n",
              "\n",
              "    [theme=dark] .colab-df-convert:hover {\n",
              "      background-color: #434B5C;\n",
              "      box-shadow: 0px 1px 3px 1px rgba(0, 0, 0, 0.15);\n",
              "      filter: drop-shadow(0px 1px 2px rgba(0, 0, 0, 0.3));\n",
              "      fill: #FFFFFF;\n",
              "    }\n",
              "  </style>\n",
              "\n",
              "      <script>\n",
              "        const buttonEl =\n",
              "          document.querySelector('#df-e6bbc608-e69f-4730-8f50-f271e2db79d0 button.colab-df-convert');\n",
              "        buttonEl.style.display =\n",
              "          google.colab.kernel.accessAllowed ? 'block' : 'none';\n",
              "\n",
              "        async function convertToInteractive(key) {\n",
              "          const element = document.querySelector('#df-e6bbc608-e69f-4730-8f50-f271e2db79d0');\n",
              "          const dataTable =\n",
              "            await google.colab.kernel.invokeFunction('convertToInteractive',\n",
              "                                                     [key], {});\n",
              "          if (!dataTable) return;\n",
              "\n",
              "          const docLinkHtml = 'Like what you see? Visit the ' +\n",
              "            '<a target=\"_blank\" href=https://colab.research.google.com/notebooks/data_table.ipynb>data table notebook</a>'\n",
              "            + ' to learn more about interactive tables.';\n",
              "          element.innerHTML = '';\n",
              "          dataTable['output_type'] = 'display_data';\n",
              "          await google.colab.output.renderOutput(dataTable, element);\n",
              "          const docLink = document.createElement('div');\n",
              "          docLink.innerHTML = docLinkHtml;\n",
              "          element.appendChild(docLink);\n",
              "        }\n",
              "      </script>\n",
              "    </div>\n",
              "  </div>\n",
              "  "
            ]
          },
          "metadata": {},
          "execution_count": 21
        }
      ]
    },
    {
      "cell_type": "code",
      "source": [
        "from google.colab import files\n",
        "df.to_csv('Basic_models_results.csv', index=None)\n",
        "files.download(\"Basic_models_results.csv\")"
      ],
      "metadata": {
        "colab": {
          "base_uri": "https://localhost:8080/",
          "height": 17
        },
        "id": "bH_suQeLaMGY",
        "outputId": "4df137a1-fad4-4973-8efd-fc37ad22d2aa"
      },
      "execution_count": null,
      "outputs": [
        {
          "output_type": "display_data",
          "data": {
            "text/plain": [
              "<IPython.core.display.Javascript object>"
            ],
            "application/javascript": [
              "\n",
              "    async function download(id, filename, size) {\n",
              "      if (!google.colab.kernel.accessAllowed) {\n",
              "        return;\n",
              "      }\n",
              "      const div = document.createElement('div');\n",
              "      const label = document.createElement('label');\n",
              "      label.textContent = `Downloading \"${filename}\": `;\n",
              "      div.appendChild(label);\n",
              "      const progress = document.createElement('progress');\n",
              "      progress.max = size;\n",
              "      div.appendChild(progress);\n",
              "      document.body.appendChild(div);\n",
              "\n",
              "      const buffers = [];\n",
              "      let downloaded = 0;\n",
              "\n",
              "      const channel = await google.colab.kernel.comms.open(id);\n",
              "      // Send a message to notify the kernel that we're ready.\n",
              "      channel.send({})\n",
              "\n",
              "      for await (const message of channel.messages) {\n",
              "        // Send a message to notify the kernel that we're ready.\n",
              "        channel.send({})\n",
              "        if (message.buffers) {\n",
              "          for (const buffer of message.buffers) {\n",
              "            buffers.push(buffer);\n",
              "            downloaded += buffer.byteLength;\n",
              "            progress.value = downloaded;\n",
              "          }\n",
              "        }\n",
              "      }\n",
              "      const blob = new Blob(buffers, {type: 'application/binary'});\n",
              "      const a = document.createElement('a');\n",
              "      a.href = window.URL.createObjectURL(blob);\n",
              "      a.download = filename;\n",
              "      div.appendChild(a);\n",
              "      a.click();\n",
              "      div.remove();\n",
              "    }\n",
              "  "
            ]
          },
          "metadata": {}
        },
        {
          "output_type": "display_data",
          "data": {
            "text/plain": [
              "<IPython.core.display.Javascript object>"
            ],
            "application/javascript": [
              "download(\"download_2b99e1f8-1957-4b3e-abc8-fffe8b6a1fa8\", \"Basic_models_results.csv\", 1352)"
            ]
          },
          "metadata": {}
        }
      ]
    },
    {
      "cell_type": "markdown",
      "source": [
        "#Optimizing Models \n",
        "\n",
        "\n",
        "\n"
      ],
      "metadata": {
        "id": "ja3n5E-dBrA9"
      }
    },
    {
      "cell_type": "markdown",
      "source": [
        "# **1. Linear Regression** "
      ],
      "metadata": {
        "id": "XU8wymAOfMq0"
      }
    },
    {
      "cell_type": "code",
      "source": [
        "df.iloc[0]['Model']"
      ],
      "metadata": {
        "colab": {
          "base_uri": "https://localhost:8080/"
        },
        "id": "9G7EpzeJh4ty",
        "outputId": "955be454-1441-4576-ec92-0f2fc035d62b"
      },
      "execution_count": null,
      "outputs": [
        {
          "output_type": "execute_result",
          "data": {
            "text/plain": [
              "LinearRegression()"
            ]
          },
          "metadata": {},
          "execution_count": 38
        }
      ]
    },
    {
      "cell_type": "code",
      "source": [
        "linr = LinearRegression()\n",
        "linr.fit(x_train, y_train)\n",
        "pred = linr.predict(x_test)"
      ],
      "metadata": {
        "id": "C2bkQdFsh84Z"
      },
      "execution_count": null,
      "outputs": []
    },
    {
      "cell_type": "code",
      "source": [
        "pred = linr.predict(x_test)\n",
        "import matplotlib.pyplot as plt\n",
        "plt.scatter(pred, y_test, label='medv')\n",
        "plt.plot([0, 1], [0, 1], '--k', transform=plt.gca().transAxes)\n",
        "plt.xlabel('pred')\n",
        "plt.ylabel('y_test')"
      ],
      "metadata": {
        "colab": {
          "base_uri": "https://localhost:8080/",
          "height": 297
        },
        "id": "ihWY-tIfiJLZ",
        "outputId": "b09b50ac-8304-4ebd-f038-4e89a278c37b"
      },
      "execution_count": null,
      "outputs": [
        {
          "output_type": "execute_result",
          "data": {
            "text/plain": [
              "Text(0, 0.5, 'y_test')"
            ]
          },
          "metadata": {},
          "execution_count": 40
        },
        {
          "output_type": "display_data",
          "data": {
            "text/plain": [
              "<Figure size 432x288 with 1 Axes>"
            ],
            "image/png": "[encoded data removed]"
          },
          "metadata": {
            "needs_background": "light"
          }
        }
      ]
    },
    {
      "cell_type": "code",
      "source": [
        "from sklearn.metrics import mean_squared_error\n",
        "mean_squared_error(y_test, pred)"
      ],
      "metadata": {
        "colab": {
          "base_uri": "https://localhost:8080/"
        },
        "id": "LImL4f1BjsNY",
        "outputId": "d2aabc9e-ce45-407d-8939-920a6b3d893b"
      },
      "execution_count": null,
      "outputs": [
        {
          "output_type": "execute_result",
          "data": {
            "text/plain": [
              "2.6741939898009235e-05"
            ]
          },
          "metadata": {},
          "execution_count": 41
        }
      ]
    },
    {
      "cell_type": "code",
      "source": [
        "mae = mean_absolute_error(y_test, pred)\n",
        "mse = mean_squared_error(y_test, pred)\n",
        "rmse = sqrt(mse)"
      ],
      "metadata": {
        "id": "vYpMoNwCYM4m"
      },
      "execution_count": null,
      "outputs": []
    },
    {
      "cell_type": "code",
      "source": [
        "print(f'Model: {linr}, MAE: {mae}, MSE: {mse}, RMSE: {rmse}')"
      ],
      "metadata": {
        "colab": {
          "base_uri": "https://localhost:8080/"
        },
        "id": "7XrINxRTYgWx",
        "outputId": "1e225c17-fa75-4767-bcf7-f234f9378b2f"
      },
      "execution_count": null,
      "outputs": [
        {
          "output_type": "stream",
          "name": "stdout",
          "text": [
            "Model: LinearRegression(), MAE: 0.0022959775451227298, MSE: 2.6741939898009235e-05, RMSE: 0.005171260958219884\n"
          ]
        }
      ]
    },
    {
      "cell_type": "markdown",
      "source": [
        "HyperPerameter Tuning"
      ],
      "metadata": {
        "id": "AyPttbhPHIjc"
      }
    },
    {
      "cell_type": "code",
      "source": [
        "#Not possible with Linear Regression"
      ],
      "metadata": {
        "id": "vC7dh6UgHMxw"
      },
      "execution_count": null,
      "outputs": []
    },
    {
      "cell_type": "markdown",
      "source": [
        "# **2. Ridge Regression**"
      ],
      "metadata": {
        "id": "z4eo3X7EfVTA"
      }
    },
    {
      "cell_type": "code",
      "source": [
        "df.iloc[1]['Model']"
      ],
      "metadata": {
        "colab": {
          "base_uri": "https://localhost:8080/"
        },
        "id": "me_smoleiT_x",
        "outputId": "01af4468-9559-4ee6-fc27-6a190bae7224"
      },
      "execution_count": null,
      "outputs": [
        {
          "output_type": "execute_result",
          "data": {
            "text/plain": [
              "Ridge(alpha=0.5)"
            ]
          },
          "metadata": {},
          "execution_count": 45
        }
      ]
    },
    {
      "cell_type": "code",
      "source": [
        "ridger = linear_model.Ridge(alpha=0.5)\n",
        "ridger.fit(x_train, y_train)\n",
        "pred = ridger.predict(x_test)"
      ],
      "metadata": {
        "id": "9WSVQltjiXr6"
      },
      "execution_count": null,
      "outputs": []
    },
    {
      "cell_type": "code",
      "source": [
        "pred = ridger.predict(x_test)\n",
        "import matplotlib.pyplot as plt\n",
        "plt.scatter(pred, y_test, label='medv')\n",
        "plt.plot([0, 1], [0, 1], '--k', transform=plt.gca().transAxes)\n",
        "plt.xlabel('pred')\n",
        "plt.ylabel('y_test')"
      ],
      "metadata": {
        "colab": {
          "base_uri": "https://localhost:8080/",
          "height": 297
        },
        "id": "Z795PQPkjSVz",
        "outputId": "4ec1030d-dc4b-4941-d92c-63d5dd5a4a33"
      },
      "execution_count": null,
      "outputs": [
        {
          "output_type": "execute_result",
          "data": {
            "text/plain": [
              "Text(0, 0.5, 'y_test')"
            ]
          },
          "metadata": {},
          "execution_count": 47
        },
        {
          "output_type": "display_data",
          "data": {
            "text/plain": [
              "<Figure size 432x288 with 1 Axes>"
            ],
            "image/png": "[encoded data removed]"
          },
          "metadata": {
            "needs_background": "light"
          }
        }
      ]
    },
    {
      "cell_type": "code",
      "source": [
        "from sklearn.metrics import mean_squared_error\n",
        "mae = mean_absolute_error(y_test, pred)\n",
        "mse = mean_squared_error(y_test, pred)\n",
        "rmse = sqrt(mse)"
      ],
      "metadata": {
        "id": "dFE6twWhjo6D"
      },
      "execution_count": null,
      "outputs": []
    },
    {
      "cell_type": "code",
      "source": [
        "print(f'Model: {ridger}, MAE: {mae}, MSE: {mse}, RMSE: {rmse}')"
      ],
      "metadata": {
        "colab": {
          "base_uri": "https://localhost:8080/"
        },
        "id": "sI11SnTWYJrn",
        "outputId": "29aa0625-b2bc-4d0c-d5f5-ff197201b1df"
      },
      "execution_count": null,
      "outputs": [
        {
          "output_type": "stream",
          "name": "stdout",
          "text": [
            "Model: Ridge(alpha=0.5), MAE: 0.0026695469433808488, MSE: 3.266696003529049e-05, RMSE: 0.005715501730844851\n"
          ]
        }
      ]
    },
    {
      "cell_type": "markdown",
      "source": [
        "HyperParameter Tuning"
      ],
      "metadata": {
        "id": "SeWCjyKDH_-c"
      }
    },
    {
      "cell_type": "code",
      "source": [
        "from sklearn.model_selection import GridSearchCV\n",
        "from sklearn.model_selection import RepeatedKFold\n",
        "# grid search hyperparameters for ridge regression\n",
        "from numpy import arange\n",
        "model = linear_model.Ridge()\n",
        "cv = RepeatedKFold(n_splits=10, n_repeats=3, random_state=1)\n",
        "grid = dict()\n",
        "grid['alpha'] = arange(0, 1, 0.01)\n",
        "search = GridSearchCV(model, grid, scoring='neg_mean_absolute_error', cv=cv, n_jobs=-1)\n",
        "results = search.fit(x_train, y_train)\n",
        "print('MAE: %.6f' % results.best_score_)\n",
        "print('Config: %s' % results.best_params_)"
      ],
      "metadata": {
        "colab": {
          "base_uri": "https://localhost:8080/"
        },
        "id": "pxNo-5v_ID3o",
        "outputId": "8b45e9b4-b69b-42bd-f403-778e35e387d2"
      },
      "execution_count": null,
      "outputs": [
        {
          "output_type": "stream",
          "name": "stdout",
          "text": [
            "MAE: -0.002206\n",
            "Config: {'alpha': 0.0}\n"
          ]
        }
      ]
    },
    {
      "cell_type": "code",
      "source": [
        "#-0.002944 beats prevbious MAE of 0.002979\t"
      ],
      "metadata": {
        "id": "yDh5B70sQiSm"
      },
      "execution_count": null,
      "outputs": []
    },
    {
      "cell_type": "markdown",
      "source": [
        "# **3. Lasso Regression**"
      ],
      "metadata": {
        "id": "7LdYTBdqJpNa"
      }
    },
    {
      "cell_type": "code",
      "source": [
        "df.iloc[2]['Model']"
      ],
      "metadata": {
        "colab": {
          "base_uri": "https://localhost:8080/"
        },
        "id": "aYexc8D-KRhz",
        "outputId": "6465f554-c9cd-4ab5-a3dc-6a8ced72763d"
      },
      "execution_count": null,
      "outputs": [
        {
          "output_type": "execute_result",
          "data": {
            "text/plain": [
              "Lasso(alpha=0.1)"
            ]
          },
          "metadata": {},
          "execution_count": 52
        }
      ]
    },
    {
      "cell_type": "code",
      "source": [
        "lass = linear_model.Lasso(alpha=0.5)\n",
        "lass.fit(x_train, y_train)\n",
        "pred = lass.predict(x_test)"
      ],
      "metadata": {
        "id": "NN811O_kKWy3"
      },
      "execution_count": null,
      "outputs": []
    },
    {
      "cell_type": "code",
      "source": [
        "pred = lass.predict(x_test)\n",
        "import matplotlib.pyplot as plt\n",
        "plt.scatter(pred, y_test, label='medv')\n",
        "plt.plot([0, 1], [0, 1], '--k', transform=plt.gca().transAxes)\n",
        "plt.xlabel('pred')\n",
        "plt.ylabel('y_test')"
      ],
      "metadata": {
        "colab": {
          "base_uri": "https://localhost:8080/",
          "height": 297
        },
        "id": "akKQ-PSpKfk3",
        "outputId": "0f5b0046-4ea1-401f-acea-e7e95de586eb"
      },
      "execution_count": null,
      "outputs": [
        {
          "output_type": "execute_result",
          "data": {
            "text/plain": [
              "Text(0, 0.5, 'y_test')"
            ]
          },
          "metadata": {},
          "execution_count": 54
        },
        {
          "output_type": "display_data",
          "data": {
            "text/plain": [
              "<Figure size 432x288 with 1 Axes>"
            ],
            "image/png": "[encoded data removed]"
          },
          "metadata": {
            "needs_background": "light"
          }
        }
      ]
    },
    {
      "cell_type": "code",
      "source": [
        "from sklearn.metrics import mean_squared_error\n",
        "mae = mean_absolute_error(y_test, pred)\n",
        "mse = mean_squared_error(y_test, pred)\n",
        "rmse = sqrt(mse)"
      ],
      "metadata": {
        "id": "BJZuh5I-aHm4"
      },
      "execution_count": null,
      "outputs": []
    },
    {
      "cell_type": "code",
      "source": [
        "print(f'Model: {ridger}, MAE: {mae}, MSE: {mse}, RMSE: {rmse}')"
      ],
      "metadata": {
        "colab": {
          "base_uri": "https://localhost:8080/"
        },
        "id": "3hYvIzMgaMP4",
        "outputId": "bea8a164-c371-4155-bb40-28e639b75db4"
      },
      "execution_count": null,
      "outputs": [
        {
          "output_type": "stream",
          "name": "stdout",
          "text": [
            "Model: Ridge(alpha=0.5), MAE: 0.022405551914669544, MSE: 0.0024485107394530536, RMSE: 0.04948242859291623\n"
          ]
        }
      ]
    },
    {
      "cell_type": "markdown",
      "source": [
        "HyperParameter Tuning"
      ],
      "metadata": {
        "id": "U1axaJPjK94Z"
      }
    },
    {
      "cell_type": "code",
      "source": [
        "from sklearn.model_selection import GridSearchCV\n",
        "from sklearn.model_selection import RepeatedKFold\n",
        "# grid search hyperparameters for ridge regression\n",
        "from numpy import arange\n",
        "model = linear_model.Lasso()\n",
        "cv = RepeatedKFold(n_splits=10, n_repeats=3, random_state=1)\n",
        "grid = dict()\n",
        "grid['alpha'] = arange(0, 1, 0.01)\n",
        "search = GridSearchCV(model, grid, scoring='neg_mean_absolute_error', cv=cv, n_jobs=-1)\n",
        "results = search.fit(x_train, y_train)\n",
        "print('MAE: %.6f' % results.best_score_)\n",
        "print('Config: %s' % results.best_params_)"
      ],
      "metadata": {
        "colab": {
          "base_uri": "https://localhost:8080/",
          "height": 399
        },
        "id": "PhGGxGdrRSQQ",
        "outputId": "c4006a5c-6522-4290-8b74-03d98e0d8bb9"
      },
      "execution_count": null,
      "outputs": [
        {
          "output_type": "error",
          "ename": "KeyboardInterrupt",
          "evalue": "ignored",
          "traceback": [
            "\u001b[0;31m---------------------------------------------------------------------------\u001b[0m",
            "\u001b[0;31mKeyboardInterrupt\u001b[0m                         Traceback (most recent call last)",
            "\u001b[0;32m<ipython-input-57-6c3b4aa67f7d>\u001b[0m in \u001b[0;36m<module>\u001b[0;34m\u001b[0m\n\u001b[1;32m      8\u001b[0m \u001b[0mgrid\u001b[0m\u001b[0;34m[\u001b[0m\u001b[0;34m'alpha'\u001b[0m\u001b[0;34m]\u001b[0m \u001b[0;34m=\u001b[0m \u001b[0marange\u001b[0m\u001b[0;34m(\u001b[0m\u001b[0;36m0\u001b[0m\u001b[0;34m,\u001b[0m \u001b[0;36m1\u001b[0m\u001b[0;34m,\u001b[0m \u001b[0;36m0.01\u001b[0m\u001b[0;34m)\u001b[0m\u001b[0;34m\u001b[0m\u001b[0;34m\u001b[0m\u001b[0m\n\u001b[1;32m      9\u001b[0m \u001b[0msearch\u001b[0m \u001b[0;34m=\u001b[0m \u001b[0mGridSearchCV\u001b[0m\u001b[0;34m(\u001b[0m\u001b[0mmodel\u001b[0m\u001b[0;34m,\u001b[0m \u001b[0mgrid\u001b[0m\u001b[0;34m,\u001b[0m \u001b[0mscoring\u001b[0m\u001b[0;34m=\u001b[0m\u001b[0;34m'neg_mean_absolute_error'\u001b[0m\u001b[0;34m,\u001b[0m \u001b[0mcv\u001b[0m\u001b[0;34m=\u001b[0m\u001b[0mcv\u001b[0m\u001b[0;34m,\u001b[0m \u001b[0mn_jobs\u001b[0m\u001b[0;34m=\u001b[0m\u001b[0;34m-\u001b[0m\u001b[0;36m1\u001b[0m\u001b[0;34m)\u001b[0m\u001b[0;34m\u001b[0m\u001b[0;34m\u001b[0m\u001b[0m\n\u001b[0;32m---> 10\u001b[0;31m \u001b[0mresults\u001b[0m \u001b[0;34m=\u001b[0m \u001b[0msearch\u001b[0m\u001b[0;34m.\u001b[0m\u001b[0mfit\u001b[0m\u001b[0;34m(\u001b[0m\u001b[0mx_train\u001b[0m\u001b[0;34m,\u001b[0m \u001b[0my_train\u001b[0m\u001b[0;34m)\u001b[0m\u001b[0;34m\u001b[0m\u001b[0;34m\u001b[0m\u001b[0m\n\u001b[0m\u001b[1;32m     11\u001b[0m \u001b[0mprint\u001b[0m\u001b[0;34m(\u001b[0m\u001b[0;34m'MAE: %.6f'\u001b[0m \u001b[0;34m%\u001b[0m \u001b[0mresults\u001b[0m\u001b[0;34m.\u001b[0m\u001b[0mbest_score_\u001b[0m\u001b[0;34m)\u001b[0m\u001b[0;34m\u001b[0m\u001b[0;34m\u001b[0m\u001b[0m\n\u001b[1;32m     12\u001b[0m \u001b[0mprint\u001b[0m\u001b[0;34m(\u001b[0m\u001b[0;34m'Config: %s'\u001b[0m \u001b[0;34m%\u001b[0m \u001b[0mresults\u001b[0m\u001b[0;34m.\u001b[0m\u001b[0mbest_params_\u001b[0m\u001b[0;34m)\u001b[0m\u001b[0;34m\u001b[0m\u001b[0;34m\u001b[0m\u001b[0m\n",
            "\u001b[0;32m/usr/local/lib/python3.8/dist-packages/sklearn/model_selection/_search.py\u001b[0m in \u001b[0;36mfit\u001b[0;34m(self, X, y, groups, **fit_params)\u001b[0m\n\u001b[1;32m    889\u001b[0m                 \u001b[0;32mreturn\u001b[0m \u001b[0mresults\u001b[0m\u001b[0;34m\u001b[0m\u001b[0;34m\u001b[0m\u001b[0m\n\u001b[1;32m    890\u001b[0m \u001b[0;34m\u001b[0m\u001b[0m\n\u001b[0;32m--> 891\u001b[0;31m             \u001b[0mself\u001b[0m\u001b[0;34m.\u001b[0m\u001b[0m_run_search\u001b[0m\u001b[0;34m(\u001b[0m\u001b[0mevaluate_candidates\u001b[0m\u001b[0;34m)\u001b[0m\u001b[0;34m\u001b[0m\u001b[0;34m\u001b[0m\u001b[0m\n\u001b[0m\u001b[1;32m    892\u001b[0m \u001b[0;34m\u001b[0m\u001b[0m\n\u001b[1;32m    893\u001b[0m             \u001b[0;31m# multimetric is determined here because in the case of a callable\u001b[0m\u001b[0;34m\u001b[0m\u001b[0;34m\u001b[0m\u001b[0;34m\u001b[0m\u001b[0m\n",
            "\u001b[0;32m/usr/local/lib/python3.8/dist-packages/sklearn/model_selection/_search.py\u001b[0m in \u001b[0;36m_run_search\u001b[0;34m(self, evaluate_candidates)\u001b[0m\n\u001b[1;32m   1390\u001b[0m     \u001b[0;32mdef\u001b[0m \u001b[0m_run_search\u001b[0m\u001b[0;34m(\u001b[0m\u001b[0mself\u001b[0m\u001b[0;34m,\u001b[0m \u001b[0mevaluate_candidates\u001b[0m\u001b[0;34m)\u001b[0m\u001b[0;34m:\u001b[0m\u001b[0;34m\u001b[0m\u001b[0;34m\u001b[0m\u001b[0m\n\u001b[1;32m   1391\u001b[0m         \u001b[0;34m\"\"\"Search all candidates in param_grid\"\"\"\u001b[0m\u001b[0;34m\u001b[0m\u001b[0;34m\u001b[0m\u001b[0m\n\u001b[0;32m-> 1392\u001b[0;31m         \u001b[0mevaluate_candidates\u001b[0m\u001b[0;34m(\u001b[0m\u001b[0mParameterGrid\u001b[0m\u001b[0;34m(\u001b[0m\u001b[0mself\u001b[0m\u001b[0;34m.\u001b[0m\u001b[0mparam_grid\u001b[0m\u001b[0;34m)\u001b[0m\u001b[0;34m)\u001b[0m\u001b[0;34m\u001b[0m\u001b[0;34m\u001b[0m\u001b[0m\n\u001b[0m\u001b[1;32m   1393\u001b[0m \u001b[0;34m\u001b[0m\u001b[0m\n\u001b[1;32m   1394\u001b[0m \u001b[0;34m\u001b[0m\u001b[0m\n",
            "\u001b[0;32m/usr/local/lib/python3.8/dist-packages/sklearn/model_selection/_search.py\u001b[0m in \u001b[0;36mevaluate_candidates\u001b[0;34m(candidate_params, cv, more_results)\u001b[0m\n\u001b[1;32m    836\u001b[0m                     )\n\u001b[1;32m    837\u001b[0m \u001b[0;34m\u001b[0m\u001b[0m\n\u001b[0;32m--> 838\u001b[0;31m                 out = parallel(\n\u001b[0m\u001b[1;32m    839\u001b[0m                     delayed(_fit_and_score)(\n\u001b[1;32m    840\u001b[0m                         \u001b[0mclone\u001b[0m\u001b[0;34m(\u001b[0m\u001b[0mbase_estimator\u001b[0m\u001b[0;34m)\u001b[0m\u001b[0;34m,\u001b[0m\u001b[0;34m\u001b[0m\u001b[0;34m\u001b[0m\u001b[0m\n",
            "\u001b[0;32m/usr/local/lib/python3.8/dist-packages/joblib/parallel.py\u001b[0m in \u001b[0;36m__call__\u001b[0;34m(self, iterable)\u001b[0m\n\u001b[1;32m   1096\u001b[0m \u001b[0;34m\u001b[0m\u001b[0m\n\u001b[1;32m   1097\u001b[0m             \u001b[0;32mwith\u001b[0m \u001b[0mself\u001b[0m\u001b[0;34m.\u001b[0m\u001b[0m_backend\u001b[0m\u001b[0;34m.\u001b[0m\u001b[0mretrieval_context\u001b[0m\u001b[0;34m(\u001b[0m\u001b[0;34m)\u001b[0m\u001b[0;34m:\u001b[0m\u001b[0;34m\u001b[0m\u001b[0;34m\u001b[0m\u001b[0m\n\u001b[0;32m-> 1098\u001b[0;31m                 \u001b[0mself\u001b[0m\u001b[0;34m.\u001b[0m\u001b[0mretrieve\u001b[0m\u001b[0;34m(\u001b[0m\u001b[0;34m)\u001b[0m\u001b[0;34m\u001b[0m\u001b[0;34m\u001b[0m\u001b[0m\n\u001b[0m\u001b[1;32m   1099\u001b[0m             \u001b[0;31m# Make sure that we get a last message telling us we are done\u001b[0m\u001b[0;34m\u001b[0m\u001b[0;34m\u001b[0m\u001b[0;34m\u001b[0m\u001b[0m\n\u001b[1;32m   1100\u001b[0m             \u001b[0melapsed_time\u001b[0m \u001b[0;34m=\u001b[0m \u001b[0mtime\u001b[0m\u001b[0;34m.\u001b[0m\u001b[0mtime\u001b[0m\u001b[0;34m(\u001b[0m\u001b[0;34m)\u001b[0m \u001b[0;34m-\u001b[0m \u001b[0mself\u001b[0m\u001b[0;34m.\u001b[0m\u001b[0m_start_time\u001b[0m\u001b[0;34m\u001b[0m\u001b[0;34m\u001b[0m\u001b[0m\n",
            "\u001b[0;32m/usr/local/lib/python3.8/dist-packages/joblib/parallel.py\u001b[0m in \u001b[0;36mretrieve\u001b[0;34m(self)\u001b[0m\n\u001b[1;32m    973\u001b[0m             \u001b[0;32mtry\u001b[0m\u001b[0;34m:\u001b[0m\u001b[0;34m\u001b[0m\u001b[0;34m\u001b[0m\u001b[0m\n\u001b[1;32m    974\u001b[0m                 \u001b[0;32mif\u001b[0m \u001b[0mgetattr\u001b[0m\u001b[0;34m(\u001b[0m\u001b[0mself\u001b[0m\u001b[0;34m.\u001b[0m\u001b[0m_backend\u001b[0m\u001b[0;34m,\u001b[0m \u001b[0;34m'supports_timeout'\u001b[0m\u001b[0;34m,\u001b[0m \u001b[0;32mFalse\u001b[0m\u001b[0;34m)\u001b[0m\u001b[0;34m:\u001b[0m\u001b[0;34m\u001b[0m\u001b[0;34m\u001b[0m\u001b[0m\n\u001b[0;32m--> 975\u001b[0;31m                     \u001b[0mself\u001b[0m\u001b[0;34m.\u001b[0m\u001b[0m_output\u001b[0m\u001b[0;34m.\u001b[0m\u001b[0mextend\u001b[0m\u001b[0;34m(\u001b[0m\u001b[0mjob\u001b[0m\u001b[0;34m.\u001b[0m\u001b[0mget\u001b[0m\u001b[0;34m(\u001b[0m\u001b[0mtimeout\u001b[0m\u001b[0;34m=\u001b[0m\u001b[0mself\u001b[0m\u001b[0;34m.\u001b[0m\u001b[0mtimeout\u001b[0m\u001b[0;34m)\u001b[0m\u001b[0;34m)\u001b[0m\u001b[0;34m\u001b[0m\u001b[0;34m\u001b[0m\u001b[0m\n\u001b[0m\u001b[1;32m    976\u001b[0m                 \u001b[0;32melse\u001b[0m\u001b[0;34m:\u001b[0m\u001b[0;34m\u001b[0m\u001b[0;34m\u001b[0m\u001b[0m\n\u001b[1;32m    977\u001b[0m                     \u001b[0mself\u001b[0m\u001b[0;34m.\u001b[0m\u001b[0m_output\u001b[0m\u001b[0;34m.\u001b[0m\u001b[0mextend\u001b[0m\u001b[0;34m(\u001b[0m\u001b[0mjob\u001b[0m\u001b[0;34m.\u001b[0m\u001b[0mget\u001b[0m\u001b[0;34m(\u001b[0m\u001b[0;34m)\u001b[0m\u001b[0;34m)\u001b[0m\u001b[0;34m\u001b[0m\u001b[0;34m\u001b[0m\u001b[0m\n",
            "\u001b[0;32m/usr/local/lib/python3.8/dist-packages/joblib/_parallel_backends.py\u001b[0m in \u001b[0;36mwrap_future_result\u001b[0;34m(future, timeout)\u001b[0m\n\u001b[1;32m    565\u001b[0m         AsyncResults.get from multiprocessing.\"\"\"\n\u001b[1;32m    566\u001b[0m         \u001b[0;32mtry\u001b[0m\u001b[0;34m:\u001b[0m\u001b[0;34m\u001b[0m\u001b[0;34m\u001b[0m\u001b[0m\n\u001b[0;32m--> 567\u001b[0;31m             \u001b[0;32mreturn\u001b[0m \u001b[0mfuture\u001b[0m\u001b[0;34m.\u001b[0m\u001b[0mresult\u001b[0m\u001b[0;34m(\u001b[0m\u001b[0mtimeout\u001b[0m\u001b[0;34m=\u001b[0m\u001b[0mtimeout\u001b[0m\u001b[0;34m)\u001b[0m\u001b[0;34m\u001b[0m\u001b[0;34m\u001b[0m\u001b[0m\n\u001b[0m\u001b[1;32m    568\u001b[0m         \u001b[0;32mexcept\u001b[0m \u001b[0mCfTimeoutError\u001b[0m \u001b[0;32mas\u001b[0m \u001b[0me\u001b[0m\u001b[0;34m:\u001b[0m\u001b[0;34m\u001b[0m\u001b[0;34m\u001b[0m\u001b[0m\n\u001b[1;32m    569\u001b[0m             \u001b[0;32mraise\u001b[0m \u001b[0mTimeoutError\u001b[0m \u001b[0;32mfrom\u001b[0m \u001b[0me\u001b[0m\u001b[0;34m\u001b[0m\u001b[0;34m\u001b[0m\u001b[0m\n",
            "\u001b[0;32m/usr/lib/python3.8/concurrent/futures/_base.py\u001b[0m in \u001b[0;36mresult\u001b[0;34m(self, timeout)\u001b[0m\n\u001b[1;32m    437\u001b[0m                     \u001b[0;32mreturn\u001b[0m \u001b[0mself\u001b[0m\u001b[0;34m.\u001b[0m\u001b[0m__get_result\u001b[0m\u001b[0;34m(\u001b[0m\u001b[0;34m)\u001b[0m\u001b[0;34m\u001b[0m\u001b[0;34m\u001b[0m\u001b[0m\n\u001b[1;32m    438\u001b[0m \u001b[0;34m\u001b[0m\u001b[0m\n\u001b[0;32m--> 439\u001b[0;31m                 \u001b[0mself\u001b[0m\u001b[0;34m.\u001b[0m\u001b[0m_condition\u001b[0m\u001b[0;34m.\u001b[0m\u001b[0mwait\u001b[0m\u001b[0;34m(\u001b[0m\u001b[0mtimeout\u001b[0m\u001b[0;34m)\u001b[0m\u001b[0;34m\u001b[0m\u001b[0;34m\u001b[0m\u001b[0m\n\u001b[0m\u001b[1;32m    440\u001b[0m \u001b[0;34m\u001b[0m\u001b[0m\n\u001b[1;32m    441\u001b[0m                 \u001b[0;32mif\u001b[0m \u001b[0mself\u001b[0m\u001b[0;34m.\u001b[0m\u001b[0m_state\u001b[0m \u001b[0;32min\u001b[0m \u001b[0;34m[\u001b[0m\u001b[0mCANCELLED\u001b[0m\u001b[0;34m,\u001b[0m \u001b[0mCANCELLED_AND_NOTIFIED\u001b[0m\u001b[0;34m]\u001b[0m\u001b[0;34m:\u001b[0m\u001b[0;34m\u001b[0m\u001b[0;34m\u001b[0m\u001b[0m\n",
            "\u001b[0;32m/usr/lib/python3.8/threading.py\u001b[0m in \u001b[0;36mwait\u001b[0;34m(self, timeout)\u001b[0m\n\u001b[1;32m    300\u001b[0m         \u001b[0;32mtry\u001b[0m\u001b[0;34m:\u001b[0m    \u001b[0;31m# restore state no matter what (e.g., KeyboardInterrupt)\u001b[0m\u001b[0;34m\u001b[0m\u001b[0;34m\u001b[0m\u001b[0m\n\u001b[1;32m    301\u001b[0m             \u001b[0;32mif\u001b[0m \u001b[0mtimeout\u001b[0m \u001b[0;32mis\u001b[0m \u001b[0;32mNone\u001b[0m\u001b[0;34m:\u001b[0m\u001b[0;34m\u001b[0m\u001b[0;34m\u001b[0m\u001b[0m\n\u001b[0;32m--> 302\u001b[0;31m                 \u001b[0mwaiter\u001b[0m\u001b[0;34m.\u001b[0m\u001b[0macquire\u001b[0m\u001b[0;34m(\u001b[0m\u001b[0;34m)\u001b[0m\u001b[0;34m\u001b[0m\u001b[0;34m\u001b[0m\u001b[0m\n\u001b[0m\u001b[1;32m    303\u001b[0m                 \u001b[0mgotit\u001b[0m \u001b[0;34m=\u001b[0m \u001b[0;32mTrue\u001b[0m\u001b[0;34m\u001b[0m\u001b[0;34m\u001b[0m\u001b[0m\n\u001b[1;32m    304\u001b[0m             \u001b[0;32melse\u001b[0m\u001b[0;34m:\u001b[0m\u001b[0;34m\u001b[0m\u001b[0;34m\u001b[0m\u001b[0m\n",
            "\u001b[0;31mKeyboardInterrupt\u001b[0m: "
          ]
        }
      ]
    },
    {
      "cell_type": "code",
      "source": [
        "#-0.00294 beats previous MAE score of 0.016184\t\n"
      ],
      "metadata": {
        "id": "pGWptGGxRj2R"
      },
      "execution_count": null,
      "outputs": []
    },
    {
      "cell_type": "markdown",
      "source": [
        "#  **4. K-Nearest Regressor** "
      ],
      "metadata": {
        "id": "P87ftbhUgHDJ"
      }
    },
    {
      "cell_type": "code",
      "source": [
        "df.iloc[3]['Model']"
      ],
      "metadata": {
        "id": "eNqjOHRnlJVE"
      },
      "execution_count": null,
      "outputs": []
    },
    {
      "cell_type": "code",
      "source": [
        "knr = KNeighborsRegressor(n_neighbors=2)\n",
        "knr.fit(x_train, y_train)\n",
        "pred = knr.predict(x_test)"
      ],
      "metadata": {
        "id": "EKPIO9aflP0i"
      },
      "execution_count": null,
      "outputs": []
    },
    {
      "cell_type": "code",
      "source": [
        "pred = knr.predict(x_test)\n",
        "\n",
        "plt.scatter(pred, y_test, label='medv')\n",
        "plt.plot([0, 1], [0, 1], '--k', transform=plt.gca().transAxes)\n",
        "plt.xlabel('pred')\n",
        "plt.ylabel('y_test')"
      ],
      "metadata": {
        "id": "uoSv3pBTlTRR"
      },
      "execution_count": null,
      "outputs": []
    },
    {
      "cell_type": "code",
      "source": [
        "from sklearn.metrics import mean_squared_error, accuracy_score\n",
        "mae = mean_absolute_error(y_test, pred)\n",
        "mse = mean_squared_error(y_test, pred)\n",
        "rmse = sqrt(mse)\n",
        "r2 = r2_score(y_test, pred)"
      ],
      "metadata": {
        "id": "b7UuU9jya-jC"
      },
      "execution_count": null,
      "outputs": []
    },
    {
      "cell_type": "code",
      "source": [
        "print(f'Model: {knr}, MAE: {mae}, MSE: {mse}, RMSE: {rmse}, r2: {r2}')"
      ],
      "metadata": {
        "id": "opqGejJpbChC"
      },
      "execution_count": null,
      "outputs": []
    },
    {
      "cell_type": "markdown",
      "source": [
        "Hyperparameter tuning"
      ],
      "metadata": {
        "id": "7KRR7PQe12M7"
      }
    },
    {
      "cell_type": "code",
      "source": [
        "#Square Root of N\n",
        "# = SQR(15,336) = 124/2 = 62\n",
        "#Want a high r squared value"
      ],
      "metadata": {
        "id": "LNlUZwF-6HoZ"
      },
      "execution_count": null,
      "outputs": []
    },
    {
      "cell_type": "code",
      "source": [
        "scores_dict = {}"
      ],
      "metadata": {
        "id": "mZjnu8z6KAFP"
      },
      "execution_count": null,
      "outputs": []
    },
    {
      "cell_type": "code",
      "source": [
        "num_list = []\n",
        "for i in range(30, 91):\n",
        "  num_list.append(i)"
      ],
      "metadata": {
        "id": "uaOUKGfLLRRz"
      },
      "execution_count": null,
      "outputs": []
    },
    {
      "cell_type": "code",
      "source": [
        "from sklearn.metrics import r2_score\n",
        "mae_scores = []\n",
        "rmse_scores = []\n",
        "ks = []\n",
        "for i in range(20, 90):\n",
        "  ks.append(i)\n",
        "  knn = KNeighborsRegressor(n_neighbors=i)\n",
        "  knn.fit(x_train,y_train)\n",
        "  pred_i = knn.predict(x_test)\n",
        "  mae = mean_absolute_error(y_test, pred_i)\n",
        "  mse = mean_squared_error(y_test, pred_i)\n",
        "  rmse = sqrt(mse)\n",
        "  rmse_scores.append(rmse)\n",
        "\n",
        "  mae_scores.append(mae)\n",
        "\n",
        " \n"
      ],
      "metadata": {
        "id": "rQvlHROv5xho"
      },
      "execution_count": null,
      "outputs": []
    },
    {
      "cell_type": "code",
      "source": [
        "plt.plot(rmse_scores)"
      ],
      "metadata": {
        "id": "IETdS_TxPI3e"
      },
      "execution_count": null,
      "outputs": []
    },
    {
      "cell_type": "code",
      "source": [
        "plt.plot(mae_scores)"
      ],
      "metadata": {
        "id": "pKszEF9sN8bR"
      },
      "execution_count": null,
      "outputs": []
    },
    {
      "cell_type": "markdown",
      "source": [
        "HyperParameter Tuning"
      ],
      "metadata": {
        "id": "xyGe64v6LCWJ"
      }
    },
    {
      "cell_type": "code",
      "source": [
        "from sklearn.model_selection import GridSearchCV\n",
        "knn = KNeighborsRegressor()\n",
        "k_range = list(range(1, 31))\n",
        "param_grid = dict(n_neighbors=k_range)\n",
        "grid = GridSearchCV(knn, param_grid, cv=10, scoring = 'r2')\n",
        "grid.fit(x_train, y_train)"
      ],
      "metadata": {
        "id": "x2jrpLA3srCC"
      },
      "execution_count": null,
      "outputs": []
    },
    {
      "cell_type": "code",
      "source": [
        "grid_scores = grid.cv_results_\n",
        "grid_scores"
      ],
      "metadata": {
        "id": "qKKwRUwnu5iY"
      },
      "execution_count": null,
      "outputs": []
    },
    {
      "cell_type": "code",
      "source": [
        "from sklearn.neighbors import KNeighborsRegressor\n",
        "from sklearn.model_selection import KFold\n",
        "#Convert to dictionary\n",
        "# Create 3 folds\n",
        "# Select an algorithm\n",
        "algorithm = KNeighborsRegressor()\n",
        "seed = 13\n",
        "kfold = KFold(n_splits=3, shuffle=True, random_state=seed)\n",
        "# Define our candidate hyperparameters\n",
        "hp_candidates = [{'n_neighbors': [2,3,4,5,6], 'weights': ['uniform','distance']}]\n",
        "# Search for best hyperparameters\n",
        "grid = GridSearchCV(estimator=algorithm, param_grid=hp_candidates, cv=kfold, scoring='r2')\n",
        "\n",
        "#Fit the model\n",
        "best_model = grid.fit(x_train, y_train)\n",
        "#Print The value of best Hyperparameters\n",
        "print('MAE: %.6f' % best_model.best_score_)\n",
        "print('Config: %s' % best_model.best_params_)\n",
        "\n"
      ],
      "metadata": {
        "id": "HI6ec8ZVcHMi"
      },
      "execution_count": null,
      "outputs": []
    },
    {
      "cell_type": "code",
      "source": [
        "knr = KNeighborsRegressor(n_neighbors=2)\n",
        "knr.fit(x_train, y_train)\n",
        "pred = knr.predict(x_test)\n",
        "mae = mean_absolute_error(y_test, pred)\n",
        "mse = mean_squared_error(y_test, pred)\n",
        "rmse = sqrt(mse)\n",
        "\n",
        "print(f'Model: {knr}, MAE: {mae}, MSE: {mse}, RMSE: {rmse}')"
      ],
      "metadata": {
        "id": "jzzAstTFhC4v"
      },
      "execution_count": null,
      "outputs": []
    },
    {
      "cell_type": "code",
      "source": [
        "knr = KNeighborsRegressor(n_neighbors=30)\n",
        "knr.fit(x_train, y_train)\n",
        "pred = knr.predict(x_test)\n",
        "mae = mean_absolute_error(y_test, pred)\n",
        "mse = mean_squared_error(y_test, pred)\n",
        "rmse = sqrt(mse)\n",
        "\n",
        "print(f'Model: {knr}, MAE: {mae}, MSE: {mse}, RMSE: {rmse}')"
      ],
      "metadata": {
        "id": "3tiDWCryvPiI"
      },
      "execution_count": null,
      "outputs": []
    },
    {
      "cell_type": "code",
      "source": [
        "knr = KNeighborsRegressor(n_neighbors=62)\n",
        "knr.fit(x_train, y_train)\n",
        "pred = knr.predict(x_test)\n",
        "mae = mean_absolute_error(y_test, pred)\n",
        "mse = mean_squared_error(y_test, pred)\n",
        "rmse = sqrt(mse)\n",
        "\n",
        "print(f'Model: {knr}, MAE: {mae}, MSE: {mse}, RMSE: {rmse}')"
      ],
      "metadata": {
        "id": "_G3xKhDrwdwf"
      },
      "execution_count": null,
      "outputs": []
    },
    {
      "cell_type": "code",
      "source": [
        "knr = KNeighborsRegressor(n_neighbors=2)\n",
        "knr.fit(x_train, y_train)\n",
        "pred = knr.predict(x_test)\n",
        "mae = mean_absolute_error(y_test, pred)\n",
        "mse = mean_squared_error(y_test, pred)\n",
        "rmse = sqrt(mse)\n",
        "\n",
        "print(f'Model: {knr}, MAE: {mae}, MSE: {mse}, RMSE: {rmse}')"
      ],
      "metadata": {
        "id": "76eWUXBMqXZh"
      },
      "execution_count": null,
      "outputs": []
    },
    {
      "cell_type": "code",
      "source": [
        "knr = KNeighborsRegressor(n_neighbors = 6, weights= 'distance')\n",
        "knr.fit(x_train, y_train)\n",
        "pred = knr.predict(x_test)\n",
        "mae = mean_absolute_error(y_test, pred)\n",
        "mse = mean_squared_error(y_test, pred)\n",
        "rmse = sqrt(mse)\n",
        "\n",
        "print(f'Model: {knr}, MAE: {mae}, MSE: {mse}, RMSE: {rmse}')"
      ],
      "metadata": {
        "id": "3RT0pD1vqifL"
      },
      "execution_count": null,
      "outputs": []
    },
    {
      "cell_type": "code",
      "source": [
        "knr = KNeighborsRegressor(n_neighbors = 8, weights= 'distance')\n",
        "knr.fit(x_train, y_train)\n",
        "pred = knr.predict(x_test)\n",
        "mae = mean_absolute_error(y_test, pred)\n",
        "mse = mean_squared_error(y_test, pred)\n",
        "rmse = sqrt(mse)\n",
        "\n",
        "print(f'Model: {knr}, MAE: {mae}, MSE: {mse}, RMSE: {rmse}')"
      ],
      "metadata": {
        "id": "hswIJc-21Wkz"
      },
      "execution_count": null,
      "outputs": []
    },
    {
      "cell_type": "code",
      "source": [
        "knr = KNeighborsRegressor(n_neighbors = 9, weights= 'distance')\n",
        "knr.fit(x_train, y_train)\n",
        "pred = knr.predict(x_test)\n",
        "mae = mean_absolute_error(y_test, pred)\n",
        "mse = mean_squared_error(y_test, pred)\n",
        "rmse = sqrt(mse)\n",
        "\n",
        "print(f'Model: {knr}, MAE: {mae}, MSE: {mse}, RMSE: {rmse}')"
      ],
      "metadata": {
        "id": "bQ0SRf9v1aAV"
      },
      "execution_count": null,
      "outputs": []
    },
    {
      "cell_type": "code",
      "source": [
        "knr = KNeighborsRegressor(n_neighbors = 10, weights= 'distance')\n",
        "knr.fit(x_train, y_train)\n",
        "pred = knr.predict(x_test)\n",
        "mae = mean_absolute_error(y_test, pred)\n",
        "mse = mean_squared_error(y_test, pred)\n",
        "rmse = sqrt(mse)\n",
        "\n",
        "print(f'Model: {knr}, MAE: {mae}, MSE: {mse}, RMSE: {rmse}')"
      ],
      "metadata": {
        "id": "nz6VadcD1KAt"
      },
      "execution_count": null,
      "outputs": []
    },
    {
      "cell_type": "code",
      "source": [
        "knr = KNeighborsRegressor(n_neighbors = 11, weights= 'distance')\n",
        "knr.fit(x_train, y_train)\n",
        "pred = knr.predict(x_test)\n",
        "mae = mean_absolute_error(y_test, pred)\n",
        "mse = mean_squared_error(y_test, pred)\n",
        "rmse = sqrt(mse)\n",
        "\n",
        "print(f'Model: {knr}, MAE: {mae}, MSE: {mse}, RMSE: {rmse}')"
      ],
      "metadata": {
        "id": "a3hpNyHp1eFv"
      },
      "execution_count": null,
      "outputs": []
    },
    {
      "cell_type": "code",
      "source": [
        "knr = KNeighborsRegressor(n_neighbors = 12, weights= 'distance')\n",
        "knr.fit(x_train, y_train)\n",
        "pred = knr.predict(x_test)\n",
        "mae = mean_absolute_error(y_test, pred)\n",
        "mse = mean_squared_error(y_test, pred)\n",
        "rmse = sqrt(mse)\n",
        "\n",
        "print(f'Model: {knr}, MAE: {mae}, MSE: {mse}, RMSE: {rmse}')"
      ],
      "metadata": {
        "id": "6u2TfFa31S7I"
      },
      "execution_count": null,
      "outputs": []
    },
    {
      "cell_type": "code",
      "source": [
        "knr = KNeighborsRegressor(n_neighbors = 15, weights= 'distance')\n",
        "knr.fit(x_train, y_train)\n",
        "pred = knr.predict(x_test)\n",
        "mae = mean_absolute_error(y_test, pred)\n",
        "mse = mean_squared_error(y_test, pred)\n",
        "rmse = sqrt(mse)\n",
        "\n",
        "print(f'Model: {knr}, MAE: {mae}, MSE: {mse}, RMSE: {rmse}')"
      ],
      "metadata": {
        "id": "svMl2cry1PKQ"
      },
      "execution_count": null,
      "outputs": []
    },
    {
      "cell_type": "code",
      "source": [],
      "metadata": {
        "id": "wesk0atF1uiZ"
      },
      "execution_count": null,
      "outputs": []
    },
    {
      "cell_type": "code",
      "source": [
        "# DOESN'T beat previous MAE score of 0.008683948338660583"
      ],
      "metadata": {
        "id": "y4OjSn4tbPwS"
      },
      "execution_count": null,
      "outputs": []
    },
    {
      "cell_type": "markdown",
      "source": [
        "# **5. Random Forrest Regressor**\n",
        "\n",
        "\n"
      ],
      "metadata": {
        "id": "4PQD2fkWMroy"
      }
    },
    {
      "cell_type": "code",
      "source": [
        "df.iloc[4]['Model']"
      ],
      "metadata": {
        "id": "WwMFtxvsMuND"
      },
      "execution_count": null,
      "outputs": []
    },
    {
      "cell_type": "code",
      "source": [
        "model = RandomForestRegressor()\n",
        "model.fit(x_train, y_train)"
      ],
      "metadata": {
        "id": "8pvPNDzGcOHt"
      },
      "execution_count": null,
      "outputs": []
    },
    {
      "cell_type": "code",
      "source": [
        "pred = model.predict(x_test)\n",
        "mean_squared_error(y_test, pred)"
      ],
      "metadata": {
        "id": "sqfxFHPlbQQT"
      },
      "execution_count": null,
      "outputs": []
    },
    {
      "cell_type": "code",
      "source": [
        "from sklearn.model_selection import RandomizedSearchCV\n",
        "# Number of trees in random forest\n",
        "n_estimators = [int(x) for x in np.linspace(start = 100, stop = 1000, num = 5)]\n",
        "# Number of features to consider at every split\n",
        "max_features = ['auto', 'sqrt']\n",
        "# Maximum number of levels in tree\n",
        "max_depth = [3, 5, 7]\n",
        "# Method of selecting samples for training each tree\n",
        "bootstrap = [True, False]\n",
        "# Create the random grid\n",
        "random_grid = {'n_estimators': n_estimators,\n",
        "               'max_features': max_features,\n",
        "               'max_depth': max_depth,\n",
        "               'bootstrap': bootstrap}\n",
        "print(random_grid)"
      ],
      "metadata": {
        "id": "1I4SPXoRlabK"
      },
      "execution_count": null,
      "outputs": []
    },
    {
      "cell_type": "code",
      "source": [
        "# Use the random grid to search for best hyperparameters\n",
        "# First create the base model to tune\n",
        "rf = RandomForestRegressor()\n",
        "# Random search of parameters, using 3 fold cross validation, \n",
        "# search across 100 different combinations, and use all available cores\n",
        "rf_random = RandomizedSearchCV(estimator = rf, param_distributions = random_grid, n_iter = 15, cv = 2, verbose=2, random_state=42, n_jobs = -1)\n",
        "# Fit the random search model\n",
        "rf_random.fit(x_train, y_train)"
      ],
      "metadata": {
        "id": "sJ4SO83iloL_"
      },
      "execution_count": null,
      "outputs": []
    },
    {
      "cell_type": "code",
      "source": [
        "rf_random.best_params_"
      ],
      "metadata": {
        "id": "RPlV1vz_rVt9"
      },
      "execution_count": null,
      "outputs": []
    },
    {
      "cell_type": "code",
      "source": [
        "print(rf_random.best_estimator_)"
      ],
      "metadata": {
        "id": "u0xKBfBr2pra"
      },
      "execution_count": null,
      "outputs": []
    },
    {
      "cell_type": "markdown",
      "source": [
        "Best Model"
      ],
      "metadata": {
        "id": "3afknpuHriEs"
      }
    },
    {
      "cell_type": "code",
      "source": [
        "best_random = rf_random.best_estimator_\n",
        "pred = best_random.predict(x_test)\n",
        "mean_squared_error(y_test, pred)"
      ],
      "metadata": {
        "id": "6YXVgr61rks5"
      },
      "execution_count": null,
      "outputs": []
    },
    {
      "cell_type": "markdown",
      "source": [
        "# **6. Decision Tree Regressor**"
      ],
      "metadata": {
        "id": "jpxW4lF2B04f"
      }
    },
    {
      "cell_type": "markdown",
      "source": [
        "## Initial Model set up"
      ],
      "metadata": {
        "id": "P9K1CRqit_GD"
      }
    },
    {
      "cell_type": "code",
      "source": [
        "df.iloc[5]['Model']"
      ],
      "metadata": {
        "id": "aFxDCfUCM53M"
      },
      "execution_count": null,
      "outputs": []
    },
    {
      "cell_type": "code",
      "source": [
        "regr2 = DecisionTreeRegressor()\n",
        "regr2.fit(x_train, y_train)\n",
        "pred = regr2.predict(x_test)"
      ],
      "metadata": {
        "id": "akb6WOKiKuA2"
      },
      "execution_count": null,
      "outputs": []
    },
    {
      "cell_type": "code",
      "source": [
        "mean_squared_error(y_test, pred)"
      ],
      "metadata": {
        "id": "pZQmQhFXtyNm"
      },
      "execution_count": null,
      "outputs": []
    },
    {
      "cell_type": "code",
      "source": [
        "# This function creates images of tree models using pydot\n",
        "# %load ../standard_import.txt\n",
        "import pandas as pd\n",
        "import numpy as np\n",
        "import matplotlib.pyplot as plt\n",
        "import seaborn as sns\n",
        "\n",
        "import pydot\n",
        "from IPython.display import Image\n",
        "\n",
        "from sklearn.model_selection import train_test_split, cross_val_score\n",
        "from six import StringIO \n",
        "from sklearn.tree import DecisionTreeRegressor, DecisionTreeClassifier, export_graphviz\n",
        "from sklearn.ensemble import BaggingClassifier, RandomForestClassifier, BaggingRegressor, RandomForestRegressor, GradientBoostingRegressor\n",
        "from sklearn.metrics import mean_squared_error,confusion_matrix, classification_report\n",
        "\n",
        "%matplotlib inline\n",
        "plt.style.use('seaborn-white')\n",
        "def print_tree(estimator, features, class_names=None, filled=True):\n",
        "    tree = estimator\n",
        "    names = features\n",
        "    color = filled\n",
        "    classn = class_names\n",
        "    \n",
        "    dot_data = StringIO()\n",
        "    export_graphviz(estimator, out_file=dot_data, feature_names=features, class_names=classn, filled=filled)\n",
        "    graph = pydot.graph_from_dot_data(dot_data.getvalue())\n",
        "    return(graph)"
      ],
      "metadata": {
        "id": "gTVxPIA0LB_H"
      },
      "execution_count": null,
      "outputs": []
    },
    {
      "cell_type": "code",
      "source": [
        "graph, = print_tree(regr2, features=x_train.columns)\n",
        "Image(graph.create_png())"
      ],
      "metadata": {
        "id": "O6WjoDKzK0vd"
      },
      "execution_count": null,
      "outputs": []
    },
    {
      "cell_type": "code",
      "source": [
        "pred = regr2.predict(x_test)\n",
        "\n",
        "plt.scatter(pred, y_test, label='medv')\n",
        "plt.plot([0, 1], [0, 1], '--k', transform=plt.gca().transAxes)\n",
        "plt.xlabel('pred')\n",
        "plt.ylabel('y_test')"
      ],
      "metadata": {
        "id": "oXwZplKwORWa"
      },
      "execution_count": null,
      "outputs": []
    },
    {
      "cell_type": "code",
      "source": [
        "regr2.tree_.max_depth"
      ],
      "metadata": {
        "id": "mxEEhA2qC0_A"
      },
      "execution_count": null,
      "outputs": []
    },
    {
      "cell_type": "markdown",
      "source": [
        "## HyperParameter Tuning"
      ],
      "metadata": {
        "id": "4Eu4TtW4LNvM"
      }
    },
    {
      "cell_type": "code",
      "source": [
        "parameters={\"splitter\":[\"best\",\"random\"],\n",
        "            \"max_depth\" : [1,2,3],\n",
        "            \"min_samples_leaf\":[1,3,5,7,9],\n",
        "           \"min_weight_fraction_leaf\":[0.2,0.4,0.6,0.8],\n",
        "           \"max_features\":[\"auto\",\"log2\",\"sqrt\",None],\n",
        "           \"max_leaf_nodes\":[None,5,10,15,20] }\n",
        "\n"
      ],
      "metadata": {
        "id": "zYGJvyBYnTVz"
      },
      "execution_count": null,
      "outputs": []
    },
    {
      "cell_type": "code",
      "source": [
        "# calculating different regression metrics\n",
        "\n",
        "from sklearn.model_selection import GridSearchCV\n",
        "tuning_model=GridSearchCV(DecisionTreeRegressor(),param_grid=parameters,scoring='neg_mean_squared_error',cv=3,verbose=3)\n",
        "tuning_model.fit(x_train, y_train)\n",
        "\n",
        "print('MAE: %.6f' % tuning_model.best_score_)\n",
        "print('Config: %s' % tuning_model.best_params_)"
      ],
      "metadata": {
        "id": "GmpTDMPencvD"
      },
      "execution_count": null,
      "outputs": []
    },
    {
      "cell_type": "code",
      "source": [
        "# print best parameter after tuning\n",
        "print(tuning_model.best_params_)\n",
        "print(tuning_model.best_estimator_)\n"
      ],
      "metadata": {
        "id": "9qWdsA5RDspP"
      },
      "execution_count": null,
      "outputs": []
    },
    {
      "cell_type": "code",
      "source": [
        "best_dt = DecisionTreeRegressor(max_depth= 3, max_features= 'auto', min_weight_fraction_leaf=0.2)\n",
        "best_dt.fit(x_train, y_train)\n",
        "pred = best_dt.predict(x_test)\n",
        "mean_squared_error(y_test, pred)"
      ],
      "metadata": {
        "id": "J1YA0WQMf4XM"
      },
      "execution_count": null,
      "outputs": []
    },
    {
      "cell_type": "markdown",
      "source": [
        "# **7. Support Vector Machines**"
      ],
      "metadata": {
        "id": "GWRLyz3Qf9b2"
      }
    },
    {
      "cell_type": "code",
      "source": [
        "df.iloc[6]['Model']"
      ],
      "metadata": {
        "id": "X8cjdNRokVGw"
      },
      "execution_count": null,
      "outputs": []
    },
    {
      "cell_type": "code",
      "source": [
        "from sklearn.svm import SVR\n",
        "SVM = SVR()\n",
        "SVM.fit(x_train, y_train)\n",
        "pred = SVM.predict(x_test)"
      ],
      "metadata": {
        "id": "1HVnR30wkatE"
      },
      "execution_count": null,
      "outputs": []
    },
    {
      "cell_type": "code",
      "source": [
        "plt.scatter(pred, y_test, label='medv')\n",
        "plt.plot([0, 1], [0, 1], '--k', transform=plt.gca().transAxes)\n",
        "plt.xlabel('pred')\n",
        "plt.ylabel('y_test')"
      ],
      "metadata": {
        "id": "t4GG1pJhkyBO"
      },
      "execution_count": null,
      "outputs": []
    },
    {
      "cell_type": "code",
      "source": [
        "mean_squared_error(y_test, pred)"
      ],
      "metadata": {
        "id": "jMen1IuRlE0n"
      },
      "execution_count": null,
      "outputs": []
    },
    {
      "cell_type": "markdown",
      "source": [
        "HyperParameter Tuning"
      ],
      "metadata": {
        "id": "K-AX3gMkLSDp"
      }
    },
    {
      "cell_type": "code",
      "source": [
        "from sklearn.model_selection import RandomizedSearchCV\n",
        "from scipy.stats import reciprocal, uniform\n",
        "\n",
        "param_distributions = {\"gamma\": reciprocal(0.001, 0.1), \"C\": uniform(1, 10), 'kernel': ['rbf']}\n"
      ],
      "metadata": {
        "id": "RcQcdD6jr4oF"
      },
      "execution_count": null,
      "outputs": []
    },
    {
      "cell_type": "code",
      "source": [
        "from sklearn import svm\n",
        "from sklearn.model_selection import GridSearchCV\n",
        "Cs = [0.001, 0.01, 0.1, 1, 10]\n",
        "gammas = [0.001, 0.01, 0.1, 1]\n",
        "param_grid = {'C': Cs, 'gamma' : gammas, 'kernel': ['rbf']}\n",
        "grid_search = GridSearchCV(svm.SVR(), refit = True, verbose = 3, param_grid = param_grid)\n",
        "grid_search.fit(x_train, y_train)\n",
        "\n",
        "# print best parameter after tuning\n",
        "print(grid_search.best_params_)\n",
        "  \n",
        "# print how our model looks after hyper-parameter tuning\n",
        "print(grid_search.best_estimator_)\n"
      ],
      "metadata": {
        "id": "QKUyhgGgq8Hd"
      },
      "execution_count": null,
      "outputs": []
    },
    {
      "cell_type": "code",
      "source": [
        "# print best parameter after tuning\n",
        "print(grid_search.best_params_)\n",
        "print(grid_search.best_estimator_)\n"
      ],
      "metadata": {
        "id": "mJfx72clubLo"
      },
      "execution_count": null,
      "outputs": []
    },
    {
      "cell_type": "code",
      "source": [
        "SVM = SVR(C=10, gamma=0.001)\n",
        "SVM.fit(x_train, y_train)\n",
        "pred = SVM.predict(x_test)"
      ],
      "metadata": {
        "id": "P_G0RPWhjYcK"
      },
      "execution_count": null,
      "outputs": []
    },
    {
      "cell_type": "code",
      "source": [
        "mean_squared_error(y_test, pred)"
      ],
      "metadata": {
        "id": "5cHJ02xFkN4Y"
      },
      "execution_count": null,
      "outputs": []
    },
    {
      "cell_type": "markdown",
      "source": [
        "# **8. Gradient Boosting**"
      ],
      "metadata": {
        "id": "OtkdLNbYSb2M"
      }
    },
    {
      "cell_type": "code",
      "source": [
        "df.iloc[7]['Model']"
      ],
      "metadata": {
        "id": "a_H2seGHtOc-"
      },
      "execution_count": null,
      "outputs": []
    },
    {
      "cell_type": "code",
      "source": [
        "gbr = GradientBoostingRegressor(random_state=0)\n",
        "gbr.fit(x_train, y_train)\n",
        "pred = gbr.predict(x_test)"
      ],
      "metadata": {
        "id": "nk3rXxUGtscs"
      },
      "execution_count": null,
      "outputs": []
    },
    {
      "cell_type": "code",
      "source": [
        "pred = gbr.predict(x_test)\n",
        "\n",
        "plt.scatter(pred, y_test, label='medv')\n",
        "plt.plot([0, 1], [0, 1], '--k', transform=plt.gca().transAxes)\n",
        "plt.xlabel('pred')\n",
        "plt.ylabel('y_test')"
      ],
      "metadata": {
        "id": "GArH7eoMt2fD"
      },
      "execution_count": null,
      "outputs": []
    },
    {
      "cell_type": "code",
      "source": [
        "mean_squared_error(y_test, pred)"
      ],
      "metadata": {
        "id": "qwr2ygKVuCxH"
      },
      "execution_count": null,
      "outputs": []
    },
    {
      "cell_type": "markdown",
      "source": [
        "## HyperParameter Tuning"
      ],
      "metadata": {
        "id": "cMlUopNhLXae"
      }
    },
    {
      "cell_type": "code",
      "source": [
        "from sklearn.metrics import mean_squared_error as mse\n",
        "\n",
        "def test_params(**params):\n",
        "    model = GradientBoostingRegressor(random_state=0, **params)\n",
        "    model.fit(x_train, y_train)\n",
        "\n",
        "    train_rmse = sqrt(mse(model.predict(x_train), y_train))\n",
        "    val_rmse = sqrt(mse(model.predict(x_test), y_test))\n",
        "    print('Train RMSE: {}, Validation RMSE: {}'.format(train_rmse, val_rmse))"
      ],
      "metadata": {
        "id": "LimUcp-H0D6U"
      },
      "execution_count": null,
      "outputs": []
    },
    {
      "cell_type": "code",
      "source": [
        "test_params(n_estimators=10)"
      ],
      "metadata": {
        "id": "06Z2eDt_1XAj"
      },
      "execution_count": null,
      "outputs": []
    },
    {
      "cell_type": "code",
      "source": [
        "test_params(n_estimators=30)"
      ],
      "metadata": {
        "id": "AyLHmYcE3BJq"
      },
      "execution_count": null,
      "outputs": []
    },
    {
      "cell_type": "code",
      "source": [
        "#crossvalidation=KFold(n_splits=10,shuffle=True,random_state=1)\n",
        "GBR=GradientBoostingRegressor(random_state=0)\n",
        "search_grid={'n_estimators':range(20,81,10),'learning_rate':[0.02]}\n",
        "search=GridSearchCV(estimator=GBR,param_grid=search_grid,scoring='neg_mean_squared_error',n_jobs=1,cv=5)"
      ],
      "metadata": {
        "id": "wk87azXDwIbg"
      },
      "execution_count": null,
      "outputs": []
    },
    {
      "cell_type": "code",
      "source": [
        "search.fit(x_train,y_train)\n",
        "# print best parameter after tuning\n",
        "print(search.best_params_)\n",
        "  \n",
        "# print how our model looks after hyper-parameter tuning\n",
        "print(search.best_estimator_)"
      ],
      "metadata": {
        "id": "RyFjlF3-12-T"
      },
      "execution_count": null,
      "outputs": []
    },
    {
      "cell_type": "code",
      "source": [
        "# print best parameter after tuning\n",
        "print(search.best_params_)\n",
        "  \n",
        "# print how our model looks after hyper-parameter tuning\n",
        "print(search.best_estimator_)"
      ],
      "metadata": {
        "id": "uhhtrnOm30hw"
      },
      "execution_count": null,
      "outputs": []
    },
    {
      "cell_type": "code",
      "source": [
        "gbr = GradientBoostingRegressor(learning_rate= 0.02, n_estimators= 80)\n",
        "gbr.fit(x_train, y_train)\n",
        "pred = gbr.predict(x_test)"
      ],
      "metadata": {
        "id": "FgEgvRPi4E3p"
      },
      "execution_count": null,
      "outputs": []
    },
    {
      "cell_type": "code",
      "source": [
        "mean_squared_error(y_test, pred)"
      ],
      "metadata": {
        "id": "l5LA5n2X4eNo"
      },
      "execution_count": null,
      "outputs": []
    },
    {
      "cell_type": "markdown",
      "source": [
        "# **9. XGBoost**"
      ],
      "metadata": {
        "id": "8vUXieKcPKM2"
      }
    },
    {
      "cell_type": "code",
      "source": [
        "df.iloc[8]['Model']"
      ],
      "metadata": {
        "id": "iCLwVF8atXhV"
      },
      "execution_count": null,
      "outputs": []
    },
    {
      "cell_type": "code",
      "source": [
        "xgb = XGBRegressor()\n",
        "xgb.fit(x_train, y_train)\n",
        "pred = xgb.predict(x_test)"
      ],
      "metadata": {
        "id": "pnTIBmBttcgZ"
      },
      "execution_count": null,
      "outputs": []
    },
    {
      "cell_type": "code",
      "source": [
        "pred = xgb.predict(x_test)\n",
        "\n",
        "plt.scatter(pred, y_test, label='medv')\n",
        "plt.plot([0, 1], [0, 1], '--k', transform=plt.gca().transAxes)\n",
        "plt.xlabel('pred')\n",
        "plt.ylabel('y_test')"
      ],
      "metadata": {
        "id": "5uLXkfRYte01"
      },
      "execution_count": null,
      "outputs": []
    },
    {
      "cell_type": "code",
      "source": [
        "mean_squared_error(y_test, pred)"
      ],
      "metadata": {
        "id": "uN0lsquktkJU"
      },
      "execution_count": null,
      "outputs": []
    },
    {
      "cell_type": "code",
      "source": [
        "rmse1 = sqrt(mse(xgb.predict(x_test), y_test))\n",
        "rmse1"
      ],
      "metadata": {
        "id": "DEkj7ZfDSVZD"
      },
      "execution_count": null,
      "outputs": []
    },
    {
      "cell_type": "markdown",
      "source": [
        "## HyperParameter Tuning"
      ],
      "metadata": {
        "id": "9CqDW_ScLbOx"
      }
    },
    {
      "cell_type": "code",
      "source": [
        "params = { 'max_depth': [3,6,10],\n",
        "           'learning_rate': [0.01, 0.05, 0.1],\n",
        "           'n_estimators': [25,50,75]}"
      ],
      "metadata": {
        "id": "o98cUwR9-fv6"
      },
      "execution_count": null,
      "outputs": []
    },
    {
      "cell_type": "code",
      "source": [
        "from sklearn.metrics import mean_squared_error as mse\n",
        "\n",
        "def test_params(**params):\n",
        "    model = XGBRegressor(random_state=0, **params)\n",
        "    model.fit(x_train, y_train)\n",
        "\n",
        "    train_rmse = sqrt(mse(model.predict(x_train), y_train))\n",
        "    val_rmse = sqrt(mse(model.predict(x_test), y_test))\n",
        "    #print('Train RMSE: {}, Validation RMSE: {}'.format(train_rmse, val_rmse))\n",
        "    return train_rmse, val_rmse"
      ],
      "metadata": {
        "id": "BVdcbXjrC9q_"
      },
      "execution_count": null,
      "outputs": []
    },
    {
      "cell_type": "markdown",
      "source": [
        "## Learning Rate"
      ],
      "metadata": {
        "id": "hKIVLVMaolQA"
      }
    },
    {
      "cell_type": "code",
      "source": [
        "test_params(learning_rate=0.01)"
      ],
      "metadata": {
        "id": "-i7u2JJdo0Hj"
      },
      "execution_count": null,
      "outputs": []
    },
    {
      "cell_type": "code",
      "source": [
        "test_params(learning_rate=0.05)"
      ],
      "metadata": {
        "id": "a6ZSFagEo6bN"
      },
      "execution_count": null,
      "outputs": []
    },
    {
      "cell_type": "code",
      "source": [
        "test_params(learning_rate=0.1)"
      ],
      "metadata": {
        "id": "1pxTebLvo9jJ"
      },
      "execution_count": null,
      "outputs": []
    },
    {
      "cell_type": "code",
      "source": [
        "test_params(learning_rate=0.15)"
      ],
      "metadata": {
        "id": "VLFMQV2_pE0U"
      },
      "execution_count": null,
      "outputs": []
    },
    {
      "cell_type": "code",
      "source": [
        "test_params(learning_rate=0.2)"
      ],
      "metadata": {
        "id": "QV7kFS43pS7K"
      },
      "execution_count": null,
      "outputs": []
    },
    {
      "cell_type": "code",
      "source": [
        "test_params(learning_rate=0.25)"
      ],
      "metadata": {
        "id": "quu1oQ1LpVuJ"
      },
      "execution_count": null,
      "outputs": []
    },
    {
      "cell_type": "code",
      "source": [
        "test_params(learning_rate=0.5)"
      ],
      "metadata": {
        "id": "b9-Qgupopvxn"
      },
      "execution_count": null,
      "outputs": []
    },
    {
      "cell_type": "code",
      "source": [
        "par_list = [0.05, 0.1, 0.15, 0.2, 0.25, 0.3, 0.35, 0.4, 0.45, 0.5]\n",
        "xs = []\n",
        "result_list = []\n",
        "for i in par_list:\n",
        "  xs.append(i) \n",
        "  result = test_params(learning_rate=i)\n",
        "  result_list.append(result)\n",
        "\n",
        "print(result_list)\n",
        "\n"
      ],
      "metadata": {
        "id": "182fi6cap7y9"
      },
      "execution_count": null,
      "outputs": []
    },
    {
      "cell_type": "code",
      "source": [
        "import numpy as np\n",
        "import matplotlib.pyplot as plt\n",
        "#Orange is train rmse and blue is val rmse\n",
        "plt.plot(result_list)\n",
        "plt.legend()"
      ],
      "metadata": {
        "id": "e3d1P8kBp5N_"
      },
      "execution_count": null,
      "outputs": []
    },
    {
      "cell_type": "code",
      "source": [
        "#BEst is 3 = 0.2"
      ],
      "metadata": {
        "id": "wRWJRHZQrFpP"
      },
      "execution_count": null,
      "outputs": []
    },
    {
      "cell_type": "markdown",
      "source": [
        "##Max Depth"
      ],
      "metadata": {
        "id": "tpRAOomMiqCn"
      }
    },
    {
      "cell_type": "code",
      "source": [
        "test_params(max_depth=2)"
      ],
      "metadata": {
        "id": "vceZhpvYiryS"
      },
      "execution_count": null,
      "outputs": []
    },
    {
      "cell_type": "code",
      "source": [
        "test_params(max_depth=5)"
      ],
      "metadata": {
        "id": "lOJEwfhBiyEi"
      },
      "execution_count": null,
      "outputs": []
    },
    {
      "cell_type": "code",
      "source": [
        "test_params(max_depth=7)"
      ],
      "metadata": {
        "id": "LT_L2sAAjkBi"
      },
      "execution_count": null,
      "outputs": []
    },
    {
      "cell_type": "code",
      "source": [
        "test_params(max_depth=8)"
      ],
      "metadata": {
        "id": "i555qWzEkO1u"
      },
      "execution_count": null,
      "outputs": []
    },
    {
      "cell_type": "code",
      "source": [
        "test_params(max_depth=9)"
      ],
      "metadata": {
        "id": "IQLJnexnkc9W"
      },
      "execution_count": null,
      "outputs": []
    },
    {
      "cell_type": "code",
      "source": [
        "test_params(max_depth=10)"
      ],
      "metadata": {
        "id": "JS0kQ18bjYt0"
      },
      "execution_count": null,
      "outputs": []
    },
    {
      "cell_type": "code",
      "source": [
        "parameters_list = []\n",
        "xs = []\n",
        "for i in range(2, 10, 1):\n",
        "  xs.append(i) \n",
        "  result = test_params(learning_rate=0.2, max_depth=i)\n",
        "  parameters_list.append(result)\n",
        "\n",
        "print(parameters_list)"
      ],
      "metadata": {
        "id": "NKzJNxpJlVWt"
      },
      "execution_count": null,
      "outputs": []
    },
    {
      "cell_type": "code",
      "source": [
        "import numpy as np\n",
        "import matplotlib.pyplot as plt\n",
        "#Orange is train rmse and blue is val rmse\n",
        "plt.plot(parameters_list)\n",
        "plt.legend()"
      ],
      "metadata": {
        "id": "D5Y_QEmemHuH"
      },
      "execution_count": null,
      "outputs": []
    },
    {
      "cell_type": "code",
      "source": [
        "#Max_Depth = 3, Learning_rate = 0.2"
      ],
      "metadata": {
        "id": "XNYFFCpYv-Sd"
      },
      "execution_count": null,
      "outputs": []
    },
    {
      "cell_type": "markdown",
      "source": [
        "## Estimators"
      ],
      "metadata": {
        "id": "KqFpUGxGNPXe"
      }
    },
    {
      "cell_type": "code",
      "source": [
        "test_params(n_estimators=10)"
      ],
      "metadata": {
        "id": "Q6Lw67P2DAtu"
      },
      "execution_count": null,
      "outputs": []
    },
    {
      "cell_type": "code",
      "source": [
        "test_params(n_estimators=25)"
      ],
      "metadata": {
        "id": "In26-ytxDKG9"
      },
      "execution_count": null,
      "outputs": []
    },
    {
      "cell_type": "code",
      "source": [
        "test_params(n_estimators=50)"
      ],
      "metadata": {
        "id": "i-_awHhmDOJH"
      },
      "execution_count": null,
      "outputs": []
    },
    {
      "cell_type": "code",
      "source": [
        "test_params(n_estimators=100)"
      ],
      "metadata": {
        "id": "dM08-nfKDUiB"
      },
      "execution_count": null,
      "outputs": []
    },
    {
      "cell_type": "code",
      "source": [
        "test_params(n_estimators=200)"
      ],
      "metadata": {
        "id": "AlerjvfhEcRC"
      },
      "execution_count": null,
      "outputs": []
    },
    {
      "cell_type": "code",
      "source": [
        "parameters_list = []\n",
        "xs = []\n",
        "for i in range(10, 200, 25):\n",
        "  xs.append(i) \n",
        "  #Max_Depth = 3, Learning_rate = 0.2\n",
        "  result = test_params(max_depth = 3, learning_rate = 0.2, n_estimators=i)\n",
        "  parameters_list.append(result)\n",
        "\n",
        "print(parameters_list)"
      ],
      "metadata": {
        "id": "AvkkaIb-E5jq"
      },
      "execution_count": null,
      "outputs": []
    },
    {
      "cell_type": "code",
      "source": [
        "import numpy as np\n",
        "import matplotlib.pyplot as plt\n",
        "#Orange is train rmse and blue is val rmse\n",
        "plt.plot(parameters_list)\n",
        "plt.legend()"
      ],
      "metadata": {
        "id": "ZjgooWiZFePy"
      },
      "execution_count": null,
      "outputs": []
    },
    {
      "cell_type": "code",
      "source": [
        "#Levels out at 2 which is 60 estimators"
      ],
      "metadata": {
        "id": "ZtCsYfnuM1Gh"
      },
      "execution_count": null,
      "outputs": []
    },
    {
      "cell_type": "markdown",
      "source": [
        "## Fit model "
      ],
      "metadata": {
        "id": "O_OurRC-NS1F"
      }
    },
    {
      "cell_type": "code",
      "source": [
        "xgb = XGBRegressor(n_estimators=60)\n",
        "xgb.fit(x_train, y_train)\n",
        "pred = xgb.predict(x_test)"
      ],
      "metadata": {
        "id": "unr05NsptV3I"
      },
      "execution_count": null,
      "outputs": []
    },
    {
      "cell_type": "code",
      "source": [
        "mean_squared_error(y_test, pred)"
      ],
      "metadata": {
        "id": "LP-Jz28ltZzR"
      },
      "execution_count": null,
      "outputs": []
    },
    {
      "cell_type": "code",
      "source": [
        "rmse=sqrt(mse(xgb.predict(x_test), y_test))\n",
        "rmse"
      ],
      "metadata": {
        "id": "sZrD23e8te27"
      },
      "execution_count": null,
      "outputs": []
    },
    {
      "cell_type": "code",
      "source": [
        "xgb = XGBRegressor(n_estimators=85)\n",
        "xgb.fit(x_train, y_train)\n",
        "pred = xgb.predict(x_test)"
      ],
      "metadata": {
        "id": "Pi6XBfA_8Yed"
      },
      "execution_count": null,
      "outputs": []
    },
    {
      "cell_type": "code",
      "source": [
        "#Before tuning it was 1.0806863702459202e-05\n",
        "mean_squared_error(y_test, pred)"
      ],
      "metadata": {
        "id": "LStRcMGK82ga"
      },
      "execution_count": null,
      "outputs": []
    },
    {
      "cell_type": "code",
      "source": [
        "rmse=sqrt(mse(xgb.predict(x_test), y_test))\n",
        "rmse"
      ],
      "metadata": {
        "id": "YEUaiNFESIRE"
      },
      "execution_count": null,
      "outputs": []
    },
    {
      "cell_type": "markdown",
      "source": [
        "## Best Paramaters"
      ],
      "metadata": {
        "id": "PBBFi9g7rr6U"
      }
    },
    {
      "cell_type": "code",
      "source": [
        "#Max_Depth = 3, Learning_rate = 0.2, n_estimators= 60"
      ],
      "metadata": {
        "id": "kicHqoOhxSxo"
      },
      "execution_count": null,
      "outputs": []
    },
    {
      "cell_type": "code",
      "source": [
        "xgb = XGBRegressor(n_estimators=60, max_depth = 3, learning_rate = 0.2)\n",
        "xgb.fit(x_train, y_train)\n",
        "pred = xgb.predict(x_test)"
      ],
      "metadata": {
        "id": "c2FGc_CmsGyG"
      },
      "execution_count": null,
      "outputs": []
    },
    {
      "cell_type": "code",
      "source": [
        "mean_squared_error(y_test, pred)"
      ],
      "metadata": {
        "id": "O4plcIkds70Z"
      },
      "execution_count": null,
      "outputs": []
    },
    {
      "cell_type": "code",
      "source": [
        "rmse=sqrt(mse(xgb.predict(x_test), y_test))\n",
        "rmse"
      ],
      "metadata": {
        "id": "iQs6R0yas9ZI"
      },
      "execution_count": null,
      "outputs": []
    },
    {
      "cell_type": "markdown",
      "source": [
        "#**EBM**"
      ],
      "metadata": {
        "id": "pdKHlF5RV_-F"
      }
    },
    {
      "cell_type": "code",
      "source": [
        "df.iloc[9]['Model']"
      ],
      "metadata": {
        "colab": {
          "base_uri": "https://localhost:8080/"
        },
        "id": "gcODPDJTWF04",
        "outputId": "38a6cae0-ce61-4262-af93-f72bd37d9c83"
      },
      "execution_count": 22,
      "outputs": [
        {
          "output_type": "execute_result",
          "data": {
            "text/plain": [
              "ExplainableBoostingRegressor()"
            ]
          },
          "metadata": {},
          "execution_count": 22
        }
      ]
    },
    {
      "cell_type": "code",
      "source": [
        "ebm = ExplainableBoostingRegressor()\n",
        "ebm.fit(x_train, y_train)\n",
        "pred = ebm.predict(x_test)"
      ],
      "metadata": {
        "id": "xXOovG70WJwC"
      },
      "execution_count": 23,
      "outputs": []
    },
    {
      "cell_type": "code",
      "source": [
        "mean_squared_error(y_test, pred)"
      ],
      "metadata": {
        "colab": {
          "base_uri": "https://localhost:8080/"
        },
        "id": "ZZ0IgbRXZo1z",
        "outputId": "c226ee98-dc40-405a-94e1-0189859c19ee"
      },
      "execution_count": 24,
      "outputs": [
        {
          "output_type": "execute_result",
          "data": {
            "text/plain": [
              "0.00011083172591820373"
            ]
          },
          "metadata": {},
          "execution_count": 24
        }
      ]
    },
    {
      "cell_type": "markdown",
      "source": [
        "#Hyperparameter tuning"
      ],
      "metadata": {
        "id": "iq6B1LjUaDTe"
      }
    },
    {
      "cell_type": "code",
      "source": [
        "from sklearn.metrics import mean_squared_error as mse\n",
        "\n",
        "def test_params(**params):\n",
        "    model = GradientBoostingRegressor(random_state=0, **params)\n",
        "    model.fit(x_train, y_train)\n",
        "\n",
        "    train_rmse = sqrt(mse(model.predict(x_train), y_train))\n",
        "    val_rmse = sqrt(mse(model.predict(x_test), y_test))\n",
        "    print('Train RMSE: {}, Validation RMSE: {}'.format(train_rmse, val_rmse))"
      ],
      "metadata": {
        "id": "Yb34tSgXaFpA"
      },
      "execution_count": 27,
      "outputs": []
    },
    {
      "cell_type": "code",
      "source": [
        "#NO IDEA HOW TO TUNE HYPERPARAMETESTRS. "
      ],
      "metadata": {
        "id": "--u_S-7SfRr3"
      },
      "execution_count": null,
      "outputs": []
    },
    {
      "cell_type": "markdown",
      "source": [
        "# **Next**"
      ],
      "metadata": {
        "id": "mIabmhOYybCv"
      }
    },
    {
      "cell_type": "code",
      "source": [
        "#Best models\n",
        "from sklearn.svm import SVR\n",
        "\n",
        "#Linear regression - no tuning\n",
        "model_1 = LinearRegression()\n",
        "#Ridge Regression\n",
        "model_2 = linear_model.Ridge(alpha=0.0)\n",
        "#Lasso Regression\n",
        "model_3 = linear_model.Lasso(alpha=0.0)\n",
        "#K Nearest Neighbours Regression\n",
        "model_4 = KNeighborsRegressor(n_neighbors = 10, weights= 'distance')\n",
        "#Random Forrest Regressor\n",
        "model_5 = RandomForestRegressor(max_depth=5, n_estimators=550)\n",
        "#DT Regressors\n",
        "model_6 = DecisionTreeRegressor(max_depth=3, max_features='auto', min_weight_fraction_leaf=0.2)\n",
        "#SVM Regressor\n",
        "model_7 = SVR(C=10, gamma=0.001)\n",
        "#Gradient Boosting Regressor \n",
        "model_8 = GradientBoostingRegressor(learning_rate=0.02, n_estimators=80, random_state=0)\n",
        "#XGBoost\n",
        "model_9 = xg.XGBRegressor(n_estimators=60, max_depth = 3, learning_rate = 0.2)\n",
        "\n",
        "models = [model_1, model_2, model_3, model_4, model_5, model_6, model_7, model_8, model_9]\n",
        "print(models)"
      ],
      "metadata": {
        "id": "FobmNZaeyvPS",
        "colab": {
          "base_uri": "https://localhost:8080/"
        },
        "outputId": "a1c96654-2c05-4e80-f7b6-cc1eba221c8b"
      },
      "execution_count": null,
      "outputs": [
        {
          "output_type": "stream",
          "name": "stdout",
          "text": [
            "[LinearRegression(), Ridge(alpha=0.0), Lasso(alpha=0.0), KNeighborsRegressor(n_neighbors=10, weights='distance'), RandomForestRegressor(max_depth=5, n_estimators=550), DecisionTreeRegressor(max_depth=3, max_features='auto',\n",
            "                      min_weight_fraction_leaf=0.2), SVR(C=10, gamma=0.001), GradientBoostingRegressor(learning_rate=0.02, n_estimators=80, random_state=0), XGBRegressor(learning_rate=0.2, n_estimators=60)]\n"
          ]
        }
      ]
    },
    {
      "cell_type": "code",
      "source": [
        "for i in models:\n",
        "  print(i)"
      ],
      "metadata": {
        "colab": {
          "base_uri": "https://localhost:8080/"
        },
        "id": "QzdKSfJOcd_T",
        "outputId": "f8299d5e-e9f2-477e-d576-9b6485e00d49"
      },
      "execution_count": null,
      "outputs": [
        {
          "output_type": "stream",
          "name": "stdout",
          "text": [
            "LinearRegression()\n",
            "Ridge(alpha=0.0)\n",
            "Lasso(alpha=0.0)\n",
            "KNeighborsRegressor(n_neighbors=10, weights='distance')\n",
            "RandomForestRegressor(max_depth=5, n_estimators=550)\n",
            "DecisionTreeRegressor(max_depth=3, max_features='auto',\n",
            "                      min_weight_fraction_leaf=0.2)\n",
            "SVR(C=10, gamma=0.001)\n",
            "GradientBoostingRegressor(learning_rate=0.02, n_estimators=80, random_state=0)\n",
            "XGBRegressor(learning_rate=0.2, n_estimators=60)\n"
          ]
        }
      ]
    },
    {
      "cell_type": "code",
      "source": [
        "#Run each model \n",
        "model_eval_2 = []\n",
        "for model in models:\n",
        "  model.fit(x_train, y_train)\n",
        "  predictions = model.predict(x_test)\n",
        "  type(predictions)\n",
        "  #FIX CALCS\n",
        "  # Calculate the absolute errors\n",
        "  errors = abs(predictions - y_test.values)\n",
        "  # Calculate model evaluation metrics\n",
        "  mae = mean_absolute_error(y_test, predictions)\n",
        "  mse = mean_squared_error(y_test, predictions)\n",
        "  rmse = sqrt(mse)\n",
        "  r2 = r2_score(y_test, predictions)\n",
        "  print(f'MODEL: {model}')\n",
        "  print('Mean Absolute Error: ', mae, ' degrees.')\n",
        "  print('Mean Squared Error:', mse, ' degrees')\n",
        "  print('RMSE:', rmse, ' degrees')\n",
        "  print('R2:', r2)\n",
        "  model_eval_2.append({'Model': model, 'Mean Absolute Error': mae, 'Mean Squared Error': mse, 'RMSE': rmse,'R-squared': r2})\n",
        "\n",
        "df = pd.DataFrame(model_eval_2)"
      ],
      "metadata": {
        "colab": {
          "base_uri": "https://localhost:8080/"
        },
        "id": "T6uXTZHxcoB3",
        "outputId": "ecdbef10-8f1f-452d-aa21-4bceadca9d6d"
      },
      "execution_count": null,
      "outputs": [
        {
          "output_type": "stream",
          "name": "stdout",
          "text": [
            "MODEL: LinearRegression()\n",
            "Mean Absolute Error:  0.0022959775451227298  degrees.\n",
            "Mean Squared Error: 2.6741939898009235e-05  degrees\n",
            "RMSE: 0.005171260958219884  degrees\n",
            "R2: 0.989634726988291\n",
            "MODEL: Ridge(alpha=0.0)\n",
            "Mean Absolute Error:  0.0022964434095145373  degrees.\n",
            "Mean Squared Error: 2.6745282280883742e-05  degrees\n",
            "RMSE: 0.005171584117162143  degrees\n",
            "R2: 0.9896334314685518\n"
          ]
        },
        {
          "output_type": "stream",
          "name": "stderr",
          "text": [
            "<ipython-input-36-961046fbc2b8>:4: UserWarning: With alpha=0, this algorithm does not converge well. You are advised to use the LinearRegression estimator\n",
            "  model.fit(x_train, y_train)\n",
            "/usr/local/lib/python3.8/dist-packages/sklearn/linear_model/_coordinate_descent.py:647: UserWarning: Coordinate descent with no regularization may lead to unexpected results and is discouraged.\n",
            "  model = cd_fast.enet_coordinate_descent(\n",
            "/usr/local/lib/python3.8/dist-packages/sklearn/linear_model/_coordinate_descent.py:647: ConvergenceWarning: Objective did not converge. You might want to increase the number of iterations, check the scale of the features or consider increasing regularisation. Duality gap: 8.989e-02, tolerance: 2.209e-03 Linear regression models with null weight for the l1 regularization term are more efficiently fitted using one of the solvers implemented in sklearn.linear_model.Ridge/RidgeCV instead.\n",
            "  model = cd_fast.enet_coordinate_descent(\n"
          ]
        },
        {
          "output_type": "stream",
          "name": "stdout",
          "text": [
            "MODEL: Lasso(alpha=0.0)\n",
            "Mean Absolute Error:  0.002293667777495161  degrees.\n",
            "Mean Squared Error: 2.6757124520616137e-05  degrees\n",
            "RMSE: 0.005172728923944898  degrees\n",
            "R2: 0.9896288413734291\n",
            "MODEL: KNeighborsRegressor(n_neighbors=10, weights='distance')\n",
            "Mean Absolute Error:  0.012033987060822166  degrees.\n",
            "Mean Squared Error: 0.0009542115367267774  degrees\n",
            "RMSE: 0.030890314610356066  degrees\n",
            "R2: 0.6301441433636719\n"
          ]
        },
        {
          "output_type": "stream",
          "name": "stderr",
          "text": [
            "<ipython-input-36-961046fbc2b8>:4: DataConversionWarning: A column-vector y was passed when a 1d array was expected. Please change the shape of y to (n_samples,), for example using ravel().\n",
            "  model.fit(x_train, y_train)\n"
          ]
        },
        {
          "output_type": "stream",
          "name": "stdout",
          "text": [
            "MODEL: RandomForestRegressor(max_depth=5, n_estimators=550)\n",
            "Mean Absolute Error:  0.002290134152880466  degrees.\n",
            "Mean Squared Error: 2.3682408354114928e-05  degrees\n",
            "RMSE: 0.004866457474808028  degrees\n",
            "R2: 0.9908206125246938\n",
            "MODEL: DecisionTreeRegressor(max_depth=3, max_features='auto',\n",
            "                      min_weight_fraction_leaf=0.2)\n",
            "Mean Absolute Error:  0.01420035463182578  degrees.\n",
            "Mean Squared Error: 0.0017060515419527616  degrees\n",
            "RMSE: 0.0413043767893036  degrees\n",
            "R2: 0.33872822720299856\n"
          ]
        },
        {
          "output_type": "stream",
          "name": "stderr",
          "text": [
            "/usr/local/lib/python3.8/dist-packages/sklearn/utils/validation.py:993: DataConversionWarning: A column-vector y was passed when a 1d array was expected. Please change the shape of y to (n_samples, ), for example using ravel().\n",
            "  y = column_or_1d(y, warn=True)\n"
          ]
        },
        {
          "output_type": "stream",
          "name": "stdout",
          "text": [
            "MODEL: SVR(C=10, gamma=0.001)\n",
            "Mean Absolute Error:  0.07365199347467533  degrees.\n",
            "Mean Squared Error: 0.006140536515639318  degrees\n",
            "RMSE: 0.07836157550508616  degrees\n",
            "R2: -1.3800942514162124\n"
          ]
        },
        {
          "output_type": "stream",
          "name": "stderr",
          "text": [
            "/usr/local/lib/python3.8/dist-packages/sklearn/ensemble/_gb.py:494: DataConversionWarning: A column-vector y was passed when a 1d array was expected. Please change the shape of y to (n_samples, ), for example using ravel().\n",
            "  y = column_or_1d(y, warn=True)\n"
          ]
        },
        {
          "output_type": "stream",
          "name": "stdout",
          "text": [
            "MODEL: GradientBoostingRegressor(learning_rate=0.02, n_estimators=80, random_state=0)\n",
            "Mean Absolute Error:  0.005549015295427159  degrees.\n",
            "Mean Squared Error: 0.0001578891664477957  degrees\n",
            "RMSE: 0.012565395594560312  degrees\n",
            "R2: 0.9388015857464255\n",
            "[11:02:20] WARNING: /workspace/src/objective/regression_obj.cu:152: reg:linear is now deprecated in favor of reg:squarederror.\n",
            "MODEL: XGBRegressor(learning_rate=0.2, n_estimators=60)\n",
            "Mean Absolute Error:  0.001680143365697506  degrees.\n",
            "Mean Squared Error: 2.408749301378577e-05  degrees\n",
            "RMSE: 0.004907901080277166  degrees\n",
            "R2: 0.990663600239633\n"
          ]
        }
      ]
    },
    {
      "cell_type": "code",
      "source": [
        "df"
      ],
      "metadata": {
        "colab": {
          "base_uri": "https://localhost:8080/",
          "height": 331
        },
        "id": "xTSnAjMRtj2k",
        "outputId": "c1e91c2a-5461-4e08-8ecb-7e73ce4a4921"
      },
      "execution_count": null,
      "outputs": [
        {
          "output_type": "execute_result",
          "data": {
            "text/plain": [
              "                                               Model          Model_nice_name  \\\n",
              "0                                 LinearRegression()        Linear Regression   \n",
              "1                                   Ridge(alpha=0.0)         Ridge Regression   \n",
              "2                                   Lasso(alpha=0.0)                    Lasso   \n",
              "3  KNeighborsRegressor(n_neighbors=10, weights='d...      K-Nearest Regressor   \n",
              "4  (DecisionTreeRegressor(max_depth=5, max_featur...           Random Forrest   \n",
              "5  DecisionTreeRegressor(max_depth=3, max_feature...            Decision Tree   \n",
              "6                             SVR(C=10, gamma=0.001)  Support Vector Machines   \n",
              "7  ([DecisionTreeRegressor(criterion='friedman_ms...        Gradient Boosting   \n",
              "8   XGBRegressor(learning_rate=0.2, n_estimators=60)                  XGBoost   \n",
              "\n",
              "   Mean Absolute Error  Mean Squared Error      RMSE  R-squared  \n",
              "0             0.002296            0.000027  0.005171   0.989635  \n",
              "1             0.002296            0.000027  0.005172   0.989633  \n",
              "2             0.002294            0.000027  0.005173   0.989629  \n",
              "3             0.012034            0.000954  0.030890   0.630144  \n",
              "4             0.002290            0.000024  0.004866   0.990821  \n",
              "5             0.014200            0.001706  0.041304   0.338728  \n",
              "6             0.073652            0.006141  0.078362  -1.380094  \n",
              "7             0.005549            0.000158  0.012565   0.938802  \n",
              "8             0.001680            0.000024  0.004908   0.990664  "
            ],
            "text/html": [
              "\n",
              "  <div id=\"df-6f71843a-5e53-4e36-abd8-e6122514f125\">\n",
              "    <div class=\"colab-df-container\">\n",
              "      <div>\n",
              "<style scoped>\n",
              "    .dataframe tbody tr th:only-of-type {\n",
              "        vertical-align: middle;\n",
              "    }\n",
              "\n",
              "    .dataframe tbody tr th {\n",
              "        vertical-align: top;\n",
              "    }\n",
              "\n",
              "    .dataframe thead th {\n",
              "        text-align: right;\n",
              "    }\n",
              "</style>\n",
              "<table border=\"1\" class=\"dataframe\">\n",
              "  <thead>\n",
              "    <tr style=\"text-align: right;\">\n",
              "      <th></th>\n",
              "      <th>Model</th>\n",
              "      <th>Model_nice_name</th>\n",
              "      <th>Mean Absolute Error</th>\n",
              "      <th>Mean Squared Error</th>\n",
              "      <th>RMSE</th>\n",
              "      <th>R-squared</th>\n",
              "    </tr>\n",
              "  </thead>\n",
              "  <tbody>\n",
              "    <tr>\n",
              "      <th>0</th>\n",
              "      <td>LinearRegression()</td>\n",
              "      <td>Linear Regression</td>\n",
              "      <td>0.002296</td>\n",
              "      <td>0.000027</td>\n",
              "      <td>0.005171</td>\n",
              "      <td>0.989635</td>\n",
              "    </tr>\n",
              "    <tr>\n",
              "      <th>1</th>\n",
              "      <td>Ridge(alpha=0.0)</td>\n",
              "      <td>Ridge Regression</td>\n",
              "      <td>0.002296</td>\n",
              "      <td>0.000027</td>\n",
              "      <td>0.005172</td>\n",
              "      <td>0.989633</td>\n",
              "    </tr>\n",
              "    <tr>\n",
              "      <th>2</th>\n",
              "      <td>Lasso(alpha=0.0)</td>\n",
              "      <td>Lasso</td>\n",
              "      <td>0.002294</td>\n",
              "      <td>0.000027</td>\n",
              "      <td>0.005173</td>\n",
              "      <td>0.989629</td>\n",
              "    </tr>\n",
              "    <tr>\n",
              "      <th>3</th>\n",
              "      <td>KNeighborsRegressor(n_neighbors=10, weights='d...</td>\n",
              "      <td>K-Nearest Regressor</td>\n",
              "      <td>0.012034</td>\n",
              "      <td>0.000954</td>\n",
              "      <td>0.030890</td>\n",
              "      <td>0.630144</td>\n",
              "    </tr>\n",
              "    <tr>\n",
              "      <th>4</th>\n",
              "      <td>(DecisionTreeRegressor(max_depth=5, max_featur...</td>\n",
              "      <td>Random Forrest</td>\n",
              "      <td>0.002290</td>\n",
              "      <td>0.000024</td>\n",
              "      <td>0.004866</td>\n",
              "      <td>0.990821</td>\n",
              "    </tr>\n",
              "    <tr>\n",
              "      <th>5</th>\n",
              "      <td>DecisionTreeRegressor(max_depth=3, max_feature...</td>\n",
              "      <td>Decision Tree</td>\n",
              "      <td>0.014200</td>\n",
              "      <td>0.001706</td>\n",
              "      <td>0.041304</td>\n",
              "      <td>0.338728</td>\n",
              "    </tr>\n",
              "    <tr>\n",
              "      <th>6</th>\n",
              "      <td>SVR(C=10, gamma=0.001)</td>\n",
              "      <td>Support Vector Machines</td>\n",
              "      <td>0.073652</td>\n",
              "      <td>0.006141</td>\n",
              "      <td>0.078362</td>\n",
              "      <td>-1.380094</td>\n",
              "    </tr>\n",
              "    <tr>\n",
              "      <th>7</th>\n",
              "      <td>([DecisionTreeRegressor(criterion='friedman_ms...</td>\n",
              "      <td>Gradient Boosting</td>\n",
              "      <td>0.005549</td>\n",
              "      <td>0.000158</td>\n",
              "      <td>0.012565</td>\n",
              "      <td>0.938802</td>\n",
              "    </tr>\n",
              "    <tr>\n",
              "      <th>8</th>\n",
              "      <td>XGBRegressor(learning_rate=0.2, n_estimators=60)</td>\n",
              "      <td>XGBoost</td>\n",
              "      <td>0.001680</td>\n",
              "      <td>0.000024</td>\n",
              "      <td>0.004908</td>\n",
              "      <td>0.990664</td>\n",
              "    </tr>\n",
              "  </tbody>\n",
              "</table>\n",
              "</div>\n",
              "      <button class=\"colab-df-convert\" onclick=\"convertToInteractive('df-6f71843a-5e53-4e36-abd8-e6122514f125')\"\n",
              "              title=\"Convert this dataframe to an interactive table.\"\n",
              "              style=\"display:none;\">\n",
              "        \n",
              "  <svg xmlns=\"http://www.w3.org/2000/svg\" height=\"24px\"viewBox=\"0 0 24 24\"\n",
              "       width=\"24px\">\n",
              "    <path d=\"M0 0h24v24H0V0z\" fill=\"none\"/>\n",
              "    <path d=\"M18.56 5.44l.94 2.06.94-2.06 2.06-.94-2.06-.94-.94-2.06-.94 2.06-2.06.94zm-11 1L8.5 8.5l.94-2.06 2.06-.94-2.06-.94L8.5 2.5l-.94 2.06-2.06.94zm10 10l.94 2.06.94-2.06 2.06-.94-2.06-.94-.94-2.06-.94 2.06-2.06.94z\"/><path d=\"M17.41 7.96l-1.37-1.37c-.4-.4-.92-.59-1.43-.59-.52 0-1.04.2-1.43.59L10.3 9.45l-7.72 7.72c-.78.78-.78 2.05 0 2.83L4 21.41c.39.39.9.59 1.41.59.51 0 1.02-.2 1.41-.59l7.78-7.78 2.81-2.81c.8-.78.8-2.07 0-2.86zM5.41 20L4 18.59l7.72-7.72 1.47 1.35L5.41 20z\"/>\n",
              "  </svg>\n",
              "      </button>\n",
              "      \n",
              "  <style>\n",
              "    .colab-df-container {\n",
              "      display:flex;\n",
              "      flex-wrap:wrap;\n",
              "      gap: 12px;\n",
              "    }\n",
              "\n",
              "    .colab-df-convert {\n",
              "      background-color: #E8F0FE;\n",
              "      border: none;\n",
              "      border-radius: 50%;\n",
              "      cursor: pointer;\n",
              "      display: none;\n",
              "      fill: #1967D2;\n",
              "      height: 32px;\n",
              "      padding: 0 0 0 0;\n",
              "      width: 32px;\n",
              "    }\n",
              "\n",
              "    .colab-df-convert:hover {\n",
              "      background-color: #E2EBFA;\n",
              "      box-shadow: 0px 1px 2px rgba(60, 64, 67, 0.3), 0px 1px 3px 1px rgba(60, 64, 67, 0.15);\n",
              "      fill: #174EA6;\n",
              "    }\n",
              "\n",
              "    [theme=dark] .colab-df-convert {\n",
              "      background-color: #3B4455;\n",
              "      fill: #D2E3FC;\n",
              "    }\n",
              "\n",
              "    [theme=dark] .colab-df-convert:hover {\n",
              "      background-color: #434B5C;\n",
              "      box-shadow: 0px 1px 3px 1px rgba(0, 0, 0, 0.15);\n",
              "      filter: drop-shadow(0px 1px 2px rgba(0, 0, 0, 0.3));\n",
              "      fill: #FFFFFF;\n",
              "    }\n",
              "  </style>\n",
              "\n",
              "      <script>\n",
              "        const buttonEl =\n",
              "          document.querySelector('#df-6f71843a-5e53-4e36-abd8-e6122514f125 button.colab-df-convert');\n",
              "        buttonEl.style.display =\n",
              "          google.colab.kernel.accessAllowed ? 'block' : 'none';\n",
              "\n",
              "        async function convertToInteractive(key) {\n",
              "          const element = document.querySelector('#df-6f71843a-5e53-4e36-abd8-e6122514f125');\n",
              "          const dataTable =\n",
              "            await google.colab.kernel.invokeFunction('convertToInteractive',\n",
              "                                                     [key], {});\n",
              "          if (!dataTable) return;\n",
              "\n",
              "          const docLinkHtml = 'Like what you see? Visit the ' +\n",
              "            '<a target=\"_blank\" href=https://colab.research.google.com/notebooks/data_table.ipynb>data table notebook</a>'\n",
              "            + ' to learn more about interactive tables.';\n",
              "          element.innerHTML = '';\n",
              "          dataTable['output_type'] = 'display_data';\n",
              "          await google.colab.output.renderOutput(dataTable, element);\n",
              "          const docLink = document.createElement('div');\n",
              "          docLink.innerHTML = docLinkHtml;\n",
              "          element.appendChild(docLink);\n",
              "        }\n",
              "      </script>\n",
              "    </div>\n",
              "  </div>\n",
              "  "
            ]
          },
          "metadata": {},
          "execution_count": 41
        }
      ]
    },
    {
      "cell_type": "code",
      "source": [
        "#Best models in order: RF, DT,  Linear, Ridge, KNR, SVR, \n",
        "df.insert(1, 'Model_nice_name', ms)\n",
        "df"
      ],
      "metadata": {
        "colab": {
          "base_uri": "https://localhost:8080/",
          "height": 338
        },
        "id": "vK38WPqit2AZ",
        "outputId": "a3551a98-832a-4e43-a7cd-fe61405d8994"
      },
      "execution_count": null,
      "outputs": [
        {
          "output_type": "error",
          "ename": "ValueError",
          "evalue": "ignored",
          "traceback": [
            "\u001b[0;31m---------------------------------------------------------------------------\u001b[0m",
            "\u001b[0;31mValueError\u001b[0m                                Traceback (most recent call last)",
            "\u001b[0;32m<ipython-input-42-ab0030213ba4>\u001b[0m in \u001b[0;36m<module>\u001b[0;34m\u001b[0m\n\u001b[1;32m      1\u001b[0m \u001b[0;31m#Best models in order: RF, DT,  Linear, Ridge, KNR, SVR,\u001b[0m\u001b[0;34m\u001b[0m\u001b[0;34m\u001b[0m\u001b[0;34m\u001b[0m\u001b[0m\n\u001b[0;32m----> 2\u001b[0;31m \u001b[0mdf\u001b[0m\u001b[0;34m.\u001b[0m\u001b[0minsert\u001b[0m\u001b[0;34m(\u001b[0m\u001b[0;36m1\u001b[0m\u001b[0;34m,\u001b[0m \u001b[0;34m'Model_nice_name'\u001b[0m\u001b[0;34m,\u001b[0m \u001b[0mms\u001b[0m\u001b[0;34m)\u001b[0m\u001b[0;34m\u001b[0m\u001b[0;34m\u001b[0m\u001b[0m\n\u001b[0m\u001b[1;32m      3\u001b[0m \u001b[0mdf\u001b[0m\u001b[0;34m\u001b[0m\u001b[0;34m\u001b[0m\u001b[0m\n",
            "\u001b[0;32m/usr/local/lib/python3.8/dist-packages/pandas/core/frame.py\u001b[0m in \u001b[0;36minsert\u001b[0;34m(self, loc, column, value, allow_duplicates)\u001b[0m\n\u001b[1;32m   4412\u001b[0m         \u001b[0;32mif\u001b[0m \u001b[0;32mnot\u001b[0m \u001b[0mallow_duplicates\u001b[0m \u001b[0;32mand\u001b[0m \u001b[0mcolumn\u001b[0m \u001b[0;32min\u001b[0m \u001b[0mself\u001b[0m\u001b[0;34m.\u001b[0m\u001b[0mcolumns\u001b[0m\u001b[0;34m:\u001b[0m\u001b[0;34m\u001b[0m\u001b[0;34m\u001b[0m\u001b[0m\n\u001b[1;32m   4413\u001b[0m             \u001b[0;31m# Should this be a different kind of error??\u001b[0m\u001b[0;34m\u001b[0m\u001b[0;34m\u001b[0m\u001b[0;34m\u001b[0m\u001b[0m\n\u001b[0;32m-> 4414\u001b[0;31m             \u001b[0;32mraise\u001b[0m \u001b[0mValueError\u001b[0m\u001b[0;34m(\u001b[0m\u001b[0;34mf\"cannot insert {column}, already exists\"\u001b[0m\u001b[0;34m)\u001b[0m\u001b[0;34m\u001b[0m\u001b[0;34m\u001b[0m\u001b[0m\n\u001b[0m\u001b[1;32m   4415\u001b[0m         \u001b[0;32mif\u001b[0m \u001b[0;32mnot\u001b[0m \u001b[0misinstance\u001b[0m\u001b[0;34m(\u001b[0m\u001b[0mloc\u001b[0m\u001b[0;34m,\u001b[0m \u001b[0mint\u001b[0m\u001b[0;34m)\u001b[0m\u001b[0;34m:\u001b[0m\u001b[0;34m\u001b[0m\u001b[0;34m\u001b[0m\u001b[0m\n\u001b[1;32m   4416\u001b[0m             \u001b[0;32mraise\u001b[0m \u001b[0mTypeError\u001b[0m\u001b[0;34m(\u001b[0m\u001b[0;34m\"loc must be int\"\u001b[0m\u001b[0;34m)\u001b[0m\u001b[0;34m\u001b[0m\u001b[0;34m\u001b[0m\u001b[0m\n",
            "\u001b[0;31mValueError\u001b[0m: cannot insert Model_nice_name, already exists"
          ]
        }
      ]
    },
    {
      "cell_type": "code",
      "source": [
        "df"
      ],
      "metadata": {
        "colab": {
          "base_uri": "https://localhost:8080/",
          "height": 331
        },
        "id": "iU_76POvuEop",
        "outputId": "ca70a4ea-2a75-49ff-cb4e-c2345c1c3e92"
      },
      "execution_count": null,
      "outputs": [
        {
          "output_type": "execute_result",
          "data": {
            "text/plain": [
              "                                               Model          Model_nice_name  \\\n",
              "0                                 LinearRegression()        Linear Regression   \n",
              "1                                   Ridge(alpha=0.0)         Ridge Regression   \n",
              "2                                   Lasso(alpha=0.0)                    Lasso   \n",
              "3  KNeighborsRegressor(n_neighbors=10, weights='d...      K-Nearest Regressor   \n",
              "4  (DecisionTreeRegressor(max_depth=5, max_featur...           Random Forrest   \n",
              "5  DecisionTreeRegressor(max_depth=3, max_feature...            Decision Tree   \n",
              "6                             SVR(C=10, gamma=0.001)  Support Vector Machines   \n",
              "7  ([DecisionTreeRegressor(criterion='friedman_ms...        Gradient Boosting   \n",
              "8   XGBRegressor(learning_rate=0.2, n_estimators=60)                  XGBoost   \n",
              "\n",
              "   Mean Absolute Error  Mean Squared Error      RMSE  R-squared  \n",
              "0             0.002296            0.000027  0.005171   0.989635  \n",
              "1             0.002296            0.000027  0.005172   0.989633  \n",
              "2             0.002294            0.000027  0.005173   0.989629  \n",
              "3             0.012034            0.000954  0.030890   0.630144  \n",
              "4             0.002290            0.000024  0.004866   0.990821  \n",
              "5             0.014200            0.001706  0.041304   0.338728  \n",
              "6             0.073652            0.006141  0.078362  -1.380094  \n",
              "7             0.005549            0.000158  0.012565   0.938802  \n",
              "8             0.001680            0.000024  0.004908   0.990664  "
            ],
            "text/html": [
              "\n",
              "  <div id=\"df-7fb98300-2449-490c-b2e0-4e819af373c0\">\n",
              "    <div class=\"colab-df-container\">\n",
              "      <div>\n",
              "<style scoped>\n",
              "    .dataframe tbody tr th:only-of-type {\n",
              "        vertical-align: middle;\n",
              "    }\n",
              "\n",
              "    .dataframe tbody tr th {\n",
              "        vertical-align: top;\n",
              "    }\n",
              "\n",
              "    .dataframe thead th {\n",
              "        text-align: right;\n",
              "    }\n",
              "</style>\n",
              "<table border=\"1\" class=\"dataframe\">\n",
              "  <thead>\n",
              "    <tr style=\"text-align: right;\">\n",
              "      <th></th>\n",
              "      <th>Model</th>\n",
              "      <th>Model_nice_name</th>\n",
              "      <th>Mean Absolute Error</th>\n",
              "      <th>Mean Squared Error</th>\n",
              "      <th>RMSE</th>\n",
              "      <th>R-squared</th>\n",
              "    </tr>\n",
              "  </thead>\n",
              "  <tbody>\n",
              "    <tr>\n",
              "      <th>0</th>\n",
              "      <td>LinearRegression()</td>\n",
              "      <td>Linear Regression</td>\n",
              "      <td>0.002296</td>\n",
              "      <td>0.000027</td>\n",
              "      <td>0.005171</td>\n",
              "      <td>0.989635</td>\n",
              "    </tr>\n",
              "    <tr>\n",
              "      <th>1</th>\n",
              "      <td>Ridge(alpha=0.0)</td>\n",
              "      <td>Ridge Regression</td>\n",
              "      <td>0.002296</td>\n",
              "      <td>0.000027</td>\n",
              "      <td>0.005172</td>\n",
              "      <td>0.989633</td>\n",
              "    </tr>\n",
              "    <tr>\n",
              "      <th>2</th>\n",
              "      <td>Lasso(alpha=0.0)</td>\n",
              "      <td>Lasso</td>\n",
              "      <td>0.002294</td>\n",
              "      <td>0.000027</td>\n",
              "      <td>0.005173</td>\n",
              "      <td>0.989629</td>\n",
              "    </tr>\n",
              "    <tr>\n",
              "      <th>3</th>\n",
              "      <td>KNeighborsRegressor(n_neighbors=10, weights='d...</td>\n",
              "      <td>K-Nearest Regressor</td>\n",
              "      <td>0.012034</td>\n",
              "      <td>0.000954</td>\n",
              "      <td>0.030890</td>\n",
              "      <td>0.630144</td>\n",
              "    </tr>\n",
              "    <tr>\n",
              "      <th>4</th>\n",
              "      <td>(DecisionTreeRegressor(max_depth=5, max_featur...</td>\n",
              "      <td>Random Forrest</td>\n",
              "      <td>0.002290</td>\n",
              "      <td>0.000024</td>\n",
              "      <td>0.004866</td>\n",
              "      <td>0.990821</td>\n",
              "    </tr>\n",
              "    <tr>\n",
              "      <th>5</th>\n",
              "      <td>DecisionTreeRegressor(max_depth=3, max_feature...</td>\n",
              "      <td>Decision Tree</td>\n",
              "      <td>0.014200</td>\n",
              "      <td>0.001706</td>\n",
              "      <td>0.041304</td>\n",
              "      <td>0.338728</td>\n",
              "    </tr>\n",
              "    <tr>\n",
              "      <th>6</th>\n",
              "      <td>SVR(C=10, gamma=0.001)</td>\n",
              "      <td>Support Vector Machines</td>\n",
              "      <td>0.073652</td>\n",
              "      <td>0.006141</td>\n",
              "      <td>0.078362</td>\n",
              "      <td>-1.380094</td>\n",
              "    </tr>\n",
              "    <tr>\n",
              "      <th>7</th>\n",
              "      <td>([DecisionTreeRegressor(criterion='friedman_ms...</td>\n",
              "      <td>Gradient Boosting</td>\n",
              "      <td>0.005549</td>\n",
              "      <td>0.000158</td>\n",
              "      <td>0.012565</td>\n",
              "      <td>0.938802</td>\n",
              "    </tr>\n",
              "    <tr>\n",
              "      <th>8</th>\n",
              "      <td>XGBRegressor(learning_rate=0.2, n_estimators=60)</td>\n",
              "      <td>XGBoost</td>\n",
              "      <td>0.001680</td>\n",
              "      <td>0.000024</td>\n",
              "      <td>0.004908</td>\n",
              "      <td>0.990664</td>\n",
              "    </tr>\n",
              "  </tbody>\n",
              "</table>\n",
              "</div>\n",
              "      <button class=\"colab-df-convert\" onclick=\"convertToInteractive('df-7fb98300-2449-490c-b2e0-4e819af373c0')\"\n",
              "              title=\"Convert this dataframe to an interactive table.\"\n",
              "              style=\"display:none;\">\n",
              "        \n",
              "  <svg xmlns=\"http://www.w3.org/2000/svg\" height=\"24px\"viewBox=\"0 0 24 24\"\n",
              "       width=\"24px\">\n",
              "    <path d=\"M0 0h24v24H0V0z\" fill=\"none\"/>\n",
              "    <path d=\"M18.56 5.44l.94 2.06.94-2.06 2.06-.94-2.06-.94-.94-2.06-.94 2.06-2.06.94zm-11 1L8.5 8.5l.94-2.06 2.06-.94-2.06-.94L8.5 2.5l-.94 2.06-2.06.94zm10 10l.94 2.06.94-2.06 2.06-.94-2.06-.94-.94-2.06-.94 2.06-2.06.94z\"/><path d=\"M17.41 7.96l-1.37-1.37c-.4-.4-.92-.59-1.43-.59-.52 0-1.04.2-1.43.59L10.3 9.45l-7.72 7.72c-.78.78-.78 2.05 0 2.83L4 21.41c.39.39.9.59 1.41.59.51 0 1.02-.2 1.41-.59l7.78-7.78 2.81-2.81c.8-.78.8-2.07 0-2.86zM5.41 20L4 18.59l7.72-7.72 1.47 1.35L5.41 20z\"/>\n",
              "  </svg>\n",
              "      </button>\n",
              "      \n",
              "  <style>\n",
              "    .colab-df-container {\n",
              "      display:flex;\n",
              "      flex-wrap:wrap;\n",
              "      gap: 12px;\n",
              "    }\n",
              "\n",
              "    .colab-df-convert {\n",
              "      background-color: #E8F0FE;\n",
              "      border: none;\n",
              "      border-radius: 50%;\n",
              "      cursor: pointer;\n",
              "      display: none;\n",
              "      fill: #1967D2;\n",
              "      height: 32px;\n",
              "      padding: 0 0 0 0;\n",
              "      width: 32px;\n",
              "    }\n",
              "\n",
              "    .colab-df-convert:hover {\n",
              "      background-color: #E2EBFA;\n",
              "      box-shadow: 0px 1px 2px rgba(60, 64, 67, 0.3), 0px 1px 3px 1px rgba(60, 64, 67, 0.15);\n",
              "      fill: #174EA6;\n",
              "    }\n",
              "\n",
              "    [theme=dark] .colab-df-convert {\n",
              "      background-color: #3B4455;\n",
              "      fill: #D2E3FC;\n",
              "    }\n",
              "\n",
              "    [theme=dark] .colab-df-convert:hover {\n",
              "      background-color: #434B5C;\n",
              "      box-shadow: 0px 1px 3px 1px rgba(0, 0, 0, 0.15);\n",
              "      filter: drop-shadow(0px 1px 2px rgba(0, 0, 0, 0.3));\n",
              "      fill: #FFFFFF;\n",
              "    }\n",
              "  </style>\n",
              "\n",
              "      <script>\n",
              "        const buttonEl =\n",
              "          document.querySelector('#df-7fb98300-2449-490c-b2e0-4e819af373c0 button.colab-df-convert');\n",
              "        buttonEl.style.display =\n",
              "          google.colab.kernel.accessAllowed ? 'block' : 'none';\n",
              "\n",
              "        async function convertToInteractive(key) {\n",
              "          const element = document.querySelector('#df-7fb98300-2449-490c-b2e0-4e819af373c0');\n",
              "          const dataTable =\n",
              "            await google.colab.kernel.invokeFunction('convertToInteractive',\n",
              "                                                     [key], {});\n",
              "          if (!dataTable) return;\n",
              "\n",
              "          const docLinkHtml = 'Like what you see? Visit the ' +\n",
              "            '<a target=\"_blank\" href=https://colab.research.google.com/notebooks/data_table.ipynb>data table notebook</a>'\n",
              "            + ' to learn more about interactive tables.';\n",
              "          element.innerHTML = '';\n",
              "          dataTable['output_type'] = 'display_data';\n",
              "          await google.colab.output.renderOutput(dataTable, element);\n",
              "          const docLink = document.createElement('div');\n",
              "          docLink.innerHTML = docLinkHtml;\n",
              "          element.appendChild(docLink);\n",
              "        }\n",
              "      </script>\n",
              "    </div>\n",
              "  </div>\n",
              "  "
            ]
          },
          "metadata": {},
          "execution_count": 39
        }
      ]
    },
    {
      "cell_type": "code",
      "source": [
        "from google.colab import files\n",
        "df.to_csv('Tuned_models_results.csv', index=None)\n",
        "files.download(\"Tuned_models_results.csv\")"
      ],
      "metadata": {
        "colab": {
          "base_uri": "https://localhost:8080/",
          "height": 17
        },
        "id": "T26UbC5QtoZT",
        "outputId": "0263a133-e702-4e2a-d0df-81953847bc42"
      },
      "execution_count": null,
      "outputs": [
        {
          "output_type": "display_data",
          "data": {
            "text/plain": [
              "<IPython.core.display.Javascript object>"
            ],
            "application/javascript": [
              "\n",
              "    async function download(id, filename, size) {\n",
              "      if (!google.colab.kernel.accessAllowed) {\n",
              "        return;\n",
              "      }\n",
              "      const div = document.createElement('div');\n",
              "      const label = document.createElement('label');\n",
              "      label.textContent = `Downloading \"${filename}\": `;\n",
              "      div.appendChild(label);\n",
              "      const progress = document.createElement('progress');\n",
              "      progress.max = size;\n",
              "      div.appendChild(progress);\n",
              "      document.body.appendChild(div);\n",
              "\n",
              "      const buffers = [];\n",
              "      let downloaded = 0;\n",
              "\n",
              "      const channel = await google.colab.kernel.comms.open(id);\n",
              "      // Send a message to notify the kernel that we're ready.\n",
              "      channel.send({})\n",
              "\n",
              "      for await (const message of channel.messages) {\n",
              "        // Send a message to notify the kernel that we're ready.\n",
              "        channel.send({})\n",
              "        if (message.buffers) {\n",
              "          for (const buffer of message.buffers) {\n",
              "            buffers.push(buffer);\n",
              "            downloaded += buffer.byteLength;\n",
              "            progress.value = downloaded;\n",
              "          }\n",
              "        }\n",
              "      }\n",
              "      const blob = new Blob(buffers, {type: 'application/binary'});\n",
              "      const a = document.createElement('a');\n",
              "      a.href = window.URL.createObjectURL(blob);\n",
              "      a.download = filename;\n",
              "      div.appendChild(a);\n",
              "      a.click();\n",
              "      div.remove();\n",
              "    }\n",
              "  "
            ]
          },
          "metadata": {}
        },
        {
          "output_type": "display_data",
          "data": {
            "text/plain": [
              "<IPython.core.display.Javascript object>"
            ],
            "application/javascript": [
              "download(\"download_0ecee2fc-b906-4a58-825e-14c85300878f\", \"Tuned_models_results.csv\", 1396)"
            ]
          },
          "metadata": {}
        }
      ]
    }
  ]
}
