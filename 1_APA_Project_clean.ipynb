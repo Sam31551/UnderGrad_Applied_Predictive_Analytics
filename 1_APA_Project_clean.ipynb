{
  "nbformat": 4,
  "nbformat_minor": 0,
  "metadata": {
    "colab": {
      "provenance": []
    },
    "kernelspec": {
      "name": "python3",
      "display_name": "Python 3"
    },
    "language_info": {
      "name": "python"
    }
  },
  "cells": [
    {
      "cell_type": "markdown",
      "source": [
        "# **APA Project**"
      ],
      "metadata": {
        "id": "14jl2ivPgjjr"
      }
    },
    {
      "cell_type": "markdown",
      "source": [
        "**Read in data**"
      ],
      "metadata": {
        "id": "i6W2lfgnvNJx"
      }
    },
    {
      "cell_type": "code",
      "execution_count": null,
      "metadata": {
        "colab": {
          "base_uri": "https://localhost:8080/",
          "height": 358
        },
        "id": "KS5kG_NfgL_g",
        "outputId": "885ec95e-d15d-45fe-9a8a-9215da9e064e"
      },
      "outputs": [
        {
          "output_type": "execute_result",
          "data": {
            "text/plain": [
              "   sofifa_id                                         player_url  \\\n",
              "0     158023  https://sofifa.com/player/158023/lionel-messi/...   \n",
              "1     188545  https://sofifa.com/player/188545/robert-lewand...   \n",
              "2      20801  https://sofifa.com/player/20801/c-ronaldo-dos-...   \n",
              "\n",
              "          short_name                            long_name player_positions  \\\n",
              "0           L. Messi       Lionel Andrés Messi Cuccittini       RW, ST, CF   \n",
              "1     R. Lewandowski                   Robert Lewandowski               ST   \n",
              "2  Cristiano Ronaldo  Cristiano Ronaldo dos Santos Aveiro           ST, LW   \n",
              "\n",
              "   overall  potential    value_eur  wage_eur   age  ...   lcb    cb   rcb  \\\n",
              "0     93.0       93.0   78000000.0  320000.0  34.0  ...  50+3  50+3  50+3   \n",
              "1     92.0       92.0  119500000.0  270000.0  32.0  ...  60+3  60+3  60+3   \n",
              "2     91.0       91.0   45000000.0  270000.0  36.0  ...  53+3  53+3  53+3   \n",
              "\n",
              "     rb    gk                                    player_face_url  \\\n",
              "0  61+3  19+3  https://cdn.sofifa.net/players/158/023/22_120.png   \n",
              "1  61+3  19+3  https://cdn.sofifa.net/players/188/545/22_120.png   \n",
              "2  60+3  20+3  https://cdn.sofifa.net/players/020/801/22_120.png   \n",
              "\n",
              "                            club_logo_url  \\\n",
              "0  https://cdn.sofifa.net/teams/73/60.png   \n",
              "1  https://cdn.sofifa.net/teams/21/60.png   \n",
              "2  https://cdn.sofifa.net/teams/11/60.png   \n",
              "\n",
              "                             club_flag_url  \\\n",
              "0      https://cdn.sofifa.net/flags/fr.png   \n",
              "1      https://cdn.sofifa.net/flags/de.png   \n",
              "2  https://cdn.sofifa.net/flags/gb-eng.png   \n",
              "\n",
              "                            nation_logo_url  \\\n",
              "0  https://cdn.sofifa.net/teams/1369/60.png   \n",
              "1  https://cdn.sofifa.net/teams/1353/60.png   \n",
              "2  https://cdn.sofifa.net/teams/1354/60.png   \n",
              "\n",
              "                       nation_flag_url  \n",
              "0  https://cdn.sofifa.net/flags/ar.png  \n",
              "1  https://cdn.sofifa.net/flags/pl.png  \n",
              "2  https://cdn.sofifa.net/flags/pt.png  \n",
              "\n",
              "[3 rows x 110 columns]"
            ],
            "text/html": [
              "\n",
              "  <div id=\"df-72c94852-e31f-4efc-9569-8b8e014577f4\">\n",
              "    <div class=\"colab-df-container\">\n",
              "      <div>\n",
              "<style scoped>\n",
              "    .dataframe tbody tr th:only-of-type {\n",
              "        vertical-align: middle;\n",
              "    }\n",
              "\n",
              "    .dataframe tbody tr th {\n",
              "        vertical-align: top;\n",
              "    }\n",
              "\n",
              "    .dataframe thead th {\n",
              "        text-align: right;\n",
              "    }\n",
              "</style>\n",
              "<table border=\"1\" class=\"dataframe\">\n",
              "  <thead>\n",
              "    <tr style=\"text-align: right;\">\n",
              "      <th></th>\n",
              "      <th>sofifa_id</th>\n",
              "      <th>player_url</th>\n",
              "      <th>short_name</th>\n",
              "      <th>long_name</th>\n",
              "      <th>player_positions</th>\n",
              "      <th>overall</th>\n",
              "      <th>potential</th>\n",
              "      <th>value_eur</th>\n",
              "      <th>wage_eur</th>\n",
              "      <th>age</th>\n",
              "      <th>...</th>\n",
              "      <th>lcb</th>\n",
              "      <th>cb</th>\n",
              "      <th>rcb</th>\n",
              "      <th>rb</th>\n",
              "      <th>gk</th>\n",
              "      <th>player_face_url</th>\n",
              "      <th>club_logo_url</th>\n",
              "      <th>club_flag_url</th>\n",
              "      <th>nation_logo_url</th>\n",
              "      <th>nation_flag_url</th>\n",
              "    </tr>\n",
              "  </thead>\n",
              "  <tbody>\n",
              "    <tr>\n",
              "      <th>0</th>\n",
              "      <td>158023</td>\n",
              "      <td>https://sofifa.com/player/158023/lionel-messi/...</td>\n",
              "      <td>L. Messi</td>\n",
              "      <td>Lionel Andrés Messi Cuccittini</td>\n",
              "      <td>RW, ST, CF</td>\n",
              "      <td>93.0</td>\n",
              "      <td>93.0</td>\n",
              "      <td>78000000.0</td>\n",
              "      <td>320000.0</td>\n",
              "      <td>34.0</td>\n",
              "      <td>...</td>\n",
              "      <td>50+3</td>\n",
              "      <td>50+3</td>\n",
              "      <td>50+3</td>\n",
              "      <td>61+3</td>\n",
              "      <td>19+3</td>\n",
              "      <td>https://cdn.sofifa.net/players/158/023/22_120.png</td>\n",
              "      <td>https://cdn.sofifa.net/teams/73/60.png</td>\n",
              "      <td>https://cdn.sofifa.net/flags/fr.png</td>\n",
              "      <td>https://cdn.sofifa.net/teams/1369/60.png</td>\n",
              "      <td>https://cdn.sofifa.net/flags/ar.png</td>\n",
              "    </tr>\n",
              "    <tr>\n",
              "      <th>1</th>\n",
              "      <td>188545</td>\n",
              "      <td>https://sofifa.com/player/188545/robert-lewand...</td>\n",
              "      <td>R. Lewandowski</td>\n",
              "      <td>Robert Lewandowski</td>\n",
              "      <td>ST</td>\n",
              "      <td>92.0</td>\n",
              "      <td>92.0</td>\n",
              "      <td>119500000.0</td>\n",
              "      <td>270000.0</td>\n",
              "      <td>32.0</td>\n",
              "      <td>...</td>\n",
              "      <td>60+3</td>\n",
              "      <td>60+3</td>\n",
              "      <td>60+3</td>\n",
              "      <td>61+3</td>\n",
              "      <td>19+3</td>\n",
              "      <td>https://cdn.sofifa.net/players/188/545/22_120.png</td>\n",
              "      <td>https://cdn.sofifa.net/teams/21/60.png</td>\n",
              "      <td>https://cdn.sofifa.net/flags/de.png</td>\n",
              "      <td>https://cdn.sofifa.net/teams/1353/60.png</td>\n",
              "      <td>https://cdn.sofifa.net/flags/pl.png</td>\n",
              "    </tr>\n",
              "    <tr>\n",
              "      <th>2</th>\n",
              "      <td>20801</td>\n",
              "      <td>https://sofifa.com/player/20801/c-ronaldo-dos-...</td>\n",
              "      <td>Cristiano Ronaldo</td>\n",
              "      <td>Cristiano Ronaldo dos Santos Aveiro</td>\n",
              "      <td>ST, LW</td>\n",
              "      <td>91.0</td>\n",
              "      <td>91.0</td>\n",
              "      <td>45000000.0</td>\n",
              "      <td>270000.0</td>\n",
              "      <td>36.0</td>\n",
              "      <td>...</td>\n",
              "      <td>53+3</td>\n",
              "      <td>53+3</td>\n",
              "      <td>53+3</td>\n",
              "      <td>60+3</td>\n",
              "      <td>20+3</td>\n",
              "      <td>https://cdn.sofifa.net/players/020/801/22_120.png</td>\n",
              "      <td>https://cdn.sofifa.net/teams/11/60.png</td>\n",
              "      <td>https://cdn.sofifa.net/flags/gb-eng.png</td>\n",
              "      <td>https://cdn.sofifa.net/teams/1354/60.png</td>\n",
              "      <td>https://cdn.sofifa.net/flags/pt.png</td>\n",
              "    </tr>\n",
              "  </tbody>\n",
              "</table>\n",
              "<p>3 rows × 110 columns</p>\n",
              "</div>\n",
              "      <button class=\"colab-df-convert\" onclick=\"convertToInteractive('df-72c94852-e31f-4efc-9569-8b8e014577f4')\"\n",
              "              title=\"Convert this dataframe to an interactive table.\"\n",
              "              style=\"display:none;\">\n",
              "        \n",
              "  <svg xmlns=\"http://www.w3.org/2000/svg\" height=\"24px\"viewBox=\"0 0 24 24\"\n",
              "       width=\"24px\">\n",
              "    <path d=\"M0 0h24v24H0V0z\" fill=\"none\"/>\n",
              "    <path d=\"M18.56 5.44l.94 2.06.94-2.06 2.06-.94-2.06-.94-.94-2.06-.94 2.06-2.06.94zm-11 1L8.5 8.5l.94-2.06 2.06-.94-2.06-.94L8.5 2.5l-.94 2.06-2.06.94zm10 10l.94 2.06.94-2.06 2.06-.94-2.06-.94-.94-2.06-.94 2.06-2.06.94z\"/><path d=\"M17.41 7.96l-1.37-1.37c-.4-.4-.92-.59-1.43-.59-.52 0-1.04.2-1.43.59L10.3 9.45l-7.72 7.72c-.78.78-.78 2.05 0 2.83L4 21.41c.39.39.9.59 1.41.59.51 0 1.02-.2 1.41-.59l7.78-7.78 2.81-2.81c.8-.78.8-2.07 0-2.86zM5.41 20L4 18.59l7.72-7.72 1.47 1.35L5.41 20z\"/>\n",
              "  </svg>\n",
              "      </button>\n",
              "      \n",
              "  <style>\n",
              "    .colab-df-container {\n",
              "      display:flex;\n",
              "      flex-wrap:wrap;\n",
              "      gap: 12px;\n",
              "    }\n",
              "\n",
              "    .colab-df-convert {\n",
              "      background-color: #E8F0FE;\n",
              "      border: none;\n",
              "      border-radius: 50%;\n",
              "      cursor: pointer;\n",
              "      display: none;\n",
              "      fill: #1967D2;\n",
              "      height: 32px;\n",
              "      padding: 0 0 0 0;\n",
              "      width: 32px;\n",
              "    }\n",
              "\n",
              "    .colab-df-convert:hover {\n",
              "      background-color: #E2EBFA;\n",
              "      box-shadow: 0px 1px 2px rgba(60, 64, 67, 0.3), 0px 1px 3px 1px rgba(60, 64, 67, 0.15);\n",
              "      fill: #174EA6;\n",
              "    }\n",
              "\n",
              "    [theme=dark] .colab-df-convert {\n",
              "      background-color: #3B4455;\n",
              "      fill: #D2E3FC;\n",
              "    }\n",
              "\n",
              "    [theme=dark] .colab-df-convert:hover {\n",
              "      background-color: #434B5C;\n",
              "      box-shadow: 0px 1px 3px 1px rgba(0, 0, 0, 0.15);\n",
              "      filter: drop-shadow(0px 1px 2px rgba(0, 0, 0, 0.3));\n",
              "      fill: #FFFFFF;\n",
              "    }\n",
              "  </style>\n",
              "\n",
              "      <script>\n",
              "        const buttonEl =\n",
              "          document.querySelector('#df-72c94852-e31f-4efc-9569-8b8e014577f4 button.colab-df-convert');\n",
              "        buttonEl.style.display =\n",
              "          google.colab.kernel.accessAllowed ? 'block' : 'none';\n",
              "\n",
              "        async function convertToInteractive(key) {\n",
              "          const element = document.querySelector('#df-72c94852-e31f-4efc-9569-8b8e014577f4');\n",
              "          const dataTable =\n",
              "            await google.colab.kernel.invokeFunction('convertToInteractive',\n",
              "                                                     [key], {});\n",
              "          if (!dataTable) return;\n",
              "\n",
              "          const docLinkHtml = 'Like what you see? Visit the ' +\n",
              "            '<a target=\"_blank\" href=https://colab.research.google.com/notebooks/data_table.ipynb>data table notebook</a>'\n",
              "            + ' to learn more about interactive tables.';\n",
              "          element.innerHTML = '';\n",
              "          dataTable['output_type'] = 'display_data';\n",
              "          await google.colab.output.renderOutput(dataTable, element);\n",
              "          const docLink = document.createElement('div');\n",
              "          docLink.innerHTML = docLinkHtml;\n",
              "          element.appendChild(docLink);\n",
              "        }\n",
              "      </script>\n",
              "    </div>\n",
              "  </div>\n",
              "  "
            ]
          },
          "metadata": {},
          "execution_count": 2
        }
      ],
      "source": [
        "import pandas as pd\n",
        "data = pd.read_csv('players_22.csv')\n",
        "data.head(3)"
      ]
    },
    {
      "cell_type": "code",
      "source": [
        "data.shape"
      ],
      "metadata": {
        "colab": {
          "base_uri": "https://localhost:8080/"
        },
        "id": "FZjtlSNW1gb4",
        "outputId": "01e5aef1-6646-4367-f1e9-7f40ad6d5fd6"
      },
      "execution_count": null,
      "outputs": [
        {
          "output_type": "execute_result",
          "data": {
            "text/plain": [
              "(11698, 110)"
            ]
          },
          "metadata": {},
          "execution_count": 3
        }
      ]
    },
    {
      "cell_type": "markdown",
      "source": [
        "# **Data Cleaning**"
      ],
      "metadata": {
        "id": "WgujNrwuwosc"
      }
    },
    {
      "cell_type": "code",
      "source": [
        "#Drop Goalkeepers\n",
        "data.drop(data[data['player_positions'] == 'GK'].index, inplace=True)"
      ],
      "metadata": {
        "id": "1HZIrocuwgwn"
      },
      "execution_count": null,
      "outputs": []
    },
    {
      "cell_type": "code",
      "source": [
        "#Remove columns with external links - no use in machine learning\n",
        "data = data[data.columns.drop(list(data.filter(regex='url')))]"
      ],
      "metadata": {
        "id": "gFTFnZLuw2Ne"
      },
      "execution_count": null,
      "outputs": []
    },
    {
      "cell_type": "code",
      "source": [
        "#Drop columns where target variable is not stored\n",
        "data = data.dropna(subset=['value_eur'])"
      ],
      "metadata": {
        "id": "LNjN86RExJGV"
      },
      "execution_count": null,
      "outputs": []
    },
    {
      "cell_type": "code",
      "source": [
        "#Drop columns not needed: jerseys, names, goalkeeping statistics, club/nationality stats, id, real face in game\n",
        "data = data.drop(['long_name', 'dob', 'nation_jersey_number', 'short_name', 'club_jersey_number', 'sofifa_id', 'real_face', 'gk',\n",
        " 'goalkeeping_diving','goalkeeping_handling','goalkeeping_kicking','goalkeeping_positioning','goalkeeping_reflexes', \n",
        " 'goalkeeping_speed', 'nationality_id', 'player_tags', 'player_traits', 'club_name', 'club_loaned_from', 'club_joined',\n",
        "  'league_name', 'player_positions', 'nationality_name', 'body_type'  ], axis=1)\n",
        "data.head()"
      ],
      "metadata": {
        "colab": {
          "base_uri": "https://localhost:8080/",
          "height": 235
        },
        "id": "8k2InjYExtVa",
        "outputId": "57003eac-a469-4dfa-df29-e55f385168e5"
      },
      "execution_count": null,
      "outputs": [
        {
          "output_type": "execute_result",
          "data": {
            "text/plain": [
              "   overall  potential    value_eur  wage_eur   age  height_cm  weight_kg  \\\n",
              "0     93.0       93.0   78000000.0  320000.0  34.0      170.0       72.0   \n",
              "1     92.0       92.0  119500000.0  270000.0  32.0      185.0       81.0   \n",
              "2     91.0       91.0   45000000.0  270000.0  36.0      187.0       83.0   \n",
              "3     91.0       91.0  129000000.0  270000.0  29.0      175.0       68.0   \n",
              "4     91.0       91.0  125500000.0  350000.0  30.0      181.0       70.0   \n",
              "\n",
              "   club_team_id  league_level club_position  ...   lwb   ldm   cdm   rdm  \\\n",
              "0          73.0           1.0            RW  ...  66+3  64+3  64+3  64+3   \n",
              "1          21.0           1.0            ST  ...  64+3  66+3  66+3  66+3   \n",
              "2          11.0           1.0            ST  ...  63+3  59+3  59+3  59+3   \n",
              "3          73.0           1.0            LW  ...  67+3  63+3  63+3  63+3   \n",
              "4          10.0           1.0           RCM  ...  79+3  80+3  80+3  80+3   \n",
              "\n",
              "    rwb    lb   lcb    cb   rcb    rb  \n",
              "0  66+3  61+3  50+3  50+3  50+3  61+3  \n",
              "1  64+3  61+3  60+3  60+3  60+3  61+3  \n",
              "2  63+3  60+3  53+3  53+3  53+3  60+3  \n",
              "3  67+3  62+3  50+3  50+3  50+3  62+3  \n",
              "4  79+3  75+3  69+3  69+3  69+3  75+3  \n",
              "\n",
              "[5 rows x 80 columns]"
            ],
            "text/html": [
              "\n",
              "  <div id=\"df-264c78c5-63fa-445f-bc13-44a986a07d63\">\n",
              "    <div class=\"colab-df-container\">\n",
              "      <div>\n",
              "<style scoped>\n",
              "    .dataframe tbody tr th:only-of-type {\n",
              "        vertical-align: middle;\n",
              "    }\n",
              "\n",
              "    .dataframe tbody tr th {\n",
              "        vertical-align: top;\n",
              "    }\n",
              "\n",
              "    .dataframe thead th {\n",
              "        text-align: right;\n",
              "    }\n",
              "</style>\n",
              "<table border=\"1\" class=\"dataframe\">\n",
              "  <thead>\n",
              "    <tr style=\"text-align: right;\">\n",
              "      <th></th>\n",
              "      <th>overall</th>\n",
              "      <th>potential</th>\n",
              "      <th>value_eur</th>\n",
              "      <th>wage_eur</th>\n",
              "      <th>age</th>\n",
              "      <th>height_cm</th>\n",
              "      <th>weight_kg</th>\n",
              "      <th>club_team_id</th>\n",
              "      <th>league_level</th>\n",
              "      <th>club_position</th>\n",
              "      <th>...</th>\n",
              "      <th>lwb</th>\n",
              "      <th>ldm</th>\n",
              "      <th>cdm</th>\n",
              "      <th>rdm</th>\n",
              "      <th>rwb</th>\n",
              "      <th>lb</th>\n",
              "      <th>lcb</th>\n",
              "      <th>cb</th>\n",
              "      <th>rcb</th>\n",
              "      <th>rb</th>\n",
              "    </tr>\n",
              "  </thead>\n",
              "  <tbody>\n",
              "    <tr>\n",
              "      <th>0</th>\n",
              "      <td>93.0</td>\n",
              "      <td>93.0</td>\n",
              "      <td>78000000.0</td>\n",
              "      <td>320000.0</td>\n",
              "      <td>34.0</td>\n",
              "      <td>170.0</td>\n",
              "      <td>72.0</td>\n",
              "      <td>73.0</td>\n",
              "      <td>1.0</td>\n",
              "      <td>RW</td>\n",
              "      <td>...</td>\n",
              "      <td>66+3</td>\n",
              "      <td>64+3</td>\n",
              "      <td>64+3</td>\n",
              "      <td>64+3</td>\n",
              "      <td>66+3</td>\n",
              "      <td>61+3</td>\n",
              "      <td>50+3</td>\n",
              "      <td>50+3</td>\n",
              "      <td>50+3</td>\n",
              "      <td>61+3</td>\n",
              "    </tr>\n",
              "    <tr>\n",
              "      <th>1</th>\n",
              "      <td>92.0</td>\n",
              "      <td>92.0</td>\n",
              "      <td>119500000.0</td>\n",
              "      <td>270000.0</td>\n",
              "      <td>32.0</td>\n",
              "      <td>185.0</td>\n",
              "      <td>81.0</td>\n",
              "      <td>21.0</td>\n",
              "      <td>1.0</td>\n",
              "      <td>ST</td>\n",
              "      <td>...</td>\n",
              "      <td>64+3</td>\n",
              "      <td>66+3</td>\n",
              "      <td>66+3</td>\n",
              "      <td>66+3</td>\n",
              "      <td>64+3</td>\n",
              "      <td>61+3</td>\n",
              "      <td>60+3</td>\n",
              "      <td>60+3</td>\n",
              "      <td>60+3</td>\n",
              "      <td>61+3</td>\n",
              "    </tr>\n",
              "    <tr>\n",
              "      <th>2</th>\n",
              "      <td>91.0</td>\n",
              "      <td>91.0</td>\n",
              "      <td>45000000.0</td>\n",
              "      <td>270000.0</td>\n",
              "      <td>36.0</td>\n",
              "      <td>187.0</td>\n",
              "      <td>83.0</td>\n",
              "      <td>11.0</td>\n",
              "      <td>1.0</td>\n",
              "      <td>ST</td>\n",
              "      <td>...</td>\n",
              "      <td>63+3</td>\n",
              "      <td>59+3</td>\n",
              "      <td>59+3</td>\n",
              "      <td>59+3</td>\n",
              "      <td>63+3</td>\n",
              "      <td>60+3</td>\n",
              "      <td>53+3</td>\n",
              "      <td>53+3</td>\n",
              "      <td>53+3</td>\n",
              "      <td>60+3</td>\n",
              "    </tr>\n",
              "    <tr>\n",
              "      <th>3</th>\n",
              "      <td>91.0</td>\n",
              "      <td>91.0</td>\n",
              "      <td>129000000.0</td>\n",
              "      <td>270000.0</td>\n",
              "      <td>29.0</td>\n",
              "      <td>175.0</td>\n",
              "      <td>68.0</td>\n",
              "      <td>73.0</td>\n",
              "      <td>1.0</td>\n",
              "      <td>LW</td>\n",
              "      <td>...</td>\n",
              "      <td>67+3</td>\n",
              "      <td>63+3</td>\n",
              "      <td>63+3</td>\n",
              "      <td>63+3</td>\n",
              "      <td>67+3</td>\n",
              "      <td>62+3</td>\n",
              "      <td>50+3</td>\n",
              "      <td>50+3</td>\n",
              "      <td>50+3</td>\n",
              "      <td>62+3</td>\n",
              "    </tr>\n",
              "    <tr>\n",
              "      <th>4</th>\n",
              "      <td>91.0</td>\n",
              "      <td>91.0</td>\n",
              "      <td>125500000.0</td>\n",
              "      <td>350000.0</td>\n",
              "      <td>30.0</td>\n",
              "      <td>181.0</td>\n",
              "      <td>70.0</td>\n",
              "      <td>10.0</td>\n",
              "      <td>1.0</td>\n",
              "      <td>RCM</td>\n",
              "      <td>...</td>\n",
              "      <td>79+3</td>\n",
              "      <td>80+3</td>\n",
              "      <td>80+3</td>\n",
              "      <td>80+3</td>\n",
              "      <td>79+3</td>\n",
              "      <td>75+3</td>\n",
              "      <td>69+3</td>\n",
              "      <td>69+3</td>\n",
              "      <td>69+3</td>\n",
              "      <td>75+3</td>\n",
              "    </tr>\n",
              "  </tbody>\n",
              "</table>\n",
              "<p>5 rows × 80 columns</p>\n",
              "</div>\n",
              "      <button class=\"colab-df-convert\" onclick=\"convertToInteractive('df-264c78c5-63fa-445f-bc13-44a986a07d63')\"\n",
              "              title=\"Convert this dataframe to an interactive table.\"\n",
              "              style=\"display:none;\">\n",
              "        \n",
              "  <svg xmlns=\"http://www.w3.org/2000/svg\" height=\"24px\"viewBox=\"0 0 24 24\"\n",
              "       width=\"24px\">\n",
              "    <path d=\"M0 0h24v24H0V0z\" fill=\"none\"/>\n",
              "    <path d=\"M18.56 5.44l.94 2.06.94-2.06 2.06-.94-2.06-.94-.94-2.06-.94 2.06-2.06.94zm-11 1L8.5 8.5l.94-2.06 2.06-.94-2.06-.94L8.5 2.5l-.94 2.06-2.06.94zm10 10l.94 2.06.94-2.06 2.06-.94-2.06-.94-.94-2.06-.94 2.06-2.06.94z\"/><path d=\"M17.41 7.96l-1.37-1.37c-.4-.4-.92-.59-1.43-.59-.52 0-1.04.2-1.43.59L10.3 9.45l-7.72 7.72c-.78.78-.78 2.05 0 2.83L4 21.41c.39.39.9.59 1.41.59.51 0 1.02-.2 1.41-.59l7.78-7.78 2.81-2.81c.8-.78.8-2.07 0-2.86zM5.41 20L4 18.59l7.72-7.72 1.47 1.35L5.41 20z\"/>\n",
              "  </svg>\n",
              "      </button>\n",
              "      \n",
              "  <style>\n",
              "    .colab-df-container {\n",
              "      display:flex;\n",
              "      flex-wrap:wrap;\n",
              "      gap: 12px;\n",
              "    }\n",
              "\n",
              "    .colab-df-convert {\n",
              "      background-color: #E8F0FE;\n",
              "      border: none;\n",
              "      border-radius: 50%;\n",
              "      cursor: pointer;\n",
              "      display: none;\n",
              "      fill: #1967D2;\n",
              "      height: 32px;\n",
              "      padding: 0 0 0 0;\n",
              "      width: 32px;\n",
              "    }\n",
              "\n",
              "    .colab-df-convert:hover {\n",
              "      background-color: #E2EBFA;\n",
              "      box-shadow: 0px 1px 2px rgba(60, 64, 67, 0.3), 0px 1px 3px 1px rgba(60, 64, 67, 0.15);\n",
              "      fill: #174EA6;\n",
              "    }\n",
              "\n",
              "    [theme=dark] .colab-df-convert {\n",
              "      background-color: #3B4455;\n",
              "      fill: #D2E3FC;\n",
              "    }\n",
              "\n",
              "    [theme=dark] .colab-df-convert:hover {\n",
              "      background-color: #434B5C;\n",
              "      box-shadow: 0px 1px 3px 1px rgba(0, 0, 0, 0.15);\n",
              "      filter: drop-shadow(0px 1px 2px rgba(0, 0, 0, 0.3));\n",
              "      fill: #FFFFFF;\n",
              "    }\n",
              "  </style>\n",
              "\n",
              "      <script>\n",
              "        const buttonEl =\n",
              "          document.querySelector('#df-264c78c5-63fa-445f-bc13-44a986a07d63 button.colab-df-convert');\n",
              "        buttonEl.style.display =\n",
              "          google.colab.kernel.accessAllowed ? 'block' : 'none';\n",
              "\n",
              "        async function convertToInteractive(key) {\n",
              "          const element = document.querySelector('#df-264c78c5-63fa-445f-bc13-44a986a07d63');\n",
              "          const dataTable =\n",
              "            await google.colab.kernel.invokeFunction('convertToInteractive',\n",
              "                                                     [key], {});\n",
              "          if (!dataTable) return;\n",
              "\n",
              "          const docLinkHtml = 'Like what you see? Visit the ' +\n",
              "            '<a target=\"_blank\" href=https://colab.research.google.com/notebooks/data_table.ipynb>data table notebook</a>'\n",
              "            + ' to learn more about interactive tables.';\n",
              "          element.innerHTML = '';\n",
              "          dataTable['output_type'] = 'display_data';\n",
              "          await google.colab.output.renderOutput(dataTable, element);\n",
              "          const docLink = document.createElement('div');\n",
              "          docLink.innerHTML = docLinkHtml;\n",
              "          element.appendChild(docLink);\n",
              "        }\n",
              "      </script>\n",
              "    </div>\n",
              "  </div>\n",
              "  "
            ]
          },
          "metadata": {},
          "execution_count": 7
        }
      ]
    },
    {
      "cell_type": "code",
      "source": [
        "#Identify positional columns\n",
        "data.columns[50:100]"
      ],
      "metadata": {
        "colab": {
          "base_uri": "https://localhost:8080/"
        },
        "id": "BNXGbGZOyatl",
        "outputId": "1645c092-3221-4fb0-b812-ed33634cac85"
      },
      "execution_count": null,
      "outputs": [
        {
          "output_type": "execute_result",
          "data": {
            "text/plain": [
              "Index(['mentality_composure', 'defending_marking_awareness',\n",
              "       'defending_standing_tackle', 'defending_sliding_tackle', 'ls', 'st',\n",
              "       'rs', 'lw', 'lf', 'cf', 'rf', 'rw', 'lam', 'cam', 'ram', 'lm', 'lcm',\n",
              "       'cm', 'rcm', 'rm', 'lwb', 'ldm', 'cdm', 'rdm', 'rwb', 'lb', 'lcb', 'cb',\n",
              "       'rcb', 'rb'],\n",
              "      dtype='object')"
            ]
          },
          "metadata": {},
          "execution_count": 8
        }
      ]
    },
    {
      "cell_type": "code",
      "source": [
        "#Drop positional columns\n",
        "data = data.loc[:, :'defending_sliding_tackle']"
      ],
      "metadata": {
        "id": "fyUN8D9uyhsg"
      },
      "execution_count": null,
      "outputs": []
    },
    {
      "cell_type": "code",
      "source": [
        "#View dtypes of all variables\n",
        "dtypes = data.dtypes\n",
        "dtypes = dtypes.tolist()\n",
        "dtypes"
      ],
      "metadata": {
        "colab": {
          "base_uri": "https://localhost:8080/"
        },
        "id": "Mr7f5l_TzB0Z",
        "outputId": "0d5f014e-a395-40c2-cebd-803f869759b9"
      },
      "execution_count": null,
      "outputs": [
        {
          "output_type": "execute_result",
          "data": {
            "text/plain": [
              "[dtype('float64'),\n",
              " dtype('float64'),\n",
              " dtype('float64'),\n",
              " dtype('float64'),\n",
              " dtype('float64'),\n",
              " dtype('float64'),\n",
              " dtype('float64'),\n",
              " dtype('float64'),\n",
              " dtype('float64'),\n",
              " dtype('O'),\n",
              " dtype('float64'),\n",
              " dtype('float64'),\n",
              " dtype('O'),\n",
              " dtype('O'),\n",
              " dtype('float64'),\n",
              " dtype('float64'),\n",
              " dtype('float64'),\n",
              " dtype('O'),\n",
              " dtype('float64'),\n",
              " dtype('float64'),\n",
              " dtype('float64'),\n",
              " dtype('float64'),\n",
              " dtype('float64'),\n",
              " dtype('float64'),\n",
              " dtype('float64'),\n",
              " dtype('float64'),\n",
              " dtype('float64'),\n",
              " dtype('float64'),\n",
              " dtype('float64'),\n",
              " dtype('float64'),\n",
              " dtype('float64'),\n",
              " dtype('float64'),\n",
              " dtype('float64'),\n",
              " dtype('float64'),\n",
              " dtype('float64'),\n",
              " dtype('float64'),\n",
              " dtype('float64'),\n",
              " dtype('float64'),\n",
              " dtype('float64'),\n",
              " dtype('float64'),\n",
              " dtype('float64'),\n",
              " dtype('float64'),\n",
              " dtype('float64'),\n",
              " dtype('float64'),\n",
              " dtype('float64'),\n",
              " dtype('float64'),\n",
              " dtype('float64'),\n",
              " dtype('float64'),\n",
              " dtype('float64'),\n",
              " dtype('float64'),\n",
              " dtype('float64'),\n",
              " dtype('float64'),\n",
              " dtype('float64'),\n",
              " dtype('float64')]"
            ]
          },
          "metadata": {},
          "execution_count": 10
        }
      ]
    },
    {
      "cell_type": "code",
      "source": [
        "#Identify non-numeric cols for encoding\n",
        "sel_cols = list(data.select_dtypes(include='O'))\n",
        "print(sel_cols)"
      ],
      "metadata": {
        "colab": {
          "base_uri": "https://localhost:8080/"
        },
        "id": "kKqIYWwrzISw",
        "outputId": "d1e7ac86-3aa4-4584-b26e-03219eded22e"
      },
      "execution_count": null,
      "outputs": [
        {
          "output_type": "stream",
          "name": "stdout",
          "text": [
            "['club_position', 'nation_position', 'preferred_foot', 'work_rate']\n"
          ]
        }
      ]
    },
    {
      "cell_type": "markdown",
      "source": [
        "**Missing Data**"
      ],
      "metadata": {
        "id": "RDhkKB157YWj"
      }
    },
    {
      "cell_type": "code",
      "source": [
        "data.shape"
      ],
      "metadata": {
        "colab": {
          "base_uri": "https://localhost:8080/"
        },
        "id": "3VHr4yfq7dhv",
        "outputId": "e1bc70e7-b156-4b1f-cd45-6faa5fa62384"
      },
      "execution_count": null,
      "outputs": [
        {
          "output_type": "execute_result",
          "data": {
            "text/plain": [
              "(10544, 54)"
            ]
          },
          "metadata": {},
          "execution_count": 12
        }
      ]
    },
    {
      "cell_type": "code",
      "source": [
        "data.isna().sum()"
      ],
      "metadata": {
        "colab": {
          "base_uri": "https://localhost:8080/"
        },
        "id": "Bfn96BTE7jDy",
        "outputId": "6c2dddc0-218e-4830-8930-56208e9ce2f4"
      },
      "execution_count": null,
      "outputs": [
        {
          "output_type": "execute_result",
          "data": {
            "text/plain": [
              "overall                           0\n",
              "potential                         0\n",
              "value_eur                         0\n",
              "wage_eur                          0\n",
              "age                               0\n",
              "height_cm                         0\n",
              "weight_kg                         0\n",
              "club_team_id                      0\n",
              "league_level                      0\n",
              "club_position                     0\n",
              "club_contract_valid_until         0\n",
              "nation_team_id                 9946\n",
              "nation_position                9946\n",
              "preferred_foot                    0\n",
              "weak_foot                         0\n",
              "skill_moves                       0\n",
              "international_reputation          0\n",
              "work_rate                         0\n",
              "release_clause_eur              697\n",
              "pace                              0\n",
              "shooting                          0\n",
              "passing                           0\n",
              "dribbling                         0\n",
              "defending                         0\n",
              "physic                            0\n",
              "attacking_crossing                0\n",
              "attacking_finishing               0\n",
              "attacking_heading_accuracy        0\n",
              "attacking_short_passing           0\n",
              "attacking_volleys                 0\n",
              "skill_dribbling                   0\n",
              "skill_curve                       0\n",
              "skill_fk_accuracy                 0\n",
              "skill_long_passing                0\n",
              "skill_ball_control                0\n",
              "movement_acceleration             0\n",
              "movement_sprint_speed             0\n",
              "movement_agility                  0\n",
              "movement_reactions                0\n",
              "movement_balance                  0\n",
              "power_shot_power                  0\n",
              "power_jumping                     0\n",
              "power_stamina                     0\n",
              "power_strength                    0\n",
              "power_long_shots                  0\n",
              "mentality_aggression              0\n",
              "mentality_interceptions           0\n",
              "mentality_positioning             0\n",
              "mentality_vision                  0\n",
              "mentality_penalties               0\n",
              "mentality_composure               0\n",
              "defending_marking_awareness       0\n",
              "defending_standing_tackle         0\n",
              "defending_sliding_tackle          0\n",
              "dtype: int64"
            ]
          },
          "metadata": {},
          "execution_count": 13
        }
      ]
    },
    {
      "cell_type": "code",
      "source": [
        "data.isnull().sum().sum()"
      ],
      "metadata": {
        "colab": {
          "base_uri": "https://localhost:8080/"
        },
        "id": "vAsytH4ny0JI",
        "outputId": "fffb7902-f2ca-4444-d5cc-dfacdeaaa135"
      },
      "execution_count": null,
      "outputs": [
        {
          "output_type": "execute_result",
          "data": {
            "text/plain": [
              "20589"
            ]
          },
          "metadata": {},
          "execution_count": 14
        }
      ]
    },
    {
      "cell_type": "code",
      "source": [
        "#National team information: As data is missing for 16434/17041(96% of values) decision is made to drop this information\n",
        "data.drop('nation_team_id', inplace=True, axis=1)"
      ],
      "metadata": {
        "id": "ccJRPPb37qm3"
      },
      "execution_count": null,
      "outputs": []
    },
    {
      "cell_type": "code",
      "source": [
        "data.drop('nation_position', inplace=True, axis=1)"
      ],
      "metadata": {
        "id": "htpc7ucJ7r2x"
      },
      "execution_count": null,
      "outputs": []
    },
    {
      "cell_type": "code",
      "source": [
        "data.isna().sum()"
      ],
      "metadata": {
        "colab": {
          "base_uri": "https://localhost:8080/"
        },
        "id": "vP6bVtBI714R",
        "outputId": "92740976-044c-4a77-8603-f4ee78d05241"
      },
      "execution_count": null,
      "outputs": [
        {
          "output_type": "execute_result",
          "data": {
            "text/plain": [
              "overall                          0\n",
              "potential                        0\n",
              "value_eur                        0\n",
              "wage_eur                         0\n",
              "age                              0\n",
              "height_cm                        0\n",
              "weight_kg                        0\n",
              "club_team_id                     0\n",
              "league_level                     0\n",
              "club_position                    0\n",
              "club_contract_valid_until        0\n",
              "preferred_foot                   0\n",
              "weak_foot                        0\n",
              "skill_moves                      0\n",
              "international_reputation         0\n",
              "work_rate                        0\n",
              "release_clause_eur             697\n",
              "pace                             0\n",
              "shooting                         0\n",
              "passing                          0\n",
              "dribbling                        0\n",
              "defending                        0\n",
              "physic                           0\n",
              "attacking_crossing               0\n",
              "attacking_finishing              0\n",
              "attacking_heading_accuracy       0\n",
              "attacking_short_passing          0\n",
              "attacking_volleys                0\n",
              "skill_dribbling                  0\n",
              "skill_curve                      0\n",
              "skill_fk_accuracy                0\n",
              "skill_long_passing               0\n",
              "skill_ball_control               0\n",
              "movement_acceleration            0\n",
              "movement_sprint_speed            0\n",
              "movement_agility                 0\n",
              "movement_reactions               0\n",
              "movement_balance                 0\n",
              "power_shot_power                 0\n",
              "power_jumping                    0\n",
              "power_stamina                    0\n",
              "power_strength                   0\n",
              "power_long_shots                 0\n",
              "mentality_aggression             0\n",
              "mentality_interceptions          0\n",
              "mentality_positioning            0\n",
              "mentality_vision                 0\n",
              "mentality_penalties              0\n",
              "mentality_composure              0\n",
              "defending_marking_awareness      0\n",
              "defending_standing_tackle        0\n",
              "defending_sliding_tackle         0\n",
              "dtype: int64"
            ]
          },
          "metadata": {},
          "execution_count": 17
        }
      ]
    },
    {
      "cell_type": "markdown",
      "source": [
        "**Encoding Categorical Variables**"
      ],
      "metadata": {
        "id": "_HIUS_k634Va"
      }
    },
    {
      "cell_type": "markdown",
      "source": [
        "Encoding Preferred Foot"
      ],
      "metadata": {
        "id": "Qm3GkvwQ4Yfy"
      }
    },
    {
      "cell_type": "code",
      "source": [
        "#Preferred Foot\n",
        "data['preferred_foot'].unique()"
      ],
      "metadata": {
        "colab": {
          "base_uri": "https://localhost:8080/"
        },
        "id": "jPtSAxhp320v",
        "outputId": "d6d30151-503d-405c-b161-8bd4fe304450"
      },
      "execution_count": null,
      "outputs": [
        {
          "output_type": "execute_result",
          "data": {
            "text/plain": [
              "array(['Left', 'Right'], dtype=object)"
            ]
          },
          "metadata": {},
          "execution_count": 18
        }
      ]
    },
    {
      "cell_type": "code",
      "source": [
        "from sklearn.preprocessing import LabelEncoder\n",
        "le = LabelEncoder()\n",
        "data['preferred_foot'] = le.fit_transform(data['preferred_foot'])"
      ],
      "metadata": {
        "id": "3GLeTPmD39h7"
      },
      "execution_count": null,
      "outputs": []
    },
    {
      "cell_type": "code",
      "source": [
        "#Preferred Foot\n",
        "data['preferred_foot'].unique()"
      ],
      "metadata": {
        "colab": {
          "base_uri": "https://localhost:8080/"
        },
        "id": "abMw2W194Amf",
        "outputId": "0b0af2d4-f668-4345-b044-20951a17ad42"
      },
      "execution_count": null,
      "outputs": [
        {
          "output_type": "execute_result",
          "data": {
            "text/plain": [
              "array([0, 1])"
            ]
          },
          "metadata": {},
          "execution_count": 20
        }
      ]
    },
    {
      "cell_type": "markdown",
      "source": [
        "Encoding Position"
      ],
      "metadata": {
        "id": "99TK8tqW4kL9"
      }
    },
    {
      "cell_type": "code",
      "source": [
        "#Position Definitions\n",
        "att = ['RW', 'RS', 'ST' , 'LW',  'CF', 'LS',  'LF',  'RF']\n",
        "mid = ['RCM',  'CDM',  'RDM', 'LCM',  'LDM', 'CM','RM', 'CAM', 'LM',  'LAM', 'RAM']\n",
        "defe = [ 'LCB', 'LWB', 'LB', 'RCB', 'RB', 'CB', 'RWB']"
      ],
      "metadata": {
        "id": "LJxe0m0l4tZr"
      },
      "execution_count": null,
      "outputs": []
    },
    {
      "cell_type": "code",
      "source": [
        "data.columns"
      ],
      "metadata": {
        "colab": {
          "base_uri": "https://localhost:8080/"
        },
        "id": "K63Xd33J42MT",
        "outputId": "84194aec-a483-49a3-a46a-88b12878b581"
      },
      "execution_count": null,
      "outputs": [
        {
          "output_type": "execute_result",
          "data": {
            "text/plain": [
              "Index(['overall', 'potential', 'value_eur', 'wage_eur', 'age', 'height_cm',\n",
              "       'weight_kg', 'club_team_id', 'league_level', 'club_position',\n",
              "       'club_contract_valid_until', 'preferred_foot', 'weak_foot',\n",
              "       'skill_moves', 'international_reputation', 'work_rate',\n",
              "       'release_clause_eur', 'pace', 'shooting', 'passing', 'dribbling',\n",
              "       'defending', 'physic', 'attacking_crossing', 'attacking_finishing',\n",
              "       'attacking_heading_accuracy', 'attacking_short_passing',\n",
              "       'attacking_volleys', 'skill_dribbling', 'skill_curve',\n",
              "       'skill_fk_accuracy', 'skill_long_passing', 'skill_ball_control',\n",
              "       'movement_acceleration', 'movement_sprint_speed', 'movement_agility',\n",
              "       'movement_reactions', 'movement_balance', 'power_shot_power',\n",
              "       'power_jumping', 'power_stamina', 'power_strength', 'power_long_shots',\n",
              "       'mentality_aggression', 'mentality_interceptions',\n",
              "       'mentality_positioning', 'mentality_vision', 'mentality_penalties',\n",
              "       'mentality_composure', 'defending_marking_awareness',\n",
              "       'defending_standing_tackle', 'defending_sliding_tackle'],\n",
              "      dtype='object')"
            ]
          },
          "metadata": {},
          "execution_count": 22
        }
      ]
    },
    {
      "cell_type": "code",
      "source": [
        "data['club_position'].unique()"
      ],
      "metadata": {
        "colab": {
          "base_uri": "https://localhost:8080/"
        },
        "id": "zHQFBRQh6Jld",
        "outputId": "44720bf1-b696-457e-d99d-fa83c1077e3f"
      },
      "execution_count": null,
      "outputs": [
        {
          "output_type": "execute_result",
          "data": {
            "text/plain": [
              "array(['RW', 'ST', 'LW', 'RCM', 'CF', 'CDM', 'LCB', 'RDM', 'RS', 'LCM',\n",
              "       'SUB', 'CAM', 'RCB', 'LDM', 'LB', 'RB', 'LM', 'RM', 'LS', 'CB',\n",
              "       'RES', 'RWB', 'RF', 'CM', 'LWB', 'LAM', 'LF', 'RAM'], dtype=object)"
            ]
          },
          "metadata": {},
          "execution_count": 23
        }
      ]
    },
    {
      "cell_type": "code",
      "source": [
        "#Put Positions into 3 categories - Club Position col 9\n",
        "new_positions = []\n",
        "index = 0\n",
        "for row in data.iterrows():\n",
        "  x = (data.iloc[index, 9])\n",
        "  if x == 'RW' or x == 'RS' or x == 'ST' or x == 'LW' or  x == 'CF' or x == 'LS' or  x == 'LF' or  x == 'RF':\n",
        "      new_positions.append('ATT')\n",
        "  elif x == 'RCM' or  x == 'CDM' or  x == 'RDM' or x == 'LCM' or  x == 'LDM' or x == 'CM' or x == 'RM' or x == 'CAM' or x == 'LM' or  x == 'LAM' or x == 'RAM':\n",
        "      new_positions.append('MID')\n",
        "  elif x == 'LCB' or x == 'LWB' or x == 'LB' or x == 'RCB' or x == 'RB' or x == 'CB' or x == 'RWB':\n",
        "      new_positions.append('DEF')\n",
        "  else:\n",
        "      new_positions.append('other')\n",
        "  index = index + 1\n",
        "new_club_positions = new_positions\n",
        "print(new_club_positions)"
      ],
      "metadata": {
        "colab": {
          "base_uri": "https://localhost:8080/"
        },
        "id": "wHF6msdn40pz",
        "outputId": "2baa6d68-ea2f-4569-b187-977f4f02dc84"
      },
      "execution_count": null,
      "outputs": [
        {
          "output_type": "stream",
          "name": "stdout",
          "text": [
            "['ATT', 'ATT', 'ATT', 'ATT', 'MID', 'ATT', 'ATT', 'MID', 'ATT', 'ATT', 'MID', 'DEF', 'ATT', 'ATT', 'MID', 'DEF', 'ATT', 'MID', 'ATT', 'other', 'MID', 'ATT', 'ATT', 'MID', 'other', 'MID', 'ATT', 'MID', 'MID', 'DEF', 'MID', 'MID', 'DEF', 'MID', 'DEF', 'MID', 'DEF', 'other', 'DEF', 'DEF', 'MID', 'MID', 'MID', 'ATT', 'DEF', 'DEF', 'ATT', 'ATT', 'ATT', 'MID', 'DEF', 'DEF', 'other', 'other', 'MID', 'MID', 'DEF', 'MID', 'other', 'MID', 'other', 'ATT', 'DEF', 'MID', 'MID', 'DEF', 'ATT', 'MID', 'ATT', 'DEF', 'ATT', 'ATT', 'DEF', 'MID', 'MID', 'MID', 'MID', 'ATT', 'ATT', 'other', 'DEF', 'DEF', 'other', 'DEF', 'DEF', 'other', 'MID', 'MID', 'MID', 'other', 'ATT', 'DEF', 'MID', 'ATT', 'ATT', 'DEF', 'other', 'DEF', 'DEF', 'other', 'DEF', 'ATT', 'DEF', 'other', 'MID', 'MID', 'other', 'DEF', 'DEF', 'other', 'MID', 'MID', 'DEF', 'MID', 'MID', 'MID', 'DEF', 'ATT', 'MID', 'DEF', 'other', 'other', 'other', 'ATT', 'other', 'DEF', 'ATT', 'other', 'DEF', 'MID', 'MID', 'MID', 'DEF', 'DEF', 'MID', 'MID', 'DEF', 'DEF', 'DEF', 'MID', 'ATT', 'ATT', 'other', 'other', 'other', 'ATT', 'DEF', 'ATT', 'other', 'MID', 'DEF', 'MID', 'MID', 'other', 'ATT', 'MID', 'DEF', 'other', 'other', 'ATT', 'MID', 'MID', 'other', 'other', 'DEF', 'MID', 'other', 'other', 'ATT', 'ATT', 'MID', 'other', 'DEF', 'other', 'DEF', 'DEF', 'other', 'ATT', 'MID', 'MID', 'other', 'MID', 'MID', 'other', 'other', 'DEF', 'MID', 'other', 'other', 'MID', 'DEF', 'other', 'ATT', 'other', 'MID', 'DEF', 'MID', 'ATT', 'other', 'DEF', 'other', 'MID', 'other', 'other', 'MID', 'DEF', 'other', 'MID', 'other', 'DEF', 'other', 'MID', 'other', 'MID', 'DEF', 'MID', 'other', 'MID', 'MID', 'MID', 'MID', 'other', 'other', 'MID', 'ATT', 'MID', 'DEF', 'DEF', 'other', 'other', 'DEF', 'MID', 'other', 'other', 'MID', 'ATT', 'MID', 'DEF', 'MID', 'ATT', 'other', 'MID', 'DEF', 'ATT', 'other', 'other', 'MID', 'ATT', 'ATT', 'ATT', 'other', 'ATT', 'DEF', 'DEF', 'MID', 'MID', 'other', 'ATT', 'ATT', 'MID', 'MID', 'DEF', 'other', 'other', 'MID', 'ATT', 'other', 'MID', 'other', 'DEF', 'other', 'other', 'ATT', 'DEF', 'other', 'ATT', 'DEF', 'other', 'other', 'DEF', 'DEF', 'ATT', 'MID', 'MID', 'MID', 'other', 'ATT', 'MID', 'ATT', 'other', 'MID', 'MID', 'MID', 'MID', 'MID', 'other', 'other', 'other', 'ATT', 'ATT', 'ATT', 'DEF', 'other', 'other', 'ATT', 'other', 'MID', 'ATT', 'MID', 'MID', 'DEF', 'other', 'DEF', 'MID', 'DEF', 'DEF', 'MID', 'ATT', 'DEF', 'ATT', 'ATT', 'MID', 'MID', 'MID', 'MID', 'MID', 'DEF', 'DEF', 'other', 'ATT', 'MID', 'DEF', 'DEF', 'other', 'other', 'MID', 'MID', 'other', 'ATT', 'MID', 'MID', 'other', 'ATT', 'DEF', 'DEF', 'MID', 'DEF', 'DEF', 'other', 'ATT', 'other', 'DEF', 'other', 'other', 'MID', 'MID', 'ATT', 'MID', 'DEF', 'other', 'ATT', 'MID', 'ATT', 'DEF', 'DEF', 'other', 'DEF', 'MID', 'other', 'other', 'other', 'MID', 'other', 'ATT', 'MID', 'other', 'MID', 'ATT', 'DEF', 'DEF', 'ATT', 'ATT', 'MID', 'other', 'other', 'MID', 'DEF', 'MID', 'DEF', 'DEF', 'DEF', 'other', 'MID', 'DEF', 'other', 'other', 'other', 'MID', 'other', 'ATT', 'other', 'ATT', 'MID', 'MID', 'MID', 'other', 'DEF', 'other', 'other', 'DEF', 'DEF', 'other', 'DEF', 'other', 'MID', 'DEF', 'MID', 'DEF', 'MID', 'ATT', 'DEF', 'ATT', 'MID', 'DEF', 'MID', 'other', 'DEF', 'other', 'ATT', 'MID', 'other', 'MID', 'other', 'DEF', 'MID', 'DEF', 'MID', 'MID', 'other', 'ATT', 'ATT', 'MID', 'MID', 'MID', 'ATT', 'ATT', 'other', 'other', 'MID', 'MID', 'ATT', 'other', 'DEF', 'DEF', 'other', 'other', 'ATT', 'other', 'other', 'other', 'MID', 'ATT', 'ATT', 'DEF', 'DEF', 'ATT', 'other', 'MID', 'ATT', 'ATT', 'DEF', 'other', 'other', 'other', 'ATT', 'MID', 'other', 'MID', 'DEF', 'DEF', 'ATT', 'other', 'other', 'other', 'other', 'MID', 'MID', 'MID', 'DEF', 'ATT', 'other', 'other', 'MID', 'ATT', 'MID', 'other', 'MID', 'DEF', 'DEF', 'ATT', 'MID', 'MID', 'DEF', 'DEF', 'MID', 'other', 'MID', 'MID', 'ATT', 'other', 'ATT', 'MID', 'DEF', 'MID', 'ATT', 'ATT', 'MID', 'DEF', 'other', 'other', 'other', 'MID', 'DEF', 'DEF', 'other', 'other', 'other', 'other', 'other', 'DEF', 'DEF', 'other', 'ATT', 'ATT', 'DEF', 'MID', 'DEF', 'MID', 'other', 'ATT', 'DEF', 'DEF', 'MID', 'MID', 'ATT', 'other', 'DEF', 'MID', 'MID', 'DEF', 'other', 'other', 'ATT', 'MID', 'DEF', 'MID', 'DEF', 'DEF', 'other', 'other', 'MID', 'other', 'DEF', 'MID', 'other', 'other', 'MID', 'ATT', 'MID', 'other', 'DEF', 'DEF', 'MID', 'DEF', 'MID', 'ATT', 'ATT', 'other', 'ATT', 'DEF', 'ATT', 'other', 'MID', 'MID', 'MID', 'MID', 'other', 'MID', 'ATT', 'MID', 'other', 'other', 'ATT', 'other', 'MID', 'DEF', 'other', 'MID', 'MID', 'other', 'MID', 'MID', 'other', 'other', 'ATT', 'MID', 'MID', 'ATT', 'other', 'other', 'other', 'DEF', 'ATT', 'DEF', 'other', 'MID', 'ATT', 'DEF', 'DEF', 'MID', 'DEF', 'DEF', 'MID', 'other', 'DEF', 'MID', 'other', 'MID', 'DEF', 'MID', 'DEF', 'other', 'ATT', 'DEF', 'DEF', 'DEF', 'DEF', 'DEF', 'DEF', 'MID', 'other', 'ATT', 'MID', 'other', 'other', 'MID', 'DEF', 'DEF', 'DEF', 'other', 'MID', 'other', 'ATT', 'MID', 'other', 'DEF', 'MID', 'MID', 'ATT', 'MID', 'other', 'DEF', 'MID', 'DEF', 'other', 'other', 'ATT', 'DEF', 'other', 'MID', 'DEF', 'other', 'MID', 'MID', 'MID', 'DEF', 'DEF', 'other', 'DEF', 'ATT', 'MID', 'other', 'ATT', 'other', 'DEF', 'DEF', 'DEF', 'other', 'MID', 'other', 'other', 'other', 'other', 'other', 'DEF', 'MID', 'other', 'other', 'other', 'MID', 'MID', 'DEF', 'other', 'DEF', 'other', 'MID', 'DEF', 'MID', 'DEF', 'DEF', 'DEF', 'DEF', 'ATT', 'MID', 'MID', 'ATT', 'ATT', 'MID', 'other', 'ATT', 'MID', 'other', 'MID', 'MID', 'DEF', 'MID', 'DEF', 'MID', 'DEF', 'DEF', 'ATT', 'other', 'MID', 'other', 'other', 'other', 'ATT', 'ATT', 'other', 'MID', 'ATT', 'DEF', 'MID', 'MID', 'other', 'MID', 'ATT', 'ATT', 'MID', 'MID', 'MID', 'MID', 'MID', 'ATT', 'MID', 'other', 'other', 'other', 'other', 'MID', 'ATT', 'other', 'other', 'MID', 'other', 'MID', 'MID', 'DEF', 'other', 'other', 'ATT', 'ATT', 'ATT', 'other', 'DEF', 'DEF', 'other', 'ATT', 'other', 'other', 'MID', 'other', 'MID', 'DEF', 'other', 'MID', 'other', 'MID', 'ATT', 'other', 'other', 'DEF', 'other', 'MID', 'other', 'other', 'MID', 'DEF', 'DEF', 'other', 'other', 'other', 'DEF', 'DEF', 'MID', 'MID', 'other', 'MID', 'DEF', 'ATT', 'other', 'DEF', 'other', 'MID', 'ATT', 'other', 'DEF', 'MID', 'other', 'DEF', 'DEF', 'other', 'MID', 'MID', 'DEF', 'DEF', 'DEF', 'other', 'DEF', 'DEF', 'other', 'other', 'DEF', 'DEF', 'MID', 'ATT', 'other', 'other', 'DEF', 'MID', 'other', 'MID', 'DEF', 'other', 'DEF', 'other', 'other', 'other', 'other', 'ATT', 'other', 'other', 'other', 'other', 'DEF', 'ATT', 'ATT', 'other', 'ATT', 'MID', 'other', 'other', 'MID', 'DEF', 'DEF', 'ATT', 'other', 'other', 'MID', 'DEF', 'ATT', 'DEF', 'DEF', 'other', 'other', 'other', 'other', 'ATT', 'other', 'other', 'MID', 'MID', 'other', 'MID', 'other', 'other', 'MID', 'other', 'other', 'DEF', 'MID', 'ATT', 'MID', 'ATT', 'MID', 'DEF', 'MID', 'other', 'other', 'other', 'DEF', 'other', 'MID', 'ATT', 'ATT', 'other', 'other', 'DEF', 'other', 'MID', 'MID', 'DEF', 'other', 'DEF', 'other', 'DEF', 'DEF', 'MID', 'MID', 'DEF', 'MID', 'MID', 'DEF', 'DEF', 'ATT', 'MID', 'MID', 'other', 'other', 'MID', 'MID', 'ATT', 'DEF', 'other', 'other', 'other', 'other', 'other', 'DEF', 'MID', 'other', 'ATT', 'other', 'MID', 'other', 'other', 'MID', 'other', 'other', 'DEF', 'MID', 'MID', 'other', 'MID', 'MID', 'other', 'DEF', 'DEF', 'other', 'MID', 'MID', 'other', 'MID', 'other', 'MID', 'ATT', 'MID', 'DEF', 'other', 'other', 'DEF', 'other', 'DEF', 'MID', 'other', 'MID', 'ATT', 'other', 'other', 'DEF', 'MID', 'other', 'MID', 'other', 'ATT', 'MID', 'MID', 'MID', 'other', 'other', 'other', 'DEF', 'other', 'MID', 'MID', 'other', 'ATT', 'other', 'MID', 'other', 'DEF', 'DEF', 'ATT', 'MID', 'MID', 'other', 'other', 'MID', 'other', 'MID', 'other', 'MID', 'DEF', 'ATT', 'DEF', 'other', 'MID', 'other', 'MID', 'DEF', 'other', 'DEF', 'other', 'ATT', 'DEF', 'other', 'MID', 'MID', 'other', 'other', 'MID', 'other', 'other', 'DEF', 'MID', 'DEF', 'DEF', 'MID', 'ATT', 'ATT', 'ATT', 'MID', 'ATT', 'DEF', 'other', 'MID', 'MID', 'ATT', 'MID', 'other', 'DEF', 'DEF', 'MID', 'other', 'other', 'MID', 'other', 'ATT', 'MID', 'MID', 'DEF', 'other', 'DEF', 'MID', 'DEF', 'DEF', 'DEF', 'MID', 'DEF', 'other', 'other', 'other', 'MID', 'other', 'DEF', 'other', 'other', 'other', 'DEF', 'DEF', 'other', 'MID', 'other', 'DEF', 'DEF', 'other', 'DEF', 'other', 'MID', 'ATT', 'MID', 'DEF', 'MID', 'other', 'other', 'MID', 'other', 'other', 'MID', 'other', 'MID', 'MID', 'other', 'MID', 'other', 'other', 'other', 'other', 'MID', 'other', 'other', 'MID', 'ATT', 'DEF', 'MID', 'MID', 'MID', 'DEF', 'DEF', 'DEF', 'other', 'other', 'MID', 'DEF', 'DEF', 'other', 'MID', 'other', 'MID', 'DEF', 'DEF', 'ATT', 'ATT', 'other', 'ATT', 'DEF', 'other', 'other', 'other', 'other', 'other', 'DEF', 'other', 'MID', 'other', 'ATT', 'MID', 'other', 'ATT', 'DEF', 'MID', 'MID', 'other', 'ATT', 'other', 'other', 'other', 'MID', 'ATT', 'other', 'other', 'ATT', 'DEF', 'other', 'MID', 'ATT', 'other', 'ATT', 'ATT', 'other', 'other', 'other', 'MID', 'other', 'other', 'other', 'ATT', 'other', 'ATT', 'other', 'DEF', 'ATT', 'ATT', 'MID', 'DEF', 'ATT', 'DEF', 'DEF', 'MID', 'ATT', 'other', 'other', 'other', 'DEF', 'DEF', 'other', 'other', 'MID', 'MID', 'MID', 'DEF', 'other', 'other', 'DEF', 'other', 'other', 'MID', 'MID', 'MID', 'MID', 'MID', 'DEF', 'DEF', 'DEF', 'MID', 'MID', 'MID', 'MID', 'MID', 'MID', 'other', 'DEF', 'DEF', 'other', 'DEF', 'other', 'MID', 'other', 'DEF', 'ATT', 'other', 'MID', 'other', 'MID', 'MID', 'other', 'other', 'ATT', 'MID', 'other', 'MID', 'ATT', 'other', 'MID', 'MID', 'MID', 'other', 'other', 'MID', 'ATT', 'MID', 'other', 'DEF', 'DEF', 'other', 'DEF', 'other', 'other', 'other', 'other', 'DEF', 'DEF', 'other', 'other', 'other', 'other', 'ATT', 'MID', 'other', 'ATT', 'MID', 'DEF', 'other', 'MID', 'other', 'MID', 'other', 'MID', 'MID', 'DEF', 'other', 'DEF', 'ATT', 'DEF', 'other', 'DEF', 'ATT', 'ATT', 'other', 'MID', 'MID', 'MID', 'other', 'other', 'DEF', 'other', 'other', 'MID', 'DEF', 'DEF', 'other', 'other', 'other', 'other', 'other', 'MID', 'other', 'DEF', 'MID', 'DEF', 'ATT', 'MID', 'DEF', 'other', 'ATT', 'DEF', 'MID', 'ATT', 'MID', 'other', 'MID', 'DEF', 'MID', 'DEF', 'ATT', 'MID', 'DEF', 'other', 'MID', 'other', 'MID', 'DEF', 'ATT', 'other', 'other', 'other', 'MID', 'other', 'DEF', 'other', 'other', 'other', 'ATT', 'MID', 'ATT', 'ATT', 'MID', 'DEF', 'MID', 'MID', 'ATT', 'MID', 'ATT', 'other', 'other', 'DEF', 'MID', 'other', 'DEF', 'ATT', 'other', 'MID', 'MID', 'other', 'MID', 'other', 'ATT', 'other', 'DEF', 'other', 'other', 'ATT', 'DEF', 'other', 'other', 'other', 'MID', 'MID', 'other', 'ATT', 'other', 'ATT', 'other', 'other', 'MID', 'MID', 'MID', 'other', 'DEF', 'other', 'MID', 'other', 'ATT', 'other', 'ATT', 'other', 'other', 'MID', 'MID', 'other', 'other', 'other', 'DEF', 'MID', 'MID', 'MID', 'MID', 'DEF', 'other', 'MID', 'MID', 'DEF', 'DEF', 'other', 'other', 'other', 'MID', 'other', 'DEF', 'other', 'DEF', 'other', 'ATT', 'MID', 'other', 'MID', 'other', 'other', 'MID', 'other', 'DEF', 'other', 'DEF', 'MID', 'other', 'DEF', 'other', 'MID', 'other', 'other', 'MID', 'other', 'ATT', 'MID', 'MID', 'MID', 'DEF', 'DEF', 'MID', 'DEF', 'other', 'MID', 'DEF', 'DEF', 'other', 'other', 'other', 'other', 'DEF', 'other', 'other', 'DEF', 'other', 'other', 'ATT', 'other', 'MID', 'DEF', 'MID', 'other', 'DEF', 'MID', 'MID', 'MID', 'MID', 'other', 'MID', 'MID', 'MID', 'ATT', 'MID', 'DEF', 'DEF', 'other', 'MID', 'other', 'MID', 'DEF', 'MID', 'MID', 'other', 'MID', 'other', 'MID', 'other', 'other', 'MID', 'MID', 'DEF', 'DEF', 'DEF', 'other', 'other', 'other', 'ATT', 'DEF', 'DEF', 'ATT', 'DEF', 'MID', 'other', 'DEF', 'ATT', 'other', 'DEF', 'DEF', 'DEF', 'other', 'MID', 'other', 'other', 'ATT', 'DEF', 'MID', 'ATT', 'MID', 'other', 'DEF', 'MID', 'DEF', 'other', 'other', 'MID', 'ATT', 'ATT', 'other', 'ATT', 'MID', 'MID', 'MID', 'other', 'MID', 'other', 'other', 'DEF', 'ATT', 'other', 'DEF', 'DEF', 'other', 'ATT', 'other', 'MID', 'other', 'other', 'other', 'other', 'other', 'MID', 'other', 'other', 'ATT', 'DEF', 'DEF', 'other', 'MID', 'MID', 'other', 'ATT', 'DEF', 'other', 'other', 'MID', 'ATT', 'MID', 'other', 'other', 'other', 'other', 'other', 'other', 'MID', 'MID', 'other', 'other', 'ATT', 'MID', 'other', 'DEF', 'other', 'other', 'MID', 'other', 'other', 'other', 'other', 'other', 'MID', 'ATT', 'ATT', 'other', 'other', 'MID', 'DEF', 'MID', 'ATT', 'other', 'DEF', 'ATT', 'DEF', 'MID', 'DEF', 'other', 'other', 'DEF', 'other', 'DEF', 'DEF', 'MID', 'DEF', 'DEF', 'other', 'MID', 'MID', 'DEF', 'MID', 'ATT', 'DEF', 'MID', 'DEF', 'DEF', 'MID', 'MID', 'ATT', 'ATT', 'DEF', 'other', 'MID', 'ATT', 'MID', 'MID', 'other', 'DEF', 'DEF', 'MID', 'ATT', 'other', 'MID', 'ATT', 'other', 'other', 'DEF', 'MID', 'ATT', 'other', 'MID', 'DEF', 'ATT', 'other', 'other', 'MID', 'other', 'other', 'other', 'MID', 'MID', 'DEF', 'MID', 'MID', 'DEF', 'DEF', 'other', 'other', 'DEF', 'ATT', 'MID', 'other', 'MID', 'DEF', 'MID', 'MID', 'ATT', 'other', 'other', 'other', 'MID', 'DEF', 'MID', 'MID', 'MID', 'DEF', 'MID', 'DEF', 'other', 'MID', 'other', 'other', 'MID', 'other', 'other', 'other', 'DEF', 'other', 'other', 'other', 'MID', 'MID', 'other', 'DEF', 'other', 'other', 'other', 'MID', 'other', 'MID', 'other', 'other', 'other', 'MID', 'other', 'MID', 'MID', 'other', 'DEF', 'DEF', 'other', 'DEF', 'other', 'other', 'DEF', 'DEF', 'other', 'DEF', 'other', 'other', 'other', 'MID', 'MID', 'DEF', 'ATT', 'other', 'DEF', 'other', 'other', 'other', 'MID', 'other', 'DEF', 'other', 'DEF', 'other', 'DEF', 'other', 'ATT', 'other', 'MID', 'ATT', 'MID', 'MID', 'DEF', 'ATT', 'MID', 'DEF', 'other', 'MID', 'other', 'MID', 'other', 'other', 'other', 'other', 'ATT', 'other', 'DEF', 'other', 'ATT', 'other', 'other', 'other', 'DEF', 'MID', 'other', 'DEF', 'DEF', 'other', 'DEF', 'other', 'DEF', 'other', 'MID', 'DEF', 'other', 'other', 'MID', 'other', 'other', 'MID', 'ATT', 'other', 'other', 'MID', 'DEF', 'MID', 'MID', 'MID', 'other', 'other', 'other', 'MID', 'other', 'other', 'other', 'DEF', 'other', 'DEF', 'ATT', 'DEF', 'other', 'other', 'MID', 'MID', 'other', 'other', 'other', 'MID', 'DEF', 'other', 'other', 'MID', 'DEF', 'other', 'other', 'DEF', 'other', 'DEF', 'ATT', 'DEF', 'other', 'MID', 'ATT', 'other', 'other', 'ATT', 'ATT', 'DEF', 'MID', 'MID', 'MID', 'DEF', 'other', 'other', 'DEF', 'MID', 'MID', 'ATT', 'ATT', 'other', 'MID', 'other', 'other', 'MID', 'other', 'ATT', 'other', 'other', 'ATT', 'MID', 'MID', 'MID', 'ATT', 'other', 'other', 'other', 'other', 'ATT', 'other', 'other', 'other', 'ATT', 'DEF', 'other', 'DEF', 'other', 'MID', 'other', 'other', 'other', 'other', 'DEF', 'DEF', 'MID', 'MID', 'ATT', 'DEF', 'other', 'DEF', 'other', 'other', 'other', 'other', 'ATT', 'other', 'other', 'other', 'MID', 'MID', 'other', 'MID', 'other', 'DEF', 'other', 'MID', 'other', 'DEF', 'MID', 'ATT', 'MID', 'DEF', 'MID', 'other', 'other', 'MID', 'DEF', 'DEF', 'DEF', 'MID', 'MID', 'ATT', 'other', 'MID', 'other', 'other', 'other', 'other', 'ATT', 'ATT', 'DEF', 'other', 'ATT', 'other', 'other', 'MID', 'other', 'ATT', 'other', 'MID', 'DEF', 'MID', 'MID', 'DEF', 'other', 'ATT', 'DEF', 'DEF', 'DEF', 'ATT', 'other', 'ATT', 'MID', 'other', 'DEF', 'other', 'ATT', 'other', 'other', 'DEF', 'other', 'other', 'other', 'DEF', 'other', 'other', 'ATT', 'MID', 'other', 'other', 'MID', 'MID', 'DEF', 'other', 'MID', 'other', 'ATT', 'DEF', 'ATT', 'other', 'ATT', 'other', 'MID', 'other', 'DEF', 'other', 'other', 'MID', 'other', 'other', 'other', 'DEF', 'DEF', 'MID', 'DEF', 'DEF', 'other', 'MID', 'MID', 'DEF', 'other', 'MID', 'MID', 'DEF', 'DEF', 'DEF', 'DEF', 'other', 'DEF', 'other', 'DEF', 'MID', 'MID', 'MID', 'other', 'MID', 'ATT', 'ATT', 'ATT', 'DEF', 'DEF', 'other', 'ATT', 'MID', 'DEF', 'DEF', 'other', 'other', 'other', 'other', 'other', 'other', 'ATT', 'other', 'MID', 'other', 'ATT', 'other', 'ATT', 'DEF', 'other', 'MID', 'MID', 'MID', 'other', 'other', 'other', 'other', 'MID', 'MID', 'other', 'MID', 'other', 'DEF', 'other', 'other', 'DEF', 'DEF', 'other', 'other', 'ATT', 'MID', 'MID', 'other', 'MID', 'other', 'DEF', 'other', 'MID', 'ATT', 'other', 'DEF', 'other', 'DEF', 'DEF', 'other', 'MID', 'other', 'DEF', 'other', 'DEF', 'other', 'other', 'other', 'MID', 'MID', 'DEF', 'MID', 'ATT', 'other', 'other', 'MID', 'ATT', 'MID', 'DEF', 'DEF', 'other', 'ATT', 'ATT', 'ATT', 'other', 'DEF', 'ATT', 'DEF', 'ATT', 'other', 'other', 'other', 'DEF', 'other', 'other', 'other', 'ATT', 'other', 'other', 'DEF', 'other', 'other', 'other', 'other', 'DEF', 'ATT', 'other', 'MID', 'other', 'other', 'other', 'other', 'other', 'MID', 'MID', 'other', 'other', 'other', 'other', 'other', 'other', 'other', 'DEF', 'other', 'other', 'other', 'DEF', 'MID', 'MID', 'other', 'ATT', 'other', 'DEF', 'other', 'other', 'ATT', 'MID', 'other', 'other', 'other', 'other', 'ATT', 'DEF', 'other', 'other', 'other', 'other', 'other', 'MID', 'MID', 'other', 'other', 'MID', 'DEF', 'other', 'other', 'other', 'DEF', 'ATT', 'DEF', 'other', 'DEF', 'other', 'other', 'DEF', 'other', 'DEF', 'other', 'ATT', 'other', 'other', 'MID', 'other', 'other', 'other', 'other', 'DEF', 'DEF', 'DEF', 'other', 'other', 'other', 'MID', 'ATT', 'MID', 'other', 'other', 'other', 'other', 'MID', 'MID', 'MID', 'MID', 'other', 'ATT', 'ATT', 'MID', 'other', 'DEF', 'ATT', 'ATT', 'DEF', 'other', 'MID', 'other', 'MID', 'other', 'other', 'other', 'DEF', 'other', 'DEF', 'other', 'DEF', 'other', 'other', 'DEF', 'other', 'MID', 'other', 'DEF', 'other', 'DEF', 'other', 'other', 'MID', 'DEF', 'MID', 'DEF', 'DEF', 'other', 'MID', 'other', 'other', 'ATT', 'ATT', 'ATT', 'other', 'DEF', 'DEF', 'DEF', 'other', 'other', 'other', 'other', 'other', 'other', 'ATT', 'DEF', 'other', 'other', 'ATT', 'MID', 'DEF', 'MID', 'ATT', 'MID', 'other', 'DEF', 'other', 'other', 'DEF', 'other', 'other', 'DEF', 'other', 'ATT', 'ATT', 'MID', 'MID', 'other', 'DEF', 'ATT', 'other', 'other', 'DEF', 'other', 'other', 'ATT', 'other', 'MID', 'other', 'DEF', 'ATT', 'other', 'other', 'MID', 'MID', 'other', 'MID', 'other', 'other', 'MID', 'other', 'other', 'MID', 'MID', 'MID', 'DEF', 'DEF', 'other', 'MID', 'DEF', 'DEF', 'DEF', 'other', 'other', 'other', 'MID', 'ATT', 'other', 'MID', 'DEF', 'other', 'other', 'DEF', 'other', 'other', 'other', 'DEF', 'DEF', 'DEF', 'ATT', 'ATT', 'other', 'DEF', 'other', 'other', 'MID', 'MID', 'other', 'ATT', 'other', 'DEF', 'MID', 'other', 'MID', 'other', 'other', 'other', 'MID', 'other', 'other', 'DEF', 'other', 'MID', 'DEF', 'other', 'other', 'DEF', 'other', 'other', 'DEF', 'other', 'MID', 'other', 'other', 'other', 'DEF', 'DEF', 'MID', 'DEF', 'MID', 'other', 'ATT', 'other', 'DEF', 'MID', 'DEF', 'DEF', 'DEF', 'other', 'DEF', 'DEF', 'MID', 'ATT', 'MID', 'MID', 'DEF', 'ATT', 'DEF', 'DEF', 'other', 'other', 'MID', 'DEF', 'MID', 'other', 'DEF', 'MID', 'other', 'DEF', 'other', 'MID', 'DEF', 'MID', 'ATT', 'MID', 'DEF', 'DEF', 'ATT', 'other', 'DEF', 'other', 'ATT', 'other', 'other', 'DEF', 'DEF', 'other', 'other', 'DEF', 'DEF', 'DEF', 'ATT', 'other', 'DEF', 'ATT', 'MID', 'MID', 'other', 'other', 'DEF', 'MID', 'DEF', 'MID', 'DEF', 'ATT', 'other', 'other', 'other', 'other', 'other', 'other', 'other', 'DEF', 'MID', 'other', 'MID', 'MID', 'other', 'MID', 'ATT', 'other', 'MID', 'DEF', 'other', 'DEF', 'MID', 'ATT', 'other', 'other', 'MID', 'MID', 'MID', 'other', 'other', 'ATT', 'MID', 'DEF', 'MID', 'other', 'DEF', 'MID', 'other', 'DEF', 'other', 'other', 'other', 'MID', 'MID', 'MID', 'MID', 'other', 'MID', 'ATT', 'DEF', 'MID', 'MID', 'other', 'other', 'other', 'DEF', 'MID', 'other', 'MID', 'other', 'MID', 'ATT', 'MID', 'MID', 'MID', 'MID', 'MID', 'DEF', 'ATT', 'MID', 'other', 'DEF', 'other', 'other', 'DEF', 'other', 'ATT', 'other', 'other', 'MID', 'MID', 'other', 'ATT', 'other', 'ATT', 'other', 'DEF', 'other', 'DEF', 'ATT', 'MID', 'MID', 'MID', 'other', 'DEF', 'other', 'other', 'DEF', 'DEF', 'DEF', 'other', 'other', 'DEF', 'MID', 'MID', 'DEF', 'other', 'DEF', 'other', 'MID', 'MID', 'DEF', 'DEF', 'MID', 'MID', 'MID', 'other', 'MID', 'ATT', 'ATT', 'MID', 'other', 'MID', 'ATT', 'MID', 'MID', 'other', 'other', 'MID', 'DEF', 'other', 'MID', 'DEF', 'MID', 'other', 'other', 'DEF', 'other', 'other', 'other', 'DEF', 'MID', 'DEF', 'other', 'MID', 'other', 'MID', 'other', 'MID', 'DEF', 'other', 'other', 'DEF', 'other', 'DEF', 'other', 'other', 'MID', 'other', 'MID', 'ATT', 'DEF', 'other', 'DEF', 'other', 'DEF', 'DEF', 'DEF', 'MID', 'MID', 'DEF', 'other', 'MID', 'other', 'other', 'DEF', 'MID', 'MID', 'other', 'DEF', 'MID', 'other', 'other', 'DEF', 'MID', 'other', 'MID', 'other', 'DEF', 'DEF', 'other', 'other', 'DEF', 'DEF', 'other', 'other', 'other', 'other', 'other', 'DEF', 'DEF', 'MID', 'MID', 'DEF', 'other', 'ATT', 'DEF', 'other', 'other', 'other', 'other', 'MID', 'DEF', 'ATT', 'other', 'other', 'other', 'DEF', 'MID', 'other', 'MID', 'MID', 'other', 'other', 'other', 'other', 'MID', 'other', 'DEF', 'MID', 'DEF', 'other', 'other', 'other', 'ATT', 'other', 'other', 'other', 'other', 'other', 'DEF', 'MID', 'DEF', 'other', 'other', 'MID', 'other', 'ATT', 'other', 'DEF', 'ATT', 'other', 'other', 'other', 'ATT', 'MID', 'other', 'other', 'other', 'DEF', 'other', 'ATT', 'other', 'DEF', 'MID', 'other', 'other', 'MID', 'ATT', 'other', 'MID', 'DEF', 'other', 'other', 'DEF', 'ATT', 'other', 'other', 'other', 'other', 'DEF', 'other', 'other', 'other', 'MID', 'other', 'other', 'other', 'DEF', 'other', 'other', 'DEF', 'DEF', 'other', 'DEF', 'MID', 'other', 'other', 'other', 'DEF', 'MID', 'other', 'DEF', 'ATT', 'DEF', 'other', 'other', 'MID', 'other', 'other', 'other', 'other', 'other', 'other', 'MID', 'MID', 'MID', 'MID', 'other', 'other', 'DEF', 'DEF', 'ATT', 'DEF', 'other', 'MID', 'MID', 'ATT', 'MID', 'ATT', 'other', 'other', 'other', 'other', 'other', 'other', 'other', 'ATT', 'MID', 'MID', 'MID', 'DEF', 'other', 'ATT', 'ATT', 'other', 'DEF', 'other', 'other', 'other', 'ATT', 'MID', 'MID', 'DEF', 'other', 'MID', 'other', 'MID', 'DEF', 'other', 'DEF', 'other', 'DEF', 'ATT', 'other', 'other', 'ATT', 'DEF', 'other', 'ATT', 'DEF', 'other', 'ATT', 'MID', 'MID', 'DEF', 'other', 'other', 'MID', 'ATT', 'other', 'other', 'MID', 'other', 'other', 'MID', 'other', 'other', 'other', 'DEF', 'MID', 'other', 'MID', 'MID', 'MID', 'MID', 'other', 'ATT', 'other', 'DEF', 'ATT', 'DEF', 'DEF', 'DEF', 'other', 'other', 'other', 'other', 'MID', 'DEF', 'other', 'other', 'DEF', 'MID', 'MID', 'other', 'ATT', 'other', 'MID', 'other', 'other', 'DEF', 'MID', 'DEF', 'ATT', 'DEF', 'ATT', 'ATT', 'other', 'MID', 'other', 'DEF', 'other', 'other', 'other', 'other', 'other', 'other', 'ATT', 'other', 'DEF', 'DEF', 'DEF', 'DEF', 'DEF', 'other', 'MID', 'DEF', 'DEF', 'other', 'MID', 'other', 'MID', 'MID', 'other', 'other', 'other', 'other', 'other', 'DEF', 'MID', 'MID', 'DEF', 'DEF', 'ATT', 'DEF', 'MID', 'other', 'MID', 'MID', 'DEF', 'MID', 'MID', 'other', 'MID', 'MID', 'MID', 'MID', 'other', 'other', 'other', 'other', 'MID', 'DEF', 'MID', 'ATT', 'DEF', 'other', 'other', 'other', 'DEF', 'DEF', 'other', 'other', 'MID', 'other', 'other', 'other', 'ATT', 'MID', 'DEF', 'other', 'MID', 'other', 'other', 'MID', 'MID', 'ATT', 'other', 'other', 'other', 'other', 'DEF', 'MID', 'DEF', 'other', 'other', 'other', 'ATT', 'other', 'other', 'ATT', 'other', 'DEF', 'MID', 'MID', 'MID', 'ATT', 'other', 'other', 'other', 'other', 'DEF', 'MID', 'other', 'DEF', 'other', 'MID', 'other', 'other', 'other', 'MID', 'other', 'MID', 'MID', 'MID', 'other', 'DEF', 'ATT', 'other', 'other', 'other', 'MID', 'other', 'MID', 'DEF', 'other', 'ATT', 'MID', 'DEF', 'other', 'ATT', 'ATT', 'other', 'MID', 'other', 'MID', 'DEF', 'ATT', 'DEF', 'ATT', 'MID', 'MID', 'MID', 'MID', 'ATT', 'MID', 'MID', 'ATT', 'MID', 'ATT', 'DEF', 'ATT', 'DEF', 'DEF', 'other', 'MID', 'MID', 'other', 'DEF', 'ATT', 'DEF', 'MID', 'other', 'ATT', 'other', 'other', 'DEF', 'DEF', 'other', 'other', 'other', 'DEF', 'DEF', 'other', 'DEF', 'ATT', 'other', 'other', 'DEF', 'MID', 'other', 'MID', 'ATT', 'other', 'other', 'other', 'ATT', 'MID', 'ATT', 'other', 'DEF', 'other', 'other', 'DEF', 'other', 'other', 'ATT', 'MID', 'ATT', 'ATT', 'other', 'MID', 'other', 'other', 'DEF', 'DEF', 'other', 'DEF', 'other', 'MID', 'other', 'other', 'MID', 'MID', 'MID', 'other', 'MID', 'MID', 'DEF', 'MID', 'DEF', 'MID', 'MID', 'MID', 'DEF', 'DEF', 'DEF', 'MID', 'MID', 'other', 'DEF', 'other', 'other', 'MID', 'DEF', 'MID', 'DEF', 'MID', 'MID', 'MID', 'DEF', 'ATT', 'DEF', 'DEF', 'other', 'ATT', 'other', 'ATT', 'MID', 'other', 'DEF', 'DEF', 'other', 'DEF', 'other', 'MID', 'DEF', 'MID', 'ATT', 'other', 'other', 'other', 'ATT', 'other', 'other', 'other', 'other', 'MID', 'other', 'MID', 'other', 'ATT', 'other', 'ATT', 'ATT', 'MID', 'MID', 'DEF', 'other', 'other', 'MID', 'MID', 'DEF', 'DEF', 'other', 'ATT', 'other', 'MID', 'ATT', 'MID', 'DEF', 'ATT', 'MID', 'other', 'other', 'MID', 'MID', 'other', 'ATT', 'other', 'ATT', 'other', 'other', 'other', 'DEF', 'DEF', 'other', 'MID', 'MID', 'other', 'other', 'ATT', 'DEF', 'other', 'DEF', 'DEF', 'MID', 'other', 'other', 'DEF', 'other', 'ATT', 'MID', 'other', 'MID', 'MID', 'other', 'other', 'ATT', 'MID', 'other', 'MID', 'ATT', 'other', 'ATT', 'ATT', 'other', 'MID', 'other', 'ATT', 'other', 'other', 'MID', 'DEF', 'DEF', 'MID', 'MID', 'other', 'DEF', 'MID', 'ATT', 'other', 'ATT', 'other', 'other', 'other', 'ATT', 'MID', 'DEF', 'other', 'other', 'ATT', 'other', 'DEF', 'DEF', 'other', 'MID', 'other', 'DEF', 'DEF', 'other', 'DEF', 'other', 'other', 'other', 'DEF', 'other', 'DEF', 'ATT', 'MID', 'DEF', 'MID', 'ATT', 'other', 'DEF', 'DEF', 'DEF', 'MID', 'DEF', 'DEF', 'MID', 'MID', 'MID', 'other', 'other', 'MID', 'DEF', 'DEF', 'other', 'ATT', 'DEF', 'DEF', 'DEF', 'MID', 'other', 'MID', 'MID', 'MID', 'DEF', 'ATT', 'other', 'DEF', 'DEF', 'other', 'other', 'MID', 'DEF', 'MID', 'other', 'other', 'other', 'other', 'ATT', 'ATT', 'MID', 'DEF', 'MID', 'MID', 'MID', 'other', 'other', 'DEF', 'other', 'DEF', 'DEF', 'ATT', 'DEF', 'DEF', 'DEF', 'other', 'MID', 'DEF', 'DEF', 'other', 'ATT', 'other', 'DEF', 'MID', 'other', 'DEF', 'MID', 'DEF', 'MID', 'other', 'other', 'other', 'ATT', 'DEF', 'DEF', 'MID', 'other', 'other', 'ATT', 'MID', 'DEF', 'MID', 'other', 'MID', 'ATT', 'other', 'MID', 'other', 'MID', 'other', 'ATT', 'MID', 'MID', 'other', 'other', 'other', 'DEF', 'other', 'other', 'other', 'other', 'MID', 'DEF', 'MID', 'MID', 'DEF', 'MID', 'other', 'MID', 'MID', 'DEF', 'other', 'other', 'other', 'MID', 'ATT', 'MID', 'other', 'other', 'other', 'MID', 'other', 'DEF', 'other', 'MID', 'MID', 'DEF', 'ATT', 'MID', 'other', 'other', 'other', 'other', 'other', 'MID', 'DEF', 'MID', 'other', 'DEF', 'other', 'other', 'DEF', 'MID', 'other', 'other', 'MID', 'ATT', 'other', 'other', 'MID', 'other', 'other', 'other', 'DEF', 'other', 'other', 'MID', 'DEF', 'DEF', 'other', 'other', 'other', 'ATT', 'ATT', 'other', 'MID', 'ATT', 'MID', 'DEF', 'other', 'other', 'other', 'other', 'other', 'MID', 'MID', 'DEF', 'other', 'other', 'other', 'DEF', 'other', 'DEF', 'DEF', 'DEF', 'MID', 'MID', 'ATT', 'DEF', 'DEF', 'other', 'MID', 'other', 'other', 'other', 'ATT', 'other', 'DEF', 'other', 'MID', 'other', 'other', 'MID', 'DEF', 'other', 'other', 'other', 'DEF', 'other', 'other', 'DEF', 'MID', 'other', 'other', 'other', 'other', 'other', 'MID', 'MID', 'other', 'MID', 'MID', 'DEF', 'other', 'MID', 'other', 'ATT', 'DEF', 'other', 'DEF', 'other', 'MID', 'other', 'other', 'other', 'DEF', 'other', 'other', 'DEF', 'DEF', 'ATT', 'DEF', 'other', 'other', 'DEF', 'other', 'DEF', 'MID', 'other', 'other', 'DEF', 'other', 'other', 'other', 'other', 'MID', 'ATT', 'other', 'MID', 'MID', 'other', 'DEF', 'DEF', 'MID', 'other', 'other', 'DEF', 'other', 'other', 'other', 'other', 'DEF', 'MID', 'other', 'DEF', 'MID', 'other', 'DEF', 'other', 'other', 'DEF', 'DEF', 'MID', 'DEF', 'other', 'other', 'other', 'MID', 'DEF', 'DEF', 'DEF', 'DEF', 'DEF', 'other', 'ATT', 'DEF', 'MID', 'DEF', 'DEF', 'MID', 'other', 'ATT', 'other', 'DEF', 'ATT', 'MID', 'MID', 'other', 'MID', 'ATT', 'MID', 'DEF', 'DEF', 'ATT', 'DEF', 'other', 'DEF', 'other', 'other', 'other', 'DEF', 'other', 'other', 'DEF', 'DEF', 'MID', 'MID', 'DEF', 'other', 'other', 'ATT', 'other', 'DEF', 'other', 'MID', 'MID', 'MID', 'ATT', 'DEF', 'ATT', 'other', 'other', 'MID', 'MID', 'MID', 'ATT', 'MID', 'DEF', 'MID', 'MID', 'DEF', 'ATT', 'other', 'other', 'DEF', 'ATT', 'other', 'ATT', 'DEF', 'other', 'other', 'other', 'other', 'DEF', 'DEF', 'other', 'other', 'other', 'DEF', 'ATT', 'DEF', 'MID', 'MID', 'other', 'other', 'MID', 'other', 'other', 'other', 'other', 'other', 'MID', 'MID', 'other', 'MID', 'MID', 'MID', 'DEF', 'DEF', 'MID', 'ATT', 'other', 'other', 'MID', 'MID', 'other', 'other', 'MID', 'other', 'DEF', 'other', 'DEF', 'ATT', 'other', 'MID', 'MID', 'MID', 'other', 'MID', 'MID', 'other', 'DEF', 'MID', 'MID', 'MID', 'other', 'other', 'MID', 'DEF', 'ATT', 'DEF', 'other', 'ATT', 'DEF', 'DEF', 'other', 'other', 'other', 'MID', 'DEF', 'other', 'other', 'other', 'other', 'MID', 'other', 'DEF', 'DEF', 'MID', 'other', 'MID', 'ATT', 'DEF', 'other', 'MID', 'other', 'MID', 'DEF', 'other', 'other', 'MID', 'DEF', 'MID', 'other', 'DEF', 'other', 'other', 'other', 'MID', 'other', 'other', 'DEF', 'DEF', 'ATT', 'other', 'DEF', 'other', 'other', 'other', 'DEF', 'other', 'DEF', 'other', 'DEF', 'ATT', 'DEF', 'other', 'MID', 'other', 'other', 'other', 'MID', 'other', 'other', 'other', 'other', 'other', 'ATT', 'ATT', 'MID', 'other', 'other', 'DEF', 'other', 'other', 'DEF', 'ATT', 'ATT', 'ATT', 'other', 'DEF', 'other', 'other', 'DEF', 'MID', 'DEF', 'other', 'ATT', 'other', 'DEF', 'other', 'other', 'other', 'MID', 'other', 'ATT', 'ATT', 'DEF', 'MID', 'DEF', 'DEF', 'other', 'other', 'other', 'ATT', 'MID', 'ATT', 'ATT', 'other', 'MID', 'DEF', 'DEF', 'other', 'DEF', 'other', 'other', 'other', 'other', 'ATT', 'DEF', 'other', 'other', 'other', 'ATT', 'MID', 'DEF', 'MID', 'other', 'DEF', 'other', 'MID', 'DEF', 'other', 'MID', 'MID', 'other', 'MID', 'MID', 'ATT', 'ATT', 'DEF', 'DEF', 'other', 'DEF', 'MID', 'ATT', 'other', 'MID', 'DEF', 'DEF', 'DEF', 'MID', 'other', 'MID', 'MID', 'MID', 'ATT', 'ATT', 'ATT', 'DEF', 'other', 'other', 'other', 'other', 'other', 'other', 'other', 'other', 'MID', 'ATT', 'other', 'other', 'other', 'other', 'other', 'ATT', 'DEF', 'other', 'other', 'other', 'MID', 'DEF', 'other', 'other', 'other', 'other', 'MID', 'MID', 'other', 'other', 'other', 'other', 'DEF', 'ATT', 'other', 'DEF', 'other', 'DEF', 'MID', 'other', 'other', 'DEF', 'ATT', 'DEF', 'other', 'MID', 'DEF', 'MID', 'ATT', 'other', 'MID', 'other', 'ATT', 'other', 'DEF', 'other', 'DEF', 'ATT', 'DEF', 'MID', 'MID', 'ATT', 'other', 'DEF', 'other', 'other', 'other', 'other', 'DEF', 'MID', 'DEF', 'MID', 'other', 'DEF', 'ATT', 'other', 'DEF', 'MID', 'ATT', 'MID', 'other', 'DEF', 'MID', 'MID', 'other', 'other', 'MID', 'MID', 'other', 'other', 'other', 'ATT', 'other', 'other', 'MID', 'DEF', 'other', 'MID', 'ATT', 'other', 'other', 'MID', 'MID', 'MID', 'other', 'other', 'ATT', 'MID', 'ATT', 'other', 'other', 'other', 'other', 'other', 'DEF', 'other', 'DEF', 'other', 'other', 'MID', 'MID', 'ATT', 'DEF', 'other', 'MID', 'other', 'MID', 'ATT', 'MID', 'ATT', 'MID', 'MID', 'other', 'MID', 'DEF', 'other', 'MID', 'other', 'DEF', 'ATT', 'other', 'other', 'other', 'MID', 'other', 'other', 'other', 'DEF', 'DEF', 'MID', 'other', 'MID', 'other', 'MID', 'other', 'other', 'MID', 'DEF', 'other', 'DEF', 'other', 'ATT', 'other', 'other', 'other', 'MID', 'DEF', 'DEF', 'other', 'MID', 'DEF', 'other', 'MID', 'DEF', 'other', 'other', 'other', 'other', 'MID', 'other', 'other', 'other', 'other', 'other', 'ATT', 'other', 'DEF', 'MID', 'DEF', 'MID', 'ATT', 'DEF', 'ATT', 'other', 'other', 'other', 'DEF', 'other', 'other', 'DEF', 'other', 'DEF', 'other', 'other', 'DEF', 'ATT', 'DEF', 'other', 'MID', 'other', 'DEF', 'MID', 'other', 'DEF', 'other', 'MID', 'DEF', 'other', 'DEF', 'ATT', 'DEF', 'MID', 'DEF', 'other', 'ATT', 'DEF', 'DEF', 'other', 'other', 'other', 'MID', 'other', 'other', 'MID', 'other', 'ATT', 'other', 'ATT', 'DEF', 'other', 'other', 'other', 'DEF', 'DEF', 'other', 'ATT', 'ATT', 'other', 'ATT', 'DEF', 'other', 'other', 'other', 'DEF', 'other', 'other', 'other', 'MID', 'MID', 'MID', 'other', 'other', 'other', 'MID', 'MID', 'other', 'ATT', 'DEF', 'other', 'other', 'other', 'MID', 'ATT', 'other', 'ATT', 'ATT', 'other', 'other', 'other', 'DEF', 'other', 'other', 'DEF', 'MID', 'DEF', 'other', 'MID', 'MID', 'ATT', 'DEF', 'other', 'DEF', 'other', 'MID', 'other', 'other', 'DEF', 'ATT', 'ATT', 'other', 'other', 'other', 'other', 'other', 'other', 'MID', 'DEF', 'ATT', 'ATT', 'other', 'DEF', 'other', 'DEF', 'other', 'MID', 'other', 'other', 'ATT', 'DEF', 'MID', 'DEF', 'other', 'MID', 'other', 'MID', 'other', 'other', 'MID', 'DEF', 'MID', 'ATT', 'other', 'DEF', 'other', 'MID', 'DEF', 'DEF', 'MID', 'other', 'other', 'DEF', 'other', 'ATT', 'DEF', 'ATT', 'DEF', 'MID', 'other', 'other', 'other', 'DEF', 'other', 'other', 'other', 'DEF', 'ATT', 'MID', 'MID', 'MID', 'DEF', 'other', 'MID', 'DEF', 'other', 'ATT', 'DEF', 'MID', 'other', 'other', 'other', 'other', 'other', 'other', 'other', 'MID', 'MID', 'other', 'DEF', 'other', 'other', 'other', 'MID', 'DEF', 'other', 'other', 'other', 'DEF', 'DEF', 'other', 'MID', 'other', 'other', 'DEF', 'DEF', 'DEF', 'other', 'MID', 'other', 'other', 'other', 'DEF', 'DEF', 'DEF', 'ATT', 'other', 'other', 'MID', 'MID', 'other', 'other', 'other', 'DEF', 'ATT', 'DEF', 'other', 'MID', 'other', 'MID', 'DEF', 'other', 'DEF', 'other', 'DEF', 'other', 'MID', 'other', 'MID', 'other', 'DEF', 'other', 'DEF', 'ATT', 'MID', 'other', 'ATT', 'other', 'other', 'other', 'other', 'ATT', 'other', 'ATT', 'MID', 'other', 'ATT', 'other', 'other', 'other', 'other', 'DEF', 'ATT', 'DEF', 'MID', 'other', 'other', 'DEF', 'MID', 'DEF', 'other', 'other', 'DEF', 'other', 'ATT', 'DEF', 'other', 'DEF', 'MID', 'MID', 'other', 'other', 'MID', 'DEF', 'MID', 'DEF', 'MID', 'other', 'MID', 'other', 'MID', 'MID', 'DEF', 'other', 'DEF', 'ATT', 'MID', 'MID', 'MID', 'other', 'other', 'DEF', 'other', 'MID', 'DEF', 'ATT', 'other', 'other', 'other', 'other', 'other', 'other', 'other', 'other', 'DEF', 'other', 'other', 'other', 'other', 'DEF', 'other', 'DEF', 'other', 'MID', 'ATT', 'ATT', 'MID', 'other', 'other', 'other', 'MID', 'ATT', 'DEF', 'DEF', 'other', 'ATT', 'DEF', 'DEF', 'other', 'MID', 'MID', 'DEF', 'MID', 'MID', 'MID', 'ATT', 'DEF', 'other', 'MID', 'ATT', 'MID', 'DEF', 'other', 'other', 'DEF', 'other', 'ATT', 'DEF', 'DEF', 'MID', 'other', 'other', 'MID', 'other', 'DEF', 'MID', 'ATT', 'other', 'other', 'DEF', 'DEF', 'DEF', 'other', 'MID', 'other', 'MID', 'other', 'MID', 'other', 'MID', 'DEF', 'other', 'other', 'other', 'other', 'other', 'DEF', 'ATT', 'other', 'ATT', 'DEF', 'DEF', 'MID', 'ATT', 'DEF', 'DEF', 'other', 'DEF', 'other', 'other', 'other', 'other', 'DEF', 'other', 'ATT', 'ATT', 'other', 'MID', 'DEF', 'MID', 'DEF', 'other', 'other', 'DEF', 'ATT', 'other', 'ATT', 'MID', 'ATT', 'other', 'DEF', 'DEF', 'DEF', 'other', 'MID', 'MID', 'DEF', 'DEF', 'MID', 'other', 'MID', 'DEF', 'DEF', 'other', 'other', 'DEF', 'ATT', 'other', 'other', 'DEF', 'DEF', 'other', 'other', 'other', 'MID', 'DEF', 'DEF', 'other', 'MID', 'DEF', 'other', 'MID', 'MID', 'other', 'other', 'DEF', 'other', 'other', 'other', 'other', 'DEF', 'MID', 'ATT', 'other', 'ATT', 'DEF', 'other', 'other', 'DEF', 'other', 'DEF', 'DEF', 'other', 'MID', 'DEF', 'other', 'other', 'DEF', 'MID', 'other', 'other', 'other', 'other', 'other', 'MID', 'DEF', 'other', 'ATT', 'MID', 'DEF', 'other', 'other', 'DEF', 'other', 'other', 'DEF', 'MID', 'MID', 'other', 'other', 'DEF', 'other', 'MID', 'other', 'other', 'other', 'other', 'other', 'other', 'other', 'MID', 'other', 'other', 'other', 'ATT', 'other', 'MID', 'other', 'MID', 'DEF', 'DEF', 'DEF', 'other', 'other', 'DEF', 'other', 'other', 'other', 'ATT', 'other', 'MID', 'MID', 'ATT', 'other', 'ATT', 'other', 'other', 'MID', 'other', 'other', 'DEF', 'MID', 'DEF', 'other', 'other', 'other', 'other', 'other', 'other', 'DEF', 'other', 'DEF', 'DEF', 'ATT', 'other', 'other', 'other', 'other', 'other', 'MID', 'other', 'MID', 'other', 'DEF', 'other', 'other', 'MID', 'other', 'MID', 'DEF', 'other', 'MID', 'MID', 'other', 'DEF', 'other', 'ATT', 'MID', 'other', 'DEF', 'other', 'other', 'ATT', 'DEF', 'MID', 'DEF', 'other', 'DEF', 'ATT', 'other', 'other', 'ATT', 'other', 'DEF', 'DEF', 'other', 'other', 'other', 'MID', 'MID', 'DEF', 'ATT', 'other', 'MID', 'ATT', 'other', 'other', 'other', 'other', 'other', 'ATT', 'other', 'other', 'other', 'MID', 'MID', 'other', 'MID', 'other', 'other', 'other', 'other', 'DEF', 'other', 'other', 'DEF', 'DEF', 'ATT', 'MID', 'ATT', 'other', 'other', 'other', 'DEF', 'MID', 'ATT', 'ATT', 'DEF', 'other', 'other', 'DEF', 'ATT', 'other', 'other', 'other', 'ATT', 'ATT', 'MID', 'MID', 'other', 'other', 'MID', 'other', 'ATT', 'ATT', 'other', 'other', 'other', 'other', 'other', 'MID', 'MID', 'ATT', 'DEF', 'other', 'DEF', 'other', 'other', 'other', 'other', 'other', 'MID', 'DEF', 'MID', 'other', 'other', 'other', 'ATT', 'MID', 'other', 'MID', 'other', 'DEF', 'other', 'MID', 'DEF', 'other', 'MID', 'other', 'MID', 'DEF', 'DEF', 'other', 'DEF', 'MID', 'other', 'MID', 'ATT', 'ATT', 'DEF', 'DEF', 'other', 'other', 'other', 'other', 'MID', 'other', 'other', 'other', 'ATT', 'MID', 'DEF', 'MID', 'other', 'other', 'DEF', 'other', 'other', 'MID', 'MID', 'other', 'other', 'ATT', 'DEF', 'DEF', 'MID', 'other', 'other', 'other', 'other', 'DEF', 'MID', 'other', 'DEF', 'MID', 'DEF', 'other', 'DEF', 'other', 'other', 'other', 'ATT', 'other', 'ATT', 'other', 'DEF', 'other', 'other', 'MID', 'MID', 'other', 'DEF', 'other', 'MID', 'MID', 'MID', 'other', 'other', 'other', 'MID', 'DEF', 'other', 'other', 'MID', 'ATT', 'other', 'ATT', 'DEF', 'DEF', 'other', 'ATT', 'MID', 'other', 'other', 'other', 'DEF', 'DEF', 'DEF', 'MID', 'other', 'MID', 'DEF', 'other', 'MID', 'MID', 'other', 'MID', 'DEF', 'other', 'other', 'MID', 'other', 'ATT', 'ATT', 'other', 'MID', 'DEF', 'MID', 'MID', 'other', 'MID', 'MID', 'other', 'DEF', 'other', 'other', 'other', 'other', 'MID', 'other', 'other', 'MID', 'MID', 'other', 'MID', 'DEF', 'MID', 'MID', 'other', 'other', 'DEF', 'DEF', 'other', 'other', 'MID', 'other', 'other', 'other', 'DEF', 'MID', 'ATT', 'MID', 'DEF', 'MID', 'other', 'MID', 'other', 'MID', 'ATT', 'MID', 'other', 'other', 'other', 'ATT', 'other', 'DEF', 'other', 'other', 'ATT', 'other', 'MID', 'other', 'DEF', 'other', 'other', 'other', 'MID', 'ATT', 'MID', 'ATT', 'other', 'ATT', 'MID', 'other', 'other', 'MID', 'other', 'DEF', 'other', 'other', 'MID', 'ATT', 'other', 'ATT', 'DEF', 'ATT', 'other', 'DEF', 'DEF', 'other', 'DEF', 'other', 'other', 'other', 'ATT', 'other', 'MID', 'MID', 'MID', 'ATT', 'other', 'MID', 'other', 'DEF', 'DEF', 'other', 'other', 'ATT', 'other', 'MID', 'DEF', 'MID', 'MID', 'DEF', 'other', 'other', 'MID', 'DEF', 'other', 'ATT', 'DEF', 'DEF', 'DEF', 'ATT', 'DEF', 'DEF', 'other', 'other', 'ATT', 'DEF', 'other', 'MID', 'DEF', 'MID', 'other', 'ATT', 'other', 'DEF', 'DEF', 'other', 'other', 'other', 'other', 'other', 'DEF', 'other', 'MID', 'DEF', 'other', 'other', 'ATT', 'other', 'DEF', 'other', 'other', 'DEF', 'MID', 'DEF', 'ATT', 'other', 'DEF', 'DEF', 'DEF', 'MID', 'other', 'other', 'other', 'other', 'ATT', 'DEF', 'ATT', 'MID', 'MID', 'other', 'other', 'DEF', 'other', 'ATT', 'DEF', 'DEF', 'DEF', 'other', 'other', 'DEF', 'other', 'other', 'DEF', 'MID', 'other', 'DEF', 'DEF', 'ATT', 'ATT', 'MID', 'other', 'other', 'MID', 'MID', 'ATT', 'DEF', 'other', 'other', 'DEF', 'other', 'other', 'other', 'other', 'MID', 'other', 'DEF', 'MID', 'ATT', 'DEF', 'MID', 'MID', 'other', 'DEF', 'other', 'other', 'DEF', 'ATT', 'ATT', 'other', 'other', 'other', 'other', 'MID', 'MID', 'other', 'other', 'ATT', 'ATT', 'ATT', 'DEF', 'other', 'other', 'MID', 'other', 'ATT', 'ATT', 'MID', 'MID', 'other', 'other', 'DEF', 'DEF', 'DEF', 'DEF', 'DEF', 'DEF', 'DEF', 'DEF', 'ATT', 'other', 'MID', 'other', 'DEF', 'other', 'ATT', 'other', 'other', 'other', 'DEF', 'DEF', 'other', 'ATT', 'other', 'MID', 'ATT', 'MID', 'other', 'other', 'other', 'other', 'DEF', 'DEF', 'DEF', 'DEF', 'DEF', 'other', 'other', 'other', 'other', 'DEF', 'DEF', 'DEF', 'MID', 'DEF', 'other', 'other', 'ATT', 'MID', 'MID', 'MID', 'MID', 'other', 'DEF', 'ATT', 'MID', 'MID', 'DEF', 'other', 'other', 'other', 'other', 'other', 'other', 'DEF', 'MID', 'ATT', 'MID', 'MID', 'other', 'DEF', 'ATT', 'MID', 'MID', 'DEF', 'other', 'other', 'DEF', 'other', 'other', 'other', 'ATT', 'DEF', 'DEF', 'other', 'other', 'DEF', 'DEF', 'other', 'other', 'ATT', 'other', 'other', 'MID', 'other', 'other', 'ATT', 'MID', 'MID', 'other', 'other', 'MID', 'ATT', 'other', 'ATT', 'MID', 'DEF', 'DEF', 'MID', 'MID', 'MID', 'DEF', 'MID', 'other', 'MID', 'ATT', 'DEF', 'MID', 'MID', 'ATT', 'ATT', 'MID', 'DEF', 'other', 'DEF', 'other', 'other', 'MID', 'other', 'other', 'DEF', 'ATT', 'DEF', 'other', 'other', 'other', 'MID', 'other', 'other', 'DEF', 'other', 'other', 'other', 'ATT', 'other', 'MID', 'DEF', 'DEF', 'ATT', 'other', 'MID', 'MID', 'MID', 'other', 'MID', 'other', 'other', 'MID', 'other', 'other', 'MID', 'MID', 'DEF', 'MID', 'other', 'other', 'other', 'other', 'DEF', 'MID', 'other', 'MID', 'other', 'other', 'other', 'DEF', 'ATT', 'other', 'other', 'DEF', 'other', 'other', 'MID', 'MID', 'MID', 'other', 'MID', 'other', 'other', 'MID', 'other', 'DEF', 'MID', 'other', 'other', 'MID', 'DEF', 'other', 'other', 'other', 'other', 'other', 'other', 'MID', 'DEF', 'ATT', 'DEF', 'DEF', 'MID', 'MID', 'DEF', 'MID', 'MID', 'other', 'DEF', 'ATT', 'ATT', 'other', 'other', 'MID', 'MID', 'ATT', 'MID', 'other', 'DEF', 'MID', 'other', 'DEF', 'other', 'DEF', 'other', 'other', 'other', 'other', 'other', 'DEF', 'MID', 'MID', 'other', 'MID', 'other', 'other', 'other', 'other', 'MID', 'DEF', 'other', 'MID', 'DEF', 'MID', 'other', 'MID', 'other', 'MID', 'other', 'MID', 'DEF', 'other', 'other', 'DEF', 'other', 'DEF', 'other', 'DEF', 'MID', 'other', 'other', 'DEF', 'DEF', 'MID', 'DEF', 'other', 'DEF', 'other', 'ATT', 'DEF', 'other', 'ATT', 'MID', 'other', 'other', 'other', 'MID', 'other', 'other', 'other', 'DEF', 'MID', 'other', 'DEF', 'other', 'other', 'MID', 'other', 'other', 'other', 'other', 'other', 'MID', 'other', 'DEF', 'ATT', 'other', 'ATT', 'other', 'ATT', 'MID', 'MID', 'MID', 'DEF', 'other', 'DEF', 'ATT', 'MID', 'other', 'other', 'DEF', 'ATT', 'DEF', 'MID', 'DEF', 'MID', 'other', 'ATT', 'DEF', 'other', 'MID', 'DEF', 'other', 'MID', 'DEF', 'MID', 'other', 'MID', 'other', 'other', 'other', 'DEF', 'MID', 'other', 'other', 'DEF', 'other', 'MID', 'other', 'MID', 'ATT', 'MID', 'MID', 'other', 'DEF', 'DEF', 'other', 'ATT', 'DEF', 'DEF', 'DEF', 'other', 'DEF', 'DEF', 'MID', 'other', 'other', 'other', 'MID', 'ATT', 'other', 'other', 'other', 'MID', 'other', 'other', 'other', 'MID', 'other', 'MID', 'MID', 'ATT', 'other', 'other', 'DEF', 'MID', 'other', 'other', 'DEF', 'DEF', 'DEF', 'MID', 'MID', 'DEF', 'MID', 'DEF', 'DEF', 'other', 'other', 'other', 'other', 'ATT', 'MID', 'other', 'other', 'ATT', 'other', 'DEF', 'MID', 'MID', 'DEF', 'other', 'MID', 'ATT', 'other', 'other', 'other', 'DEF', 'DEF', 'other', 'other', 'other', 'other', 'DEF', 'MID', 'DEF', 'other', 'MID', 'other', 'DEF', 'DEF', 'other', 'other', 'other', 'DEF', 'MID', 'other', 'MID', 'DEF', 'MID', 'other', 'other', 'MID', 'MID', 'ATT', 'other', 'ATT', 'ATT', 'other', 'DEF', 'other', 'DEF', 'DEF', 'MID', 'other', 'MID', 'DEF', 'MID', 'other', 'other', 'DEF', 'DEF', 'other', 'other', 'MID', 'ATT', 'MID', 'DEF', 'other', 'other', 'MID', 'other', 'MID', 'other', 'other', 'other', 'other', 'ATT', 'MID', 'DEF', 'DEF', 'MID', 'DEF', 'ATT', 'MID', 'MID', 'MID', 'other', 'other', 'other', 'MID', 'ATT', 'MID', 'other', 'MID', 'DEF', 'MID', 'other', 'other', 'MID', 'other', 'DEF', 'other', 'other', 'other', 'MID', 'other', 'other', 'ATT', 'other', 'other', 'other', 'other', 'DEF', 'ATT', 'other', 'other', 'ATT', 'MID', 'MID', 'other', 'DEF', 'other', 'MID', 'ATT', 'ATT', 'other', 'other', 'MID', 'other', 'MID', 'DEF', 'other', 'other', 'other', 'other', 'other', 'MID', 'DEF', 'ATT', 'MID', 'MID', 'ATT', 'DEF', 'other', 'MID', 'other', 'other', 'other', 'MID', 'other', 'other', 'MID', 'other', 'other', 'other', 'other', 'other', 'other', 'other', 'other', 'other', 'MID', 'DEF', 'other', 'MID', 'other', 'DEF', 'ATT', 'other', 'MID', 'DEF', 'other', 'DEF', 'other', 'DEF', 'other', 'other', 'other', 'MID', 'other', 'other', 'ATT', 'DEF', 'DEF', 'other', 'other', 'DEF', 'other', 'other', 'other', 'other', 'MID', 'ATT', 'MID', 'other', 'other', 'DEF', 'other', 'MID', 'MID', 'other', 'other', 'other', 'other', 'DEF', 'DEF', 'other', 'other', 'MID', 'DEF', 'other', 'other', 'other', 'other', 'other', 'other', 'MID', 'DEF', 'other', 'other', 'other', 'ATT', 'other', 'other', 'other', 'other', 'ATT', 'other', 'other', 'DEF', 'DEF', 'other', 'MID', 'DEF', 'other', 'DEF', 'ATT', 'MID', 'other', 'other', 'ATT', 'MID', 'other', 'other', 'other', 'MID', 'other', 'other', 'MID', 'MID', 'other', 'DEF', 'other', 'other', 'other', 'other', 'other', 'MID', 'other', 'other', 'other', 'other', 'other', 'other', 'other', 'MID', 'MID', 'MID', 'MID', 'other', 'other', 'other', 'DEF', 'other', 'DEF', 'other', 'DEF', 'ATT', 'other', 'other', 'other', 'ATT', 'other', 'other', 'ATT', 'MID', 'other', 'other', 'ATT', 'other', 'DEF', 'DEF', 'other', 'DEF', 'MID', 'DEF', 'MID', 'ATT', 'other', 'other', 'MID', 'DEF', 'other', 'other', 'MID', 'DEF', 'other', 'MID', 'other', 'other', 'other', 'other', 'other', 'DEF', 'other', 'other', 'other', 'DEF', 'MID', 'DEF', 'other', 'other', 'other', 'MID', 'other', 'other', 'DEF', 'ATT', 'other', 'MID', 'other', 'other', 'other', 'MID', 'DEF', 'DEF', 'other', 'DEF', 'other', 'other', 'other', 'MID', 'DEF', 'MID', 'other', 'MID', 'DEF', 'DEF', 'MID', 'other', 'ATT', 'DEF', 'DEF', 'MID', 'MID', 'ATT', 'ATT', 'DEF', 'MID', 'DEF', 'other', 'other', 'other', 'ATT', 'ATT', 'DEF', 'DEF', 'other', 'DEF', 'ATT', 'DEF', 'DEF', 'MID', 'DEF', 'MID', 'MID', 'other', 'other', 'DEF', 'other', 'other', 'MID', 'DEF', 'other', 'MID', 'MID', 'other', 'other', 'MID', 'other', 'other', 'DEF', 'DEF', 'DEF', 'other', 'DEF', 'MID', 'other', 'other', 'other', 'DEF', 'other', 'other', 'ATT', 'other', 'DEF', 'MID', 'other', 'ATT', 'other', 'other', 'ATT', 'other', 'other', 'other', 'other', 'DEF', 'DEF', 'DEF', 'DEF', 'DEF', 'other', 'MID', 'DEF', 'MID', 'other', 'DEF', 'DEF', 'other', 'other', 'other', 'DEF', 'ATT', 'DEF', 'other', 'other', 'MID', 'DEF', 'other', 'DEF', 'other', 'MID', 'DEF', 'MID', 'other', 'DEF', 'MID', 'other', 'other', 'MID', 'other', 'ATT', 'other', 'other', 'ATT', 'DEF', 'other', 'MID', 'other', 'other', 'other', 'DEF', 'ATT', 'DEF', 'MID', 'other', 'other', 'MID', 'MID', 'other', 'MID', 'DEF', 'other', 'DEF', 'MID', 'other', 'DEF', 'DEF', 'other', 'DEF', 'MID', 'ATT', 'ATT', 'other', 'other', 'other', 'MID', 'other', 'MID', 'ATT', 'DEF', 'other', 'other', 'DEF', 'MID', 'ATT', 'DEF', 'MID', 'other', 'other', 'other', 'ATT', 'other', 'MID', 'DEF', 'DEF', 'MID', 'MID', 'other', 'other', 'other', 'ATT', 'MID', 'DEF', 'DEF', 'other', 'other', 'MID', 'MID', 'other', 'DEF', 'DEF', 'other', 'DEF', 'DEF', 'MID', 'other', 'other', 'MID', 'other', 'DEF', 'MID', 'DEF', 'other', 'other', 'other', 'MID', 'other', 'MID', 'other', 'MID', 'ATT', 'DEF', 'MID', 'other', 'other', 'other', 'other', 'other', 'other', 'other', 'other', 'other', 'other', 'MID', 'MID', 'other', 'other', 'other', 'MID', 'MID', 'MID', 'MID', 'DEF', 'ATT', 'other', 'other', 'DEF', 'other', 'DEF', 'MID', 'other', 'other', 'DEF', 'ATT', 'MID', 'other', 'ATT', 'other', 'MID', 'MID', 'ATT', 'MID', 'DEF', 'MID', 'ATT', 'ATT', 'MID', 'other', 'ATT', 'other', 'other', 'other', 'MID', 'other', 'other', 'MID', 'MID', 'ATT', 'other', 'other', 'MID', 'DEF', 'MID', 'other', 'other', 'other', 'other', 'MID', 'other', 'DEF', 'DEF', 'ATT', 'DEF', 'ATT', 'ATT', 'MID', 'other', 'other', 'DEF', 'other', 'MID', 'other', 'DEF', 'ATT', 'MID', 'ATT', 'MID', 'other', 'other', 'other', 'other', 'MID', 'MID', 'other', 'other', 'MID', 'MID', 'DEF', 'DEF', 'other', 'MID', 'other', 'MID', 'other', 'DEF', 'other', 'other', 'ATT', 'DEF', 'other', 'other', 'DEF', 'other', 'other', 'DEF', 'other', 'DEF', 'other', 'MID', 'DEF', 'other', 'other', 'other', 'DEF', 'other', 'other', 'ATT', 'other', 'other', 'other', 'MID', 'other', 'MID', 'DEF', 'MID', 'DEF', 'MID', 'other', 'DEF', 'ATT', 'other', 'MID', 'MID', 'DEF', 'other', 'DEF', 'other', 'other', 'ATT', 'DEF', 'other', 'DEF', 'MID', 'other', 'other', 'other', 'DEF', 'ATT', 'other', 'ATT', 'MID', 'MID', 'other', 'MID', 'MID', 'other', 'DEF', 'other', 'ATT', 'other', 'DEF', 'other', 'MID', 'other', 'DEF', 'ATT', 'DEF', 'DEF', 'other', 'MID', 'MID', 'MID', 'DEF', 'DEF', 'DEF', 'MID', 'DEF', 'other', 'other', 'DEF', 'MID', 'MID', 'other', 'other', 'other', 'DEF', 'other', 'other', 'ATT', 'MID', 'other', 'DEF', 'MID', 'MID', 'ATT', 'other', 'MID', 'other', 'ATT', 'other', 'DEF', 'other', 'ATT', 'other', 'ATT', 'other', 'other', 'DEF', 'other', 'other', 'other', 'MID', 'DEF', 'ATT', 'MID', 'other', 'DEF', 'other', 'ATT', 'other', 'MID', 'MID', 'other', 'DEF', 'DEF', 'other', 'ATT', 'other', 'MID', 'MID', 'MID', 'MID', 'other', 'other', 'ATT', 'MID', 'other', 'other', 'other', 'DEF', 'other', 'DEF', 'other', 'DEF', 'DEF', 'other', 'DEF', 'other', 'other', 'other', 'DEF', 'other', 'other', 'other', 'DEF', 'other', 'other', 'other', 'other', 'MID', 'MID', 'other', 'MID', 'ATT', 'other', 'other', 'other', 'DEF', 'other', 'other', 'other', 'other', 'MID', 'ATT', 'MID', 'DEF', 'DEF', 'other', 'other', 'other', 'other', 'other', 'DEF', 'DEF', 'ATT', 'ATT', 'other', 'ATT', 'MID', 'ATT', 'DEF', 'other', 'other', 'other', 'other', 'other', 'MID', 'other', 'other', 'other', 'other', 'other', 'MID', 'other', 'DEF', 'ATT', 'DEF', 'MID', 'other', 'other', 'other', 'other', 'ATT', 'MID', 'other', 'DEF', 'DEF', 'other', 'MID', 'other', 'other', 'other', 'other', 'other', 'other', 'DEF', 'DEF', 'other', 'DEF', 'other', 'other', 'other', 'other', 'other', 'other', 'other', 'DEF', 'DEF', 'other', 'other', 'ATT', 'other', 'other', 'other', 'other', 'other', 'DEF', 'MID', 'other', 'ATT', 'other', 'other', 'DEF', 'other', 'other', 'ATT', 'MID', 'other', 'other', 'other', 'DEF', 'ATT', 'other', 'other', 'DEF', 'ATT', 'other', 'other', 'DEF', 'other', 'other', 'other', 'DEF', 'DEF', 'other', 'other', 'MID', 'other', 'MID', 'MID', 'other', 'other', 'other', 'DEF', 'other', 'ATT', 'DEF', 'other', 'MID', 'other', 'other', 'ATT', 'other', 'DEF', 'MID', 'ATT', 'other', 'other', 'MID', 'MID', 'other', 'other', 'other', 'other', 'ATT', 'other', 'other', 'other', 'other', 'ATT', 'other', 'other', 'MID', 'other', 'DEF', 'MID', 'DEF', 'other', 'other', 'ATT', 'other', 'MID', 'other', 'DEF', 'ATT', 'MID', 'ATT', 'other', 'other', 'other', 'other', 'other', 'other', 'other', 'other', 'DEF', 'other', 'ATT', 'MID', 'ATT', 'other', 'MID', 'other', 'other', 'other', 'other', 'other', 'other', 'other', 'other', 'other', 'DEF', 'other', 'other', 'MID', 'other', 'DEF', 'ATT', 'ATT', 'other', 'DEF', 'ATT', 'MID', 'DEF', 'ATT', 'ATT', 'DEF', 'DEF', 'MID', 'other', 'DEF', 'other', 'MID', 'MID', 'DEF', 'other', 'DEF', 'other', 'other', 'other', 'other', 'DEF', 'other', 'other', 'other', 'MID', 'MID', 'DEF', 'DEF', 'MID', 'MID', 'other', 'other', 'other', 'other', 'other', 'ATT', 'other', 'MID', 'other', 'MID', 'other', 'other', 'other', 'other', 'other', 'DEF', 'other', 'DEF', 'other', 'other', 'MID', 'MID', 'MID', 'other', 'other', 'MID', 'other', 'other', 'other', 'other', 'MID', 'other', 'other', 'MID', 'MID', 'other', 'other', 'MID', 'other', 'MID', 'DEF', 'MID', 'MID', 'MID', 'DEF', 'other', 'DEF', 'ATT', 'MID', 'other', 'DEF', 'MID', 'ATT', 'DEF', 'DEF', 'other', 'DEF', 'DEF', 'other', 'DEF', 'MID', 'other', 'other', 'DEF', 'other', 'other', 'ATT', 'DEF', 'other', 'other', 'MID', 'ATT', 'DEF', 'MID', 'other', 'MID', 'ATT', 'ATT', 'other', 'ATT', 'other', 'ATT', 'other', 'DEF', 'ATT', 'other', 'other', 'DEF', 'other', 'DEF', 'other', 'other', 'other', 'MID', 'MID', 'MID', 'MID', 'other', 'MID', 'DEF', 'DEF', 'other', 'DEF', 'DEF', 'other', 'other', 'DEF', 'other', 'other', 'MID', 'other', 'other', 'DEF', 'DEF', 'MID', 'MID', 'other', 'ATT', 'DEF', 'other', 'MID', 'other', 'MID', 'MID', 'other', 'other', 'MID', 'other', 'MID', 'other', 'ATT', 'other', 'other', 'other', 'ATT', 'other', 'other', 'other', 'MID', 'other', 'other', 'other', 'other', 'other', 'ATT', 'MID', 'other', 'other', 'other', 'ATT', 'DEF', 'DEF', 'other', 'MID', 'DEF', 'other', 'DEF', 'other', 'other', 'DEF', 'ATT', 'MID', 'other', 'ATT', 'MID', 'other', 'other', 'MID', 'DEF', 'other', 'ATT', 'other', 'DEF', 'other', 'other', 'other', 'other', 'other', 'MID', 'DEF', 'other', 'DEF', 'DEF', 'DEF', 'other', 'other', 'other', 'other', 'ATT', 'MID', 'other', 'other', 'MID', 'DEF', 'MID', 'ATT', 'MID', 'other', 'MID', 'other', 'MID', 'other', 'ATT', 'other', 'ATT', 'other', 'other', 'other', 'other', 'other', 'DEF', 'other', 'MID', 'other', 'other', 'other', 'ATT', 'other', 'other', 'other', 'other', 'other', 'other', 'other', 'other', 'other', 'other', 'other', 'DEF', 'DEF', 'DEF', 'other', 'MID', 'ATT', 'DEF', 'MID', 'other', 'DEF', 'other', 'other', 'MID', 'other', 'ATT', 'other', 'DEF', 'other', 'other', 'other', 'MID', 'other', 'other', 'other', 'ATT', 'DEF', 'ATT', 'other', 'MID', 'DEF', 'other', 'other', 'DEF', 'DEF', 'DEF', 'other', 'DEF', 'MID', 'other', 'MID', 'DEF', 'other', 'ATT', 'MID', 'other', 'other', 'DEF', 'other', 'other', 'MID', 'other', 'DEF', 'other', 'MID', 'ATT', 'ATT', 'MID', 'other', 'MID', 'other', 'MID', 'DEF', 'DEF', 'other', 'other', 'other', 'other', 'ATT', 'ATT', 'other', 'other', 'other', 'other', 'other', 'MID', 'ATT', 'MID', 'other', 'other', 'MID', 'other', 'MID', 'other', 'MID', 'other', 'other', 'ATT', 'other', 'other', 'other', 'MID', 'DEF', 'other', 'ATT', 'DEF', 'other', 'DEF', 'DEF', 'DEF', 'other', 'DEF', 'other', 'other', 'other', 'other', 'other', 'MID', 'DEF', 'other', 'DEF', 'other', 'MID', 'other', 'MID', 'DEF', 'other', 'other', 'other', 'other', 'DEF', 'DEF', 'other', 'other', 'other', 'other', 'other', 'MID', 'other', 'other', 'DEF', 'other', 'other', 'other', 'other', 'DEF', 'ATT', 'other', 'other', 'DEF', 'other', 'DEF', 'DEF', 'ATT', 'other', 'MID', 'other', 'MID', 'ATT', 'ATT', 'other', 'ATT', 'MID', 'other', 'ATT', 'ATT', 'other', 'other', 'other', 'other', 'other', 'DEF', 'MID', 'other', 'other', 'other', 'other', 'MID', 'other', 'MID', 'MID', 'other', 'DEF', 'ATT', 'ATT', 'other', 'other', 'MID', 'other', 'MID', 'MID', 'DEF', 'other', 'DEF', 'MID', 'DEF', 'other', 'other', 'DEF', 'other', 'ATT', 'other', 'DEF', 'ATT', 'DEF', 'other', 'other', 'other', 'other', 'other', 'other', 'other', 'MID', 'DEF', 'other', 'other', 'other', 'ATT', 'other', 'other', 'other', 'MID', 'MID', 'DEF', 'other', 'DEF', 'other', 'other', 'other', 'other', 'other', 'other', 'other', 'ATT', 'DEF', 'ATT', 'other', 'DEF', 'other', 'MID', 'DEF', 'DEF', 'other', 'MID', 'ATT', 'MID', 'other', 'MID', 'MID', 'other', 'DEF', 'other', 'DEF', 'other', 'DEF', 'DEF', 'DEF', 'DEF', 'other', 'DEF', 'other', 'DEF', 'ATT', 'other', 'other', 'other', 'DEF', 'other', 'MID', 'DEF', 'ATT', 'other', 'other', 'DEF', 'other', 'MID', 'other', 'other', 'other', 'other', 'other', 'MID', 'other', 'other', 'other', 'other', 'other', 'other', 'other', 'other', 'ATT', 'other', 'MID', 'DEF', 'DEF', 'other', 'MID', 'other', 'DEF', 'other', 'DEF', 'other', 'other', 'other', 'other', 'MID', 'other', 'DEF', 'DEF', 'other', 'MID', 'DEF', 'ATT', 'other', 'ATT', 'other', 'MID', 'ATT', 'other', 'DEF', 'other', 'DEF', 'other', 'MID', 'other', 'MID', 'DEF', 'other', 'other', 'DEF', 'DEF', 'other', 'ATT', 'DEF', 'MID', 'MID', 'DEF', 'DEF', 'other', 'other', 'other', 'other', 'DEF', 'other', 'DEF', 'MID', 'ATT', 'DEF', 'MID', 'MID', 'DEF', 'other', 'other', 'other', 'ATT', 'ATT', 'DEF', 'DEF', 'other', 'ATT', 'other', 'other', 'other', 'other', 'other', 'other', 'ATT', 'DEF', 'other', 'MID', 'MID', 'DEF', 'MID', 'MID', 'other', 'MID', 'other', 'DEF', 'DEF', 'MID', 'MID', 'MID', 'MID', 'other', 'MID', 'DEF', 'other', 'ATT', 'DEF', 'other', 'other', 'other', 'other', 'DEF', 'MID', 'other', 'other', 'DEF', 'MID', 'DEF', 'ATT', 'other', 'other', 'other', 'other', 'DEF', 'MID', 'other', 'other', 'other', 'ATT', 'MID', 'other', 'MID', 'other', 'other', 'DEF', 'other', 'MID', 'MID', 'MID', 'MID', 'other', 'other', 'other', 'ATT', 'other', 'other', 'MID', 'other', 'MID', 'DEF', 'DEF', 'other', 'other', 'other', 'MID', 'DEF', 'other', 'other', 'other', 'other', 'MID', 'MID', 'MID', 'other', 'other', 'other', 'other', 'other', 'other', 'other', 'other', 'other', 'DEF', 'other', 'MID', 'MID', 'other', 'other', 'DEF', 'other', 'MID', 'MID', 'ATT', 'MID', 'ATT', 'other', 'DEF', 'other', 'other', 'MID', 'other', 'other', 'other', 'DEF', 'other', 'DEF', 'other', 'other', 'other', 'other', 'other', 'other', 'MID', 'other', 'other', 'ATT', 'other', 'MID', 'DEF', 'other', 'DEF', 'DEF', 'MID', 'other', 'other', 'other', 'other', 'other', 'other', 'other', 'other', 'other', 'DEF', 'other', 'other', 'other', 'DEF', 'other', 'other', 'other', 'ATT', 'other', 'other', 'DEF', 'other', 'other', 'ATT', 'other', 'DEF', 'other', 'other', 'MID', 'other', 'ATT', 'other', 'other', 'other', 'ATT', 'MID', 'other', 'DEF', 'other', 'other', 'other', 'DEF', 'other', 'MID', 'MID', 'MID', 'DEF', 'MID', 'other', 'other', 'ATT', 'MID', 'DEF', 'MID', 'other', 'other', 'ATT', 'other', 'DEF', 'DEF', 'MID', 'other', 'MID', 'DEF', 'DEF', 'other', 'other', 'MID', 'MID', 'DEF', 'MID', 'other', 'ATT', 'DEF', 'other', 'MID', 'DEF', 'ATT', 'other', 'other', 'other', 'other', 'MID', 'other', 'other', 'other', 'other', 'MID', 'other', 'other', 'MID', 'other', 'other', 'other', 'DEF', 'MID', 'DEF', 'other', 'other', 'MID', 'other', 'other', 'other', 'other', 'other', 'other', 'other', 'other', 'DEF', 'other', 'DEF', 'MID', 'ATT', 'MID', 'MID', 'DEF', 'other', 'ATT', 'MID', 'other', 'MID', 'DEF', 'DEF', 'MID', 'MID', 'DEF', 'other', 'MID', 'other', 'other', 'other', 'other', 'other', 'other', 'other', 'other', 'other', 'other', 'MID', 'other', 'other', 'other', 'MID', 'other', 'other', 'ATT', 'MID', 'DEF', 'ATT', 'ATT', 'MID', 'ATT', 'other', 'MID', 'other', 'ATT', 'ATT', 'MID', 'ATT', 'other', 'other', 'other', 'other', 'other', 'other', 'MID', 'DEF', 'other', 'other', 'MID', 'DEF', 'DEF', 'MID', 'MID', 'MID', 'other', 'other', 'other', 'other', 'other', 'other', 'DEF', 'other', 'DEF', 'other', 'other', 'DEF', 'DEF', 'ATT', 'MID', 'other', 'other', 'other', 'DEF', 'MID', 'other', 'other', 'other', 'other', 'MID', 'other', 'other', 'other', 'MID', 'DEF', 'other', 'other', 'other', 'other', 'DEF', 'MID', 'other', 'MID', 'DEF', 'DEF', 'ATT', 'other', 'MID', 'other', 'other', 'MID', 'other', 'MID', 'DEF', 'MID', 'other', 'other', 'other', 'other', 'MID', 'other', 'other', 'other', 'other', 'MID', 'other', 'other', 'other', 'other', 'DEF', 'other', 'DEF', 'MID', 'DEF', 'other', 'DEF', 'DEF', 'DEF', 'MID', 'ATT', 'DEF', 'other', 'other', 'other', 'other', 'ATT', 'other', 'MID', 'other', 'other', 'MID', 'MID', 'other', 'DEF', 'DEF', 'other', 'other', 'other', 'MID', 'other', 'other', 'ATT', 'other', 'other', 'DEF', 'ATT', 'DEF', 'other', 'MID', 'DEF', 'MID', 'other', 'DEF', 'other', 'other', 'MID', 'other', 'other', 'other', 'MID', 'MID', 'MID', 'MID', 'MID', 'other', 'DEF', 'other', 'other', 'other', 'other', 'MID', 'MID', 'other', 'MID', 'ATT', 'other', 'other', 'MID', 'other', 'other', 'MID', 'MID', 'other', 'DEF', 'MID', 'other', 'other', 'other', 'DEF', 'other', 'MID', 'MID', 'ATT', 'other', 'MID', 'other', 'other', 'ATT', 'MID', 'other', 'other', 'other', 'ATT', 'other', 'other', 'ATT', 'other', 'ATT', 'MID', 'other', 'other', 'DEF', 'DEF', 'other', 'MID', 'other', 'DEF', 'other', 'MID', 'DEF', 'other', 'other', 'DEF', 'other', 'other', 'other', 'other', 'ATT', 'MID', 'MID', 'MID', 'other', 'other', 'DEF', 'DEF', 'other', 'other', 'DEF', 'ATT', 'ATT', 'other', 'ATT', 'MID', 'other', 'MID', 'DEF', 'DEF', 'other', 'other', 'other', 'DEF', 'MID', 'DEF', 'other', 'other', 'MID', 'other', 'other', 'other', 'other', 'other', 'other', 'MID', 'DEF', 'MID', 'other', 'ATT', 'other', 'ATT', 'MID', 'other', 'other', 'other', 'other', 'other', 'MID', 'other', 'other', 'other', 'MID', 'other', 'other', 'DEF', 'other', 'DEF', 'DEF', 'MID', 'other', 'ATT', 'other', 'other', 'other', 'other', 'other', 'other', 'other', 'DEF', 'other', 'other', 'other', 'other', 'other', 'other', 'DEF', 'DEF', 'other', 'other', 'DEF', 'other', 'other', 'other', 'other', 'other', 'other', 'other', 'ATT', 'other', 'other', 'other', 'MID', 'other', 'DEF', 'ATT', 'other', 'MID', 'MID', 'other', 'ATT', 'other', 'ATT', 'MID', 'other', 'MID', 'other', 'ATT', 'other', 'other', 'other', 'MID', 'ATT', 'other', 'other', 'other', 'ATT', 'other', 'other', 'other', 'MID', 'other', 'other', 'other', 'MID', 'DEF', 'MID', 'other', 'DEF', 'other', 'other', 'MID', 'ATT', 'DEF', 'MID', 'ATT', 'ATT', 'DEF', 'other', 'DEF', 'other', 'MID', 'other', 'ATT', 'MID', 'other', 'other', 'other', 'other', 'MID', 'ATT', 'DEF', 'MID', 'other', 'DEF', 'other', 'ATT', 'other', 'other', 'other', 'other', 'other', 'MID', 'other', 'other', 'other', 'other', 'other', 'DEF', 'other', 'ATT', 'other', 'other', 'other', 'other', 'DEF', 'DEF', 'other', 'other', 'other', 'other', 'DEF', 'other', 'other', 'other', 'MID', 'other', 'other', 'DEF', 'ATT', 'other', 'DEF', 'other', 'MID', 'MID', 'DEF', 'other', 'other', 'other', 'MID', 'other', 'MID', 'DEF', 'MID', 'other', 'other', 'other', 'DEF', 'other', 'DEF', 'other', 'other', 'other', 'DEF', 'other', 'DEF', 'other', 'other', 'other', 'other', 'other', 'DEF', 'MID', 'MID', 'ATT', 'other', 'other', 'other', 'other', 'MID', 'other', 'other', 'other', 'other', 'MID', 'MID', 'other', 'MID', 'other', 'other', 'other', 'other', 'other', 'other', 'other', 'other', 'MID', 'other', 'other', 'ATT', 'other', 'other', 'MID', 'MID', 'other', 'other', 'other', 'other', 'DEF', 'other', 'other', 'other', 'other', 'DEF', 'other', 'other', 'DEF', 'other', 'ATT', 'other', 'DEF', 'DEF', 'DEF', 'other', 'DEF', 'DEF', 'ATT', 'MID', 'DEF', 'other', 'other', 'DEF', 'other', 'MID', 'DEF', 'ATT', 'MID', 'other', 'other', 'other', 'DEF', 'ATT', 'other', 'MID', 'other', 'other', 'other', 'other', 'DEF', 'other', 'other', 'DEF', 'ATT', 'other', 'other', 'MID', 'other', 'DEF', 'other', 'ATT', 'MID', 'MID', 'other', 'other', 'other', 'DEF', 'other', 'MID', 'other', 'other', 'other', 'other', 'DEF', 'DEF', 'other', 'other', 'DEF', 'other', 'other', 'other', 'ATT', 'other', 'other', 'other', 'DEF', 'MID', 'other', 'other', 'other', 'other', 'other', 'other', 'MID', 'other', 'MID', 'other', 'ATT', 'other', 'other', 'DEF', 'other', 'DEF', 'MID', 'other', 'DEF', 'other', 'ATT', 'ATT', 'DEF', 'ATT', 'other', 'DEF', 'DEF', 'ATT', 'other', 'ATT', 'DEF', 'DEF', 'other', 'other', 'DEF', 'MID', 'other', 'DEF', 'MID', 'MID', 'other', 'other', 'DEF', 'DEF', 'other', 'other', 'other', 'other', 'DEF', 'MID', 'other', 'DEF', 'other', 'MID', 'MID', 'ATT', 'other', 'DEF', 'other', 'other', 'MID', 'other', 'other', 'MID', 'ATT', 'other', 'MID', 'DEF', 'MID', 'ATT', 'DEF', 'DEF', 'MID', 'ATT', 'MID', 'MID', 'MID', 'other', 'other', 'other', 'other', 'other', 'MID', 'DEF', 'other', 'other', 'other', 'DEF', 'MID', 'other', 'MID', 'other', 'other', 'DEF', 'MID', 'other', 'DEF', 'DEF', 'MID', 'other', 'other', 'MID', 'MID', 'ATT', 'other', 'other', 'ATT', 'other', 'other', 'other', 'MID', 'DEF', 'other', 'ATT', 'DEF', 'DEF', 'other', 'MID', 'other', 'other', 'DEF', 'other', 'MID', 'ATT', 'DEF', 'ATT', 'other', 'DEF', 'DEF', 'other', 'DEF', 'DEF', 'other', 'other', 'MID', 'other', 'other', 'other', 'other', 'other', 'DEF', 'other', 'DEF', 'other', 'other', 'DEF', 'DEF', 'other', 'other', 'DEF', 'DEF', 'other', 'other', 'other', 'DEF', 'DEF', 'other', 'MID', 'other', 'MID', 'other', 'ATT', 'DEF', 'ATT', 'DEF', 'other', 'other', 'other', 'other', 'DEF', 'DEF', 'other', 'MID', 'DEF', 'other', 'DEF', 'other', 'other', 'MID', 'other', 'other', 'DEF', 'ATT', 'MID', 'other', 'other', 'other', 'MID', 'other', 'MID', 'DEF', 'DEF', 'ATT', 'other', 'other', 'MID', 'DEF', 'DEF', 'DEF', 'DEF', 'other', 'other', 'DEF', 'other', 'other', 'DEF', 'DEF', 'DEF', 'MID', 'other', 'other', 'other', 'DEF', 'DEF', 'ATT', 'other', 'other', 'other', 'other', 'MID', 'other', 'MID', 'other', 'DEF', 'other', 'DEF', 'ATT', 'ATT', 'other', 'other', 'other', 'other', 'other', 'MID', 'other', 'DEF', 'other', 'MID', 'ATT', 'DEF', 'MID', 'MID', 'DEF', 'other', 'other', 'other', 'MID', 'DEF', 'ATT', 'other', 'DEF', 'DEF', 'MID', 'other', 'other', 'MID', 'other', 'MID', 'DEF', 'other', 'DEF', 'ATT', 'MID', 'MID', 'other', 'DEF', 'DEF', 'other', 'DEF', 'other', 'DEF', 'other', 'MID', 'DEF', 'DEF', 'other', 'MID', 'ATT', 'other', 'other', 'other', 'ATT', 'MID', 'MID', 'MID', 'other', 'other', 'MID', 'other', 'other', 'other', 'ATT', 'DEF', 'MID', 'MID', 'MID', 'other', 'MID', 'other', 'other', 'other', 'other', 'MID', 'DEF', 'DEF', 'other', 'ATT', 'DEF', 'other', 'other', 'MID', 'other', 'ATT', 'other', 'other', 'other', 'ATT', 'DEF', 'other', 'DEF', 'other', 'other', 'other', 'other', 'other', 'MID', 'MID', 'DEF', 'MID', 'other', 'other', 'other', 'other', 'other', 'other', 'MID', 'ATT', 'ATT', 'DEF', 'other', 'other', 'other', 'other', 'ATT', 'other', 'other', 'other', 'other', 'DEF', 'MID', 'other', 'other', 'MID', 'other', 'other', 'ATT', 'other', 'MID', 'MID', 'DEF', 'DEF', 'other', 'DEF', 'DEF', 'other', 'DEF', 'other', 'other', 'DEF', 'other', 'ATT', 'DEF', 'other', 'other', 'other', 'other', 'other', 'MID', 'DEF', 'other', 'other', 'other', 'MID', 'other', 'other', 'other', 'DEF', 'other', 'MID', 'other', 'other', 'other', 'other', 'DEF', 'MID', 'MID', 'other', 'other', 'other', 'other', 'DEF', 'other', 'other', 'other', 'DEF', 'ATT', 'DEF', 'ATT', 'other', 'DEF', 'other', 'DEF', 'other', 'MID', 'MID', 'other', 'other', 'other', 'DEF', 'ATT', 'MID', 'MID', 'other', 'other', 'MID', 'DEF', 'other', 'DEF', 'MID', 'MID', 'other', 'ATT', 'MID', 'other', 'MID', 'ATT', 'other', 'MID', 'other', 'ATT', 'other', 'other', 'MID', 'other', 'other', 'DEF', 'other', 'MID', 'other', 'other', 'other', 'other', 'other', 'other', 'other', 'DEF', 'other', 'other', 'other', 'DEF', 'other', 'other', 'ATT', 'DEF', 'other', 'other', 'other', 'other', 'DEF', 'MID', 'MID', 'ATT', 'other', 'other', 'other', 'other', 'other', 'other', 'MID', 'other', 'other', 'other', 'other', 'MID', 'other', 'ATT', 'other', 'DEF', 'MID', 'other', 'ATT', 'MID', 'other', 'other', 'other', 'other', 'other', 'other', 'other', 'other', 'DEF', 'other', 'other', 'MID', 'other', 'DEF', 'ATT', 'other', 'other', 'MID', 'other', 'DEF', 'ATT', 'other', 'DEF', 'other', 'other', 'MID', 'DEF', 'MID', 'MID', 'other', 'other', 'MID', 'other', 'DEF', 'other', 'DEF', 'other', 'MID', 'other', 'DEF', 'MID', 'other', 'other', 'DEF', 'other', 'other', 'MID', 'other', 'ATT', 'ATT', 'MID', 'other', 'DEF', 'MID', 'other', 'other', 'MID', 'other', 'MID', 'other', 'DEF', 'other', 'MID', 'ATT', 'DEF', 'other', 'ATT', 'DEF', 'other', 'DEF', 'other', 'other', 'MID', 'other', 'MID', 'other', 'MID', 'other', 'other', 'other', 'ATT', 'other', 'other', 'other', 'MID', 'MID', 'other', 'other', 'other', 'DEF', 'DEF', 'other', 'MID', 'other', 'other', 'ATT', 'MID', 'DEF', 'other', 'DEF', 'other', 'MID', 'DEF', 'other', 'MID', 'other', 'ATT', 'other', 'DEF', 'other', 'other', 'DEF', 'DEF', 'other', 'other', 'other', 'other', 'other', 'other', 'other', 'other', 'DEF', 'other', 'other', 'other', 'other', 'other', 'MID', 'MID', 'DEF', 'other', 'other', 'MID', 'other', 'MID', 'DEF', 'other', 'DEF', 'other', 'other', 'other', 'other', 'other', 'ATT', 'other', 'other', 'MID', 'other', 'MID', 'other', 'DEF', 'DEF', 'other', 'MID', 'other', 'other', 'other', 'other', 'other', 'other', 'DEF', 'other', 'other', 'other', 'ATT', 'DEF', 'DEF', 'MID', 'other', 'other', 'other', 'MID', 'other', 'other', 'other', 'other', 'DEF', 'other', 'other', 'other', 'other', 'other', 'other', 'MID', 'MID', 'other', 'MID', 'MID', 'MID', 'other', 'other', 'other', 'DEF', 'other', 'MID', 'DEF', 'DEF', 'other', 'ATT', 'ATT', 'DEF', 'other', 'MID', 'MID', 'MID', 'other', 'other', 'MID', 'MID', 'other', 'other', 'ATT', 'ATT', 'MID', 'MID', 'other', 'other', 'other', 'other', 'other', 'DEF', 'other', 'other', 'other', 'other', 'ATT', 'DEF', 'DEF', 'DEF', 'other', 'other', 'DEF', 'DEF', 'DEF', 'other', 'MID', 'other', 'other', 'other', 'DEF', 'ATT', 'other', 'DEF', 'MID', 'MID', 'other', 'other', 'other', 'other', 'other', 'other', 'MID', 'DEF', 'other', 'other', 'other', 'other', 'other', 'other', 'MID', 'DEF', 'DEF', 'other', 'other', 'DEF', 'MID', 'other', 'other', 'other', 'other', 'other', 'other', 'other', 'other', 'other', 'ATT', 'DEF', 'other', 'other', 'MID', 'DEF', 'other', 'DEF', 'other', 'MID', 'DEF', 'MID', 'other', 'other', 'DEF', 'other', 'DEF', 'other', 'ATT', 'other', 'ATT', 'other', 'MID', 'other', 'other', 'MID', 'other', 'DEF', 'other', 'MID', 'MID', 'other', 'MID', 'DEF', 'DEF', 'other', 'ATT', 'MID', 'ATT', 'DEF', 'MID', 'DEF', 'other', 'MID', 'DEF', 'other', 'ATT', 'ATT', 'DEF', 'other', 'DEF', 'other', 'MID', 'MID', 'other', 'other', 'DEF', 'DEF', 'other', 'DEF', 'other', 'MID', 'other', 'other', 'other', 'other', 'DEF', 'other', 'MID', 'other', 'DEF', 'other', 'MID', 'other', 'other', 'ATT', 'other', 'other', 'ATT', 'MID', 'other', 'other', 'ATT', 'other', 'other', 'MID', 'other', 'other', 'other', 'MID', 'DEF', 'MID', 'DEF', 'ATT', 'ATT', 'MID', 'other', 'DEF', 'ATT', 'other', 'other', 'other', 'other', 'other', 'ATT', 'other', 'other', 'other', 'other', 'MID', 'other', 'other', 'MID', 'other', 'DEF', 'other', 'DEF', 'other', 'other', 'other', 'other', 'other', 'other', 'ATT', 'DEF', 'other', 'DEF', 'other', 'other', 'other', 'other', 'other', 'DEF', 'DEF', 'other', 'ATT', 'other', 'DEF', 'other', 'DEF', 'DEF', 'DEF', 'ATT', 'other', 'DEF', 'MID', 'DEF', 'other', 'other', 'other', 'other', 'MID', 'other', 'other', 'other', 'other', 'other', 'other', 'other', 'other', 'other', 'other', 'other', 'DEF', 'other', 'other', 'other', 'other', 'DEF', 'other', 'DEF', 'other', 'DEF', 'other', 'other', 'other', 'other', 'DEF', 'ATT', 'DEF', 'other', 'other', 'other', 'other', 'other', 'DEF', 'other', 'MID', 'other', 'ATT', 'other', 'MID', 'DEF', 'other', 'ATT', 'other', 'other', 'DEF', 'other', 'DEF', 'MID', 'other', 'other', 'MID', 'other', 'other', 'other', 'ATT', 'other', 'other', 'DEF', 'DEF', 'other', 'DEF', 'other', 'MID', 'DEF', 'other', 'other', 'MID', 'DEF', 'other', 'DEF', 'other', 'MID', 'other', 'other', 'other', 'other', 'DEF', 'other', 'other', 'other', 'DEF', 'other', 'MID', 'ATT', 'other', 'other', 'MID', 'MID', 'ATT', 'MID', 'DEF', 'MID', 'DEF', 'other', 'other', 'other', 'other', 'MID', 'other', 'other', 'other', 'ATT', 'other', 'MID', 'other', 'other', 'DEF', 'MID', 'ATT', 'MID', 'MID', 'other', 'other', 'DEF', 'DEF', 'DEF', 'other', 'other', 'other', 'DEF', 'other', 'ATT', 'ATT', 'MID', 'other', 'MID', 'other', 'DEF', 'other', 'other', 'MID', 'other', 'other', 'MID', 'DEF', 'DEF', 'MID', 'DEF', 'DEF', 'DEF', 'other', 'other', 'DEF', 'MID', 'ATT', 'MID', 'DEF', 'other', 'other', 'other', 'DEF', 'MID', 'other', 'other', 'other', 'ATT', 'other', 'other', 'MID', 'DEF', 'other', 'MID', 'MID', 'other', 'other', 'MID', 'DEF', 'DEF', 'other', 'DEF', 'other', 'other', 'DEF', 'other', 'other', 'ATT', 'other', 'other', 'other', 'other', 'MID', 'DEF', 'DEF', 'other', 'MID', 'other', 'other', 'other', 'ATT', 'MID', 'ATT', 'other', 'other', 'other', 'other', 'DEF', 'other', 'ATT', 'DEF', 'MID', 'DEF', 'MID', 'ATT', 'other', 'ATT', 'ATT', 'ATT', 'other', 'other', 'other', 'other', 'DEF', 'DEF', 'DEF', 'other', 'DEF', 'DEF', 'other', 'other', 'DEF', 'other', 'MID', 'other', 'other', 'other', 'MID', 'DEF', 'other', 'DEF', 'other', 'other', 'other', 'other', 'other', 'other', 'ATT', 'DEF', 'DEF', 'other', 'DEF', 'other', 'other', 'other', 'ATT', 'DEF', 'MID', 'other', 'other', 'MID', 'MID', 'ATT', 'other', 'ATT', 'other', 'other', 'other', 'DEF', 'other', 'MID', 'other', 'DEF', 'other', 'other', 'other', 'other', 'DEF', 'DEF', 'other', 'MID', 'DEF', 'other', 'other', 'other', 'DEF', 'other', 'other', 'DEF', 'other', 'other', 'DEF', 'ATT', 'DEF', 'MID', 'other', 'other', 'DEF', 'other', 'other', 'other', 'other', 'other', 'other', 'MID', 'other', 'ATT', 'ATT', 'MID', 'other', 'MID', 'other', 'MID', 'other', 'ATT', 'MID', 'DEF', 'other', 'ATT', 'DEF', 'other', 'other', 'ATT', 'DEF', 'other', 'ATT', 'other', 'other', 'MID', 'other', 'other', 'other', 'MID', 'MID', 'other', 'MID', 'other', 'other', 'MID', 'other', 'other', 'other', 'other', 'other', 'DEF', 'MID', 'other', 'other', 'DEF', 'other', 'DEF', 'other', 'DEF', 'ATT', 'other', 'other', 'other', 'DEF', 'other', 'other', 'other', 'MID', 'DEF', 'other', 'DEF', 'other', 'MID', 'other', 'MID', 'MID', 'other', 'other', 'MID', 'DEF', 'other', 'other', 'DEF', 'DEF', 'other', 'MID', 'ATT', 'other', 'other', 'other', 'other', 'MID', 'other', 'MID', 'other', 'MID', 'other', 'other', 'MID', 'DEF', 'DEF', 'other', 'other', 'other', 'other', 'other', 'ATT', 'other', 'DEF', 'other', 'MID', 'other', 'DEF', 'DEF', 'other', 'other', 'other', 'other', 'other', 'ATT', 'DEF', 'DEF', 'other', 'MID', 'other', 'other', 'other', 'DEF', 'DEF', 'MID', 'MID', 'other', 'other', 'DEF', 'other', 'other', 'other', 'MID', 'other', 'DEF', 'other', 'DEF', 'other', 'other', 'other', 'MID', 'other', 'DEF', 'MID', 'MID', 'ATT', 'other', 'DEF', 'DEF', 'MID', 'DEF', 'other', 'other', 'DEF', 'MID', 'DEF', 'other', 'other', 'DEF', 'other', 'MID', 'other', 'DEF', 'DEF', 'DEF', 'ATT', 'other', 'DEF', 'other', 'other', 'other', 'DEF', 'other', 'DEF', 'other', 'other', 'MID', 'DEF', 'DEF', 'other', 'other', 'other', 'other', 'MID', 'other', 'other', 'other', 'DEF', 'other', 'other', 'other', 'other', 'other', 'DEF', 'other', 'other', 'DEF', 'MID', 'DEF', 'other', 'other', 'other', 'other', 'other', 'DEF', 'other', 'DEF', 'other', 'DEF', 'other', 'DEF', 'other', 'other', 'other', 'DEF', 'other', 'other', 'DEF', 'MID', 'ATT', 'DEF', 'MID', 'MID', 'DEF', 'other', 'other', 'other', 'other', 'other', 'MID', 'DEF', 'MID', 'ATT', 'ATT', 'MID', 'DEF', 'other', 'other', 'other', 'DEF', 'DEF', 'other', 'DEF', 'other', 'other', 'other', 'other', 'MID', 'other', 'other', 'other', 'MID', 'DEF', 'other', 'MID', 'ATT', 'MID', 'DEF', 'other', 'other', 'other', 'other', 'MID', 'other', 'other', 'DEF', 'other', 'other', 'DEF', 'other', 'other', 'other', 'MID', 'MID', 'DEF', 'other', 'other', 'DEF', 'MID', 'other', 'other', 'MID', 'other', 'other', 'other', 'other', 'other', 'other', 'MID', 'other', 'ATT', 'other', 'DEF', 'DEF', 'DEF', 'other', 'other', 'DEF', 'MID', 'other', 'ATT', 'other', 'ATT', 'other', 'other', 'other', 'DEF', 'other', 'other', 'DEF', 'other', 'MID', 'other', 'MID', 'other', 'other', 'other', 'other', 'other', 'other', 'MID', 'DEF', 'other', 'ATT', 'other', 'other', 'other', 'other', 'other', 'ATT', 'other', 'DEF', 'DEF', 'ATT', 'other', 'other', 'other', 'other', 'DEF', 'other', 'other', 'DEF', 'DEF', 'other', 'MID', 'MID', 'other', 'other', 'DEF', 'other', 'other', 'DEF', 'other', 'other', 'DEF', 'other', 'other', 'other', 'DEF', 'other', 'DEF', 'MID', 'ATT', 'other', 'other', 'MID', 'other', 'other', 'other', 'DEF', 'other', 'DEF', 'ATT', 'other', 'ATT', 'other', 'MID', 'other', 'DEF', 'other', 'MID', 'other', 'other', 'other', 'other', 'MID', 'other', 'other', 'other', 'MID', 'DEF', 'MID', 'other', 'MID', 'other', 'other', 'DEF', 'DEF', 'other', 'other', 'other', 'ATT', 'other', 'other', 'MID', 'DEF', 'other', 'DEF', 'other', 'other', 'other', 'ATT', 'MID', 'other', 'other', 'other', 'MID', 'DEF', 'other', 'MID', 'MID', 'other', 'ATT', 'ATT', 'MID', 'other', 'other', 'DEF', 'other', 'DEF', 'other', 'other', 'DEF', 'ATT', 'DEF', 'ATT', 'MID', 'MID', 'MID', 'other', 'other', 'other', 'other', 'DEF', 'other', 'other', 'other', 'other', 'DEF', 'MID', 'other', 'other', 'other', 'MID', 'DEF', 'DEF', 'DEF', 'other', 'other', 'other', 'other', 'DEF', 'other', 'ATT', 'other', 'other', 'other', 'other', 'DEF', 'other', 'other', 'DEF', 'ATT', 'other', 'MID', 'MID', 'other', 'other', 'other', 'MID', 'other', 'other', 'MID', 'ATT', 'other', 'DEF', 'other', 'other', 'DEF', 'MID', 'other', 'other', 'DEF', 'other', 'MID', 'DEF', 'DEF', 'other', 'ATT', 'MID', 'other', 'other', 'DEF', 'DEF', 'other', 'other', 'other', 'other', 'other', 'other', 'other', 'other', 'other', 'other', 'other', 'other', 'other', 'other', 'other', 'MID', 'other', 'other', 'other', 'other', 'DEF', 'other', 'MID', 'other', 'other', 'MID', 'ATT', 'other', 'other', 'DEF', 'DEF', 'MID', 'DEF', 'other', 'DEF', 'MID', 'DEF', 'other', 'other', 'other', 'other', 'DEF', 'other', 'other', 'other', 'other', 'ATT', 'MID', 'ATT', 'other', 'other', 'MID', 'MID', 'MID', 'other', 'other', 'other', 'other', 'other', 'DEF', 'DEF', 'MID', 'other', 'DEF', 'other', 'other', 'MID', 'DEF', 'DEF', 'other', 'MID', 'other', 'DEF', 'other', 'MID', 'other', 'MID', 'other', 'other', 'DEF', 'MID', 'MID', 'other', 'other', 'DEF', 'other', 'other', 'DEF', 'other', 'other', 'ATT', 'MID', 'DEF', 'DEF', 'other', 'DEF', 'MID', 'other', 'other', 'DEF', 'MID', 'MID', 'other', 'MID', 'other', 'MID', 'DEF', 'other', 'other', 'other', 'other', 'DEF', 'ATT', 'other', 'MID', 'DEF', 'DEF', 'MID', 'other', 'other', 'other', 'other', 'other', 'other', 'DEF', 'other', 'MID', 'MID', 'other', 'other', 'other', 'other', 'DEF', 'other', 'other', 'MID', 'other', 'MID', 'DEF', 'other', 'MID', 'MID', 'other', 'other', 'other', 'DEF', 'other', 'other', 'other', 'ATT', 'DEF', 'other', 'MID', 'MID', 'MID', 'other', 'other', 'other', 'other', 'other', 'MID', 'ATT', 'other', 'other', 'DEF', 'other', 'other', 'DEF', 'DEF', 'other', 'other', 'MID', 'DEF', 'other', 'other', 'other', 'DEF', 'other', 'other', 'MID', 'DEF', 'other', 'DEF', 'other', 'other', 'DEF', 'DEF', 'MID', 'other', 'other', 'other', 'other', 'other', 'other', 'ATT', 'other', 'other', 'other', 'DEF', 'other', 'DEF', 'other', 'MID', 'other', 'other', 'ATT', 'MID', 'MID', 'other', 'other', 'DEF', 'other', 'DEF', 'other', 'other', 'other', 'other', 'MID', 'other', 'other', 'other', 'DEF', 'other', 'other', 'other', 'other', 'other', 'ATT', 'other', 'other', 'DEF', 'DEF', 'DEF', 'other', 'other', 'other', 'ATT', 'other', 'MID', 'other', 'other', 'other', 'other', 'DEF', 'DEF', 'other', 'MID', 'other', 'other', 'other', 'ATT', 'other', 'DEF', 'other', 'MID', 'other', 'ATT', 'other', 'other', 'MID', 'other', 'other', 'other', 'other', 'other', 'other', 'DEF', 'other', 'other', 'other', 'DEF', 'other', 'other', 'other', 'other', 'MID', 'other', 'MID', 'other', 'MID', 'DEF', 'other', 'DEF', 'DEF', 'other', 'ATT', 'MID', 'other', 'other', 'other', 'MID', 'other', 'other', 'other', 'other', 'ATT', 'DEF', 'other', 'other', 'other', 'other', 'ATT', 'DEF', 'other', 'DEF', 'other', 'ATT', 'MID', 'MID', 'other', 'other', 'MID', 'MID', 'DEF', 'other', 'DEF', 'other', 'ATT', 'other', 'other', 'MID', 'DEF', 'other', 'other', 'MID', 'other', 'DEF', 'MID', 'DEF', 'MID', 'ATT', 'other', 'other', 'other', 'DEF', 'MID', 'other', 'DEF', 'other', 'other', 'DEF', 'other', 'ATT', 'other', 'other', 'ATT', 'DEF', 'DEF', 'ATT', 'other', 'other', 'other', 'other', 'other', 'ATT', 'DEF', 'other', 'other', 'other', 'other', 'other', 'other', 'DEF', 'ATT', 'other', 'ATT', 'ATT', 'other', 'other', 'other', 'other', 'MID', 'DEF', 'other', 'other', 'other', 'other', 'other', 'ATT', 'DEF', 'other', 'DEF', 'MID', 'DEF', 'ATT', 'other', 'other', 'MID', 'other', 'ATT', 'MID', 'other', 'DEF', 'other', 'other', 'other', 'DEF', 'other', 'MID', 'other', 'DEF', 'other', 'DEF', 'other', 'other', 'DEF', 'other', 'DEF', 'ATT', 'MID', 'other', 'other', 'other', 'DEF', 'other', 'other', 'MID', 'MID', 'DEF', 'MID', 'DEF', 'MID', 'ATT', 'other', 'other', 'DEF', 'other', 'other', 'MID', 'other', 'other', 'MID', 'DEF', 'DEF', 'DEF', 'MID', 'other', 'DEF', 'DEF', 'other', 'DEF', 'other', 'other', 'other', 'other', 'ATT', 'other', 'other', 'other', 'other', 'other', 'other', 'DEF', 'other', 'MID', 'other', 'other', 'other', 'other', 'other', 'MID', 'other', 'other', 'DEF', 'MID', 'DEF', 'other', 'DEF', 'MID', 'MID', 'DEF', 'MID', 'MID', 'MID', 'MID', 'DEF', 'other', 'other', 'other', 'other', 'DEF', 'DEF', 'other', 'DEF', 'DEF', 'other', 'DEF', 'other', 'other', 'other', 'other', 'MID', 'MID', 'other', 'DEF', 'other', 'DEF', 'DEF', 'other', 'other', 'MID', 'MID', 'other', 'other', 'other', 'other', 'other', 'other', 'MID', 'other', 'ATT', 'ATT', 'other', 'other', 'other', 'other', 'other', 'MID', 'other', 'other', 'other', 'other', 'ATT', 'other', 'DEF', 'other', 'DEF', 'other', 'other', 'other', 'other', 'MID', 'other', 'other', 'other', 'other', 'other', 'other', 'DEF', 'DEF', 'ATT', 'other', 'other', 'other', 'DEF', 'other', 'other', 'other', 'other', 'other', 'DEF', 'other', 'ATT', 'other', 'other', 'ATT', 'other', 'MID', 'other', 'other', 'other', 'other', 'other', 'other', 'DEF', 'other', 'other', 'ATT', 'other', 'MID', 'other', 'other', 'MID', 'other', 'DEF', 'DEF', 'DEF', 'DEF', 'DEF', 'DEF', 'other', 'other', 'other', 'other', 'other', 'MID', 'other', 'DEF', 'MID', 'other', 'other', 'DEF', 'other', 'other', 'MID', 'other', 'MID', 'MID', 'other', 'DEF', 'DEF', 'ATT', 'other', 'MID', 'DEF', 'other', 'other', 'MID', 'DEF', 'MID', 'other', 'other', 'MID', 'other', 'other', 'other', 'other', 'other', 'other', 'other', 'other', 'other', 'DEF', 'other', 'other', 'other', 'ATT', 'DEF', 'DEF', 'other', 'other', 'other', 'other', 'other', 'other', 'other', 'MID', 'DEF', 'other', 'MID', 'other', 'other', 'other', 'other', 'ATT', 'other', 'other', 'other', 'MID', 'other', 'other', 'DEF', 'DEF', 'MID', 'other', 'MID', 'other', 'ATT', 'MID', 'ATT', 'MID', 'other', 'MID', 'DEF', 'other', 'ATT', 'MID', 'other', 'DEF', 'other', 'ATT', 'other', 'other', 'other', 'MID', 'other', 'other', 'ATT', 'other', 'DEF', 'other', 'ATT', 'other', 'other', 'other', 'other', 'other', 'other', 'ATT', 'ATT', 'other', 'ATT', 'other', 'other', 'other', 'ATT', 'DEF', 'other', 'MID', 'MID', 'MID', 'MID', 'other', 'other', 'other', 'ATT', 'ATT', 'other', 'DEF', 'MID', 'ATT', 'DEF', 'MID', 'other', 'DEF', 'other', 'other', 'DEF', 'other', 'DEF', 'other', 'MID', 'ATT', 'MID', 'DEF', 'other', 'other', 'other', 'other', 'MID', 'DEF', 'other', 'MID', 'DEF', 'other', 'DEF', 'other', 'other', 'other', 'MID', 'DEF', 'other', 'other', 'other', 'other', 'other', 'other', 'MID', 'other', 'other', 'other', 'other', 'other', 'MID', 'DEF', 'other', 'other', 'other', 'ATT', 'MID', 'other', 'other', 'other', 'other', 'other', 'other', 'DEF', 'other', 'other', 'DEF', 'MID', 'other', 'MID', 'MID', 'DEF', 'other', 'DEF', 'MID', 'other', 'other', 'other', 'other', 'ATT', 'ATT', 'other', 'MID', 'DEF', 'MID', 'other', 'DEF', 'other', 'other', 'ATT', 'MID', 'MID', 'other', 'DEF', 'other', 'other', 'other', 'ATT', 'other', 'DEF', 'other', 'other', 'other', 'DEF', 'ATT', 'DEF', 'other', 'other', 'ATT', 'ATT', 'other', 'other', 'MID', 'other', 'other', 'MID', 'other', 'other', 'other', 'MID', 'DEF', 'other', 'other', 'other', 'other', 'other', 'DEF', 'other', 'other', 'other', 'other', 'other', 'other', 'MID', 'DEF', 'MID', 'other', 'other', 'other', 'other', 'MID', 'other', 'other', 'other', 'DEF', 'DEF', 'other', 'other', 'other', 'other', 'DEF', 'DEF', 'DEF', 'other', 'other', 'other', 'DEF', 'other', 'other', 'other', 'other', 'other', 'other', 'other', 'DEF', 'other', 'DEF', 'other', 'DEF', 'other', 'other', 'other', 'DEF', 'other', 'DEF', 'other', 'other', 'other', 'DEF', 'other', 'DEF', 'other', 'other', 'MID', 'other', 'DEF', 'other', 'other', 'other', 'DEF', 'other', 'DEF', 'other', 'other', 'other', 'other', 'DEF', 'MID', 'other', 'other', 'other', 'other', 'other', 'other', 'MID', 'other', 'other', 'MID', 'ATT', 'other', 'other', 'ATT', 'other', 'DEF', 'other', 'DEF', 'other', 'other', 'ATT', 'DEF', 'other']\n"
          ]
        }
      ]
    },
    {
      "cell_type": "code",
      "source": [
        "data['club_position'] = new_club_positions"
      ],
      "metadata": {
        "id": "IHxyntgW5cP6"
      },
      "execution_count": null,
      "outputs": []
    },
    {
      "cell_type": "code",
      "source": [
        "from sklearn.preprocessing import LabelEncoder\n",
        "le = LabelEncoder()\n",
        "data['club_position'] = le.fit_transform(data['club_position'])#\n",
        "data['club_position'].unique()"
      ],
      "metadata": {
        "colab": {
          "base_uri": "https://localhost:8080/"
        },
        "id": "_zjfMDnm6X8s",
        "outputId": "0b2419c2-cde4-4b80-fb6a-cfaa185aa359"
      },
      "execution_count": null,
      "outputs": [
        {
          "output_type": "execute_result",
          "data": {
            "text/plain": [
              "array([0, 2, 1, 3])"
            ]
          },
          "metadata": {},
          "execution_count": 26
        }
      ]
    },
    {
      "cell_type": "code",
      "source": [
        "#Identify non-numeric cols for encoding\n",
        "sel_cols = list(data.select_dtypes(include='O'))\n",
        "print(sel_cols)"
      ],
      "metadata": {
        "colab": {
          "base_uri": "https://localhost:8080/"
        },
        "id": "G445bGbz7Em3",
        "outputId": "59dfee5d-bbc0-4102-ecf4-6b38075e42b8"
      },
      "execution_count": null,
      "outputs": [
        {
          "output_type": "stream",
          "name": "stdout",
          "text": [
            "['work_rate']\n"
          ]
        }
      ]
    },
    {
      "cell_type": "markdown",
      "source": [
        "Encoding Work Rate"
      ],
      "metadata": {
        "id": "5lXAeEJT8GFl"
      }
    },
    {
      "cell_type": "code",
      "source": [
        "data['work_rate'].unique()"
      ],
      "metadata": {
        "colab": {
          "base_uri": "https://localhost:8080/"
        },
        "id": "BgNlOHxz8Hp5",
        "outputId": "0e16324f-c6b5-4312-cff2-6c0022b2bed5"
      },
      "execution_count": null,
      "outputs": [
        {
          "output_type": "execute_result",
          "data": {
            "text/plain": [
              "array(['Medium/Low', 'High/Medium', 'High/Low', 'High/High',\n",
              "       'Medium/High', 'Medium/Medium', 'Low/High', 'Low/Medium',\n",
              "       'Low/Low'], dtype=object)"
            ]
          },
          "metadata": {},
          "execution_count": 28
        }
      ]
    },
    {
      "cell_type": "code",
      "source": [
        "data[['work_rate']]"
      ],
      "metadata": {
        "colab": {
          "base_uri": "https://localhost:8080/",
          "height": 423
        },
        "id": "QKm7h2YL8LcN",
        "outputId": "47b33185-9048-4445-a823-8f668c3bba72"
      },
      "execution_count": null,
      "outputs": [
        {
          "output_type": "execute_result",
          "data": {
            "text/plain": [
              "           work_rate\n",
              "0         Medium/Low\n",
              "1        High/Medium\n",
              "2           High/Low\n",
              "3        High/Medium\n",
              "4          High/High\n",
              "...              ...\n",
              "11692  Medium/Medium\n",
              "11693  Medium/Medium\n",
              "11694    High/Medium\n",
              "11695  Medium/Medium\n",
              "11696  Medium/Medium\n",
              "\n",
              "[10544 rows x 1 columns]"
            ],
            "text/html": [
              "\n",
              "  <div id=\"df-4c7f3db8-47dc-4352-b1fd-7d9c7ac458b5\">\n",
              "    <div class=\"colab-df-container\">\n",
              "      <div>\n",
              "<style scoped>\n",
              "    .dataframe tbody tr th:only-of-type {\n",
              "        vertical-align: middle;\n",
              "    }\n",
              "\n",
              "    .dataframe tbody tr th {\n",
              "        vertical-align: top;\n",
              "    }\n",
              "\n",
              "    .dataframe thead th {\n",
              "        text-align: right;\n",
              "    }\n",
              "</style>\n",
              "<table border=\"1\" class=\"dataframe\">\n",
              "  <thead>\n",
              "    <tr style=\"text-align: right;\">\n",
              "      <th></th>\n",
              "      <th>work_rate</th>\n",
              "    </tr>\n",
              "  </thead>\n",
              "  <tbody>\n",
              "    <tr>\n",
              "      <th>0</th>\n",
              "      <td>Medium/Low</td>\n",
              "    </tr>\n",
              "    <tr>\n",
              "      <th>1</th>\n",
              "      <td>High/Medium</td>\n",
              "    </tr>\n",
              "    <tr>\n",
              "      <th>2</th>\n",
              "      <td>High/Low</td>\n",
              "    </tr>\n",
              "    <tr>\n",
              "      <th>3</th>\n",
              "      <td>High/Medium</td>\n",
              "    </tr>\n",
              "    <tr>\n",
              "      <th>4</th>\n",
              "      <td>High/High</td>\n",
              "    </tr>\n",
              "    <tr>\n",
              "      <th>...</th>\n",
              "      <td>...</td>\n",
              "    </tr>\n",
              "    <tr>\n",
              "      <th>11692</th>\n",
              "      <td>Medium/Medium</td>\n",
              "    </tr>\n",
              "    <tr>\n",
              "      <th>11693</th>\n",
              "      <td>Medium/Medium</td>\n",
              "    </tr>\n",
              "    <tr>\n",
              "      <th>11694</th>\n",
              "      <td>High/Medium</td>\n",
              "    </tr>\n",
              "    <tr>\n",
              "      <th>11695</th>\n",
              "      <td>Medium/Medium</td>\n",
              "    </tr>\n",
              "    <tr>\n",
              "      <th>11696</th>\n",
              "      <td>Medium/Medium</td>\n",
              "    </tr>\n",
              "  </tbody>\n",
              "</table>\n",
              "<p>10544 rows × 1 columns</p>\n",
              "</div>\n",
              "      <button class=\"colab-df-convert\" onclick=\"convertToInteractive('df-4c7f3db8-47dc-4352-b1fd-7d9c7ac458b5')\"\n",
              "              title=\"Convert this dataframe to an interactive table.\"\n",
              "              style=\"display:none;\">\n",
              "        \n",
              "  <svg xmlns=\"http://www.w3.org/2000/svg\" height=\"24px\"viewBox=\"0 0 24 24\"\n",
              "       width=\"24px\">\n",
              "    <path d=\"M0 0h24v24H0V0z\" fill=\"none\"/>\n",
              "    <path d=\"M18.56 5.44l.94 2.06.94-2.06 2.06-.94-2.06-.94-.94-2.06-.94 2.06-2.06.94zm-11 1L8.5 8.5l.94-2.06 2.06-.94-2.06-.94L8.5 2.5l-.94 2.06-2.06.94zm10 10l.94 2.06.94-2.06 2.06-.94-2.06-.94-.94-2.06-.94 2.06-2.06.94z\"/><path d=\"M17.41 7.96l-1.37-1.37c-.4-.4-.92-.59-1.43-.59-.52 0-1.04.2-1.43.59L10.3 9.45l-7.72 7.72c-.78.78-.78 2.05 0 2.83L4 21.41c.39.39.9.59 1.41.59.51 0 1.02-.2 1.41-.59l7.78-7.78 2.81-2.81c.8-.78.8-2.07 0-2.86zM5.41 20L4 18.59l7.72-7.72 1.47 1.35L5.41 20z\"/>\n",
              "  </svg>\n",
              "      </button>\n",
              "      \n",
              "  <style>\n",
              "    .colab-df-container {\n",
              "      display:flex;\n",
              "      flex-wrap:wrap;\n",
              "      gap: 12px;\n",
              "    }\n",
              "\n",
              "    .colab-df-convert {\n",
              "      background-color: #E8F0FE;\n",
              "      border: none;\n",
              "      border-radius: 50%;\n",
              "      cursor: pointer;\n",
              "      display: none;\n",
              "      fill: #1967D2;\n",
              "      height: 32px;\n",
              "      padding: 0 0 0 0;\n",
              "      width: 32px;\n",
              "    }\n",
              "\n",
              "    .colab-df-convert:hover {\n",
              "      background-color: #E2EBFA;\n",
              "      box-shadow: 0px 1px 2px rgba(60, 64, 67, 0.3), 0px 1px 3px 1px rgba(60, 64, 67, 0.15);\n",
              "      fill: #174EA6;\n",
              "    }\n",
              "\n",
              "    [theme=dark] .colab-df-convert {\n",
              "      background-color: #3B4455;\n",
              "      fill: #D2E3FC;\n",
              "    }\n",
              "\n",
              "    [theme=dark] .colab-df-convert:hover {\n",
              "      background-color: #434B5C;\n",
              "      box-shadow: 0px 1px 3px 1px rgba(0, 0, 0, 0.15);\n",
              "      filter: drop-shadow(0px 1px 2px rgba(0, 0, 0, 0.3));\n",
              "      fill: #FFFFFF;\n",
              "    }\n",
              "  </style>\n",
              "\n",
              "      <script>\n",
              "        const buttonEl =\n",
              "          document.querySelector('#df-4c7f3db8-47dc-4352-b1fd-7d9c7ac458b5 button.colab-df-convert');\n",
              "        buttonEl.style.display =\n",
              "          google.colab.kernel.accessAllowed ? 'block' : 'none';\n",
              "\n",
              "        async function convertToInteractive(key) {\n",
              "          const element = document.querySelector('#df-4c7f3db8-47dc-4352-b1fd-7d9c7ac458b5');\n",
              "          const dataTable =\n",
              "            await google.colab.kernel.invokeFunction('convertToInteractive',\n",
              "                                                     [key], {});\n",
              "          if (!dataTable) return;\n",
              "\n",
              "          const docLinkHtml = 'Like what you see? Visit the ' +\n",
              "            '<a target=\"_blank\" href=https://colab.research.google.com/notebooks/data_table.ipynb>data table notebook</a>'\n",
              "            + ' to learn more about interactive tables.';\n",
              "          element.innerHTML = '';\n",
              "          dataTable['output_type'] = 'display_data';\n",
              "          await google.colab.output.renderOutput(dataTable, element);\n",
              "          const docLink = document.createElement('div');\n",
              "          docLink.innerHTML = docLinkHtml;\n",
              "          element.appendChild(docLink);\n",
              "        }\n",
              "      </script>\n",
              "    </div>\n",
              "  </div>\n",
              "  "
            ]
          },
          "metadata": {},
          "execution_count": 29
        }
      ]
    },
    {
      "cell_type": "code",
      "source": [
        "#Split into two columsn\n",
        "data[['att_wr', 'def_wr']] = data['work_rate'].str.split('/', expand=True)\n",
        "data['att_wr']"
      ],
      "metadata": {
        "colab": {
          "base_uri": "https://localhost:8080/"
        },
        "id": "nX6jkEGu8ReB",
        "outputId": "c79406f7-5b64-4e03-f8f1-fe223a430ef4"
      },
      "execution_count": null,
      "outputs": [
        {
          "output_type": "execute_result",
          "data": {
            "text/plain": [
              "0        Medium\n",
              "1          High\n",
              "2          High\n",
              "3          High\n",
              "4          High\n",
              "          ...  \n",
              "11692    Medium\n",
              "11693    Medium\n",
              "11694      High\n",
              "11695    Medium\n",
              "11696    Medium\n",
              "Name: att_wr, Length: 10544, dtype: object"
            ]
          },
          "metadata": {},
          "execution_count": 30
        }
      ]
    },
    {
      "cell_type": "code",
      "source": [
        "data['def_wr']"
      ],
      "metadata": {
        "colab": {
          "base_uri": "https://localhost:8080/"
        },
        "id": "qiu5qtdC8Xey",
        "outputId": "7312b559-d1d4-40b9-c943-81bae2ce511e"
      },
      "execution_count": null,
      "outputs": [
        {
          "output_type": "execute_result",
          "data": {
            "text/plain": [
              "0           Low\n",
              "1        Medium\n",
              "2           Low\n",
              "3        Medium\n",
              "4          High\n",
              "          ...  \n",
              "11692    Medium\n",
              "11693    Medium\n",
              "11694    Medium\n",
              "11695    Medium\n",
              "11696    Medium\n",
              "Name: def_wr, Length: 10544, dtype: object"
            ]
          },
          "metadata": {},
          "execution_count": 31
        }
      ]
    },
    {
      "cell_type": "code",
      "source": [
        "data['att_wr'].unique()"
      ],
      "metadata": {
        "colab": {
          "base_uri": "https://localhost:8080/"
        },
        "id": "86EEKMIj8aVX",
        "outputId": "8ec809d6-b230-410e-f9ac-a825c63ae77d"
      },
      "execution_count": null,
      "outputs": [
        {
          "output_type": "execute_result",
          "data": {
            "text/plain": [
              "array(['Medium', 'High', 'Low'], dtype=object)"
            ]
          },
          "metadata": {},
          "execution_count": 32
        }
      ]
    },
    {
      "cell_type": "code",
      "source": [
        "data['def_wr'].unique()"
      ],
      "metadata": {
        "colab": {
          "base_uri": "https://localhost:8080/"
        },
        "id": "FeMIo0wc8ctw",
        "outputId": "f7ccc828-4453-4311-8af1-c315dcfd2597"
      },
      "execution_count": null,
      "outputs": [
        {
          "output_type": "execute_result",
          "data": {
            "text/plain": [
              "array(['Low', 'Medium', 'High'], dtype=object)"
            ]
          },
          "metadata": {},
          "execution_count": 33
        }
      ]
    },
    {
      "cell_type": "code",
      "source": [
        "from sklearn.preprocessing import LabelEncoder\n",
        "le = LabelEncoder()\n",
        "data['att_wr'] = le.fit_transform(data['att_wr'])"
      ],
      "metadata": {
        "id": "pM4Cl2FM8f-0"
      },
      "execution_count": null,
      "outputs": []
    },
    {
      "cell_type": "code",
      "source": [
        "from sklearn.preprocessing import LabelEncoder\n",
        "le = LabelEncoder()\n",
        "data['def_wr'] = le.fit_transform(data['def_wr'])"
      ],
      "metadata": {
        "id": "15wN9s568hvo"
      },
      "execution_count": null,
      "outputs": []
    },
    {
      "cell_type": "code",
      "source": [
        "#Drop non-numeric col\n",
        "data.drop('work_rate', inplace=True, axis=1)"
      ],
      "metadata": {
        "id": "-QEyo45F8xAa"
      },
      "execution_count": null,
      "outputs": []
    },
    {
      "cell_type": "code",
      "source": [
        "#Identify non-numeric cols for encoding\n",
        "sel_cols = list(data.select_dtypes(include='O'))\n",
        "print(sel_cols)"
      ],
      "metadata": {
        "colab": {
          "base_uri": "https://localhost:8080/"
        },
        "id": "RvPFdnZn81ec",
        "outputId": "3212b352-9a8f-40bf-db42-9dd505c908ce"
      },
      "execution_count": null,
      "outputs": [
        {
          "output_type": "stream",
          "name": "stdout",
          "text": [
            "[]\n"
          ]
        }
      ]
    },
    {
      "cell_type": "code",
      "source": [
        "#Ensure all numeric\n",
        "dtypes = data.dtypes\n",
        "dtypes = dtypes.tolist()\n",
        "dtypes"
      ],
      "metadata": {
        "colab": {
          "base_uri": "https://localhost:8080/"
        },
        "id": "aJXa0tPx88U-",
        "outputId": "e4a91909-6e93-408e-e740-502ff91015a9"
      },
      "execution_count": null,
      "outputs": [
        {
          "output_type": "execute_result",
          "data": {
            "text/plain": [
              "[dtype('float64'),\n",
              " dtype('float64'),\n",
              " dtype('float64'),\n",
              " dtype('float64'),\n",
              " dtype('float64'),\n",
              " dtype('float64'),\n",
              " dtype('float64'),\n",
              " dtype('float64'),\n",
              " dtype('float64'),\n",
              " dtype('int64'),\n",
              " dtype('float64'),\n",
              " dtype('int64'),\n",
              " dtype('float64'),\n",
              " dtype('float64'),\n",
              " dtype('float64'),\n",
              " dtype('float64'),\n",
              " dtype('float64'),\n",
              " dtype('float64'),\n",
              " dtype('float64'),\n",
              " dtype('float64'),\n",
              " dtype('float64'),\n",
              " dtype('float64'),\n",
              " dtype('float64'),\n",
              " dtype('float64'),\n",
              " dtype('float64'),\n",
              " dtype('float64'),\n",
              " dtype('float64'),\n",
              " dtype('float64'),\n",
              " dtype('float64'),\n",
              " dtype('float64'),\n",
              " dtype('float64'),\n",
              " dtype('float64'),\n",
              " dtype('float64'),\n",
              " dtype('float64'),\n",
              " dtype('float64'),\n",
              " dtype('float64'),\n",
              " dtype('float64'),\n",
              " dtype('float64'),\n",
              " dtype('float64'),\n",
              " dtype('float64'),\n",
              " dtype('float64'),\n",
              " dtype('float64'),\n",
              " dtype('float64'),\n",
              " dtype('float64'),\n",
              " dtype('float64'),\n",
              " dtype('float64'),\n",
              " dtype('float64'),\n",
              " dtype('float64'),\n",
              " dtype('float64'),\n",
              " dtype('float64'),\n",
              " dtype('float64'),\n",
              " dtype('int64'),\n",
              " dtype('int64')]"
            ]
          },
          "metadata": {},
          "execution_count": 38
        }
      ]
    },
    {
      "cell_type": "code",
      "source": [
        "data.head()"
      ],
      "metadata": {
        "colab": {
          "base_uri": "https://localhost:8080/",
          "height": 299
        },
        "id": "7g4ShxLK9bUU",
        "outputId": "b2d19cab-047e-44dd-8c93-88da92155634"
      },
      "execution_count": null,
      "outputs": [
        {
          "output_type": "execute_result",
          "data": {
            "text/plain": [
              "   overall  potential    value_eur  wage_eur   age  height_cm  weight_kg  \\\n",
              "0     93.0       93.0   78000000.0  320000.0  34.0      170.0       72.0   \n",
              "1     92.0       92.0  119500000.0  270000.0  32.0      185.0       81.0   \n",
              "2     91.0       91.0   45000000.0  270000.0  36.0      187.0       83.0   \n",
              "3     91.0       91.0  129000000.0  270000.0  29.0      175.0       68.0   \n",
              "4     91.0       91.0  125500000.0  350000.0  30.0      181.0       70.0   \n",
              "\n",
              "   club_team_id  league_level  club_position  ...  mentality_interceptions  \\\n",
              "0          73.0           1.0              0  ...                     40.0   \n",
              "1          21.0           1.0              0  ...                     49.0   \n",
              "2          11.0           1.0              0  ...                     29.0   \n",
              "3          73.0           1.0              0  ...                     37.0   \n",
              "4          10.0           1.0              2  ...                     66.0   \n",
              "\n",
              "   mentality_positioning  mentality_vision  mentality_penalties  \\\n",
              "0                   93.0              95.0                 75.0   \n",
              "1                   95.0              81.0                 90.0   \n",
              "2                   95.0              76.0                 88.0   \n",
              "3                   86.0              90.0                 93.0   \n",
              "4                   88.0              94.0                 83.0   \n",
              "\n",
              "   mentality_composure  defending_marking_awareness  \\\n",
              "0                 96.0                         20.0   \n",
              "1                 88.0                         35.0   \n",
              "2                 95.0                         24.0   \n",
              "3                 93.0                         35.0   \n",
              "4                 89.0                         68.0   \n",
              "\n",
              "   defending_standing_tackle  defending_sliding_tackle  att_wr  def_wr  \n",
              "0                       35.0                      24.0       2       1  \n",
              "1                       42.0                      19.0       0       2  \n",
              "2                       32.0                      24.0       0       1  \n",
              "3                       32.0                      29.0       0       2  \n",
              "4                       65.0                      53.0       0       0  \n",
              "\n",
              "[5 rows x 53 columns]"
            ],
            "text/html": [
              "\n",
              "  <div id=\"df-ebca50fd-af4b-4cee-9983-4f8add653616\">\n",
              "    <div class=\"colab-df-container\">\n",
              "      <div>\n",
              "<style scoped>\n",
              "    .dataframe tbody tr th:only-of-type {\n",
              "        vertical-align: middle;\n",
              "    }\n",
              "\n",
              "    .dataframe tbody tr th {\n",
              "        vertical-align: top;\n",
              "    }\n",
              "\n",
              "    .dataframe thead th {\n",
              "        text-align: right;\n",
              "    }\n",
              "</style>\n",
              "<table border=\"1\" class=\"dataframe\">\n",
              "  <thead>\n",
              "    <tr style=\"text-align: right;\">\n",
              "      <th></th>\n",
              "      <th>overall</th>\n",
              "      <th>potential</th>\n",
              "      <th>value_eur</th>\n",
              "      <th>wage_eur</th>\n",
              "      <th>age</th>\n",
              "      <th>height_cm</th>\n",
              "      <th>weight_kg</th>\n",
              "      <th>club_team_id</th>\n",
              "      <th>league_level</th>\n",
              "      <th>club_position</th>\n",
              "      <th>...</th>\n",
              "      <th>mentality_interceptions</th>\n",
              "      <th>mentality_positioning</th>\n",
              "      <th>mentality_vision</th>\n",
              "      <th>mentality_penalties</th>\n",
              "      <th>mentality_composure</th>\n",
              "      <th>defending_marking_awareness</th>\n",
              "      <th>defending_standing_tackle</th>\n",
              "      <th>defending_sliding_tackle</th>\n",
              "      <th>att_wr</th>\n",
              "      <th>def_wr</th>\n",
              "    </tr>\n",
              "  </thead>\n",
              "  <tbody>\n",
              "    <tr>\n",
              "      <th>0</th>\n",
              "      <td>93.0</td>\n",
              "      <td>93.0</td>\n",
              "      <td>78000000.0</td>\n",
              "      <td>320000.0</td>\n",
              "      <td>34.0</td>\n",
              "      <td>170.0</td>\n",
              "      <td>72.0</td>\n",
              "      <td>73.0</td>\n",
              "      <td>1.0</td>\n",
              "      <td>0</td>\n",
              "      <td>...</td>\n",
              "      <td>40.0</td>\n",
              "      <td>93.0</td>\n",
              "      <td>95.0</td>\n",
              "      <td>75.0</td>\n",
              "      <td>96.0</td>\n",
              "      <td>20.0</td>\n",
              "      <td>35.0</td>\n",
              "      <td>24.0</td>\n",
              "      <td>2</td>\n",
              "      <td>1</td>\n",
              "    </tr>\n",
              "    <tr>\n",
              "      <th>1</th>\n",
              "      <td>92.0</td>\n",
              "      <td>92.0</td>\n",
              "      <td>119500000.0</td>\n",
              "      <td>270000.0</td>\n",
              "      <td>32.0</td>\n",
              "      <td>185.0</td>\n",
              "      <td>81.0</td>\n",
              "      <td>21.0</td>\n",
              "      <td>1.0</td>\n",
              "      <td>0</td>\n",
              "      <td>...</td>\n",
              "      <td>49.0</td>\n",
              "      <td>95.0</td>\n",
              "      <td>81.0</td>\n",
              "      <td>90.0</td>\n",
              "      <td>88.0</td>\n",
              "      <td>35.0</td>\n",
              "      <td>42.0</td>\n",
              "      <td>19.0</td>\n",
              "      <td>0</td>\n",
              "      <td>2</td>\n",
              "    </tr>\n",
              "    <tr>\n",
              "      <th>2</th>\n",
              "      <td>91.0</td>\n",
              "      <td>91.0</td>\n",
              "      <td>45000000.0</td>\n",
              "      <td>270000.0</td>\n",
              "      <td>36.0</td>\n",
              "      <td>187.0</td>\n",
              "      <td>83.0</td>\n",
              "      <td>11.0</td>\n",
              "      <td>1.0</td>\n",
              "      <td>0</td>\n",
              "      <td>...</td>\n",
              "      <td>29.0</td>\n",
              "      <td>95.0</td>\n",
              "      <td>76.0</td>\n",
              "      <td>88.0</td>\n",
              "      <td>95.0</td>\n",
              "      <td>24.0</td>\n",
              "      <td>32.0</td>\n",
              "      <td>24.0</td>\n",
              "      <td>0</td>\n",
              "      <td>1</td>\n",
              "    </tr>\n",
              "    <tr>\n",
              "      <th>3</th>\n",
              "      <td>91.0</td>\n",
              "      <td>91.0</td>\n",
              "      <td>129000000.0</td>\n",
              "      <td>270000.0</td>\n",
              "      <td>29.0</td>\n",
              "      <td>175.0</td>\n",
              "      <td>68.0</td>\n",
              "      <td>73.0</td>\n",
              "      <td>1.0</td>\n",
              "      <td>0</td>\n",
              "      <td>...</td>\n",
              "      <td>37.0</td>\n",
              "      <td>86.0</td>\n",
              "      <td>90.0</td>\n",
              "      <td>93.0</td>\n",
              "      <td>93.0</td>\n",
              "      <td>35.0</td>\n",
              "      <td>32.0</td>\n",
              "      <td>29.0</td>\n",
              "      <td>0</td>\n",
              "      <td>2</td>\n",
              "    </tr>\n",
              "    <tr>\n",
              "      <th>4</th>\n",
              "      <td>91.0</td>\n",
              "      <td>91.0</td>\n",
              "      <td>125500000.0</td>\n",
              "      <td>350000.0</td>\n",
              "      <td>30.0</td>\n",
              "      <td>181.0</td>\n",
              "      <td>70.0</td>\n",
              "      <td>10.0</td>\n",
              "      <td>1.0</td>\n",
              "      <td>2</td>\n",
              "      <td>...</td>\n",
              "      <td>66.0</td>\n",
              "      <td>88.0</td>\n",
              "      <td>94.0</td>\n",
              "      <td>83.0</td>\n",
              "      <td>89.0</td>\n",
              "      <td>68.0</td>\n",
              "      <td>65.0</td>\n",
              "      <td>53.0</td>\n",
              "      <td>0</td>\n",
              "      <td>0</td>\n",
              "    </tr>\n",
              "  </tbody>\n",
              "</table>\n",
              "<p>5 rows × 53 columns</p>\n",
              "</div>\n",
              "      <button class=\"colab-df-convert\" onclick=\"convertToInteractive('df-ebca50fd-af4b-4cee-9983-4f8add653616')\"\n",
              "              title=\"Convert this dataframe to an interactive table.\"\n",
              "              style=\"display:none;\">\n",
              "        \n",
              "  <svg xmlns=\"http://www.w3.org/2000/svg\" height=\"24px\"viewBox=\"0 0 24 24\"\n",
              "       width=\"24px\">\n",
              "    <path d=\"M0 0h24v24H0V0z\" fill=\"none\"/>\n",
              "    <path d=\"M18.56 5.44l.94 2.06.94-2.06 2.06-.94-2.06-.94-.94-2.06-.94 2.06-2.06.94zm-11 1L8.5 8.5l.94-2.06 2.06-.94-2.06-.94L8.5 2.5l-.94 2.06-2.06.94zm10 10l.94 2.06.94-2.06 2.06-.94-2.06-.94-.94-2.06-.94 2.06-2.06.94z\"/><path d=\"M17.41 7.96l-1.37-1.37c-.4-.4-.92-.59-1.43-.59-.52 0-1.04.2-1.43.59L10.3 9.45l-7.72 7.72c-.78.78-.78 2.05 0 2.83L4 21.41c.39.39.9.59 1.41.59.51 0 1.02-.2 1.41-.59l7.78-7.78 2.81-2.81c.8-.78.8-2.07 0-2.86zM5.41 20L4 18.59l7.72-7.72 1.47 1.35L5.41 20z\"/>\n",
              "  </svg>\n",
              "      </button>\n",
              "      \n",
              "  <style>\n",
              "    .colab-df-container {\n",
              "      display:flex;\n",
              "      flex-wrap:wrap;\n",
              "      gap: 12px;\n",
              "    }\n",
              "\n",
              "    .colab-df-convert {\n",
              "      background-color: #E8F0FE;\n",
              "      border: none;\n",
              "      border-radius: 50%;\n",
              "      cursor: pointer;\n",
              "      display: none;\n",
              "      fill: #1967D2;\n",
              "      height: 32px;\n",
              "      padding: 0 0 0 0;\n",
              "      width: 32px;\n",
              "    }\n",
              "\n",
              "    .colab-df-convert:hover {\n",
              "      background-color: #E2EBFA;\n",
              "      box-shadow: 0px 1px 2px rgba(60, 64, 67, 0.3), 0px 1px 3px 1px rgba(60, 64, 67, 0.15);\n",
              "      fill: #174EA6;\n",
              "    }\n",
              "\n",
              "    [theme=dark] .colab-df-convert {\n",
              "      background-color: #3B4455;\n",
              "      fill: #D2E3FC;\n",
              "    }\n",
              "\n",
              "    [theme=dark] .colab-df-convert:hover {\n",
              "      background-color: #434B5C;\n",
              "      box-shadow: 0px 1px 3px 1px rgba(0, 0, 0, 0.15);\n",
              "      filter: drop-shadow(0px 1px 2px rgba(0, 0, 0, 0.3));\n",
              "      fill: #FFFFFF;\n",
              "    }\n",
              "  </style>\n",
              "\n",
              "      <script>\n",
              "        const buttonEl =\n",
              "          document.querySelector('#df-ebca50fd-af4b-4cee-9983-4f8add653616 button.colab-df-convert');\n",
              "        buttonEl.style.display =\n",
              "          google.colab.kernel.accessAllowed ? 'block' : 'none';\n",
              "\n",
              "        async function convertToInteractive(key) {\n",
              "          const element = document.querySelector('#df-ebca50fd-af4b-4cee-9983-4f8add653616');\n",
              "          const dataTable =\n",
              "            await google.colab.kernel.invokeFunction('convertToInteractive',\n",
              "                                                     [key], {});\n",
              "          if (!dataTable) return;\n",
              "\n",
              "          const docLinkHtml = 'Like what you see? Visit the ' +\n",
              "            '<a target=\"_blank\" href=https://colab.research.google.com/notebooks/data_table.ipynb>data table notebook</a>'\n",
              "            + ' to learn more about interactive tables.';\n",
              "          element.innerHTML = '';\n",
              "          dataTable['output_type'] = 'display_data';\n",
              "          await google.colab.output.renderOutput(dataTable, element);\n",
              "          const docLink = document.createElement('div');\n",
              "          docLink.innerHTML = docLinkHtml;\n",
              "          element.appendChild(docLink);\n",
              "        }\n",
              "      </script>\n",
              "    </div>\n",
              "  </div>\n",
              "  "
            ]
          },
          "metadata": {},
          "execution_count": 39
        }
      ]
    },
    {
      "cell_type": "code",
      "source": [
        "data.columns[data.isna().any()].tolist()"
      ],
      "metadata": {
        "colab": {
          "base_uri": "https://localhost:8080/"
        },
        "id": "JeWOQJBNThlj",
        "outputId": "18d39503-5ce3-4312-951a-403305301297"
      },
      "execution_count": null,
      "outputs": [
        {
          "output_type": "execute_result",
          "data": {
            "text/plain": [
              "['release_clause_eur']"
            ]
          },
          "metadata": {},
          "execution_count": 40
        }
      ]
    },
    {
      "cell_type": "code",
      "source": [
        "data.dropna(subset=['release_clause_eur'],inplace=True)"
      ],
      "metadata": {
        "id": "8Vwka5r8x_AJ"
      },
      "execution_count": null,
      "outputs": []
    },
    {
      "cell_type": "code",
      "source": [
        "print(data.isnull().values.any())"
      ],
      "metadata": {
        "colab": {
          "base_uri": "https://localhost:8080/"
        },
        "id": "VGsTgtnCTLZI",
        "outputId": "bb129fc9-0285-4667-da88-c01ad600d2b0"
      },
      "execution_count": null,
      "outputs": [
        {
          "output_type": "stream",
          "name": "stdout",
          "text": [
            "False\n"
          ]
        }
      ]
    },
    {
      "cell_type": "code",
      "source": [
        "data.columns[data.isna().any()].tolist()"
      ],
      "metadata": {
        "colab": {
          "base_uri": "https://localhost:8080/"
        },
        "id": "NB3n0TkXy6j5",
        "outputId": "13dde416-6979-4c9a-a241-a673f7720a88"
      },
      "execution_count": null,
      "outputs": [
        {
          "output_type": "execute_result",
          "data": {
            "text/plain": [
              "[]"
            ]
          },
          "metadata": {},
          "execution_count": 43
        }
      ]
    },
    {
      "cell_type": "code",
      "source": [
        "data.isnull().sum().sum()"
      ],
      "metadata": {
        "colab": {
          "base_uri": "https://localhost:8080/"
        },
        "id": "as3JJCWsy6pa",
        "outputId": "bdad4838-81e2-4fc7-84df-5fba91cea66e"
      },
      "execution_count": null,
      "outputs": [
        {
          "output_type": "execute_result",
          "data": {
            "text/plain": [
              "0"
            ]
          },
          "metadata": {},
          "execution_count": 44
        }
      ]
    },
    {
      "cell_type": "code",
      "source": [
        "data"
      ],
      "metadata": {
        "colab": {
          "base_uri": "https://localhost:8080/",
          "height": 487
        },
        "id": "uFwiyyJ2VzUd",
        "outputId": "c8b5677e-25a2-4eac-fabb-1ccc8925c7c5"
      },
      "execution_count": null,
      "outputs": [
        {
          "output_type": "execute_result",
          "data": {
            "text/plain": [
              "       overall  potential    value_eur  wage_eur   age  height_cm  weight_kg  \\\n",
              "0         93.0       93.0   78000000.0  320000.0  34.0      170.0       72.0   \n",
              "1         92.0       92.0  119500000.0  270000.0  32.0      185.0       81.0   \n",
              "2         91.0       91.0   45000000.0  270000.0  36.0      187.0       83.0   \n",
              "3         91.0       91.0  129000000.0  270000.0  29.0      175.0       68.0   \n",
              "4         91.0       91.0  125500000.0  350000.0  30.0      181.0       70.0   \n",
              "...        ...        ...          ...       ...   ...        ...        ...   \n",
              "11691     64.0       72.0    1300000.0    1000.0  22.0      181.0       72.0   \n",
              "11692     64.0       70.0     925000.0    2000.0  23.0      177.0       71.0   \n",
              "11693     64.0       69.0     875000.0    3000.0  24.0      163.0       59.0   \n",
              "11695     64.0       64.0     400000.0     500.0  31.0      180.0       83.0   \n",
              "11696     64.0       74.0    1300000.0    2000.0  22.0      187.0       68.0   \n",
              "\n",
              "       club_team_id  league_level  club_position  ...  \\\n",
              "0              73.0           1.0              0  ...   \n",
              "1              21.0           1.0              0  ...   \n",
              "2              11.0           1.0              0  ...   \n",
              "3              73.0           1.0              0  ...   \n",
              "4              10.0           1.0              2  ...   \n",
              "...             ...           ...            ...  ...   \n",
              "11691         224.0           2.0              1  ...   \n",
              "11692      101150.0           1.0              3  ...   \n",
              "11693         680.0           1.0              3  ...   \n",
              "11695      110974.0           1.0              1  ...   \n",
              "11696         298.0           1.0              3  ...   \n",
              "\n",
              "       mentality_interceptions  mentality_positioning  mentality_vision  \\\n",
              "0                         40.0                   93.0              95.0   \n",
              "1                         49.0                   95.0              81.0   \n",
              "2                         29.0                   95.0              76.0   \n",
              "3                         37.0                   86.0              90.0   \n",
              "4                         66.0                   88.0              94.0   \n",
              "...                        ...                    ...               ...   \n",
              "11691                     62.0                   55.0              47.0   \n",
              "11692                     56.0                   62.0              59.0   \n",
              "11693                     25.0                   55.0              59.0   \n",
              "11695                     62.0                   26.0              33.0   \n",
              "11696                     26.0                   62.0              57.0   \n",
              "\n",
              "       mentality_penalties  mentality_composure  defending_marking_awareness  \\\n",
              "0                     75.0                 96.0                         20.0   \n",
              "1                     90.0                 88.0                         35.0   \n",
              "2                     88.0                 95.0                         24.0   \n",
              "3                     93.0                 93.0                         35.0   \n",
              "4                     83.0                 89.0                         68.0   \n",
              "...                    ...                  ...                          ...   \n",
              "11691                 46.0                 61.0                         59.0   \n",
              "11692                 49.0                 54.0                         56.0   \n",
              "11693                 41.0                 60.0                         17.0   \n",
              "11695                 34.0                 54.0                         71.0   \n",
              "11696                 62.0                 60.0                         21.0   \n",
              "\n",
              "       defending_standing_tackle  defending_sliding_tackle  att_wr  def_wr  \n",
              "0                           35.0                      24.0       2       1  \n",
              "1                           42.0                      19.0       0       2  \n",
              "2                           32.0                      24.0       0       1  \n",
              "3                           32.0                      29.0       0       2  \n",
              "4                           65.0                      53.0       0       0  \n",
              "...                          ...                       ...     ...     ...  \n",
              "11691                       58.0                      60.0       0       2  \n",
              "11692                       64.0                      62.0       2       2  \n",
              "11693                       24.0                      22.0       2       2  \n",
              "11695                       70.0                      68.0       2       2  \n",
              "11696                       23.0                      20.0       2       2  \n",
              "\n",
              "[9847 rows x 53 columns]"
            ],
            "text/html": [
              "\n",
              "  <div id=\"df-b8720ebf-e41f-4068-b3be-8f65959d17b1\">\n",
              "    <div class=\"colab-df-container\">\n",
              "      <div>\n",
              "<style scoped>\n",
              "    .dataframe tbody tr th:only-of-type {\n",
              "        vertical-align: middle;\n",
              "    }\n",
              "\n",
              "    .dataframe tbody tr th {\n",
              "        vertical-align: top;\n",
              "    }\n",
              "\n",
              "    .dataframe thead th {\n",
              "        text-align: right;\n",
              "    }\n",
              "</style>\n",
              "<table border=\"1\" class=\"dataframe\">\n",
              "  <thead>\n",
              "    <tr style=\"text-align: right;\">\n",
              "      <th></th>\n",
              "      <th>overall</th>\n",
              "      <th>potential</th>\n",
              "      <th>value_eur</th>\n",
              "      <th>wage_eur</th>\n",
              "      <th>age</th>\n",
              "      <th>height_cm</th>\n",
              "      <th>weight_kg</th>\n",
              "      <th>club_team_id</th>\n",
              "      <th>league_level</th>\n",
              "      <th>club_position</th>\n",
              "      <th>...</th>\n",
              "      <th>mentality_interceptions</th>\n",
              "      <th>mentality_positioning</th>\n",
              "      <th>mentality_vision</th>\n",
              "      <th>mentality_penalties</th>\n",
              "      <th>mentality_composure</th>\n",
              "      <th>defending_marking_awareness</th>\n",
              "      <th>defending_standing_tackle</th>\n",
              "      <th>defending_sliding_tackle</th>\n",
              "      <th>att_wr</th>\n",
              "      <th>def_wr</th>\n",
              "    </tr>\n",
              "  </thead>\n",
              "  <tbody>\n",
              "    <tr>\n",
              "      <th>0</th>\n",
              "      <td>93.0</td>\n",
              "      <td>93.0</td>\n",
              "      <td>78000000.0</td>\n",
              "      <td>320000.0</td>\n",
              "      <td>34.0</td>\n",
              "      <td>170.0</td>\n",
              "      <td>72.0</td>\n",
              "      <td>73.0</td>\n",
              "      <td>1.0</td>\n",
              "      <td>0</td>\n",
              "      <td>...</td>\n",
              "      <td>40.0</td>\n",
              "      <td>93.0</td>\n",
              "      <td>95.0</td>\n",
              "      <td>75.0</td>\n",
              "      <td>96.0</td>\n",
              "      <td>20.0</td>\n",
              "      <td>35.0</td>\n",
              "      <td>24.0</td>\n",
              "      <td>2</td>\n",
              "      <td>1</td>\n",
              "    </tr>\n",
              "    <tr>\n",
              "      <th>1</th>\n",
              "      <td>92.0</td>\n",
              "      <td>92.0</td>\n",
              "      <td>119500000.0</td>\n",
              "      <td>270000.0</td>\n",
              "      <td>32.0</td>\n",
              "      <td>185.0</td>\n",
              "      <td>81.0</td>\n",
              "      <td>21.0</td>\n",
              "      <td>1.0</td>\n",
              "      <td>0</td>\n",
              "      <td>...</td>\n",
              "      <td>49.0</td>\n",
              "      <td>95.0</td>\n",
              "      <td>81.0</td>\n",
              "      <td>90.0</td>\n",
              "      <td>88.0</td>\n",
              "      <td>35.0</td>\n",
              "      <td>42.0</td>\n",
              "      <td>19.0</td>\n",
              "      <td>0</td>\n",
              "      <td>2</td>\n",
              "    </tr>\n",
              "    <tr>\n",
              "      <th>2</th>\n",
              "      <td>91.0</td>\n",
              "      <td>91.0</td>\n",
              "      <td>45000000.0</td>\n",
              "      <td>270000.0</td>\n",
              "      <td>36.0</td>\n",
              "      <td>187.0</td>\n",
              "      <td>83.0</td>\n",
              "      <td>11.0</td>\n",
              "      <td>1.0</td>\n",
              "      <td>0</td>\n",
              "      <td>...</td>\n",
              "      <td>29.0</td>\n",
              "      <td>95.0</td>\n",
              "      <td>76.0</td>\n",
              "      <td>88.0</td>\n",
              "      <td>95.0</td>\n",
              "      <td>24.0</td>\n",
              "      <td>32.0</td>\n",
              "      <td>24.0</td>\n",
              "      <td>0</td>\n",
              "      <td>1</td>\n",
              "    </tr>\n",
              "    <tr>\n",
              "      <th>3</th>\n",
              "      <td>91.0</td>\n",
              "      <td>91.0</td>\n",
              "      <td>129000000.0</td>\n",
              "      <td>270000.0</td>\n",
              "      <td>29.0</td>\n",
              "      <td>175.0</td>\n",
              "      <td>68.0</td>\n",
              "      <td>73.0</td>\n",
              "      <td>1.0</td>\n",
              "      <td>0</td>\n",
              "      <td>...</td>\n",
              "      <td>37.0</td>\n",
              "      <td>86.0</td>\n",
              "      <td>90.0</td>\n",
              "      <td>93.0</td>\n",
              "      <td>93.0</td>\n",
              "      <td>35.0</td>\n",
              "      <td>32.0</td>\n",
              "      <td>29.0</td>\n",
              "      <td>0</td>\n",
              "      <td>2</td>\n",
              "    </tr>\n",
              "    <tr>\n",
              "      <th>4</th>\n",
              "      <td>91.0</td>\n",
              "      <td>91.0</td>\n",
              "      <td>125500000.0</td>\n",
              "      <td>350000.0</td>\n",
              "      <td>30.0</td>\n",
              "      <td>181.0</td>\n",
              "      <td>70.0</td>\n",
              "      <td>10.0</td>\n",
              "      <td>1.0</td>\n",
              "      <td>2</td>\n",
              "      <td>...</td>\n",
              "      <td>66.0</td>\n",
              "      <td>88.0</td>\n",
              "      <td>94.0</td>\n",
              "      <td>83.0</td>\n",
              "      <td>89.0</td>\n",
              "      <td>68.0</td>\n",
              "      <td>65.0</td>\n",
              "      <td>53.0</td>\n",
              "      <td>0</td>\n",
              "      <td>0</td>\n",
              "    </tr>\n",
              "    <tr>\n",
              "      <th>...</th>\n",
              "      <td>...</td>\n",
              "      <td>...</td>\n",
              "      <td>...</td>\n",
              "      <td>...</td>\n",
              "      <td>...</td>\n",
              "      <td>...</td>\n",
              "      <td>...</td>\n",
              "      <td>...</td>\n",
              "      <td>...</td>\n",
              "      <td>...</td>\n",
              "      <td>...</td>\n",
              "      <td>...</td>\n",
              "      <td>...</td>\n",
              "      <td>...</td>\n",
              "      <td>...</td>\n",
              "      <td>...</td>\n",
              "      <td>...</td>\n",
              "      <td>...</td>\n",
              "      <td>...</td>\n",
              "      <td>...</td>\n",
              "      <td>...</td>\n",
              "    </tr>\n",
              "    <tr>\n",
              "      <th>11691</th>\n",
              "      <td>64.0</td>\n",
              "      <td>72.0</td>\n",
              "      <td>1300000.0</td>\n",
              "      <td>1000.0</td>\n",
              "      <td>22.0</td>\n",
              "      <td>181.0</td>\n",
              "      <td>72.0</td>\n",
              "      <td>224.0</td>\n",
              "      <td>2.0</td>\n",
              "      <td>1</td>\n",
              "      <td>...</td>\n",
              "      <td>62.0</td>\n",
              "      <td>55.0</td>\n",
              "      <td>47.0</td>\n",
              "      <td>46.0</td>\n",
              "      <td>61.0</td>\n",
              "      <td>59.0</td>\n",
              "      <td>58.0</td>\n",
              "      <td>60.0</td>\n",
              "      <td>0</td>\n",
              "      <td>2</td>\n",
              "    </tr>\n",
              "    <tr>\n",
              "      <th>11692</th>\n",
              "      <td>64.0</td>\n",
              "      <td>70.0</td>\n",
              "      <td>925000.0</td>\n",
              "      <td>2000.0</td>\n",
              "      <td>23.0</td>\n",
              "      <td>177.0</td>\n",
              "      <td>71.0</td>\n",
              "      <td>101150.0</td>\n",
              "      <td>1.0</td>\n",
              "      <td>3</td>\n",
              "      <td>...</td>\n",
              "      <td>56.0</td>\n",
              "      <td>62.0</td>\n",
              "      <td>59.0</td>\n",
              "      <td>49.0</td>\n",
              "      <td>54.0</td>\n",
              "      <td>56.0</td>\n",
              "      <td>64.0</td>\n",
              "      <td>62.0</td>\n",
              "      <td>2</td>\n",
              "      <td>2</td>\n",
              "    </tr>\n",
              "    <tr>\n",
              "      <th>11693</th>\n",
              "      <td>64.0</td>\n",
              "      <td>69.0</td>\n",
              "      <td>875000.0</td>\n",
              "      <td>3000.0</td>\n",
              "      <td>24.0</td>\n",
              "      <td>163.0</td>\n",
              "      <td>59.0</td>\n",
              "      <td>680.0</td>\n",
              "      <td>1.0</td>\n",
              "      <td>3</td>\n",
              "      <td>...</td>\n",
              "      <td>25.0</td>\n",
              "      <td>55.0</td>\n",
              "      <td>59.0</td>\n",
              "      <td>41.0</td>\n",
              "      <td>60.0</td>\n",
              "      <td>17.0</td>\n",
              "      <td>24.0</td>\n",
              "      <td>22.0</td>\n",
              "      <td>2</td>\n",
              "      <td>2</td>\n",
              "    </tr>\n",
              "    <tr>\n",
              "      <th>11695</th>\n",
              "      <td>64.0</td>\n",
              "      <td>64.0</td>\n",
              "      <td>400000.0</td>\n",
              "      <td>500.0</td>\n",
              "      <td>31.0</td>\n",
              "      <td>180.0</td>\n",
              "      <td>83.0</td>\n",
              "      <td>110974.0</td>\n",
              "      <td>1.0</td>\n",
              "      <td>1</td>\n",
              "      <td>...</td>\n",
              "      <td>62.0</td>\n",
              "      <td>26.0</td>\n",
              "      <td>33.0</td>\n",
              "      <td>34.0</td>\n",
              "      <td>54.0</td>\n",
              "      <td>71.0</td>\n",
              "      <td>70.0</td>\n",
              "      <td>68.0</td>\n",
              "      <td>2</td>\n",
              "      <td>2</td>\n",
              "    </tr>\n",
              "    <tr>\n",
              "      <th>11696</th>\n",
              "      <td>64.0</td>\n",
              "      <td>74.0</td>\n",
              "      <td>1300000.0</td>\n",
              "      <td>2000.0</td>\n",
              "      <td>22.0</td>\n",
              "      <td>187.0</td>\n",
              "      <td>68.0</td>\n",
              "      <td>298.0</td>\n",
              "      <td>1.0</td>\n",
              "      <td>3</td>\n",
              "      <td>...</td>\n",
              "      <td>26.0</td>\n",
              "      <td>62.0</td>\n",
              "      <td>57.0</td>\n",
              "      <td>62.0</td>\n",
              "      <td>60.0</td>\n",
              "      <td>21.0</td>\n",
              "      <td>23.0</td>\n",
              "      <td>20.0</td>\n",
              "      <td>2</td>\n",
              "      <td>2</td>\n",
              "    </tr>\n",
              "  </tbody>\n",
              "</table>\n",
              "<p>9847 rows × 53 columns</p>\n",
              "</div>\n",
              "      <button class=\"colab-df-convert\" onclick=\"convertToInteractive('df-b8720ebf-e41f-4068-b3be-8f65959d17b1')\"\n",
              "              title=\"Convert this dataframe to an interactive table.\"\n",
              "              style=\"display:none;\">\n",
              "        \n",
              "  <svg xmlns=\"http://www.w3.org/2000/svg\" height=\"24px\"viewBox=\"0 0 24 24\"\n",
              "       width=\"24px\">\n",
              "    <path d=\"M0 0h24v24H0V0z\" fill=\"none\"/>\n",
              "    <path d=\"M18.56 5.44l.94 2.06.94-2.06 2.06-.94-2.06-.94-.94-2.06-.94 2.06-2.06.94zm-11 1L8.5 8.5l.94-2.06 2.06-.94-2.06-.94L8.5 2.5l-.94 2.06-2.06.94zm10 10l.94 2.06.94-2.06 2.06-.94-2.06-.94-.94-2.06-.94 2.06-2.06.94z\"/><path d=\"M17.41 7.96l-1.37-1.37c-.4-.4-.92-.59-1.43-.59-.52 0-1.04.2-1.43.59L10.3 9.45l-7.72 7.72c-.78.78-.78 2.05 0 2.83L4 21.41c.39.39.9.59 1.41.59.51 0 1.02-.2 1.41-.59l7.78-7.78 2.81-2.81c.8-.78.8-2.07 0-2.86zM5.41 20L4 18.59l7.72-7.72 1.47 1.35L5.41 20z\"/>\n",
              "  </svg>\n",
              "      </button>\n",
              "      \n",
              "  <style>\n",
              "    .colab-df-container {\n",
              "      display:flex;\n",
              "      flex-wrap:wrap;\n",
              "      gap: 12px;\n",
              "    }\n",
              "\n",
              "    .colab-df-convert {\n",
              "      background-color: #E8F0FE;\n",
              "      border: none;\n",
              "      border-radius: 50%;\n",
              "      cursor: pointer;\n",
              "      display: none;\n",
              "      fill: #1967D2;\n",
              "      height: 32px;\n",
              "      padding: 0 0 0 0;\n",
              "      width: 32px;\n",
              "    }\n",
              "\n",
              "    .colab-df-convert:hover {\n",
              "      background-color: #E2EBFA;\n",
              "      box-shadow: 0px 1px 2px rgba(60, 64, 67, 0.3), 0px 1px 3px 1px rgba(60, 64, 67, 0.15);\n",
              "      fill: #174EA6;\n",
              "    }\n",
              "\n",
              "    [theme=dark] .colab-df-convert {\n",
              "      background-color: #3B4455;\n",
              "      fill: #D2E3FC;\n",
              "    }\n",
              "\n",
              "    [theme=dark] .colab-df-convert:hover {\n",
              "      background-color: #434B5C;\n",
              "      box-shadow: 0px 1px 3px 1px rgba(0, 0, 0, 0.15);\n",
              "      filter: drop-shadow(0px 1px 2px rgba(0, 0, 0, 0.3));\n",
              "      fill: #FFFFFF;\n",
              "    }\n",
              "  </style>\n",
              "\n",
              "      <script>\n",
              "        const buttonEl =\n",
              "          document.querySelector('#df-b8720ebf-e41f-4068-b3be-8f65959d17b1 button.colab-df-convert');\n",
              "        buttonEl.style.display =\n",
              "          google.colab.kernel.accessAllowed ? 'block' : 'none';\n",
              "\n",
              "        async function convertToInteractive(key) {\n",
              "          const element = document.querySelector('#df-b8720ebf-e41f-4068-b3be-8f65959d17b1');\n",
              "          const dataTable =\n",
              "            await google.colab.kernel.invokeFunction('convertToInteractive',\n",
              "                                                     [key], {});\n",
              "          if (!dataTable) return;\n",
              "\n",
              "          const docLinkHtml = 'Like what you see? Visit the ' +\n",
              "            '<a target=\"_blank\" href=https://colab.research.google.com/notebooks/data_table.ipynb>data table notebook</a>'\n",
              "            + ' to learn more about interactive tables.';\n",
              "          element.innerHTML = '';\n",
              "          dataTable['output_type'] = 'display_data';\n",
              "          await google.colab.output.renderOutput(dataTable, element);\n",
              "          const docLink = document.createElement('div');\n",
              "          docLink.innerHTML = docLinkHtml;\n",
              "          element.appendChild(docLink);\n",
              "        }\n",
              "      </script>\n",
              "    </div>\n",
              "  </div>\n",
              "  "
            ]
          },
          "metadata": {},
          "execution_count": 45
        }
      ]
    },
    {
      "cell_type": "code",
      "source": [
        "from google.colab import files\n",
        "data.to_csv('final_clean_data.csv', index=None)\n",
        "files.download(\"final_clean_data.csv\")"
      ],
      "metadata": {
        "colab": {
          "base_uri": "https://localhost:8080/",
          "height": 17
        },
        "id": "yfzcCZa7Ok8f",
        "outputId": "bb8f5a56-8a18-447e-9079-cc45aa721640"
      },
      "execution_count": null,
      "outputs": [
        {
          "output_type": "display_data",
          "data": {
            "text/plain": [
              "<IPython.core.display.Javascript object>"
            ],
            "application/javascript": [
              "\n",
              "    async function download(id, filename, size) {\n",
              "      if (!google.colab.kernel.accessAllowed) {\n",
              "        return;\n",
              "      }\n",
              "      const div = document.createElement('div');\n",
              "      const label = document.createElement('label');\n",
              "      label.textContent = `Downloading \"${filename}\": `;\n",
              "      div.appendChild(label);\n",
              "      const progress = document.createElement('progress');\n",
              "      progress.max = size;\n",
              "      div.appendChild(progress);\n",
              "      document.body.appendChild(div);\n",
              "\n",
              "      const buffers = [];\n",
              "      let downloaded = 0;\n",
              "\n",
              "      const channel = await google.colab.kernel.comms.open(id);\n",
              "      // Send a message to notify the kernel that we're ready.\n",
              "      channel.send({})\n",
              "\n",
              "      for await (const message of channel.messages) {\n",
              "        // Send a message to notify the kernel that we're ready.\n",
              "        channel.send({})\n",
              "        if (message.buffers) {\n",
              "          for (const buffer of message.buffers) {\n",
              "            buffers.push(buffer);\n",
              "            downloaded += buffer.byteLength;\n",
              "            progress.value = downloaded;\n",
              "          }\n",
              "        }\n",
              "      }\n",
              "      const blob = new Blob(buffers, {type: 'application/binary'});\n",
              "      const a = document.createElement('a');\n",
              "      a.href = window.URL.createObjectURL(blob);\n",
              "      a.download = filename;\n",
              "      div.appendChild(a);\n",
              "      a.click();\n",
              "      div.remove();\n",
              "    }\n",
              "  "
            ]
          },
          "metadata": {}
        },
        {
          "output_type": "display_data",
          "data": {
            "text/plain": [
              "<IPython.core.display.Javascript object>"
            ],
            "application/javascript": [
              "download(\"download_d6be3be8-33a6-48e2-b615-3999b585fb21\", \"final_clean_data.csv\", 2625247)"
            ]
          },
          "metadata": {}
        }
      ]
    }
  ]
}
